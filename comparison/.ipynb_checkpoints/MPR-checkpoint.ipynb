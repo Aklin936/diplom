{
 "cells": [
  {
   "cell_type": "code",
   "execution_count": 2,
   "id": "abce2320-805e-430b-9460-b33af91ee48f",
   "metadata": {},
   "outputs": [],
   "source": [
    "import numpy as np\n",
    "import plotly.express as px"
   ]
  },
  {
   "cell_type": "code",
   "execution_count": 3,
   "id": "7a2f2587-8e94-4844-aa61-1e88069eb755",
   "metadata": {},
   "outputs": [],
   "source": [
    "f = open(\"h.txt\", \"r\", encoding=\"utf-8\")\n",
    "\n",
    "d = []\n",
    "\n",
    "x = np.linspace(0,3.4, 31)\n",
    "y = np.linspace(0,9.4, 11)\n",
    "\n",
    "x, y = np.meshgrid(x, y)\n",
    "\n",
    "for line in f:\n",
    "    data = line.split()\n",
    "    d.append([])\n",
    "    for i in data:\n",
    "        d[-1].append(float(i))\n",
    "\n",
    "d = np.array(d)\n",
    "\n",
    "f.close()\n",
    "\n",
    "d = abs(0.6-0.25-d)\n",
    "\n",
    "x = np.linspace(start=0, stop=10, num=31)\n",
    "y = np.flip(np.linspace(start=0, stop=3.5, num=11))\n",
    "title = 'Распределение МПР'\n",
    "labels = {'x':'Длинна ванны', 'y':'Ширина ванны'}\n",
    "fig = px.imshow(d,x=x, y=y, color_continuous_scale='bluered', labels=labels, title=title)\n",
    "fig2 = px.imshow(d,x=x, y=y, color_continuous_scale='bluered', labels=labels, title=title, width=650)\n",
    "fig.show()\n",
    "fig2.show()"
   ]
  },
  {
   "cell_type": "code",
   "execution_count": 16,
   "id": "b35b3e96-2c52-4508-b3e7-9e4771168a36",
   "metadata": {},
   "outputs": [
    {
     "data": {
      "application/vnd.plotly.v1+json": {
       "config": {
        "plotlyServerURL": "https://plot.ly"
       },
       "data": [
        {
         "coloraxis": "coloraxis",
         "hovertemplate": "Длинна ванны: %{x}<br>Ширина ванны: %{y}<br>color: %{z}<extra></extra>",
         "name": "0",
         "type": "heatmap",
         "x": [
          0,
          0.3333333333333333,
          0.6666666666666666,
          1,
          1.3333333333333333,
          1.6666666666666665,
          2,
          2.333333333333333,
          2.6666666666666665,
          3,
          3.333333333333333,
          3.6666666666666665,
          4,
          4.333333333333333,
          4.666666666666666,
          5,
          5.333333333333333,
          5.666666666666666,
          6,
          6.333333333333333,
          6.666666666666666,
          7,
          7.333333333333333,
          7.666666666666666,
          8,
          8.333333333333332,
          8.666666666666666,
          9,
          9.333333333333332,
          9.666666666666666,
          10
         ],
         "xaxis": "x",
         "y": [
          3.5,
          3.15,
          2.8,
          2.4499999999999997,
          2.0999999999999996,
          1.75,
          1.4,
          1.0499999999999998,
          0.7,
          0.35,
          0
         ],
         "yaxis": "y",
         "z": [
          [
           0.07399999999999995,
           0.07399999999999995,
           0.07299999999999995,
           0.07299999999999995,
           0.07399999999999995,
           0.07599999999999996,
           0.07899999999999996,
           0.08199999999999996,
           0.08599999999999997,
           0.08899999999999997,
           0.09099999999999997,
           0.09099999999999997,
           0.08899999999999997,
           0.08699999999999997,
           0.08599999999999997,
           0.08599999999999997,
           0.08699999999999997,
           0.08899999999999997,
           0.09299999999999997,
           0.09699999999999998,
           0.10099999999999998,
           0.10599999999999998,
           0.11199999999999999,
           0.11799999999999997,
           0.12499999999999997,
           0.13199999999999998,
           0.13899999999999998,
           0.146,
           0.15099999999999997,
           0.15599999999999997,
           0.15999999999999998
          ],
          [
           0.07299999999999995,
           0.07199999999999995,
           0.06899999999999995,
           0.066,
           0.063,
           0.063,
           0.064,
           0.066,
           0.06899999999999995,
           0.07199999999999995,
           0.07399999999999995,
           0.07599999999999996,
           0.07699999999999996,
           0.07799999999999996,
           0.07899999999999996,
           0.08099999999999996,
           0.08299999999999996,
           0.08599999999999997,
           0.08899999999999997,
           0.09299999999999997,
           0.09699999999999998,
           0.10199999999999998,
           0.10699999999999998,
           0.11299999999999999,
           0.11899999999999997,
           0.12599999999999997,
           0.13199999999999998,
           0.13899999999999998,
           0.146,
           0.15199999999999997,
           0.15699999999999997
          ],
          [
           0.07699999999999996,
           0.07599999999999996,
           0.07199999999999995,
           0.068,
           0.064,
           0.063,
           0.063,
           0.064,
           0.066,
           0.068,
           0.06999999999999995,
           0.07199999999999995,
           0.07399999999999995,
           0.07599999999999996,
           0.07699999999999996,
           0.07899999999999996,
           0.08199999999999996,
           0.08499999999999996,
           0.08799999999999997,
           0.09199999999999997,
           0.09599999999999997,
           0.09999999999999998,
           0.10499999999999998,
           0.10999999999999999,
           0.11599999999999996,
           0.12199999999999997,
           0.12799999999999997,
           0.13399999999999998,
           0.141,
           0.14799999999999996,
           0.15499999999999997
          ],
          [
           0.08499999999999996,
           0.08399999999999996,
           0.07899999999999996,
           0.07499999999999996,
           0.06999999999999995,
           0.068,
           0.067,
           0.066,
           0.067,
           0.06899999999999995,
           0.06999999999999995,
           0.07199999999999995,
           0.07299999999999995,
           0.07499999999999996,
           0.07699999999999996,
           0.07899999999999996,
           0.08199999999999996,
           0.08399999999999996,
           0.08699999999999997,
           0.09099999999999997,
           0.09499999999999997,
           0.09899999999999998,
           0.10399999999999998,
           0.10799999999999998,
           0.11299999999999999,
           0.11899999999999997,
           0.12499999999999997,
           0.13099999999999998,
           0.13699999999999998,
           0.144,
           0.15199999999999997
          ],
          [
           0.09699999999999998,
           0.09399999999999997,
           0.08899999999999997,
           0.08399999999999996,
           0.07899999999999996,
           0.07599999999999996,
           0.07399999999999995,
           0.07199999999999995,
           0.07199999999999995,
           0.07299999999999995,
           0.07399999999999995,
           0.07499999999999996,
           0.07599999999999996,
           0.07699999999999996,
           0.07899999999999996,
           0.08099999999999996,
           0.08299999999999996,
           0.08499999999999996,
           0.08799999999999997,
           0.09099999999999997,
           0.09499999999999997,
           0.09899999999999998,
           0.10299999999999998,
           0.10699999999999998,
           0.11199999999999999,
           0.11699999999999997,
           0.12199999999999997,
           0.12799999999999997,
           0.13299999999999998,
           0.13999999999999999,
           0.14799999999999996
          ],
          [
           0.10999999999999999,
           0.10599999999999998,
           0.10099999999999998,
           0.09499999999999997,
           0.08999999999999997,
           0.08599999999999997,
           0.08299999999999996,
           0.07999999999999996,
           0.07999999999999996,
           0.07899999999999996,
           0.07899999999999996,
           0.07899999999999996,
           0.07999999999999996,
           0.08099999999999996,
           0.08199999999999996,
           0.08299999999999996,
           0.08499999999999996,
           0.08599999999999997,
           0.08899999999999997,
           0.09199999999999997,
           0.09499999999999997,
           0.09799999999999998,
           0.10199999999999998,
           0.10599999999999998,
           0.10999999999999999,
           0.11499999999999999,
           0.11999999999999997,
           0.12399999999999997,
           0.12999999999999998,
           0.13499999999999998,
           0.142
          ],
          [
           0.12399999999999997,
           0.11799999999999997,
           0.11299999999999999,
           0.10699999999999998,
           0.10199999999999998,
           0.09699999999999998,
           0.09299999999999997,
           0.08999999999999997,
           0.08899999999999997,
           0.08699999999999997,
           0.08599999999999997,
           0.08599999999999997,
           0.08499999999999996,
           0.08599999999999997,
           0.08599999999999997,
           0.08699999999999997,
           0.08699999999999997,
           0.08799999999999997,
           0.08999999999999997,
           0.09199999999999997,
           0.09499999999999997,
           0.09799999999999998,
           0.10099999999999998,
           0.10499999999999998,
           0.10899999999999999,
           0.11299999999999999,
           0.11699999999999997,
           0.12099999999999997,
           0.12499999999999997,
           0.12899999999999998,
           0.13499999999999998
          ],
          [
           0.13599999999999998,
           0.12999999999999998,
           0.12499999999999997,
           0.11999999999999997,
           0.11399999999999999,
           0.10999999999999999,
           0.10499999999999998,
           0.10199999999999998,
           0.09899999999999998,
           0.09599999999999997,
           0.09399999999999997,
           0.09299999999999997,
           0.09099999999999997,
           0.09099999999999997,
           0.08999999999999997,
           0.08999999999999997,
           0.08999999999999997,
           0.09099999999999997,
           0.09199999999999997,
           0.09299999999999997,
           0.09499999999999997,
           0.09699999999999998,
           0.09999999999999998,
           0.10299999999999998,
           0.10599999999999998,
           0.10999999999999999,
           0.11299999999999999,
           0.11699999999999997,
           0.11999999999999997,
           0.12399999999999997,
           0.12799999999999997
          ],
          [
           0.14699999999999996,
           0.142,
           0.13699999999999998,
           0.13299999999999998,
           0.12799999999999997,
           0.12299999999999997,
           0.11899999999999997,
           0.11399999999999999,
           0.10999999999999999,
           0.10599999999999998,
           0.10299999999999998,
           0.09999999999999998,
           0.09699999999999998,
           0.09599999999999997,
           0.09399999999999997,
           0.09299999999999997,
           0.09299999999999997,
           0.09299999999999997,
           0.09299999999999997,
           0.09399999999999997,
           0.09499999999999997,
           0.09699999999999998,
           0.09899999999999998,
           0.10099999999999998,
           0.10299999999999998,
           0.10599999999999998,
           0.10899999999999999,
           0.11199999999999999,
           0.11499999999999999,
           0.11799999999999997,
           0.12099999999999997
          ],
          [
           0.15699999999999997,
           0.15399999999999997,
           0.15099999999999997,
           0.14699999999999996,
           0.144,
           0.13899999999999998,
           0.13399999999999998,
           0.12899999999999998,
           0.12299999999999997,
           0.11699999999999997,
           0.11199999999999999,
           0.10699999999999998,
           0.10299999999999998,
           0.09999999999999998,
           0.09699999999999998,
           0.09599999999999997,
           0.09499999999999997,
           0.09499999999999997,
           0.09499999999999997,
           0.09499999999999997,
           0.09599999999999997,
           0.09599999999999997,
           0.09699999999999998,
           0.09899999999999998,
           0.09999999999999998,
           0.10299999999999998,
           0.10499999999999998,
           0.10799999999999998,
           0.11099999999999999,
           0.11399999999999999,
           0.11499999999999999
          ],
          [
           0.16499999999999998,
           0.16299999999999998,
           0.16399999999999998,
           0.16499999999999998,
           0.16499999999999998,
           0.16199999999999998,
           0.15699999999999997,
           0.14999999999999997,
           0.142,
           0.13299999999999998,
           0.12399999999999997,
           0.11599999999999996,
           0.10899999999999999,
           0.10399999999999998,
           0.09999999999999998,
           0.09799999999999998,
           0.09799999999999998,
           0.09799999999999998,
           0.09799999999999998,
           0.09799999999999998,
           0.09799999999999998,
           0.09699999999999998,
           0.09699999999999998,
           0.09699999999999998,
           0.09799999999999998,
           0.09999999999999998,
           0.10199999999999998,
           0.10499999999999998,
           0.10799999999999998,
           0.11199999999999999,
           0.11299999999999999
          ]
         ]
        }
       ],
       "layout": {
        "autosize": true,
        "coloraxis": {
         "colorscale": [
          [
           0,
           "rgb(0,0,255)"
          ],
          [
           1,
           "rgb(255,0,0)"
          ]
         ]
        },
        "template": {
         "data": {
          "bar": [
           {
            "error_x": {
             "color": "#2a3f5f"
            },
            "error_y": {
             "color": "#2a3f5f"
            },
            "marker": {
             "line": {
              "color": "#E5ECF6",
              "width": 0.5
             },
             "pattern": {
              "fillmode": "overlay",
              "size": 10,
              "solidity": 0.2
             }
            },
            "type": "bar"
           }
          ],
          "barpolar": [
           {
            "marker": {
             "line": {
              "color": "#E5ECF6",
              "width": 0.5
             },
             "pattern": {
              "fillmode": "overlay",
              "size": 10,
              "solidity": 0.2
             }
            },
            "type": "barpolar"
           }
          ],
          "carpet": [
           {
            "aaxis": {
             "endlinecolor": "#2a3f5f",
             "gridcolor": "white",
             "linecolor": "white",
             "minorgridcolor": "white",
             "startlinecolor": "#2a3f5f"
            },
            "baxis": {
             "endlinecolor": "#2a3f5f",
             "gridcolor": "white",
             "linecolor": "white",
             "minorgridcolor": "white",
             "startlinecolor": "#2a3f5f"
            },
            "type": "carpet"
           }
          ],
          "choropleth": [
           {
            "colorbar": {
             "outlinewidth": 0,
             "ticks": ""
            },
            "type": "choropleth"
           }
          ],
          "contour": [
           {
            "colorbar": {
             "outlinewidth": 0,
             "ticks": ""
            },
            "colorscale": [
             [
              0,
              "#0d0887"
             ],
             [
              0.1111111111111111,
              "#46039f"
             ],
             [
              0.2222222222222222,
              "#7201a8"
             ],
             [
              0.3333333333333333,
              "#9c179e"
             ],
             [
              0.4444444444444444,
              "#bd3786"
             ],
             [
              0.5555555555555556,
              "#d8576b"
             ],
             [
              0.6666666666666666,
              "#ed7953"
             ],
             [
              0.7777777777777778,
              "#fb9f3a"
             ],
             [
              0.8888888888888888,
              "#fdca26"
             ],
             [
              1,
              "#f0f921"
             ]
            ],
            "type": "contour"
           }
          ],
          "contourcarpet": [
           {
            "colorbar": {
             "outlinewidth": 0,
             "ticks": ""
            },
            "type": "contourcarpet"
           }
          ],
          "heatmap": [
           {
            "colorbar": {
             "outlinewidth": 0,
             "ticks": ""
            },
            "colorscale": [
             [
              0,
              "#0d0887"
             ],
             [
              0.1111111111111111,
              "#46039f"
             ],
             [
              0.2222222222222222,
              "#7201a8"
             ],
             [
              0.3333333333333333,
              "#9c179e"
             ],
             [
              0.4444444444444444,
              "#bd3786"
             ],
             [
              0.5555555555555556,
              "#d8576b"
             ],
             [
              0.6666666666666666,
              "#ed7953"
             ],
             [
              0.7777777777777778,
              "#fb9f3a"
             ],
             [
              0.8888888888888888,
              "#fdca26"
             ],
             [
              1,
              "#f0f921"
             ]
            ],
            "type": "heatmap"
           }
          ],
          "heatmapgl": [
           {
            "colorbar": {
             "outlinewidth": 0,
             "ticks": ""
            },
            "colorscale": [
             [
              0,
              "#0d0887"
             ],
             [
              0.1111111111111111,
              "#46039f"
             ],
             [
              0.2222222222222222,
              "#7201a8"
             ],
             [
              0.3333333333333333,
              "#9c179e"
             ],
             [
              0.4444444444444444,
              "#bd3786"
             ],
             [
              0.5555555555555556,
              "#d8576b"
             ],
             [
              0.6666666666666666,
              "#ed7953"
             ],
             [
              0.7777777777777778,
              "#fb9f3a"
             ],
             [
              0.8888888888888888,
              "#fdca26"
             ],
             [
              1,
              "#f0f921"
             ]
            ],
            "type": "heatmapgl"
           }
          ],
          "histogram": [
           {
            "marker": {
             "pattern": {
              "fillmode": "overlay",
              "size": 10,
              "solidity": 0.2
             }
            },
            "type": "histogram"
           }
          ],
          "histogram2d": [
           {
            "colorbar": {
             "outlinewidth": 0,
             "ticks": ""
            },
            "colorscale": [
             [
              0,
              "#0d0887"
             ],
             [
              0.1111111111111111,
              "#46039f"
             ],
             [
              0.2222222222222222,
              "#7201a8"
             ],
             [
              0.3333333333333333,
              "#9c179e"
             ],
             [
              0.4444444444444444,
              "#bd3786"
             ],
             [
              0.5555555555555556,
              "#d8576b"
             ],
             [
              0.6666666666666666,
              "#ed7953"
             ],
             [
              0.7777777777777778,
              "#fb9f3a"
             ],
             [
              0.8888888888888888,
              "#fdca26"
             ],
             [
              1,
              "#f0f921"
             ]
            ],
            "type": "histogram2d"
           }
          ],
          "histogram2dcontour": [
           {
            "colorbar": {
             "outlinewidth": 0,
             "ticks": ""
            },
            "colorscale": [
             [
              0,
              "#0d0887"
             ],
             [
              0.1111111111111111,
              "#46039f"
             ],
             [
              0.2222222222222222,
              "#7201a8"
             ],
             [
              0.3333333333333333,
              "#9c179e"
             ],
             [
              0.4444444444444444,
              "#bd3786"
             ],
             [
              0.5555555555555556,
              "#d8576b"
             ],
             [
              0.6666666666666666,
              "#ed7953"
             ],
             [
              0.7777777777777778,
              "#fb9f3a"
             ],
             [
              0.8888888888888888,
              "#fdca26"
             ],
             [
              1,
              "#f0f921"
             ]
            ],
            "type": "histogram2dcontour"
           }
          ],
          "mesh3d": [
           {
            "colorbar": {
             "outlinewidth": 0,
             "ticks": ""
            },
            "type": "mesh3d"
           }
          ],
          "parcoords": [
           {
            "line": {
             "colorbar": {
              "outlinewidth": 0,
              "ticks": ""
             }
            },
            "type": "parcoords"
           }
          ],
          "pie": [
           {
            "automargin": true,
            "type": "pie"
           }
          ],
          "scatter": [
           {
            "fillpattern": {
             "fillmode": "overlay",
             "size": 10,
             "solidity": 0.2
            },
            "type": "scatter"
           }
          ],
          "scatter3d": [
           {
            "line": {
             "colorbar": {
              "outlinewidth": 0,
              "ticks": ""
             }
            },
            "marker": {
             "colorbar": {
              "outlinewidth": 0,
              "ticks": ""
             }
            },
            "type": "scatter3d"
           }
          ],
          "scattercarpet": [
           {
            "marker": {
             "colorbar": {
              "outlinewidth": 0,
              "ticks": ""
             }
            },
            "type": "scattercarpet"
           }
          ],
          "scattergeo": [
           {
            "marker": {
             "colorbar": {
              "outlinewidth": 0,
              "ticks": ""
             }
            },
            "type": "scattergeo"
           }
          ],
          "scattergl": [
           {
            "marker": {
             "colorbar": {
              "outlinewidth": 0,
              "ticks": ""
             }
            },
            "type": "scattergl"
           }
          ],
          "scattermapbox": [
           {
            "marker": {
             "colorbar": {
              "outlinewidth": 0,
              "ticks": ""
             }
            },
            "type": "scattermapbox"
           }
          ],
          "scatterpolar": [
           {
            "marker": {
             "colorbar": {
              "outlinewidth": 0,
              "ticks": ""
             }
            },
            "type": "scatterpolar"
           }
          ],
          "scatterpolargl": [
           {
            "marker": {
             "colorbar": {
              "outlinewidth": 0,
              "ticks": ""
             }
            },
            "type": "scatterpolargl"
           }
          ],
          "scatterternary": [
           {
            "marker": {
             "colorbar": {
              "outlinewidth": 0,
              "ticks": ""
             }
            },
            "type": "scatterternary"
           }
          ],
          "surface": [
           {
            "colorbar": {
             "outlinewidth": 0,
             "ticks": ""
            },
            "colorscale": [
             [
              0,
              "#0d0887"
             ],
             [
              0.1111111111111111,
              "#46039f"
             ],
             [
              0.2222222222222222,
              "#7201a8"
             ],
             [
              0.3333333333333333,
              "#9c179e"
             ],
             [
              0.4444444444444444,
              "#bd3786"
             ],
             [
              0.5555555555555556,
              "#d8576b"
             ],
             [
              0.6666666666666666,
              "#ed7953"
             ],
             [
              0.7777777777777778,
              "#fb9f3a"
             ],
             [
              0.8888888888888888,
              "#fdca26"
             ],
             [
              1,
              "#f0f921"
             ]
            ],
            "type": "surface"
           }
          ],
          "table": [
           {
            "cells": {
             "fill": {
              "color": "#EBF0F8"
             },
             "line": {
              "color": "white"
             }
            },
            "header": {
             "fill": {
              "color": "#C8D4E3"
             },
             "line": {
              "color": "white"
             }
            },
            "type": "table"
           }
          ]
         },
         "layout": {
          "annotationdefaults": {
           "arrowcolor": "#2a3f5f",
           "arrowhead": 0,
           "arrowwidth": 1
          },
          "autotypenumbers": "strict",
          "coloraxis": {
           "colorbar": {
            "outlinewidth": 0,
            "ticks": ""
           }
          },
          "colorscale": {
           "diverging": [
            [
             0,
             "#8e0152"
            ],
            [
             0.1,
             "#c51b7d"
            ],
            [
             0.2,
             "#de77ae"
            ],
            [
             0.3,
             "#f1b6da"
            ],
            [
             0.4,
             "#fde0ef"
            ],
            [
             0.5,
             "#f7f7f7"
            ],
            [
             0.6,
             "#e6f5d0"
            ],
            [
             0.7,
             "#b8e186"
            ],
            [
             0.8,
             "#7fbc41"
            ],
            [
             0.9,
             "#4d9221"
            ],
            [
             1,
             "#276419"
            ]
           ],
           "sequential": [
            [
             0,
             "#0d0887"
            ],
            [
             0.1111111111111111,
             "#46039f"
            ],
            [
             0.2222222222222222,
             "#7201a8"
            ],
            [
             0.3333333333333333,
             "#9c179e"
            ],
            [
             0.4444444444444444,
             "#bd3786"
            ],
            [
             0.5555555555555556,
             "#d8576b"
            ],
            [
             0.6666666666666666,
             "#ed7953"
            ],
            [
             0.7777777777777778,
             "#fb9f3a"
            ],
            [
             0.8888888888888888,
             "#fdca26"
            ],
            [
             1,
             "#f0f921"
            ]
           ],
           "sequentialminus": [
            [
             0,
             "#0d0887"
            ],
            [
             0.1111111111111111,
             "#46039f"
            ],
            [
             0.2222222222222222,
             "#7201a8"
            ],
            [
             0.3333333333333333,
             "#9c179e"
            ],
            [
             0.4444444444444444,
             "#bd3786"
            ],
            [
             0.5555555555555556,
             "#d8576b"
            ],
            [
             0.6666666666666666,
             "#ed7953"
            ],
            [
             0.7777777777777778,
             "#fb9f3a"
            ],
            [
             0.8888888888888888,
             "#fdca26"
            ],
            [
             1,
             "#f0f921"
            ]
           ]
          },
          "colorway": [
           "#636efa",
           "#EF553B",
           "#00cc96",
           "#ab63fa",
           "#FFA15A",
           "#19d3f3",
           "#FF6692",
           "#B6E880",
           "#FF97FF",
           "#FECB52"
          ],
          "font": {
           "color": "#2a3f5f"
          },
          "geo": {
           "bgcolor": "white",
           "lakecolor": "white",
           "landcolor": "#E5ECF6",
           "showlakes": true,
           "showland": true,
           "subunitcolor": "white"
          },
          "hoverlabel": {
           "align": "left"
          },
          "hovermode": "closest",
          "mapbox": {
           "style": "light"
          },
          "paper_bgcolor": "white",
          "plot_bgcolor": "#E5ECF6",
          "polar": {
           "angularaxis": {
            "gridcolor": "white",
            "linecolor": "white",
            "ticks": ""
           },
           "bgcolor": "#E5ECF6",
           "radialaxis": {
            "gridcolor": "white",
            "linecolor": "white",
            "ticks": ""
           }
          },
          "scene": {
           "xaxis": {
            "backgroundcolor": "#E5ECF6",
            "gridcolor": "white",
            "gridwidth": 2,
            "linecolor": "white",
            "showbackground": true,
            "ticks": "",
            "zerolinecolor": "white"
           },
           "yaxis": {
            "backgroundcolor": "#E5ECF6",
            "gridcolor": "white",
            "gridwidth": 2,
            "linecolor": "white",
            "showbackground": true,
            "ticks": "",
            "zerolinecolor": "white"
           },
           "zaxis": {
            "backgroundcolor": "#E5ECF6",
            "gridcolor": "white",
            "gridwidth": 2,
            "linecolor": "white",
            "showbackground": true,
            "ticks": "",
            "zerolinecolor": "white"
           }
          },
          "shapedefaults": {
           "line": {
            "color": "#2a3f5f"
           }
          },
          "ternary": {
           "aaxis": {
            "gridcolor": "white",
            "linecolor": "white",
            "ticks": ""
           },
           "baxis": {
            "gridcolor": "white",
            "linecolor": "white",
            "ticks": ""
           },
           "bgcolor": "#E5ECF6",
           "caxis": {
            "gridcolor": "white",
            "linecolor": "white",
            "ticks": ""
           }
          },
          "title": {
           "x": 0.05
          },
          "xaxis": {
           "automargin": true,
           "gridcolor": "white",
           "linecolor": "white",
           "ticks": "",
           "title": {
            "standoff": 15
           },
           "zerolinecolor": "white",
           "zerolinewidth": 2
          },
          "yaxis": {
           "automargin": true,
           "gridcolor": "white",
           "linecolor": "white",
           "ticks": "",
           "title": {
            "standoff": 15
           },
           "zerolinecolor": "white",
           "zerolinewidth": 2
          }
         }
        },
        "title": {
         "text": "Распределение МПР"
        },
        "xaxis": {
         "anchor": "y",
         "autorange": true,
         "constrain": "domain",
         "domain": [
          0.24274926351603665,
          0.7572507364839633
         ],
         "range": [
          -0.16666666666666666,
          10.166666666666668
         ],
         "scaleanchor": "y",
         "title": {
          "text": "Длинна ванны"
         },
         "type": "linear"
        },
        "yaxis": {
         "anchor": "x",
         "autorange": true,
         "constrain": "domain",
         "domain": [
          1.1102230246251565e-16,
          0.9999999999999999
         ],
         "range": [
          3.675,
          -0.175
         ],
         "title": {
          "text": "Ширина ванны"
         },
         "type": "linear"
        }
       }
      },
      "image/png": "[encoded data removed]",
      "text/html": [
       "<div>                            <div id=\"30ef1ab7-76c7-405e-95e7-85a739c5f8a3\" class=\"plotly-graph-div\" style=\"height:525px; width:100%;\"></div>            <script type=\"text/javascript\">                require([\"plotly\"], function(Plotly) {                    window.PLOTLYENV=window.PLOTLYENV || {};                                    if (document.getElementById(\"30ef1ab7-76c7-405e-95e7-85a739c5f8a3\")) {                    Plotly.newPlot(                        \"30ef1ab7-76c7-405e-95e7-85a739c5f8a3\",                        [{\"coloraxis\":\"coloraxis\",\"name\":\"0\",\"x\":[0.0,0.3333333333333333,0.6666666666666666,1.0,1.3333333333333333,1.6666666666666665,2.0,2.333333333333333,2.6666666666666665,3.0,3.333333333333333,3.6666666666666665,4.0,4.333333333333333,4.666666666666666,5.0,5.333333333333333,5.666666666666666,6.0,6.333333333333333,6.666666666666666,7.0,7.333333333333333,7.666666666666666,8.0,8.333333333333332,8.666666666666666,9.0,9.333333333333332,9.666666666666666,10.0],\"y\":[3.5,3.15,2.8,2.4499999999999997,2.0999999999999996,1.75,1.4,1.0499999999999998,0.7,0.35,0.0],\"z\":[[0.07399999999999995,0.07399999999999995,0.07299999999999995,0.07299999999999995,0.07399999999999995,0.07599999999999996,0.07899999999999996,0.08199999999999996,0.08599999999999997,0.08899999999999997,0.09099999999999997,0.09099999999999997,0.08899999999999997,0.08699999999999997,0.08599999999999997,0.08599999999999997,0.08699999999999997,0.08899999999999997,0.09299999999999997,0.09699999999999998,0.10099999999999998,0.10599999999999998,0.11199999999999999,0.11799999999999997,0.12499999999999997,0.13199999999999998,0.13899999999999998,0.146,0.15099999999999997,0.15599999999999997,0.15999999999999998],[0.07299999999999995,0.07199999999999995,0.06899999999999995,0.066,0.063,0.063,0.064,0.066,0.06899999999999995,0.07199999999999995,0.07399999999999995,0.07599999999999996,0.07699999999999996,0.07799999999999996,0.07899999999999996,0.08099999999999996,0.08299999999999996,0.08599999999999997,0.08899999999999997,0.09299999999999997,0.09699999999999998,0.10199999999999998,0.10699999999999998,0.11299999999999999,0.11899999999999997,0.12599999999999997,0.13199999999999998,0.13899999999999998,0.146,0.15199999999999997,0.15699999999999997],[0.07699999999999996,0.07599999999999996,0.07199999999999995,0.068,0.064,0.063,0.063,0.064,0.066,0.068,0.06999999999999995,0.07199999999999995,0.07399999999999995,0.07599999999999996,0.07699999999999996,0.07899999999999996,0.08199999999999996,0.08499999999999996,0.08799999999999997,0.09199999999999997,0.09599999999999997,0.09999999999999998,0.10499999999999998,0.10999999999999999,0.11599999999999996,0.12199999999999997,0.12799999999999997,0.13399999999999998,0.141,0.14799999999999996,0.15499999999999997],[0.08499999999999996,0.08399999999999996,0.07899999999999996,0.07499999999999996,0.06999999999999995,0.068,0.067,0.066,0.067,0.06899999999999995,0.06999999999999995,0.07199999999999995,0.07299999999999995,0.07499999999999996,0.07699999999999996,0.07899999999999996,0.08199999999999996,0.08399999999999996,0.08699999999999997,0.09099999999999997,0.09499999999999997,0.09899999999999998,0.10399999999999998,0.10799999999999998,0.11299999999999999,0.11899999999999997,0.12499999999999997,0.13099999999999998,0.13699999999999998,0.144,0.15199999999999997],[0.09699999999999998,0.09399999999999997,0.08899999999999997,0.08399999999999996,0.07899999999999996,0.07599999999999996,0.07399999999999995,0.07199999999999995,0.07199999999999995,0.07299999999999995,0.07399999999999995,0.07499999999999996,0.07599999999999996,0.07699999999999996,0.07899999999999996,0.08099999999999996,0.08299999999999996,0.08499999999999996,0.08799999999999997,0.09099999999999997,0.09499999999999997,0.09899999999999998,0.10299999999999998,0.10699999999999998,0.11199999999999999,0.11699999999999997,0.12199999999999997,0.12799999999999997,0.13299999999999998,0.13999999999999999,0.14799999999999996],[0.10999999999999999,0.10599999999999998,0.10099999999999998,0.09499999999999997,0.08999999999999997,0.08599999999999997,0.08299999999999996,0.07999999999999996,0.07999999999999996,0.07899999999999996,0.07899999999999996,0.07899999999999996,0.07999999999999996,0.08099999999999996,0.08199999999999996,0.08299999999999996,0.08499999999999996,0.08599999999999997,0.08899999999999997,0.09199999999999997,0.09499999999999997,0.09799999999999998,0.10199999999999998,0.10599999999999998,0.10999999999999999,0.11499999999999999,0.11999999999999997,0.12399999999999997,0.12999999999999998,0.13499999999999998,0.142],[0.12399999999999997,0.11799999999999997,0.11299999999999999,0.10699999999999998,0.10199999999999998,0.09699999999999998,0.09299999999999997,0.08999999999999997,0.08899999999999997,0.08699999999999997,0.08599999999999997,0.08599999999999997,0.08499999999999996,0.08599999999999997,0.08599999999999997,0.08699999999999997,0.08699999999999997,0.08799999999999997,0.08999999999999997,0.09199999999999997,0.09499999999999997,0.09799999999999998,0.10099999999999998,0.10499999999999998,0.10899999999999999,0.11299999999999999,0.11699999999999997,0.12099999999999997,0.12499999999999997,0.12899999999999998,0.13499999999999998],[0.13599999999999998,0.12999999999999998,0.12499999999999997,0.11999999999999997,0.11399999999999999,0.10999999999999999,0.10499999999999998,0.10199999999999998,0.09899999999999998,0.09599999999999997,0.09399999999999997,0.09299999999999997,0.09099999999999997,0.09099999999999997,0.08999999999999997,0.08999999999999997,0.08999999999999997,0.09099999999999997,0.09199999999999997,0.09299999999999997,0.09499999999999997,0.09699999999999998,0.09999999999999998,0.10299999999999998,0.10599999999999998,0.10999999999999999,0.11299999999999999,0.11699999999999997,0.11999999999999997,0.12399999999999997,0.12799999999999997],[0.14699999999999996,0.142,0.13699999999999998,0.13299999999999998,0.12799999999999997,0.12299999999999997,0.11899999999999997,0.11399999999999999,0.10999999999999999,0.10599999999999998,0.10299999999999998,0.09999999999999998,0.09699999999999998,0.09599999999999997,0.09399999999999997,0.09299999999999997,0.09299999999999997,0.09299999999999997,0.09299999999999997,0.09399999999999997,0.09499999999999997,0.09699999999999998,0.09899999999999998,0.10099999999999998,0.10299999999999998,0.10599999999999998,0.10899999999999999,0.11199999999999999,0.11499999999999999,0.11799999999999997,0.12099999999999997],[0.15699999999999997,0.15399999999999997,0.15099999999999997,0.14699999999999996,0.144,0.13899999999999998,0.13399999999999998,0.12899999999999998,0.12299999999999997,0.11699999999999997,0.11199999999999999,0.10699999999999998,0.10299999999999998,0.09999999999999998,0.09699999999999998,0.09599999999999997,0.09499999999999997,0.09499999999999997,0.09499999999999997,0.09499999999999997,0.09599999999999997,0.09599999999999997,0.09699999999999998,0.09899999999999998,0.09999999999999998,0.10299999999999998,0.10499999999999998,0.10799999999999998,0.11099999999999999,0.11399999999999999,0.11499999999999999],[0.16499999999999998,0.16299999999999998,0.16399999999999998,0.16499999999999998,0.16499999999999998,0.16199999999999998,0.15699999999999997,0.14999999999999997,0.142,0.13299999999999998,0.12399999999999997,0.11599999999999996,0.10899999999999999,0.10399999999999998,0.09999999999999998,0.09799999999999998,0.09799999999999998,0.09799999999999998,0.09799999999999998,0.09799999999999998,0.09799999999999998,0.09699999999999998,0.09699999999999998,0.09699999999999998,0.09799999999999998,0.09999999999999998,0.10199999999999998,0.10499999999999998,0.10799999999999998,0.11199999999999999,0.11299999999999999]],\"type\":\"heatmap\",\"xaxis\":\"x\",\"yaxis\":\"y\",\"hovertemplate\":\"\\u0414\\u043b\\u0438\\u043d\\u043d\\u0430 \\u0432\\u0430\\u043d\\u043d\\u044b: %{x}\\u003cbr\\u003e\\u0428\\u0438\\u0440\\u0438\\u043d\\u0430 \\u0432\\u0430\\u043d\\u043d\\u044b: %{y}\\u003cbr\\u003ecolor: %{z}\\u003cextra\\u003e\\u003c\\u002fextra\\u003e\"}],                        {\"template\":{\"data\":{\"histogram2dcontour\":[{\"type\":\"histogram2dcontour\",\"colorbar\":{\"outlinewidth\":0,\"ticks\":\"\"},\"colorscale\":[[0.0,\"#0d0887\"],[0.1111111111111111,\"#46039f\"],[0.2222222222222222,\"#7201a8\"],[0.3333333333333333,\"#9c179e\"],[0.4444444444444444,\"#bd3786\"],[0.5555555555555556,\"#d8576b\"],[0.6666666666666666,\"#ed7953\"],[0.7777777777777778,\"#fb9f3a\"],[0.8888888888888888,\"#fdca26\"],[1.0,\"#f0f921\"]]}],\"choropleth\":[{\"type\":\"choropleth\",\"colorbar\":{\"outlinewidth\":0,\"ticks\":\"\"}}],\"histogram2d\":[{\"type\":\"histogram2d\",\"colorbar\":{\"outlinewidth\":0,\"ticks\":\"\"},\"colorscale\":[[0.0,\"#0d0887\"],[0.1111111111111111,\"#46039f\"],[0.2222222222222222,\"#7201a8\"],[0.3333333333333333,\"#9c179e\"],[0.4444444444444444,\"#bd3786\"],[0.5555555555555556,\"#d8576b\"],[0.6666666666666666,\"#ed7953\"],[0.7777777777777778,\"#fb9f3a\"],[0.8888888888888888,\"#fdca26\"],[1.0,\"#f0f921\"]]}],\"heatmap\":[{\"type\":\"heatmap\",\"colorbar\":{\"outlinewidth\":0,\"ticks\":\"\"},\"colorscale\":[[0.0,\"#0d0887\"],[0.1111111111111111,\"#46039f\"],[0.2222222222222222,\"#7201a8\"],[0.3333333333333333,\"#9c179e\"],[0.4444444444444444,\"#bd3786\"],[0.5555555555555556,\"#d8576b\"],[0.6666666666666666,\"#ed7953\"],[0.7777777777777778,\"#fb9f3a\"],[0.8888888888888888,\"#fdca26\"],[1.0,\"#f0f921\"]]}],\"heatmapgl\":[{\"type\":\"heatmapgl\",\"colorbar\":{\"outlinewidth\":0,\"ticks\":\"\"},\"colorscale\":[[0.0,\"#0d0887\"],[0.1111111111111111,\"#46039f\"],[0.2222222222222222,\"#7201a8\"],[0.3333333333333333,\"#9c179e\"],[0.4444444444444444,\"#bd3786\"],[0.5555555555555556,\"#d8576b\"],[0.6666666666666666,\"#ed7953\"],[0.7777777777777778,\"#fb9f3a\"],[0.8888888888888888,\"#fdca26\"],[1.0,\"#f0f921\"]]}],\"contourcarpet\":[{\"type\":\"contourcarpet\",\"colorbar\":{\"outlinewidth\":0,\"ticks\":\"\"}}],\"contour\":[{\"type\":\"contour\",\"colorbar\":{\"outlinewidth\":0,\"ticks\":\"\"},\"colorscale\":[[0.0,\"#0d0887\"],[0.1111111111111111,\"#46039f\"],[0.2222222222222222,\"#7201a8\"],[0.3333333333333333,\"#9c179e\"],[0.4444444444444444,\"#bd3786\"],[0.5555555555555556,\"#d8576b\"],[0.6666666666666666,\"#ed7953\"],[0.7777777777777778,\"#fb9f3a\"],[0.8888888888888888,\"#fdca26\"],[1.0,\"#f0f921\"]]}],\"surface\":[{\"type\":\"surface\",\"colorbar\":{\"outlinewidth\":0,\"ticks\":\"\"},\"colorscale\":[[0.0,\"#0d0887\"],[0.1111111111111111,\"#46039f\"],[0.2222222222222222,\"#7201a8\"],[0.3333333333333333,\"#9c179e\"],[0.4444444444444444,\"#bd3786\"],[0.5555555555555556,\"#d8576b\"],[0.6666666666666666,\"#ed7953\"],[0.7777777777777778,\"#fb9f3a\"],[0.8888888888888888,\"#fdca26\"],[1.0,\"#f0f921\"]]}],\"mesh3d\":[{\"type\":\"mesh3d\",\"colorbar\":{\"outlinewidth\":0,\"ticks\":\"\"}}],\"scatter\":[{\"fillpattern\":{\"fillmode\":\"overlay\",\"size\":10,\"solidity\":0.2},\"type\":\"scatter\"}],\"parcoords\":[{\"type\":\"parcoords\",\"line\":{\"colorbar\":{\"outlinewidth\":0,\"ticks\":\"\"}}}],\"scatterpolargl\":[{\"type\":\"scatterpolargl\",\"marker\":{\"colorbar\":{\"outlinewidth\":0,\"ticks\":\"\"}}}],\"bar\":[{\"error_x\":{\"color\":\"#2a3f5f\"},\"error_y\":{\"color\":\"#2a3f5f\"},\"marker\":{\"line\":{\"color\":\"#E5ECF6\",\"width\":0.5},\"pattern\":{\"fillmode\":\"overlay\",\"size\":10,\"solidity\":0.2}},\"type\":\"bar\"}],\"scattergeo\":[{\"type\":\"scattergeo\",\"marker\":{\"colorbar\":{\"outlinewidth\":0,\"ticks\":\"\"}}}],\"scatterpolar\":[{\"type\":\"scatterpolar\",\"marker\":{\"colorbar\":{\"outlinewidth\":0,\"ticks\":\"\"}}}],\"histogram\":[{\"marker\":{\"pattern\":{\"fillmode\":\"overlay\",\"size\":10,\"solidity\":0.2}},\"type\":\"histogram\"}],\"scattergl\":[{\"type\":\"scattergl\",\"marker\":{\"colorbar\":{\"outlinewidth\":0,\"ticks\":\"\"}}}],\"scatter3d\":[{\"type\":\"scatter3d\",\"line\":{\"colorbar\":{\"outlinewidth\":0,\"ticks\":\"\"}},\"marker\":{\"colorbar\":{\"outlinewidth\":0,\"ticks\":\"\"}}}],\"scattermapbox\":[{\"type\":\"scattermapbox\",\"marker\":{\"colorbar\":{\"outlinewidth\":0,\"ticks\":\"\"}}}],\"scatterternary\":[{\"type\":\"scatterternary\",\"marker\":{\"colorbar\":{\"outlinewidth\":0,\"ticks\":\"\"}}}],\"scattercarpet\":[{\"type\":\"scattercarpet\",\"marker\":{\"colorbar\":{\"outlinewidth\":0,\"ticks\":\"\"}}}],\"carpet\":[{\"aaxis\":{\"endlinecolor\":\"#2a3f5f\",\"gridcolor\":\"white\",\"linecolor\":\"white\",\"minorgridcolor\":\"white\",\"startlinecolor\":\"#2a3f5f\"},\"baxis\":{\"endlinecolor\":\"#2a3f5f\",\"gridcolor\":\"white\",\"linecolor\":\"white\",\"minorgridcolor\":\"white\",\"startlinecolor\":\"#2a3f5f\"},\"type\":\"carpet\"}],\"table\":[{\"cells\":{\"fill\":{\"color\":\"#EBF0F8\"},\"line\":{\"color\":\"white\"}},\"header\":{\"fill\":{\"color\":\"#C8D4E3\"},\"line\":{\"color\":\"white\"}},\"type\":\"table\"}],\"barpolar\":[{\"marker\":{\"line\":{\"color\":\"#E5ECF6\",\"width\":0.5},\"pattern\":{\"fillmode\":\"overlay\",\"size\":10,\"solidity\":0.2}},\"type\":\"barpolar\"}],\"pie\":[{\"automargin\":true,\"type\":\"pie\"}]},\"layout\":{\"autotypenumbers\":\"strict\",\"colorway\":[\"#636efa\",\"#EF553B\",\"#00cc96\",\"#ab63fa\",\"#FFA15A\",\"#19d3f3\",\"#FF6692\",\"#B6E880\",\"#FF97FF\",\"#FECB52\"],\"font\":{\"color\":\"#2a3f5f\"},\"hovermode\":\"closest\",\"hoverlabel\":{\"align\":\"left\"},\"paper_bgcolor\":\"white\",\"plot_bgcolor\":\"#E5ECF6\",\"polar\":{\"bgcolor\":\"#E5ECF6\",\"angularaxis\":{\"gridcolor\":\"white\",\"linecolor\":\"white\",\"ticks\":\"\"},\"radialaxis\":{\"gridcolor\":\"white\",\"linecolor\":\"white\",\"ticks\":\"\"}},\"ternary\":{\"bgcolor\":\"#E5ECF6\",\"aaxis\":{\"gridcolor\":\"white\",\"linecolor\":\"white\",\"ticks\":\"\"},\"baxis\":{\"gridcolor\":\"white\",\"linecolor\":\"white\",\"ticks\":\"\"},\"caxis\":{\"gridcolor\":\"white\",\"linecolor\":\"white\",\"ticks\":\"\"}},\"coloraxis\":{\"colorbar\":{\"outlinewidth\":0,\"ticks\":\"\"}},\"colorscale\":{\"sequential\":[[0.0,\"#0d0887\"],[0.1111111111111111,\"#46039f\"],[0.2222222222222222,\"#7201a8\"],[0.3333333333333333,\"#9c179e\"],[0.4444444444444444,\"#bd3786\"],[0.5555555555555556,\"#d8576b\"],[0.6666666666666666,\"#ed7953\"],[0.7777777777777778,\"#fb9f3a\"],[0.8888888888888888,\"#fdca26\"],[1.0,\"#f0f921\"]],\"sequentialminus\":[[0.0,\"#0d0887\"],[0.1111111111111111,\"#46039f\"],[0.2222222222222222,\"#7201a8\"],[0.3333333333333333,\"#9c179e\"],[0.4444444444444444,\"#bd3786\"],[0.5555555555555556,\"#d8576b\"],[0.6666666666666666,\"#ed7953\"],[0.7777777777777778,\"#fb9f3a\"],[0.8888888888888888,\"#fdca26\"],[1.0,\"#f0f921\"]],\"diverging\":[[0,\"#8e0152\"],[0.1,\"#c51b7d\"],[0.2,\"#de77ae\"],[0.3,\"#f1b6da\"],[0.4,\"#fde0ef\"],[0.5,\"#f7f7f7\"],[0.6,\"#e6f5d0\"],[0.7,\"#b8e186\"],[0.8,\"#7fbc41\"],[0.9,\"#4d9221\"],[1,\"#276419\"]]},\"xaxis\":{\"gridcolor\":\"white\",\"linecolor\":\"white\",\"ticks\":\"\",\"title\":{\"standoff\":15},\"zerolinecolor\":\"white\",\"automargin\":true,\"zerolinewidth\":2},\"yaxis\":{\"gridcolor\":\"white\",\"linecolor\":\"white\",\"ticks\":\"\",\"title\":{\"standoff\":15},\"zerolinecolor\":\"white\",\"automargin\":true,\"zerolinewidth\":2},\"scene\":{\"xaxis\":{\"backgroundcolor\":\"#E5ECF6\",\"gridcolor\":\"white\",\"linecolor\":\"white\",\"showbackground\":true,\"ticks\":\"\",\"zerolinecolor\":\"white\",\"gridwidth\":2},\"yaxis\":{\"backgroundcolor\":\"#E5ECF6\",\"gridcolor\":\"white\",\"linecolor\":\"white\",\"showbackground\":true,\"ticks\":\"\",\"zerolinecolor\":\"white\",\"gridwidth\":2},\"zaxis\":{\"backgroundcolor\":\"#E5ECF6\",\"gridcolor\":\"white\",\"linecolor\":\"white\",\"showbackground\":true,\"ticks\":\"\",\"zerolinecolor\":\"white\",\"gridwidth\":2}},\"shapedefaults\":{\"line\":{\"color\":\"#2a3f5f\"}},\"annotationdefaults\":{\"arrowcolor\":\"#2a3f5f\",\"arrowhead\":0,\"arrowwidth\":1},\"geo\":{\"bgcolor\":\"white\",\"landcolor\":\"#E5ECF6\",\"subunitcolor\":\"white\",\"showland\":true,\"showlakes\":true,\"lakecolor\":\"white\"},\"title\":{\"x\":0.05},\"mapbox\":{\"style\":\"light\"}}},\"xaxis\":{\"anchor\":\"y\",\"domain\":[0.0,1.0],\"scaleanchor\":\"y\",\"constrain\":\"domain\",\"title\":{\"text\":\"\\u0414\\u043b\\u0438\\u043d\\u043d\\u0430 \\u0432\\u0430\\u043d\\u043d\\u044b\"}},\"yaxis\":{\"anchor\":\"x\",\"domain\":[0.0,1.0],\"autorange\":\"reversed\",\"constrain\":\"domain\",\"title\":{\"text\":\"\\u0428\\u0438\\u0440\\u0438\\u043d\\u0430 \\u0432\\u0430\\u043d\\u043d\\u044b\"}},\"coloraxis\":{\"colorscale\":[[0.0,\"rgb(0,0,255)\"],[1.0,\"rgb(255,0,0)\"]]},\"title\":{\"text\":\"\\u0420\\u0430\\u0441\\u043f\\u0440\\u0435\\u0434\\u0435\\u043b\\u0435\\u043d\\u0438\\u0435 \\u041c\\u041f\\u0420\"}},                        {\"responsive\": true}                    ).then(function(){\n",
       "                            \n",
       "var gd = document.getElementById('30ef1ab7-76c7-405e-95e7-85a739c5f8a3');\n",
       "var x = new MutationObserver(function (mutations, observer) {{\n",
       "        var display = window.getComputedStyle(gd).display;\n",
       "        if (!display || display === 'none') {{\n",
       "            console.log([gd, 'removed!']);\n",
       "            Plotly.purge(gd);\n",
       "            observer.disconnect();\n",
       "        }}\n",
       "}});\n",
       "\n",
       "// Listen for the removal of the full notebook cells\n",
       "var notebookContainer = gd.closest('#notebook-container');\n",
       "if (notebookContainer) {{\n",
       "    x.observe(notebookContainer, {childList: true});\n",
       "}}\n",
       "\n",
       "// Listen for the clearing of the current output cell\n",
       "var outputEl = gd.closest('.output');\n",
       "if (outputEl) {{\n",
       "    x.observe(outputEl, {childList: true});\n",
       "}}\n",
       "\n",
       "                        })                };                });            </script>        </div>"
      ]
     },
     "metadata": {},
     "output_type": "display_data"
    },
    {
     "data": {
      "application/vnd.plotly.v1+json": {
       "config": {
        "plotlyServerURL": "https://plot.ly"
       },
       "data": [
        {
         "coloraxis": "coloraxis",
         "hovertemplate": "Длинна ванны: %{x}<br>Ширина ванны: %{y}<br>color: %{z}<extra></extra>",
         "name": "0",
         "type": "heatmap",
         "x": [
          0,
          0.3333333333333333,
          0.6666666666666666,
          1,
          1.3333333333333333,
          1.6666666666666665,
          2,
          2.333333333333333,
          2.6666666666666665,
          3,
          3.333333333333333,
          3.6666666666666665,
          4,
          4.333333333333333,
          4.666666666666666,
          5,
          5.333333333333333,
          5.666666666666666,
          6,
          6.333333333333333,
          6.666666666666666,
          7,
          7.333333333333333,
          7.666666666666666,
          8,
          8.333333333333332,
          8.666666666666666,
          9,
          9.333333333333332,
          9.666666666666666,
          10
         ],
         "xaxis": "x",
         "y": [
          3.5,
          3.15,
          2.8,
          2.4499999999999997,
          2.0999999999999996,
          1.75,
          1.4,
          1.0499999999999998,
          0.7,
          0.35,
          0
         ],
         "yaxis": "y",
         "z": [
          [
           0.07399999999999995,
           0.07399999999999995,
           0.07299999999999995,
           0.07299999999999995,
           0.07399999999999995,
           0.07599999999999996,
           0.07899999999999996,
           0.08199999999999996,
           0.08599999999999997,
           0.08899999999999997,
           0.09099999999999997,
           0.09099999999999997,
           0.08899999999999997,
           0.08699999999999997,
           0.08599999999999997,
           0.08599999999999997,
           0.08699999999999997,
           0.08899999999999997,
           0.09299999999999997,
           0.09699999999999998,
           0.10099999999999998,
           0.10599999999999998,
           0.11199999999999999,
           0.11799999999999997,
           0.12499999999999997,
           0.13199999999999998,
           0.13899999999999998,
           0.146,
           0.15099999999999997,
           0.15599999999999997,
           0.15999999999999998
          ],
          [
           0.07299999999999995,
           0.07199999999999995,
           0.06899999999999995,
           0.066,
           0.063,
           0.063,
           0.064,
           0.066,
           0.06899999999999995,
           0.07199999999999995,
           0.07399999999999995,
           0.07599999999999996,
           0.07699999999999996,
           0.07799999999999996,
           0.07899999999999996,
           0.08099999999999996,
           0.08299999999999996,
           0.08599999999999997,
           0.08899999999999997,
           0.09299999999999997,
           0.09699999999999998,
           0.10199999999999998,
           0.10699999999999998,
           0.11299999999999999,
           0.11899999999999997,
           0.12599999999999997,
           0.13199999999999998,
           0.13899999999999998,
           0.146,
           0.15199999999999997,
           0.15699999999999997
          ],
          [
           0.07699999999999996,
           0.07599999999999996,
           0.07199999999999995,
           0.068,
           0.064,
           0.063,
           0.063,
           0.064,
           0.066,
           0.068,
           0.06999999999999995,
           0.07199999999999995,
           0.07399999999999995,
           0.07599999999999996,
           0.07699999999999996,
           0.07899999999999996,
           0.08199999999999996,
           0.08499999999999996,
           0.08799999999999997,
           0.09199999999999997,
           0.09599999999999997,
           0.09999999999999998,
           0.10499999999999998,
           0.10999999999999999,
           0.11599999999999996,
           0.12199999999999997,
           0.12799999999999997,
           0.13399999999999998,
           0.141,
           0.14799999999999996,
           0.15499999999999997
          ],
          [
           0.08499999999999996,
           0.08399999999999996,
           0.07899999999999996,
           0.07499999999999996,
           0.06999999999999995,
           0.068,
           0.067,
           0.066,
           0.067,
           0.06899999999999995,
           0.06999999999999995,
           0.07199999999999995,
           0.07299999999999995,
           0.07499999999999996,
           0.07699999999999996,
           0.07899999999999996,
           0.08199999999999996,
           0.08399999999999996,
           0.08699999999999997,
           0.09099999999999997,
           0.09499999999999997,
           0.09899999999999998,
           0.10399999999999998,
           0.10799999999999998,
           0.11299999999999999,
           0.11899999999999997,
           0.12499999999999997,
           0.13099999999999998,
           0.13699999999999998,
           0.144,
           0.15199999999999997
          ],
          [
           0.09699999999999998,
           0.09399999999999997,
           0.08899999999999997,
           0.08399999999999996,
           0.07899999999999996,
           0.07599999999999996,
           0.07399999999999995,
           0.07199999999999995,
           0.07199999999999995,
           0.07299999999999995,
           0.07399999999999995,
           0.07499999999999996,
           0.07599999999999996,
           0.07699999999999996,
           0.07899999999999996,
           0.08099999999999996,
           0.08299999999999996,
           0.08499999999999996,
           0.08799999999999997,
           0.09099999999999997,
           0.09499999999999997,
           0.09899999999999998,
           0.10299999999999998,
           0.10699999999999998,
           0.11199999999999999,
           0.11699999999999997,
           0.12199999999999997,
           0.12799999999999997,
           0.13299999999999998,
           0.13999999999999999,
           0.14799999999999996
          ],
          [
           0.10999999999999999,
           0.10599999999999998,
           0.10099999999999998,
           0.09499999999999997,
           0.08999999999999997,
           0.08599999999999997,
           0.08299999999999996,
           0.07999999999999996,
           0.07999999999999996,
           0.07899999999999996,
           0.07899999999999996,
           0.07899999999999996,
           0.07999999999999996,
           0.08099999999999996,
           0.08199999999999996,
           0.08299999999999996,
           0.08499999999999996,
           0.08599999999999997,
           0.08899999999999997,
           0.09199999999999997,
           0.09499999999999997,
           0.09799999999999998,
           0.10199999999999998,
           0.10599999999999998,
           0.10999999999999999,
           0.11499999999999999,
           0.11999999999999997,
           0.12399999999999997,
           0.12999999999999998,
           0.13499999999999998,
           0.142
          ],
          [
           0.12399999999999997,
           0.11799999999999997,
           0.11299999999999999,
           0.10699999999999998,
           0.10199999999999998,
           0.09699999999999998,
           0.09299999999999997,
           0.08999999999999997,
           0.08899999999999997,
           0.08699999999999997,
           0.08599999999999997,
           0.08599999999999997,
           0.08499999999999996,
           0.08599999999999997,
           0.08599999999999997,
           0.08699999999999997,
           0.08699999999999997,
           0.08799999999999997,
           0.08999999999999997,
           0.09199999999999997,
           0.09499999999999997,
           0.09799999999999998,
           0.10099999999999998,
           0.10499999999999998,
           0.10899999999999999,
           0.11299999999999999,
           0.11699999999999997,
           0.12099999999999997,
           0.12499999999999997,
           0.12899999999999998,
           0.13499999999999998
          ],
          [
           0.13599999999999998,
           0.12999999999999998,
           0.12499999999999997,
           0.11999999999999997,
           0.11399999999999999,
           0.10999999999999999,
           0.10499999999999998,
           0.10199999999999998,
           0.09899999999999998,
           0.09599999999999997,
           0.09399999999999997,
           0.09299999999999997,
           0.09099999999999997,
           0.09099999999999997,
           0.08999999999999997,
           0.08999999999999997,
           0.08999999999999997,
           0.09099999999999997,
           0.09199999999999997,
           0.09299999999999997,
           0.09499999999999997,
           0.09699999999999998,
           0.09999999999999998,
           0.10299999999999998,
           0.10599999999999998,
           0.10999999999999999,
           0.11299999999999999,
           0.11699999999999997,
           0.11999999999999997,
           0.12399999999999997,
           0.12799999999999997
          ],
          [
           0.14699999999999996,
           0.142,
           0.13699999999999998,
           0.13299999999999998,
           0.12799999999999997,
           0.12299999999999997,
           0.11899999999999997,
           0.11399999999999999,
           0.10999999999999999,
           0.10599999999999998,
           0.10299999999999998,
           0.09999999999999998,
           0.09699999999999998,
           0.09599999999999997,
           0.09399999999999997,
           0.09299999999999997,
           0.09299999999999997,
           0.09299999999999997,
           0.09299999999999997,
           0.09399999999999997,
           0.09499999999999997,
           0.09699999999999998,
           0.09899999999999998,
           0.10099999999999998,
           0.10299999999999998,
           0.10599999999999998,
           0.10899999999999999,
           0.11199999999999999,
           0.11499999999999999,
           0.11799999999999997,
           0.12099999999999997
          ],
          [
           0.15699999999999997,
           0.15399999999999997,
           0.15099999999999997,
           0.14699999999999996,
           0.144,
           0.13899999999999998,
           0.13399999999999998,
           0.12899999999999998,
           0.12299999999999997,
           0.11699999999999997,
           0.11199999999999999,
           0.10699999999999998,
           0.10299999999999998,
           0.09999999999999998,
           0.09699999999999998,
           0.09599999999999997,
           0.09499999999999997,
           0.09499999999999997,
           0.09499999999999997,
           0.09499999999999997,
           0.09599999999999997,
           0.09599999999999997,
           0.09699999999999998,
           0.09899999999999998,
           0.09999999999999998,
           0.10299999999999998,
           0.10499999999999998,
           0.10799999999999998,
           0.11099999999999999,
           0.11399999999999999,
           0.11499999999999999
          ],
          [
           0.16499999999999998,
           0.16299999999999998,
           0.16399999999999998,
           0.16499999999999998,
           0.16499999999999998,
           0.16199999999999998,
           0.15699999999999997,
           0.14999999999999997,
           0.142,
           0.13299999999999998,
           0.12399999999999997,
           0.11599999999999996,
           0.10899999999999999,
           0.10399999999999998,
           0.09999999999999998,
           0.09799999999999998,
           0.09799999999999998,
           0.09799999999999998,
           0.09799999999999998,
           0.09799999999999998,
           0.09799999999999998,
           0.09699999999999998,
           0.09699999999999998,
           0.09699999999999998,
           0.09799999999999998,
           0.09999999999999998,
           0.10199999999999998,
           0.10499999999999998,
           0.10799999999999998,
           0.11199999999999999,
           0.11299999999999999
          ]
         ]
        }
       ],
       "layout": {
        "coloraxis": {
         "colorscale": [
          [
           0,
           "rgb(0,0,255)"
          ],
          [
           1,
           "rgb(255,0,0)"
          ]
         ]
        },
        "height": 360,
        "template": {
         "data": {
          "bar": [
           {
            "error_x": {
             "color": "#2a3f5f"
            },
            "error_y": {
             "color": "#2a3f5f"
            },
            "marker": {
             "line": {
              "color": "#E5ECF6",
              "width": 0.5
             },
             "pattern": {
              "fillmode": "overlay",
              "size": 10,
              "solidity": 0.2
             }
            },
            "type": "bar"
           }
          ],
          "barpolar": [
           {
            "marker": {
             "line": {
              "color": "#E5ECF6",
              "width": 0.5
             },
             "pattern": {
              "fillmode": "overlay",
              "size": 10,
              "solidity": 0.2
             }
            },
            "type": "barpolar"
           }
          ],
          "carpet": [
           {
            "aaxis": {
             "endlinecolor": "#2a3f5f",
             "gridcolor": "white",
             "linecolor": "white",
             "minorgridcolor": "white",
             "startlinecolor": "#2a3f5f"
            },
            "baxis": {
             "endlinecolor": "#2a3f5f",
             "gridcolor": "white",
             "linecolor": "white",
             "minorgridcolor": "white",
             "startlinecolor": "#2a3f5f"
            },
            "type": "carpet"
           }
          ],
          "choropleth": [
           {
            "colorbar": {
             "outlinewidth": 0,
             "ticks": ""
            },
            "type": "choropleth"
           }
          ],
          "contour": [
           {
            "colorbar": {
             "outlinewidth": 0,
             "ticks": ""
            },
            "colorscale": [
             [
              0,
              "#0d0887"
             ],
             [
              0.1111111111111111,
              "#46039f"
             ],
             [
              0.2222222222222222,
              "#7201a8"
             ],
             [
              0.3333333333333333,
              "#9c179e"
             ],
             [
              0.4444444444444444,
              "#bd3786"
             ],
             [
              0.5555555555555556,
              "#d8576b"
             ],
             [
              0.6666666666666666,
              "#ed7953"
             ],
             [
              0.7777777777777778,
              "#fb9f3a"
             ],
             [
              0.8888888888888888,
              "#fdca26"
             ],
             [
              1,
              "#f0f921"
             ]
            ],
            "type": "contour"
           }
          ],
          "contourcarpet": [
           {
            "colorbar": {
             "outlinewidth": 0,
             "ticks": ""
            },
            "type": "contourcarpet"
           }
          ],
          "heatmap": [
           {
            "colorbar": {
             "outlinewidth": 0,
             "ticks": ""
            },
            "colorscale": [
             [
              0,
              "#0d0887"
             ],
             [
              0.1111111111111111,
              "#46039f"
             ],
             [
              0.2222222222222222,
              "#7201a8"
             ],
             [
              0.3333333333333333,
              "#9c179e"
             ],
             [
              0.4444444444444444,
              "#bd3786"
             ],
             [
              0.5555555555555556,
              "#d8576b"
             ],
             [
              0.6666666666666666,
              "#ed7953"
             ],
             [
              0.7777777777777778,
              "#fb9f3a"
             ],
             [
              0.8888888888888888,
              "#fdca26"
             ],
             [
              1,
              "#f0f921"
             ]
            ],
            "type": "heatmap"
           }
          ],
          "heatmapgl": [
           {
            "colorbar": {
             "outlinewidth": 0,
             "ticks": ""
            },
            "colorscale": [
             [
              0,
              "#0d0887"
             ],
             [
              0.1111111111111111,
              "#46039f"
             ],
             [
              0.2222222222222222,
              "#7201a8"
             ],
             [
              0.3333333333333333,
              "#9c179e"
             ],
             [
              0.4444444444444444,
              "#bd3786"
             ],
             [
              0.5555555555555556,
              "#d8576b"
             ],
             [
              0.6666666666666666,
              "#ed7953"
             ],
             [
              0.7777777777777778,
              "#fb9f3a"
             ],
             [
              0.8888888888888888,
              "#fdca26"
             ],
             [
              1,
              "#f0f921"
             ]
            ],
            "type": "heatmapgl"
           }
          ],
          "histogram": [
           {
            "marker": {
             "pattern": {
              "fillmode": "overlay",
              "size": 10,
              "solidity": 0.2
             }
            },
            "type": "histogram"
           }
          ],
          "histogram2d": [
           {
            "colorbar": {
             "outlinewidth": 0,
             "ticks": ""
            },
            "colorscale": [
             [
              0,
              "#0d0887"
             ],
             [
              0.1111111111111111,
              "#46039f"
             ],
             [
              0.2222222222222222,
              "#7201a8"
             ],
             [
              0.3333333333333333,
              "#9c179e"
             ],
             [
              0.4444444444444444,
              "#bd3786"
             ],
             [
              0.5555555555555556,
              "#d8576b"
             ],
             [
              0.6666666666666666,
              "#ed7953"
             ],
             [
              0.7777777777777778,
              "#fb9f3a"
             ],
             [
              0.8888888888888888,
              "#fdca26"
             ],
             [
              1,
              "#f0f921"
             ]
            ],
            "type": "histogram2d"
           }
          ],
          "histogram2dcontour": [
           {
            "colorbar": {
             "outlinewidth": 0,
             "ticks": ""
            },
            "colorscale": [
             [
              0,
              "#0d0887"
             ],
             [
              0.1111111111111111,
              "#46039f"
             ],
             [
              0.2222222222222222,
              "#7201a8"
             ],
             [
              0.3333333333333333,
              "#9c179e"
             ],
             [
              0.4444444444444444,
              "#bd3786"
             ],
             [
              0.5555555555555556,
              "#d8576b"
             ],
             [
              0.6666666666666666,
              "#ed7953"
             ],
             [
              0.7777777777777778,
              "#fb9f3a"
             ],
             [
              0.8888888888888888,
              "#fdca26"
             ],
             [
              1,
              "#f0f921"
             ]
            ],
            "type": "histogram2dcontour"
           }
          ],
          "mesh3d": [
           {
            "colorbar": {
             "outlinewidth": 0,
             "ticks": ""
            },
            "type": "mesh3d"
           }
          ],
          "parcoords": [
           {
            "line": {
             "colorbar": {
              "outlinewidth": 0,
              "ticks": ""
             }
            },
            "type": "parcoords"
           }
          ],
          "pie": [
           {
            "automargin": true,
            "type": "pie"
           }
          ],
          "scatter": [
           {
            "fillpattern": {
             "fillmode": "overlay",
             "size": 10,
             "solidity": 0.2
            },
            "type": "scatter"
           }
          ],
          "scatter3d": [
           {
            "line": {
             "colorbar": {
              "outlinewidth": 0,
              "ticks": ""
             }
            },
            "marker": {
             "colorbar": {
              "outlinewidth": 0,
              "ticks": ""
             }
            },
            "type": "scatter3d"
           }
          ],
          "scattercarpet": [
           {
            "marker": {
             "colorbar": {
              "outlinewidth": 0,
              "ticks": ""
             }
            },
            "type": "scattercarpet"
           }
          ],
          "scattergeo": [
           {
            "marker": {
             "colorbar": {
              "outlinewidth": 0,
              "ticks": ""
             }
            },
            "type": "scattergeo"
           }
          ],
          "scattergl": [
           {
            "marker": {
             "colorbar": {
              "outlinewidth": 0,
              "ticks": ""
             }
            },
            "type": "scattergl"
           }
          ],
          "scattermapbox": [
           {
            "marker": {
             "colorbar": {
              "outlinewidth": 0,
              "ticks": ""
             }
            },
            "type": "scattermapbox"
           }
          ],
          "scatterpolar": [
           {
            "marker": {
             "colorbar": {
              "outlinewidth": 0,
              "ticks": ""
             }
            },
            "type": "scatterpolar"
           }
          ],
          "scatterpolargl": [
           {
            "marker": {
             "colorbar": {
              "outlinewidth": 0,
              "ticks": ""
             }
            },
            "type": "scatterpolargl"
           }
          ],
          "scatterternary": [
           {
            "marker": {
             "colorbar": {
              "outlinewidth": 0,
              "ticks": ""
             }
            },
            "type": "scatterternary"
           }
          ],
          "surface": [
           {
            "colorbar": {
             "outlinewidth": 0,
             "ticks": ""
            },
            "colorscale": [
             [
              0,
              "#0d0887"
             ],
             [
              0.1111111111111111,
              "#46039f"
             ],
             [
              0.2222222222222222,
              "#7201a8"
             ],
             [
              0.3333333333333333,
              "#9c179e"
             ],
             [
              0.4444444444444444,
              "#bd3786"
             ],
             [
              0.5555555555555556,
              "#d8576b"
             ],
             [
              0.6666666666666666,
              "#ed7953"
             ],
             [
              0.7777777777777778,
              "#fb9f3a"
             ],
             [
              0.8888888888888888,
              "#fdca26"
             ],
             [
              1,
              "#f0f921"
             ]
            ],
            "type": "surface"
           }
          ],
          "table": [
           {
            "cells": {
             "fill": {
              "color": "#EBF0F8"
             },
             "line": {
              "color": "white"
             }
            },
            "header": {
             "fill": {
              "color": "#C8D4E3"
             },
             "line": {
              "color": "white"
             }
            },
            "type": "table"
           }
          ]
         },
         "layout": {
          "annotationdefaults": {
           "arrowcolor": "#2a3f5f",
           "arrowhead": 0,
           "arrowwidth": 1
          },
          "autotypenumbers": "strict",
          "coloraxis": {
           "colorbar": {
            "outlinewidth": 0,
            "ticks": ""
           }
          },
          "colorscale": {
           "diverging": [
            [
             0,
             "#8e0152"
            ],
            [
             0.1,
             "#c51b7d"
            ],
            [
             0.2,
             "#de77ae"
            ],
            [
             0.3,
             "#f1b6da"
            ],
            [
             0.4,
             "#fde0ef"
            ],
            [
             0.5,
             "#f7f7f7"
            ],
            [
             0.6,
             "#e6f5d0"
            ],
            [
             0.7,
             "#b8e186"
            ],
            [
             0.8,
             "#7fbc41"
            ],
            [
             0.9,
             "#4d9221"
            ],
            [
             1,
             "#276419"
            ]
           ],
           "sequential": [
            [
             0,
             "#0d0887"
            ],
            [
             0.1111111111111111,
             "#46039f"
            ],
            [
             0.2222222222222222,
             "#7201a8"
            ],
            [
             0.3333333333333333,
             "#9c179e"
            ],
            [
             0.4444444444444444,
             "#bd3786"
            ],
            [
             0.5555555555555556,
             "#d8576b"
            ],
            [
             0.6666666666666666,
             "#ed7953"
            ],
            [
             0.7777777777777778,
             "#fb9f3a"
            ],
            [
             0.8888888888888888,
             "#fdca26"
            ],
            [
             1,
             "#f0f921"
            ]
           ],
           "sequentialminus": [
            [
             0,
             "#0d0887"
            ],
            [
             0.1111111111111111,
             "#46039f"
            ],
            [
             0.2222222222222222,
             "#7201a8"
            ],
            [
             0.3333333333333333,
             "#9c179e"
            ],
            [
             0.4444444444444444,
             "#bd3786"
            ],
            [
             0.5555555555555556,
             "#d8576b"
            ],
            [
             0.6666666666666666,
             "#ed7953"
            ],
            [
             0.7777777777777778,
             "#fb9f3a"
            ],
            [
             0.8888888888888888,
             "#fdca26"
            ],
            [
             1,
             "#f0f921"
            ]
           ]
          },
          "colorway": [
           "#636efa",
           "#EF553B",
           "#00cc96",
           "#ab63fa",
           "#FFA15A",
           "#19d3f3",
           "#FF6692",
           "#B6E880",
           "#FF97FF",
           "#FECB52"
          ],
          "font": {
           "color": "#2a3f5f"
          },
          "geo": {
           "bgcolor": "white",
           "lakecolor": "white",
           "landcolor": "#E5ECF6",
           "showlakes": true,
           "showland": true,
           "subunitcolor": "white"
          },
          "hoverlabel": {
           "align": "left"
          },
          "hovermode": "closest",
          "mapbox": {
           "style": "light"
          },
          "paper_bgcolor": "white",
          "plot_bgcolor": "#E5ECF6",
          "polar": {
           "angularaxis": {
            "gridcolor": "white",
            "linecolor": "white",
            "ticks": ""
           },
           "bgcolor": "#E5ECF6",
           "radialaxis": {
            "gridcolor": "white",
            "linecolor": "white",
            "ticks": ""
           }
          },
          "scene": {
           "xaxis": {
            "backgroundcolor": "#E5ECF6",
            "gridcolor": "white",
            "gridwidth": 2,
            "linecolor": "white",
            "showbackground": true,
            "ticks": "",
            "zerolinecolor": "white"
           },
           "yaxis": {
            "backgroundcolor": "#E5ECF6",
            "gridcolor": "white",
            "gridwidth": 2,
            "linecolor": "white",
            "showbackground": true,
            "ticks": "",
            "zerolinecolor": "white"
           },
           "zaxis": {
            "backgroundcolor": "#E5ECF6",
            "gridcolor": "white",
            "gridwidth": 2,
            "linecolor": "white",
            "showbackground": true,
            "ticks": "",
            "zerolinecolor": "white"
           }
          },
          "shapedefaults": {
           "line": {
            "color": "#2a3f5f"
           }
          },
          "ternary": {
           "aaxis": {
            "gridcolor": "white",
            "linecolor": "white",
            "ticks": ""
           },
           "baxis": {
            "gridcolor": "white",
            "linecolor": "white",
            "ticks": ""
           },
           "bgcolor": "#E5ECF6",
           "caxis": {
            "gridcolor": "white",
            "linecolor": "white",
            "ticks": ""
           }
          },
          "title": {
           "x": 0.05
          },
          "xaxis": {
           "automargin": true,
           "gridcolor": "white",
           "linecolor": "white",
           "ticks": "",
           "title": {
            "standoff": 15
           },
           "zerolinecolor": "white",
           "zerolinewidth": 2
          },
          "yaxis": {
           "automargin": true,
           "gridcolor": "white",
           "linecolor": "white",
           "ticks": "",
           "title": {
            "standoff": 15
           },
           "zerolinecolor": "white",
           "zerolinewidth": 2
          }
         }
        },
        "title": {
         "text": "Распределение МПР"
        },
        "width": 650,
        "xaxis": {
         "anchor": "y",
         "autorange": true,
         "constrain": "domain",
         "domain": [
          0,
          1
         ],
         "range": [
          -0.16666666666666666,
          10.166666666666668
         ],
         "scaleanchor": "y",
         "title": {
          "text": "Длинна ванны"
         },
         "type": "linear"
        },
        "yaxis": {
         "anchor": "x",
         "autorange": true,
         "constrain": "domain",
         "domain": [
          0.012540322580645302,
          0.9874596774193547
         ],
         "range": [
          3.675,
          -0.175
         ],
         "title": {
          "text": "Ширина ванны"
         },
         "type": "linear"
        }
       }
      },
      "image/png": "[encoded data removed]",
      "text/html": [
       "<div>                            <div id=\"d91b8708-b1b3-4238-a870-ce84184843f5\" class=\"plotly-graph-div\" style=\"height:525px; width:650px;\"></div>            <script type=\"text/javascript\">                require([\"plotly\"], function(Plotly) {                    window.PLOTLYENV=window.PLOTLYENV || {};                                    if (document.getElementById(\"d91b8708-b1b3-4238-a870-ce84184843f5\")) {                    Plotly.newPlot(                        \"d91b8708-b1b3-4238-a870-ce84184843f5\",                        [{\"coloraxis\":\"coloraxis\",\"name\":\"0\",\"x\":[0.0,0.3333333333333333,0.6666666666666666,1.0,1.3333333333333333,1.6666666666666665,2.0,2.333333333333333,2.6666666666666665,3.0,3.333333333333333,3.6666666666666665,4.0,4.333333333333333,4.666666666666666,5.0,5.333333333333333,5.666666666666666,6.0,6.333333333333333,6.666666666666666,7.0,7.333333333333333,7.666666666666666,8.0,8.333333333333332,8.666666666666666,9.0,9.333333333333332,9.666666666666666,10.0],\"y\":[3.5,3.15,2.8,2.4499999999999997,2.0999999999999996,1.75,1.4,1.0499999999999998,0.7,0.35,0.0],\"z\":[[0.07399999999999995,0.07399999999999995,0.07299999999999995,0.07299999999999995,0.07399999999999995,0.07599999999999996,0.07899999999999996,0.08199999999999996,0.08599999999999997,0.08899999999999997,0.09099999999999997,0.09099999999999997,0.08899999999999997,0.08699999999999997,0.08599999999999997,0.08599999999999997,0.08699999999999997,0.08899999999999997,0.09299999999999997,0.09699999999999998,0.10099999999999998,0.10599999999999998,0.11199999999999999,0.11799999999999997,0.12499999999999997,0.13199999999999998,0.13899999999999998,0.146,0.15099999999999997,0.15599999999999997,0.15999999999999998],[0.07299999999999995,0.07199999999999995,0.06899999999999995,0.066,0.063,0.063,0.064,0.066,0.06899999999999995,0.07199999999999995,0.07399999999999995,0.07599999999999996,0.07699999999999996,0.07799999999999996,0.07899999999999996,0.08099999999999996,0.08299999999999996,0.08599999999999997,0.08899999999999997,0.09299999999999997,0.09699999999999998,0.10199999999999998,0.10699999999999998,0.11299999999999999,0.11899999999999997,0.12599999999999997,0.13199999999999998,0.13899999999999998,0.146,0.15199999999999997,0.15699999999999997],[0.07699999999999996,0.07599999999999996,0.07199999999999995,0.068,0.064,0.063,0.063,0.064,0.066,0.068,0.06999999999999995,0.07199999999999995,0.07399999999999995,0.07599999999999996,0.07699999999999996,0.07899999999999996,0.08199999999999996,0.08499999999999996,0.08799999999999997,0.09199999999999997,0.09599999999999997,0.09999999999999998,0.10499999999999998,0.10999999999999999,0.11599999999999996,0.12199999999999997,0.12799999999999997,0.13399999999999998,0.141,0.14799999999999996,0.15499999999999997],[0.08499999999999996,0.08399999999999996,0.07899999999999996,0.07499999999999996,0.06999999999999995,0.068,0.067,0.066,0.067,0.06899999999999995,0.06999999999999995,0.07199999999999995,0.07299999999999995,0.07499999999999996,0.07699999999999996,0.07899999999999996,0.08199999999999996,0.08399999999999996,0.08699999999999997,0.09099999999999997,0.09499999999999997,0.09899999999999998,0.10399999999999998,0.10799999999999998,0.11299999999999999,0.11899999999999997,0.12499999999999997,0.13099999999999998,0.13699999999999998,0.144,0.15199999999999997],[0.09699999999999998,0.09399999999999997,0.08899999999999997,0.08399999999999996,0.07899999999999996,0.07599999999999996,0.07399999999999995,0.07199999999999995,0.07199999999999995,0.07299999999999995,0.07399999999999995,0.07499999999999996,0.07599999999999996,0.07699999999999996,0.07899999999999996,0.08099999999999996,0.08299999999999996,0.08499999999999996,0.08799999999999997,0.09099999999999997,0.09499999999999997,0.09899999999999998,0.10299999999999998,0.10699999999999998,0.11199999999999999,0.11699999999999997,0.12199999999999997,0.12799999999999997,0.13299999999999998,0.13999999999999999,0.14799999999999996],[0.10999999999999999,0.10599999999999998,0.10099999999999998,0.09499999999999997,0.08999999999999997,0.08599999999999997,0.08299999999999996,0.07999999999999996,0.07999999999999996,0.07899999999999996,0.07899999999999996,0.07899999999999996,0.07999999999999996,0.08099999999999996,0.08199999999999996,0.08299999999999996,0.08499999999999996,0.08599999999999997,0.08899999999999997,0.09199999999999997,0.09499999999999997,0.09799999999999998,0.10199999999999998,0.10599999999999998,0.10999999999999999,0.11499999999999999,0.11999999999999997,0.12399999999999997,0.12999999999999998,0.13499999999999998,0.142],[0.12399999999999997,0.11799999999999997,0.11299999999999999,0.10699999999999998,0.10199999999999998,0.09699999999999998,0.09299999999999997,0.08999999999999997,0.08899999999999997,0.08699999999999997,0.08599999999999997,0.08599999999999997,0.08499999999999996,0.08599999999999997,0.08599999999999997,0.08699999999999997,0.08699999999999997,0.08799999999999997,0.08999999999999997,0.09199999999999997,0.09499999999999997,0.09799999999999998,0.10099999999999998,0.10499999999999998,0.10899999999999999,0.11299999999999999,0.11699999999999997,0.12099999999999997,0.12499999999999997,0.12899999999999998,0.13499999999999998],[0.13599999999999998,0.12999999999999998,0.12499999999999997,0.11999999999999997,0.11399999999999999,0.10999999999999999,0.10499999999999998,0.10199999999999998,0.09899999999999998,0.09599999999999997,0.09399999999999997,0.09299999999999997,0.09099999999999997,0.09099999999999997,0.08999999999999997,0.08999999999999997,0.08999999999999997,0.09099999999999997,0.09199999999999997,0.09299999999999997,0.09499999999999997,0.09699999999999998,0.09999999999999998,0.10299999999999998,0.10599999999999998,0.10999999999999999,0.11299999999999999,0.11699999999999997,0.11999999999999997,0.12399999999999997,0.12799999999999997],[0.14699999999999996,0.142,0.13699999999999998,0.13299999999999998,0.12799999999999997,0.12299999999999997,0.11899999999999997,0.11399999999999999,0.10999999999999999,0.10599999999999998,0.10299999999999998,0.09999999999999998,0.09699999999999998,0.09599999999999997,0.09399999999999997,0.09299999999999997,0.09299999999999997,0.09299999999999997,0.09299999999999997,0.09399999999999997,0.09499999999999997,0.09699999999999998,0.09899999999999998,0.10099999999999998,0.10299999999999998,0.10599999999999998,0.10899999999999999,0.11199999999999999,0.11499999999999999,0.11799999999999997,0.12099999999999997],[0.15699999999999997,0.15399999999999997,0.15099999999999997,0.14699999999999996,0.144,0.13899999999999998,0.13399999999999998,0.12899999999999998,0.12299999999999997,0.11699999999999997,0.11199999999999999,0.10699999999999998,0.10299999999999998,0.09999999999999998,0.09699999999999998,0.09599999999999997,0.09499999999999997,0.09499999999999997,0.09499999999999997,0.09499999999999997,0.09599999999999997,0.09599999999999997,0.09699999999999998,0.09899999999999998,0.09999999999999998,0.10299999999999998,0.10499999999999998,0.10799999999999998,0.11099999999999999,0.11399999999999999,0.11499999999999999],[0.16499999999999998,0.16299999999999998,0.16399999999999998,0.16499999999999998,0.16499999999999998,0.16199999999999998,0.15699999999999997,0.14999999999999997,0.142,0.13299999999999998,0.12399999999999997,0.11599999999999996,0.10899999999999999,0.10399999999999998,0.09999999999999998,0.09799999999999998,0.09799999999999998,0.09799999999999998,0.09799999999999998,0.09799999999999998,0.09799999999999998,0.09699999999999998,0.09699999999999998,0.09699999999999998,0.09799999999999998,0.09999999999999998,0.10199999999999998,0.10499999999999998,0.10799999999999998,0.11199999999999999,0.11299999999999999]],\"type\":\"heatmap\",\"xaxis\":\"x\",\"yaxis\":\"y\",\"hovertemplate\":\"\\u0414\\u043b\\u0438\\u043d\\u043d\\u0430 \\u0432\\u0430\\u043d\\u043d\\u044b: %{x}\\u003cbr\\u003e\\u0428\\u0438\\u0440\\u0438\\u043d\\u0430 \\u0432\\u0430\\u043d\\u043d\\u044b: %{y}\\u003cbr\\u003ecolor: %{z}\\u003cextra\\u003e\\u003c\\u002fextra\\u003e\"}],                        {\"template\":{\"data\":{\"histogram2dcontour\":[{\"type\":\"histogram2dcontour\",\"colorbar\":{\"outlinewidth\":0,\"ticks\":\"\"},\"colorscale\":[[0.0,\"#0d0887\"],[0.1111111111111111,\"#46039f\"],[0.2222222222222222,\"#7201a8\"],[0.3333333333333333,\"#9c179e\"],[0.4444444444444444,\"#bd3786\"],[0.5555555555555556,\"#d8576b\"],[0.6666666666666666,\"#ed7953\"],[0.7777777777777778,\"#fb9f3a\"],[0.8888888888888888,\"#fdca26\"],[1.0,\"#f0f921\"]]}],\"choropleth\":[{\"type\":\"choropleth\",\"colorbar\":{\"outlinewidth\":0,\"ticks\":\"\"}}],\"histogram2d\":[{\"type\":\"histogram2d\",\"colorbar\":{\"outlinewidth\":0,\"ticks\":\"\"},\"colorscale\":[[0.0,\"#0d0887\"],[0.1111111111111111,\"#46039f\"],[0.2222222222222222,\"#7201a8\"],[0.3333333333333333,\"#9c179e\"],[0.4444444444444444,\"#bd3786\"],[0.5555555555555556,\"#d8576b\"],[0.6666666666666666,\"#ed7953\"],[0.7777777777777778,\"#fb9f3a\"],[0.8888888888888888,\"#fdca26\"],[1.0,\"#f0f921\"]]}],\"heatmap\":[{\"type\":\"heatmap\",\"colorbar\":{\"outlinewidth\":0,\"ticks\":\"\"},\"colorscale\":[[0.0,\"#0d0887\"],[0.1111111111111111,\"#46039f\"],[0.2222222222222222,\"#7201a8\"],[0.3333333333333333,\"#9c179e\"],[0.4444444444444444,\"#bd3786\"],[0.5555555555555556,\"#d8576b\"],[0.6666666666666666,\"#ed7953\"],[0.7777777777777778,\"#fb9f3a\"],[0.8888888888888888,\"#fdca26\"],[1.0,\"#f0f921\"]]}],\"heatmapgl\":[{\"type\":\"heatmapgl\",\"colorbar\":{\"outlinewidth\":0,\"ticks\":\"\"},\"colorscale\":[[0.0,\"#0d0887\"],[0.1111111111111111,\"#46039f\"],[0.2222222222222222,\"#7201a8\"],[0.3333333333333333,\"#9c179e\"],[0.4444444444444444,\"#bd3786\"],[0.5555555555555556,\"#d8576b\"],[0.6666666666666666,\"#ed7953\"],[0.7777777777777778,\"#fb9f3a\"],[0.8888888888888888,\"#fdca26\"],[1.0,\"#f0f921\"]]}],\"contourcarpet\":[{\"type\":\"contourcarpet\",\"colorbar\":{\"outlinewidth\":0,\"ticks\":\"\"}}],\"contour\":[{\"type\":\"contour\",\"colorbar\":{\"outlinewidth\":0,\"ticks\":\"\"},\"colorscale\":[[0.0,\"#0d0887\"],[0.1111111111111111,\"#46039f\"],[0.2222222222222222,\"#7201a8\"],[0.3333333333333333,\"#9c179e\"],[0.4444444444444444,\"#bd3786\"],[0.5555555555555556,\"#d8576b\"],[0.6666666666666666,\"#ed7953\"],[0.7777777777777778,\"#fb9f3a\"],[0.8888888888888888,\"#fdca26\"],[1.0,\"#f0f921\"]]}],\"surface\":[{\"type\":\"surface\",\"colorbar\":{\"outlinewidth\":0,\"ticks\":\"\"},\"colorscale\":[[0.0,\"#0d0887\"],[0.1111111111111111,\"#46039f\"],[0.2222222222222222,\"#7201a8\"],[0.3333333333333333,\"#9c179e\"],[0.4444444444444444,\"#bd3786\"],[0.5555555555555556,\"#d8576b\"],[0.6666666666666666,\"#ed7953\"],[0.7777777777777778,\"#fb9f3a\"],[0.8888888888888888,\"#fdca26\"],[1.0,\"#f0f921\"]]}],\"mesh3d\":[{\"type\":\"mesh3d\",\"colorbar\":{\"outlinewidth\":0,\"ticks\":\"\"}}],\"scatter\":[{\"fillpattern\":{\"fillmode\":\"overlay\",\"size\":10,\"solidity\":0.2},\"type\":\"scatter\"}],\"parcoords\":[{\"type\":\"parcoords\",\"line\":{\"colorbar\":{\"outlinewidth\":0,\"ticks\":\"\"}}}],\"scatterpolargl\":[{\"type\":\"scatterpolargl\",\"marker\":{\"colorbar\":{\"outlinewidth\":0,\"ticks\":\"\"}}}],\"bar\":[{\"error_x\":{\"color\":\"#2a3f5f\"},\"error_y\":{\"color\":\"#2a3f5f\"},\"marker\":{\"line\":{\"color\":\"#E5ECF6\",\"width\":0.5},\"pattern\":{\"fillmode\":\"overlay\",\"size\":10,\"solidity\":0.2}},\"type\":\"bar\"}],\"scattergeo\":[{\"type\":\"scattergeo\",\"marker\":{\"colorbar\":{\"outlinewidth\":0,\"ticks\":\"\"}}}],\"scatterpolar\":[{\"type\":\"scatterpolar\",\"marker\":{\"colorbar\":{\"outlinewidth\":0,\"ticks\":\"\"}}}],\"histogram\":[{\"marker\":{\"pattern\":{\"fillmode\":\"overlay\",\"size\":10,\"solidity\":0.2}},\"type\":\"histogram\"}],\"scattergl\":[{\"type\":\"scattergl\",\"marker\":{\"colorbar\":{\"outlinewidth\":0,\"ticks\":\"\"}}}],\"scatter3d\":[{\"type\":\"scatter3d\",\"line\":{\"colorbar\":{\"outlinewidth\":0,\"ticks\":\"\"}},\"marker\":{\"colorbar\":{\"outlinewidth\":0,\"ticks\":\"\"}}}],\"scattermapbox\":[{\"type\":\"scattermapbox\",\"marker\":{\"colorbar\":{\"outlinewidth\":0,\"ticks\":\"\"}}}],\"scatterternary\":[{\"type\":\"scatterternary\",\"marker\":{\"colorbar\":{\"outlinewidth\":0,\"ticks\":\"\"}}}],\"scattercarpet\":[{\"type\":\"scattercarpet\",\"marker\":{\"colorbar\":{\"outlinewidth\":0,\"ticks\":\"\"}}}],\"carpet\":[{\"aaxis\":{\"endlinecolor\":\"#2a3f5f\",\"gridcolor\":\"white\",\"linecolor\":\"white\",\"minorgridcolor\":\"white\",\"startlinecolor\":\"#2a3f5f\"},\"baxis\":{\"endlinecolor\":\"#2a3f5f\",\"gridcolor\":\"white\",\"linecolor\":\"white\",\"minorgridcolor\":\"white\",\"startlinecolor\":\"#2a3f5f\"},\"type\":\"carpet\"}],\"table\":[{\"cells\":{\"fill\":{\"color\":\"#EBF0F8\"},\"line\":{\"color\":\"white\"}},\"header\":{\"fill\":{\"color\":\"#C8D4E3\"},\"line\":{\"color\":\"white\"}},\"type\":\"table\"}],\"barpolar\":[{\"marker\":{\"line\":{\"color\":\"#E5ECF6\",\"width\":0.5},\"pattern\":{\"fillmode\":\"overlay\",\"size\":10,\"solidity\":0.2}},\"type\":\"barpolar\"}],\"pie\":[{\"automargin\":true,\"type\":\"pie\"}]},\"layout\":{\"autotypenumbers\":\"strict\",\"colorway\":[\"#636efa\",\"#EF553B\",\"#00cc96\",\"#ab63fa\",\"#FFA15A\",\"#19d3f3\",\"#FF6692\",\"#B6E880\",\"#FF97FF\",\"#FECB52\"],\"font\":{\"color\":\"#2a3f5f\"},\"hovermode\":\"closest\",\"hoverlabel\":{\"align\":\"left\"},\"paper_bgcolor\":\"white\",\"plot_bgcolor\":\"#E5ECF6\",\"polar\":{\"bgcolor\":\"#E5ECF6\",\"angularaxis\":{\"gridcolor\":\"white\",\"linecolor\":\"white\",\"ticks\":\"\"},\"radialaxis\":{\"gridcolor\":\"white\",\"linecolor\":\"white\",\"ticks\":\"\"}},\"ternary\":{\"bgcolor\":\"#E5ECF6\",\"aaxis\":{\"gridcolor\":\"white\",\"linecolor\":\"white\",\"ticks\":\"\"},\"baxis\":{\"gridcolor\":\"white\",\"linecolor\":\"white\",\"ticks\":\"\"},\"caxis\":{\"gridcolor\":\"white\",\"linecolor\":\"white\",\"ticks\":\"\"}},\"coloraxis\":{\"colorbar\":{\"outlinewidth\":0,\"ticks\":\"\"}},\"colorscale\":{\"sequential\":[[0.0,\"#0d0887\"],[0.1111111111111111,\"#46039f\"],[0.2222222222222222,\"#7201a8\"],[0.3333333333333333,\"#9c179e\"],[0.4444444444444444,\"#bd3786\"],[0.5555555555555556,\"#d8576b\"],[0.6666666666666666,\"#ed7953\"],[0.7777777777777778,\"#fb9f3a\"],[0.8888888888888888,\"#fdca26\"],[1.0,\"#f0f921\"]],\"sequentialminus\":[[0.0,\"#0d0887\"],[0.1111111111111111,\"#46039f\"],[0.2222222222222222,\"#7201a8\"],[0.3333333333333333,\"#9c179e\"],[0.4444444444444444,\"#bd3786\"],[0.5555555555555556,\"#d8576b\"],[0.6666666666666666,\"#ed7953\"],[0.7777777777777778,\"#fb9f3a\"],[0.8888888888888888,\"#fdca26\"],[1.0,\"#f0f921\"]],\"diverging\":[[0,\"#8e0152\"],[0.1,\"#c51b7d\"],[0.2,\"#de77ae\"],[0.3,\"#f1b6da\"],[0.4,\"#fde0ef\"],[0.5,\"#f7f7f7\"],[0.6,\"#e6f5d0\"],[0.7,\"#b8e186\"],[0.8,\"#7fbc41\"],[0.9,\"#4d9221\"],[1,\"#276419\"]]},\"xaxis\":{\"gridcolor\":\"white\",\"linecolor\":\"white\",\"ticks\":\"\",\"title\":{\"standoff\":15},\"zerolinecolor\":\"white\",\"automargin\":true,\"zerolinewidth\":2},\"yaxis\":{\"gridcolor\":\"white\",\"linecolor\":\"white\",\"ticks\":\"\",\"title\":{\"standoff\":15},\"zerolinecolor\":\"white\",\"automargin\":true,\"zerolinewidth\":2},\"scene\":{\"xaxis\":{\"backgroundcolor\":\"#E5ECF6\",\"gridcolor\":\"white\",\"linecolor\":\"white\",\"showbackground\":true,\"ticks\":\"\",\"zerolinecolor\":\"white\",\"gridwidth\":2},\"yaxis\":{\"backgroundcolor\":\"#E5ECF6\",\"gridcolor\":\"white\",\"linecolor\":\"white\",\"showbackground\":true,\"ticks\":\"\",\"zerolinecolor\":\"white\",\"gridwidth\":2},\"zaxis\":{\"backgroundcolor\":\"#E5ECF6\",\"gridcolor\":\"white\",\"linecolor\":\"white\",\"showbackground\":true,\"ticks\":\"\",\"zerolinecolor\":\"white\",\"gridwidth\":2}},\"shapedefaults\":{\"line\":{\"color\":\"#2a3f5f\"}},\"annotationdefaults\":{\"arrowcolor\":\"#2a3f5f\",\"arrowhead\":0,\"arrowwidth\":1},\"geo\":{\"bgcolor\":\"white\",\"landcolor\":\"#E5ECF6\",\"subunitcolor\":\"white\",\"showland\":true,\"showlakes\":true,\"lakecolor\":\"white\"},\"title\":{\"x\":0.05},\"mapbox\":{\"style\":\"light\"}}},\"xaxis\":{\"anchor\":\"y\",\"domain\":[0.0,1.0],\"scaleanchor\":\"y\",\"constrain\":\"domain\",\"title\":{\"text\":\"\\u0414\\u043b\\u0438\\u043d\\u043d\\u0430 \\u0432\\u0430\\u043d\\u043d\\u044b\"}},\"yaxis\":{\"anchor\":\"x\",\"domain\":[0.0,1.0],\"autorange\":\"reversed\",\"constrain\":\"domain\",\"title\":{\"text\":\"\\u0428\\u0438\\u0440\\u0438\\u043d\\u0430 \\u0432\\u0430\\u043d\\u043d\\u044b\"}},\"coloraxis\":{\"colorscale\":[[0.0,\"rgb(0,0,255)\"],[1.0,\"rgb(255,0,0)\"]]},\"title\":{\"text\":\"\\u0420\\u0430\\u0441\\u043f\\u0440\\u0435\\u0434\\u0435\\u043b\\u0435\\u043d\\u0438\\u0435 \\u041c\\u041f\\u0420\"},\"width\":650},                        {\"responsive\": true}                    ).then(function(){\n",
       "                            \n",
       "var gd = document.getElementById('d91b8708-b1b3-4238-a870-ce84184843f5');\n",
       "var x = new MutationObserver(function (mutations, observer) {{\n",
       "        var display = window.getComputedStyle(gd).display;\n",
       "        if (!display || display === 'none') {{\n",
       "            console.log([gd, 'removed!']);\n",
       "            Plotly.purge(gd);\n",
       "            observer.disconnect();\n",
       "        }}\n",
       "}});\n",
       "\n",
       "// Listen for the removal of the full notebook cells\n",
       "var notebookContainer = gd.closest('#notebook-container');\n",
       "if (notebookContainer) {{\n",
       "    x.observe(notebookContainer, {childList: true});\n",
       "}}\n",
       "\n",
       "// Listen for the clearing of the current output cell\n",
       "var outputEl = gd.closest('.output');\n",
       "if (outputEl) {{\n",
       "    x.observe(outputEl, {childList: true});\n",
       "}}\n",
       "\n",
       "                        })                };                });            </script>        </div>"
      ]
     },
     "metadata": {},
     "output_type": "display_data"
    }
   ],
   "source": [
    "x = np.linspace(start=0, stop=10, num=31)\n",
    "y = np.flip(np.linspace(start=0, stop=3.5, num=11))\n",
    "title = 'Распределение МПР'\n",
    "labels = {'x':'Длинна ванны', 'y':'Ширина ванны'}\n",
    "fig = px.imshow(d,x=x, y=y, color_continuous_scale='bluered', labels=labels, title=title)\n",
    "fig2 = px.imshow(d,x=x, y=y, color_continuous_scale='bluered', labels=labels, title=title, width=650)\n",
    "fig.show()\n",
    "fig2.show()"
   ]
  },
  {
   "cell_type": "code",
   "execution_count": 25,
   "id": "2b75d46d-9e0f-4cfd-bfbf-b5e5648fcfd9",
   "metadata": {},
   "outputs": [
    {
     "data": {
      "application/vnd.plotly.v1+json": {
       "config": {
        "plotlyServerURL": "https://plot.ly"
       },
       "data": [
        {
         "coloraxis": "coloraxis",
         "hovertemplate": "Длинна ванны: %{x}<br>Ширина ванны: %{y}<br>color: %{z}<extra></extra>",
         "name": "0",
         "type": "heatmap",
         "x": [
          0,
          0.5263157894736842,
          1.0526315789473684,
          1.5789473684210527,
          2.1052631578947367,
          2.631578947368421,
          3.1578947368421053,
          3.6842105263157894,
          4.2105263157894735,
          4.7368421052631575,
          5.263157894736842,
          5.789473684210526,
          6.315789473684211,
          6.842105263157895,
          7.368421052631579,
          7.894736842105263,
          8.421052631578947,
          8.947368421052632,
          9.473684210526315,
          10
         ],
         "xaxis": "x",
         "y": [
          3.5,
          3.407894736842105,
          3.31578947368421,
          3.2236842105263155,
          3.131578947368421,
          3.039473684210526,
          2.9473684210526314,
          2.8552631578947367,
          2.763157894736842,
          2.6710526315789473,
          2.5789473684210527,
          2.486842105263158,
          2.394736842105263,
          2.302631578947368,
          2.2105263157894735,
          2.1184210526315788,
          2.026315789473684,
          1.9342105263157894,
          1.8421052631578947,
          1.75,
          1.657894736842105,
          1.5657894736842104,
          1.4736842105263157,
          1.381578947368421,
          1.2894736842105263,
          1.1973684210526314,
          1.1052631578947367,
          1.013157894736842,
          0.9210526315789473,
          0.8289473684210525,
          0.7368421052631579,
          0.6447368421052632,
          0.5526315789473684,
          0.4605263157894737,
          0.3684210526315789,
          0.2763157894736842,
          0.18421052631578946,
          0.09210526315789473,
          0
         ],
         "yaxis": "y",
         "z": [
          [
           7.117942450370392e-05,
           7.117942450370392e-05,
           7.101789294509906e-05,
           7.085607085882385e-05,
           7.053370461709672e-05,
           7.037316046164487e-05,
           7.005333500311489e-05,
           6.989405370003675e-05,
           6.957673910409166e-05,
           6.941870581122472e-05,
           6.941870581122464e-05,
           6.957673910409157e-05,
           6.988298008411095e-05,
           7.003122571090943e-05,
           7.032562378983253e-05,
           7.047178665331056e-05,
           7.076196395972587e-05,
           7.090598864952616e-05,
           7.104978284611079e-05,
           7.104978284611079e-05
          ],
          [
           7.113784476904056e-05,
           7.109622944474498e-05,
           7.097631295952228e-05,
           7.077320442331864e-05,
           7.049245351456358e-05,
           7.029094814590498e-05,
           7.001240889648218e-05,
           6.98124877888909e-05,
           6.953613416722568e-05,
           6.933777871035068e-05,
           6.93784184352239e-05,
           6.949581208223337e-05,
           6.984237532251212e-05,
           6.993865936763025e-05,
           7.027373274155416e-05,
           7.035331833057389e-05,
           7.069548793062171e-05,
           7.075495261824514e-05,
           7.096536825480964e-05,
           7.088080604755811e-05
          ],
          [
           7.101308356096253e-05,
           7.097155300147565e-05,
           7.085188036735168e-05,
           7.064918471836053e-05,
           7.036900340566883e-05,
           7.016790604785726e-05,
           6.988992968050216e-05,
           6.969041178388041e-05,
           6.941461443539418e-05,
           6.921665746460534e-05,
           6.925721538657124e-05,
           6.937437319660694e-05,
           6.970919481350924e-05,
           6.979430830019164e-05,
           7.010335971382362e-05,
           7.016854691867308e-05,
           7.047795430827671e-05,
           7.05197800604484e-05,
           7.071203002742415e-05,
           7.062781620891339e-05
          ],
          [
           7.088857638859227e-05,
           7.084713033519576e-05,
           7.072770080884825e-05,
           7.052541678934485e-05,
           7.02458033410455e-05,
           7.004511275611283e-05,
           6.976769756630287e-05,
           6.95685816620528e-05,
           6.929333890884152e-05,
           6.909577922453391e-05,
           6.913625559033337e-05,
           6.925317827335667e-05,
           6.95763152329499e-05,
           6.965030738687232e-05,
           6.993347490692777e-05,
           6.998434569324772e-05,
           7.026121058882506e-05,
           7.02855290730306e-05,
           7.045973800890057e-05,
           7.037587363300672e-05
          ],
          [
           7.076432247682671e-05,
           7.072296067185416e-05,
           7.060377351297785e-05,
           7.040189987034059e-05,
           7.01228525617749e-05,
           6.992256751675627e-05,
           6.964571180684418e-05,
           6.944699668127354e-05,
           6.917230685217456e-05,
           6.897514325955348e-05,
           6.901553831493603e-05,
           6.913222657806146e-05,
           6.944373236771239e-05,
           6.950665533173053e-05,
           6.976407618781606e-05,
           6.980071356342706e-05,
           7.004525405959057e-05,
           7.005219424207945e-05,
           7.020849055877603e-05,
           7.012497186043919e-05
          ],
          [
           7.064032105371302e-05,
           7.059904324054441e-05,
           7.048009771183578e-05,
           7.027863319852037e-05,
           7.000015031200653e-05,
           6.9800269578915e-05,
           6.952397165809415e-05,
           6.93256561023916e-05,
           6.905151753294993e-05,
           6.88547488420068e-05,
           6.889506283173567e-05,
           6.901151737924514e-05,
           6.931144838757612e-05,
           6.936335245026254e-05,
           6.959516144542041e-05,
           6.961764787636426e-05,
           6.983008035826374e-05,
           6.981977171976774e-05,
           6.995827800846427e-05,
           6.987510285482622e-05
          ],
          [
           7.051657135043239e-05,
           7.047537727348894e-05,
           7.035667264063091e-05,
           7.01556160141447e-05,
           6.98776958389426e-05,
           6.96782181947441e-05,
           6.940247637901403e-05,
           6.920455918922472e-05,
           6.893097022165918e-05,
           6.873459524714772e-05,
           6.87748284150047e-05,
           6.889104994836177e-05,
           6.917946068778551e-05,
           6.922039430555508e-05,
           6.942672861443655e-05,
           6.943514602053005e-05,
           6.961568678626569e-05,
           6.958825297574068e-05,
           6.970909240090747e-05,
           6.96262570950783e-05
          ],
          [
           7.039307260128427e-05,
           7.035196200602301e-05,
           7.023349753767006e-05,
           7.003284756054635e-05,
           6.975548839282248e-05,
           6.955641261941083e-05,
           6.928122523154319e-05,
           6.908370520854423e-05,
           6.88106641917143e-05,
           6.861468175312657e-05,
           6.865483434191695e-05,
           6.877082355978087e-05,
           6.904776668596046e-05,
           6.907778120758849e-05,
           6.925877558374494e-05,
           6.925320692268298e-05,
           6.940206590224686e-05,
           6.935763426473999e-05,
           6.946092739724037e-05,
           6.937843301076036e-05
          ],
          [
           7.026982404367045e-05,
           7.022879667657912e-05,
           7.0110571644342e-05,
           6.991032708411487e-05,
           6.963352722690753e-05,
           6.943485211107968e-05,
           6.916021748058409e-05,
           6.896309343006044e-05,
           6.869059871943287e-05,
           6.849500764097572e-05,
           6.853507989253324e-05,
           6.865083749077287e-05,
           6.891636853905022e-05,
           6.893551347948994e-05,
           6.909130186170632e-05,
           6.907182640213751e-05,
           6.918921664717084e-05,
           6.912791190458105e-05,
           6.921378148823297e-05,
           6.913162435218563e-05
          ],
          [
           7.014682491807947e-05,
           7.010588052667118e-05,
           6.998789420510226e-05,
           6.978805383428111e-05,
           6.951181159746585e-05,
           6.931353593089717e-05,
           6.903945239398743e-05,
           6.884272312640784e-05,
           6.85707730840237e-05,
           6.837557219459526e-05,
           6.841556434978683e-05,
           6.853109102149472e-05,
           6.87852636693931e-05,
           6.879358672814384e-05,
           6.89243022521344e-05,
           6.889100030833315e-05,
           6.897713323009186e-05,
           6.889907906472087e-05,
           6.896764526664066e-05,
           6.888582331714303e-05
          ],
          [
           7.0024074468071e-05,
           6.998321280087914e-05,
           6.986546446745734e-05,
           6.966602706350204e-05,
           6.939034076375711e-05,
           6.919246334297702e-05,
           6.891892924253754e-05,
           6.87225935731306e-05,
           6.845118656757244e-05,
           6.825637470073868e-05,
           6.82962869994693e-05,
           6.841158343497539e-05,
           6.86544495214203e-05,
           6.865200126758568e-05,
           6.875777626417065e-05,
           6.871072919400395e-05,
           6.876581148081525e-05,
           6.867112899977357e-05,
           6.87225110072008e-05,
           6.864102064128627e-05
          ],
          [
           6.99015719402603e-05,
           6.986079274683335e-05,
           6.974328168194962e-05,
           6.954424602724535e-05,
           6.926911398801768e-05,
           6.907163361438515e-05,
           6.879864729993757e-05,
           6.860270404866788e-05,
           6.833183845502712e-05,
           6.813741444899867e-05,
           6.817724713021623e-05,
           6.829231401710163e-05,
           6.852392823931814e-05,
           6.851075587679432e-05,
           6.859172188228e-05,
           6.853100738269503e-05,
           6.855524570478151e-05,
           6.844405809846556e-05,
           6.847837257524399e-05,
           6.839721488056677e-05
          ],
          [
           6.97793165843028e-05,
           6.973861961519923e-05,
           6.96213451021417e-05,
           6.942270998397435e-05,
           6.914813053544547e-05,
           6.895104601512491e-05,
           6.867860584279491e-05,
           6.848305383433945e-05,
           6.821272803418394e-05,
           6.801869073179298e-05,
           6.8058444033493e-05,
           6.81732820566037e-05,
           6.839369571717738e-05,
           6.836984930313437e-05,
           6.842613706212277e-05,
           6.835183390194001e-05,
           6.834543336499727e-05,
           6.821786126758648e-05,
           6.823522858623155e-05,
           6.815439998657358e-05
          ],
          [
           6.965730765287881e-05,
           6.961669265966199e-05,
           6.94996539846015e-05,
           6.930141819513299e-05,
           6.902738967418521e-05,
           6.883069981812243e-05,
           6.855880415060666e-05,
           6.836364221433138e-05,
           6.80938545956732e-05,
           6.790020284435047e-05,
           6.793987700358086e-05,
           6.805448684504126e-05,
           6.826375409071329e-05,
           6.822928188197418e-05,
           6.826101980882929e-05,
           6.817320620706031e-05,
           6.81363703579604e-05,
           6.799253496913103e-05,
           6.799306988460328e-05,
           6.791256838229095e-05
          ],
          [
           6.953554440167834e-05,
           6.94950111369115e-05,
           6.937820758888715e-05,
           6.918036992513081e-05,
           6.890689067531381e-05,
           6.871059429921199e-05,
           6.843924150574535e-05,
           6.824446847568173e-05,
           6.797521743294503e-05,
           6.778195008469711e-05,
           6.782154533756284e-05,
           6.793592767678927e-05,
           6.813410082655973e-05,
           6.808904929180426e-05,
           6.809636812214019e-05,
           6.799512180506488e-05,
           6.792805419862443e-05,
           6.776807108986199e-05,
           6.775188896801007e-05,
           6.767171105064886e-05
          ],
          [
           6.941402608938582e-05,
           6.937357430662698e-05,
           6.925700517753167e-05,
           6.905956444132818e-05,
           6.878663281282544e-05,
           6.859072873712149e-05,
           6.831991719344443e-05,
           6.812553190826627e-05,
           6.785681584225563e-05,
           6.76639317536421e-05,
           6.770344833530993e-05,
           6.781760384902415e-05,
           6.800473341298262e-05,
           6.794915185304412e-05,
           6.793217999452498e-05,
           6.78175797350656e-05,
           6.772047777961441e-05,
           6.754446614688809e-05,
           6.75116798978164e-05,
           6.743182666771872e-05
          ],
          [
           6.929275197766518e-05,
           6.925238143146221e-05,
           6.91360460160284e-05,
           6.893900101402132e-05,
           6.866661536361709e-05,
           6.847110241345792e-05,
           6.820083050178417e-05,
           6.800683180478451e-05,
           6.773864912265308e-05,
           6.754614715476406e-05,
           6.758558529946722e-05,
           6.76995146617096e-05,
           6.787565397304734e-05,
           6.78095899081296e-05,
           6.776845500404434e-05,
           6.76405759699071e-05,
           6.751364017071902e-05,
           6.732171673125434e-05,
           6.727244140797697e-05,
           6.719290937833293e-05
          ],
          [
           6.917172133114489e-05,
           6.913143177703052e-05,
           6.901532937281594e-05,
           6.881867891642788e-05,
           6.854683760747405e-05,
           6.835171461269321e-05,
           6.808198072167744e-05,
           6.788836746074563e-05,
           6.762071657596372e-05,
           6.742859559439754e-05,
           6.746795553544021e-05,
           6.758165941758322e-05,
           6.774685999946006e-05,
           6.76703591776996e-05,
           6.760518810637081e-05,
           6.746410651118433e-05,
           6.730753587482998e-05,
           6.709981637990801e-05,
           6.703416458540038e-05,
           6.695495182211186e-05
          ],
          [
           6.905093341740303e-05,
           6.901072461188993e-05,
           6.889485451926352e-05,
           6.869859742467211e-05,
           6.842729882705558e-05,
           6.823256462214975e-05,
           6.796336714685563e-05,
           6.777013817445451e-05,
           6.750301750677834e-05,
           6.731127638161908e-05,
           6.735055835138121e-05,
           6.746403742214241e-05,
           6.761834900628847e-05,
           6.753145998578751e-05,
           6.744237886772153e-05,
           6.72881719807168e-05,
           6.710216095754891e-05,
           6.687875871475699e-05,
           6.679684214218326e-05,
           6.671794522022654e-05
          ],
          [
           6.897048132121375e-05,
           6.897048132121375e-05,
           6.881471478586985e-05,
           6.865866673893181e-05,
           6.834778092127043e-05,
           6.81929431505471e-05,
           6.788446385972879e-05,
           6.773082233963378e-05,
           6.742472174037048e-05,
           6.727226266120217e-05,
           6.727226266120209e-05,
           6.742472174037039e-05,
           6.752929342493888e-05,
           6.747113248055782e-05,
           6.731906275191264e-05,
           6.71906377614963e-05,
           6.69362920554387e-05,
           6.673580419934299e-05,
           6.659887537548526e-05,
           6.65588049785593e-05
          ],
          [
           6.901072461188993e-05,
           6.905093341740303e-05,
           6.885495816249915e-05,
           6.87388063943023e-05,
           6.838771145156943e-05,
           6.827246097891414e-05,
           6.792408517709341e-05,
           6.780972554994067e-05,
           6.74640374221425e-05,
           6.735055835138128e-05,
           6.7311276381619e-05,
           6.750301750677825e-05,
           6.75580839949506e-05,
           6.752852204273742e-05,
           6.731324059432858e-05,
           6.721030016704565e-05,
           6.688729544975244e-05,
           6.670925312628016e-05,
           6.651721652373789e-05,
           6.651573428302311e-05
          ],
          [
           6.913143177703052e-05,
           6.917172133114489e-05,
           6.897535320745476e-05,
           6.88589686349889e-05,
           6.850717134918115e-05,
           6.839169077805439e-05,
           6.804262078063468e-05,
           6.792803371903852e-05,
           6.75816594175833e-05,
           6.746795553544029e-05,
           6.742859559439746e-05,
           6.762071657596363e-05,
           6.766535603742849e-05,
           6.762517087195533e-05,
           6.738551664107512e-05,
           6.726894260057964e-05,
           6.691582790596952e-05,
           6.672134424469984e-05,
           6.651276991349205e-05,
           6.651128778467577e-05
          ],
          [
           6.925238143146221e-05,
           6.929275197766518e-05,
           6.909598980235717e-05,
           6.897937172500155e-05,
           6.862686998650648e-05,
           6.851115862712914e-05,
           6.816139235708095e-05,
           6.804657718189514e-05,
           6.769951466170968e-05,
           6.75855852994673e-05,
           6.754614715476398e-05,
           6.773864912265299e-05,
           6.777282836428597e-05,
           6.772198199722698e-05,
           6.745788987487164e-05,
           6.732765063449676e-05,
           6.694438817900289e-05,
           6.673345187063039e-05,
           6.650832363892902e-05,
           6.650684162199859e-05
          ],
          [
           6.937357430662698e-05,
           6.941402608938582e-05,
           6.921686867487626e-05,
           6.910001638919583e-05,
           6.874680807994375e-05,
           6.863086523977689e-05,
           6.828040061177652e-05,
           6.816535664114799e-05,
           6.781760384902423e-05,
           6.770344833531001e-05,
           6.766393175364201e-05,
           6.785681584225555e-05,
           6.788050001455151e-05,
           6.781895737366745e-05,
           6.753036051888852e-05,
           6.738642898168939e-05,
           6.697297781705485e-05,
           6.674557758170227e-05,
           6.650387619722113e-05,
           6.650239278927431e-05
          ],
          [
           6.94950111369115e-05,
           6.953554440167834e-05,
           6.933799055560757e-05,
           6.922090335533906e-05,
           6.886698634876045e-05,
           6.875081133249158e-05,
           6.839964625287952e-05,
           6.82843728022351e-05,
           6.793592767678937e-05,
           6.782154533756292e-05,
           6.778195008469703e-05,
           6.797521743294497e-05,
           6.798837461568241e-05,
           6.791609895749688e-05,
           6.760293334749474e-05,
           6.744527775703173e-05,
           6.700159689330441e-05,
           6.675772135342674e-05,
           6.649942758814438e-05,
           6.649794579506104e-05
          ],
          [
           6.961669265966199e-05,
           6.965730765287881e-05,
           6.945935617808716e-05,
           6.934203335412477e-05,
           6.898740551510775e-05,
           6.887099762463676e-05,
           6.85191299913762e-05,
           6.840362637340886e-05,
           6.805448684504133e-05,
           6.793987700358095e-05,
           6.79002028443504e-05,
           6.809385459567312e-05,
           6.809645121287051e-05,
           6.80134041114277e-05,
           6.767560398027463e-05,
           6.750419402408026e-05,
           6.703024690519917e-05,
           6.676988471362729e-05,
           6.649498232074217e-05,
           6.649350063950663e-05
          ],
          [
           6.969632293972034e-05,
           6.96947580305745e-05,
           6.953866950982383e-05,
           6.933754730724971e-05,
           6.90242977411179e-05,
           6.878338708487164e-05,
           6.851441898686089e-05,
           6.823442660778284e-05,
           6.800897412554764e-05,
           6.769059259577648e-05,
           6.781528576757479e-05,
           6.776311584176037e-05,
           6.795921427751533e-05,
           6.75807698777324e-05,
           6.746452955637294e-05,
           6.695802611086831e-05,
           6.673880905660207e-05,
           6.610625455686365e-05,
           6.613664388611159e-05,
           6.577834092206705e-05
          ],
          [
           6.968850429000082e-05,
           6.968381504645343e-05,
           6.948919166031057e-05,
           6.92402240718386e-05,
           6.88471173314203e-05,
           6.855639142689076e-05,
           6.821198573639504e-05,
           6.788042562172289e-05,
           6.758368413055011e-05,
           6.721219251600007e-05,
           6.726602461427952e-05,
           6.715599496702316e-05,
           6.727402402615035e-05,
           6.68285622705314e-05,
           6.662764940158892e-05,
           6.605198473330523e-05,
           6.574831951671572e-05,
           6.504560492034884e-05,
           6.504295109244925e-05,
           6.466542353979443e-05
          ],
          [
           6.967131206028623e-05,
           6.966349749286209e-05,
           6.942743835239685e-05,
           6.912772016954417e-05,
           6.864907115388923e-05,
           6.830594892057873e-05,
           6.788085076128021e-05,
           6.74954898433099e-05,
           6.712258050923477e-05,
           6.669611301519663e-05,
           6.667429133071815e-05,
           6.650470971096671e-05,
           6.65404436514899e-05,
           6.602716488723156e-05,
           6.573826940661842e-05,
           6.509334542834417e-05,
           6.470262992708042e-05,
           6.393040059428872e-05,
           6.389290994988865e-05,
           6.34974600737973e-05
          ],
          [
           6.964474948803778e-05,
           6.963381481442195e-05,
           6.93534668641232e-05,
           6.90001448917308e-05,
           6.843038801912115e-05,
           6.803238119289332e-05,
           6.752152523666934e-05,
           6.708026096162534e-05,
           6.662655117913148e-05,
           6.614340663055477e-05,
           6.60414461698434e-05,
           6.58108328037454e-05,
           6.576043264022297e-05,
           6.517879121914622e-05,
           6.479904136089216e-05,
           6.408503050599849e-05,
           6.360514654295567e-05,
           6.276433048219774e-05,
           6.269044194866939e-05,
           6.227838815656265e-05
          ],
          [
           6.960883050577891e-05,
           6.959477922237018e-05,
           6.926734643663605e-05,
           6.885761993068335e-05,
           6.819132150359439e-05,
           6.773603788550414e-05,
           6.713455659885423e-05,
           6.663542022958457e-05,
           6.609653580655175e-05,
           6.555518287303169e-05,
           6.536892498019827e-05,
           6.507601162228797e-05,
           6.493602939723595e-05,
           6.428572636377819e-05,
           6.381269675957195e-05,
           6.30300391950872e-05,
           6.245934302021422e-05,
           6.155113326668311e-05,
           6.143951310958014e-05,
           6.1012186206758154e-05
          ],
          [
           6.956357020888513e-05,
           6.954641042059714e-05,
           6.91691564601987e-05,
           6.870028085269339e-05,
           6.793214456060378e-05,
           6.741728937268415e-05,
           6.672052505714762e-05,
           6.616168724153848e-05,
           6.553352454275191e-05,
           6.493260593019776e-05,
           6.465822390211358e-05,
           6.430195722889605e-05,
           6.406934308050072e-05,
           6.335032487982458e-05,
           6.278203460501826e-05,
           6.193142057271409e-05,
           6.126873483208911e-05,
           6.029456623016688e-05,
           6.0144113426238785e-05,
           5.970284335087033e-05
          ],
          [
           6.950899118253809e-05,
           6.94887292634683e-05,
           6.905898174196905e-05,
           6.852827036305504e-05,
           6.765314719505042e-05,
           6.707653475730232e-05,
           6.628004893553936e-05,
           6.56598261825581e-05,
           6.493855657566242e-05,
           6.427689053766717e-05,
           6.391089888833364e-05,
           6.349043816007467e-05,
           6.316254276578802e-05,
           6.237498805317518e-05,
           6.170989247919576e-05,
           6.079224845823745e-05,
           6.00368503657312e-05,
           5.899838261277556e-05,
           5.880822201446672e-05,
           5.8354329585797575e-05
          ],
          [
           6.944511713238242e-05,
           6.942176404347725e-05,
           6.893691690395754e-05,
           6.834174751381163e-05,
           6.735464480228227e-05,
           6.671419475610743e-05,
           6.58137779858944e-05,
           6.513062921952363e-05,
           6.431271398901082e-05,
           6.358928927225798e-05,
           6.312854913996951e-05,
           6.26432610325396e-05,
           6.221783656477801e-05,
           6.136215018148059e-05,
           6.059913510127761e-05,
           5.961561062026217e-05,
           5.8767212536786607e-05,
           5.766630883867935e-05,
           5.743578546490064e-05,
           5.697057729700262e-05
          ],
          [
           6.937198077193597e-05,
           6.934554730483231e-05,
           6.880306629208297e-05,
           6.81408810013703e-05,
           6.703696524528133e-05,
           6.633071017593294e-05,
           6.53223878867963e-05,
           6.457491987488196e-05,
           6.365710710726963e-05,
           6.28710882095023e-05,
           6.231281205298629e-05,
           6.176227563505797e-05,
           6.123746952447493e-05,
           6.0314273938996126e-05,
           5.945263828873464e-05,
           5.840459216318195e-05,
           5.7463323357166654e-05,
           5.630203147814988e-05,
           5.603070049169018e-05,
           5.555546175149827e-05
          ],
          [
           6.928961430418061e-05,
           6.926011107793186e-05,
           6.865753898541682e-05,
           6.792585028612047e-05,
           6.670045992065115e-05,
           6.592654684580001e-05,
           6.480658129470585e-05,
           6.399355234302591e-05,
           6.29728869587327e-05,
           6.212361598859768e-05,
           6.146536539188584e-05,
           6.084935634091083e-05,
           6.022370536451337e-05,
           5.9233826123099244e-05,
           5.827327843930299e-05,
           5.7162257105045464e-05,
           5.6128641429554005e-05,
           5.490916619387192e-05,
           5.459679061271971e-05,
           5.4112776109554614e-05
          ],
          [
           6.919805411963644e-05,
           6.916549629188148e-05,
           6.850045478856476e-05,
           6.769684704679978e-05,
           6.634549384624894e-05,
           6.550218503997168e-05,
           6.426709074565703e-05,
           6.338740469779213e-05,
           6.226123093154174e-05,
           6.13482151723555e-05,
           6.058790146689087e-05,
           5.990639412812361e-05,
           5.917882001603402e-05,
           5.812327842198812e-05,
           5.706390646573598e-05,
           5.589162862295946e-05,
           5.4766561644757954e-05,
           5.3491247449233765e-05,
           5.313778282080589e-05,
           5.264621155221533e-05
          ],
          [
           6.909734548481513e-05,
           6.906174800666358e-05,
           6.833193957870602e-05,
           6.745406989185764e-05,
           6.59724460976301e-05,
           6.50581242700137e-05,
           6.370466217454394e-05,
           6.27573751489552e-05,
           6.152333486739977e-05,
           6.0546252810895203e-05,
           5.968213475195325e-05,
           5.893529175866704e-05,
           5.8105087931403485e-05,
           5.698508176061201e-05,
           5.582734431526473e-05,
           5.4595684909277386e-05,
           5.338040432579002e-05,
           5.205171049713129e-05,
           5.1657294154012024e-05,
           5.115934684827552e-05
          ],
          [
           6.902612352157636e-05,
           6.902612352157636e-05,
           6.819072043138708e-05,
           6.734680442389439e-05,
           6.569375466199923e-05,
           6.488462090759677e-05,
           6.329902737343209e-05,
           6.252256756492379e-05,
           6.1000384566340265e-05,
           6.025466140396607e-05,
           5.9045370163559995e-05,
           5.858617037775447e-05,
           5.735610845692074e-05,
           5.657926159538782e-05,
           5.4971113433211825e-05,
           5.413759525065417e-05,
           5.2426319838790566e-05,
           5.1546200868406636e-05,
           5.065408053771793e-05,
           5.065408053771793e-05
          ]
         ]
        }
       ],
       "layout": {
        "coloraxis": {
         "colorscale": [
          [
           0,
           "rgb(0,0,255)"
          ],
          [
           1,
           "rgb(255,0,0)"
          ]
         ]
        },
        "height": 360,
        "template": {
         "data": {
          "bar": [
           {
            "error_x": {
             "color": "#2a3f5f"
            },
            "error_y": {
             "color": "#2a3f5f"
            },
            "marker": {
             "line": {
              "color": "#E5ECF6",
              "width": 0.5
             },
             "pattern": {
              "fillmode": "overlay",
              "size": 10,
              "solidity": 0.2
             }
            },
            "type": "bar"
           }
          ],
          "barpolar": [
           {
            "marker": {
             "line": {
              "color": "#E5ECF6",
              "width": 0.5
             },
             "pattern": {
              "fillmode": "overlay",
              "size": 10,
              "solidity": 0.2
             }
            },
            "type": "barpolar"
           }
          ],
          "carpet": [
           {
            "aaxis": {
             "endlinecolor": "#2a3f5f",
             "gridcolor": "white",
             "linecolor": "white",
             "minorgridcolor": "white",
             "startlinecolor": "#2a3f5f"
            },
            "baxis": {
             "endlinecolor": "#2a3f5f",
             "gridcolor": "white",
             "linecolor": "white",
             "minorgridcolor": "white",
             "startlinecolor": "#2a3f5f"
            },
            "type": "carpet"
           }
          ],
          "choropleth": [
           {
            "colorbar": {
             "outlinewidth": 0,
             "ticks": ""
            },
            "type": "choropleth"
           }
          ],
          "contour": [
           {
            "colorbar": {
             "outlinewidth": 0,
             "ticks": ""
            },
            "colorscale": [
             [
              0,
              "#0d0887"
             ],
             [
              0.1111111111111111,
              "#46039f"
             ],
             [
              0.2222222222222222,
              "#7201a8"
             ],
             [
              0.3333333333333333,
              "#9c179e"
             ],
             [
              0.4444444444444444,
              "#bd3786"
             ],
             [
              0.5555555555555556,
              "#d8576b"
             ],
             [
              0.6666666666666666,
              "#ed7953"
             ],
             [
              0.7777777777777778,
              "#fb9f3a"
             ],
             [
              0.8888888888888888,
              "#fdca26"
             ],
             [
              1,
              "#f0f921"
             ]
            ],
            "type": "contour"
           }
          ],
          "contourcarpet": [
           {
            "colorbar": {
             "outlinewidth": 0,
             "ticks": ""
            },
            "type": "contourcarpet"
           }
          ],
          "heatmap": [
           {
            "colorbar": {
             "outlinewidth": 0,
             "ticks": ""
            },
            "colorscale": [
             [
              0,
              "#0d0887"
             ],
             [
              0.1111111111111111,
              "#46039f"
             ],
             [
              0.2222222222222222,
              "#7201a8"
             ],
             [
              0.3333333333333333,
              "#9c179e"
             ],
             [
              0.4444444444444444,
              "#bd3786"
             ],
             [
              0.5555555555555556,
              "#d8576b"
             ],
             [
              0.6666666666666666,
              "#ed7953"
             ],
             [
              0.7777777777777778,
              "#fb9f3a"
             ],
             [
              0.8888888888888888,
              "#fdca26"
             ],
             [
              1,
              "#f0f921"
             ]
            ],
            "type": "heatmap"
           }
          ],
          "heatmapgl": [
           {
            "colorbar": {
             "outlinewidth": 0,
             "ticks": ""
            },
            "colorscale": [
             [
              0,
              "#0d0887"
             ],
             [
              0.1111111111111111,
              "#46039f"
             ],
             [
              0.2222222222222222,
              "#7201a8"
             ],
             [
              0.3333333333333333,
              "#9c179e"
             ],
             [
              0.4444444444444444,
              "#bd3786"
             ],
             [
              0.5555555555555556,
              "#d8576b"
             ],
             [
              0.6666666666666666,
              "#ed7953"
             ],
             [
              0.7777777777777778,
              "#fb9f3a"
             ],
             [
              0.8888888888888888,
              "#fdca26"
             ],
             [
              1,
              "#f0f921"
             ]
            ],
            "type": "heatmapgl"
           }
          ],
          "histogram": [
           {
            "marker": {
             "pattern": {
              "fillmode": "overlay",
              "size": 10,
              "solidity": 0.2
             }
            },
            "type": "histogram"
           }
          ],
          "histogram2d": [
           {
            "colorbar": {
             "outlinewidth": 0,
             "ticks": ""
            },
            "colorscale": [
             [
              0,
              "#0d0887"
             ],
             [
              0.1111111111111111,
              "#46039f"
             ],
             [
              0.2222222222222222,
              "#7201a8"
             ],
             [
              0.3333333333333333,
              "#9c179e"
             ],
             [
              0.4444444444444444,
              "#bd3786"
             ],
             [
              0.5555555555555556,
              "#d8576b"
             ],
             [
              0.6666666666666666,
              "#ed7953"
             ],
             [
              0.7777777777777778,
              "#fb9f3a"
             ],
             [
              0.8888888888888888,
              "#fdca26"
             ],
             [
              1,
              "#f0f921"
             ]
            ],
            "type": "histogram2d"
           }
          ],
          "histogram2dcontour": [
           {
            "colorbar": {
             "outlinewidth": 0,
             "ticks": ""
            },
            "colorscale": [
             [
              0,
              "#0d0887"
             ],
             [
              0.1111111111111111,
              "#46039f"
             ],
             [
              0.2222222222222222,
              "#7201a8"
             ],
             [
              0.3333333333333333,
              "#9c179e"
             ],
             [
              0.4444444444444444,
              "#bd3786"
             ],
             [
              0.5555555555555556,
              "#d8576b"
             ],
             [
              0.6666666666666666,
              "#ed7953"
             ],
             [
              0.7777777777777778,
              "#fb9f3a"
             ],
             [
              0.8888888888888888,
              "#fdca26"
             ],
             [
              1,
              "#f0f921"
             ]
            ],
            "type": "histogram2dcontour"
           }
          ],
          "mesh3d": [
           {
            "colorbar": {
             "outlinewidth": 0,
             "ticks": ""
            },
            "type": "mesh3d"
           }
          ],
          "parcoords": [
           {
            "line": {
             "colorbar": {
              "outlinewidth": 0,
              "ticks": ""
             }
            },
            "type": "parcoords"
           }
          ],
          "pie": [
           {
            "automargin": true,
            "type": "pie"
           }
          ],
          "scatter": [
           {
            "fillpattern": {
             "fillmode": "overlay",
             "size": 10,
             "solidity": 0.2
            },
            "type": "scatter"
           }
          ],
          "scatter3d": [
           {
            "line": {
             "colorbar": {
              "outlinewidth": 0,
              "ticks": ""
             }
            },
            "marker": {
             "colorbar": {
              "outlinewidth": 0,
              "ticks": ""
             }
            },
            "type": "scatter3d"
           }
          ],
          "scattercarpet": [
           {
            "marker": {
             "colorbar": {
              "outlinewidth": 0,
              "ticks": ""
             }
            },
            "type": "scattercarpet"
           }
          ],
          "scattergeo": [
           {
            "marker": {
             "colorbar": {
              "outlinewidth": 0,
              "ticks": ""
             }
            },
            "type": "scattergeo"
           }
          ],
          "scattergl": [
           {
            "marker": {
             "colorbar": {
              "outlinewidth": 0,
              "ticks": ""
             }
            },
            "type": "scattergl"
           }
          ],
          "scattermapbox": [
           {
            "marker": {
             "colorbar": {
              "outlinewidth": 0,
              "ticks": ""
             }
            },
            "type": "scattermapbox"
           }
          ],
          "scatterpolar": [
           {
            "marker": {
             "colorbar": {
              "outlinewidth": 0,
              "ticks": ""
             }
            },
            "type": "scatterpolar"
           }
          ],
          "scatterpolargl": [
           {
            "marker": {
             "colorbar": {
              "outlinewidth": 0,
              "ticks": ""
             }
            },
            "type": "scatterpolargl"
           }
          ],
          "scatterternary": [
           {
            "marker": {
             "colorbar": {
              "outlinewidth": 0,
              "ticks": ""
             }
            },
            "type": "scatterternary"
           }
          ],
          "surface": [
           {
            "colorbar": {
             "outlinewidth": 0,
             "ticks": ""
            },
            "colorscale": [
             [
              0,
              "#0d0887"
             ],
             [
              0.1111111111111111,
              "#46039f"
             ],
             [
              0.2222222222222222,
              "#7201a8"
             ],
             [
              0.3333333333333333,
              "#9c179e"
             ],
             [
              0.4444444444444444,
              "#bd3786"
             ],
             [
              0.5555555555555556,
              "#d8576b"
             ],
             [
              0.6666666666666666,
              "#ed7953"
             ],
             [
              0.7777777777777778,
              "#fb9f3a"
             ],
             [
              0.8888888888888888,
              "#fdca26"
             ],
             [
              1,
              "#f0f921"
             ]
            ],
            "type": "surface"
           }
          ],
          "table": [
           {
            "cells": {
             "fill": {
              "color": "#EBF0F8"
             },
             "line": {
              "color": "white"
             }
            },
            "header": {
             "fill": {
              "color": "#C8D4E3"
             },
             "line": {
              "color": "white"
             }
            },
            "type": "table"
           }
          ]
         },
         "layout": {
          "annotationdefaults": {
           "arrowcolor": "#2a3f5f",
           "arrowhead": 0,
           "arrowwidth": 1
          },
          "autotypenumbers": "strict",
          "coloraxis": {
           "colorbar": {
            "outlinewidth": 0,
            "ticks": ""
           }
          },
          "colorscale": {
           "diverging": [
            [
             0,
             "#8e0152"
            ],
            [
             0.1,
             "#c51b7d"
            ],
            [
             0.2,
             "#de77ae"
            ],
            [
             0.3,
             "#f1b6da"
            ],
            [
             0.4,
             "#fde0ef"
            ],
            [
             0.5,
             "#f7f7f7"
            ],
            [
             0.6,
             "#e6f5d0"
            ],
            [
             0.7,
             "#b8e186"
            ],
            [
             0.8,
             "#7fbc41"
            ],
            [
             0.9,
             "#4d9221"
            ],
            [
             1,
             "#276419"
            ]
           ],
           "sequential": [
            [
             0,
             "#0d0887"
            ],
            [
             0.1111111111111111,
             "#46039f"
            ],
            [
             0.2222222222222222,
             "#7201a8"
            ],
            [
             0.3333333333333333,
             "#9c179e"
            ],
            [
             0.4444444444444444,
             "#bd3786"
            ],
            [
             0.5555555555555556,
             "#d8576b"
            ],
            [
             0.6666666666666666,
             "#ed7953"
            ],
            [
             0.7777777777777778,
             "#fb9f3a"
            ],
            [
             0.8888888888888888,
             "#fdca26"
            ],
            [
             1,
             "#f0f921"
            ]
           ],
           "sequentialminus": [
            [
             0,
             "#0d0887"
            ],
            [
             0.1111111111111111,
             "#46039f"
            ],
            [
             0.2222222222222222,
             "#7201a8"
            ],
            [
             0.3333333333333333,
             "#9c179e"
            ],
            [
             0.4444444444444444,
             "#bd3786"
            ],
            [
             0.5555555555555556,
             "#d8576b"
            ],
            [
             0.6666666666666666,
             "#ed7953"
            ],
            [
             0.7777777777777778,
             "#fb9f3a"
            ],
            [
             0.8888888888888888,
             "#fdca26"
            ],
            [
             1,
             "#f0f921"
            ]
           ]
          },
          "colorway": [
           "#636efa",
           "#EF553B",
           "#00cc96",
           "#ab63fa",
           "#FFA15A",
           "#19d3f3",
           "#FF6692",
           "#B6E880",
           "#FF97FF",
           "#FECB52"
          ],
          "font": {
           "color": "#2a3f5f"
          },
          "geo": {
           "bgcolor": "white",
           "lakecolor": "white",
           "landcolor": "#E5ECF6",
           "showlakes": true,
           "showland": true,
           "subunitcolor": "white"
          },
          "hoverlabel": {
           "align": "left"
          },
          "hovermode": "closest",
          "mapbox": {
           "style": "light"
          },
          "paper_bgcolor": "white",
          "plot_bgcolor": "#E5ECF6",
          "polar": {
           "angularaxis": {
            "gridcolor": "white",
            "linecolor": "white",
            "ticks": ""
           },
           "bgcolor": "#E5ECF6",
           "radialaxis": {
            "gridcolor": "white",
            "linecolor": "white",
            "ticks": ""
           }
          },
          "scene": {
           "xaxis": {
            "backgroundcolor": "#E5ECF6",
            "gridcolor": "white",
            "gridwidth": 2,
            "linecolor": "white",
            "showbackground": true,
            "ticks": "",
            "zerolinecolor": "white"
           },
           "yaxis": {
            "backgroundcolor": "#E5ECF6",
            "gridcolor": "white",
            "gridwidth": 2,
            "linecolor": "white",
            "showbackground": true,
            "ticks": "",
            "zerolinecolor": "white"
           },
           "zaxis": {
            "backgroundcolor": "#E5ECF6",
            "gridcolor": "white",
            "gridwidth": 2,
            "linecolor": "white",
            "showbackground": true,
            "ticks": "",
            "zerolinecolor": "white"
           }
          },
          "shapedefaults": {
           "line": {
            "color": "#2a3f5f"
           }
          },
          "ternary": {
           "aaxis": {
            "gridcolor": "white",
            "linecolor": "white",
            "ticks": ""
           },
           "baxis": {
            "gridcolor": "white",
            "linecolor": "white",
            "ticks": ""
           },
           "bgcolor": "#E5ECF6",
           "caxis": {
            "gridcolor": "white",
            "linecolor": "white",
            "ticks": ""
           }
          },
          "title": {
           "x": 0.05
          },
          "xaxis": {
           "automargin": true,
           "gridcolor": "white",
           "linecolor": "white",
           "ticks": "",
           "title": {
            "standoff": 15
           },
           "zerolinecolor": "white",
           "zerolinewidth": 2
          },
          "yaxis": {
           "automargin": true,
           "gridcolor": "white",
           "linecolor": "white",
           "ticks": "",
           "title": {
            "standoff": 15
           },
           "zerolinecolor": "white",
           "zerolinewidth": 2
          }
         }
        },
        "title": {
         "text": "Распределение потерь по току"
        },
        "width": 650,
        "xaxis": {
         "anchor": "y",
         "autorange": true,
         "constrain": "domain",
         "domain": [
          0,
          1
         ],
         "range": [
          -0.2631578947368421,
          10.263157894736842
         ],
         "scaleanchor": "y",
         "title": {
          "text": "Длинна ванны"
         },
         "type": "linear"
        },
        "yaxis": {
         "anchor": "x",
         "autorange": true,
         "constrain": "domain",
         "domain": [
          0.04973958333333328,
          0.9502604166666667
         ],
         "range": [
          3.546052631578948,
          -0.046052631578947366
         ],
         "title": {
          "text": "Ширина ванны"
         },
         "type": "linear"
        }
       }
      },
      "image/png": "[encoded data removed]",
      "text/html": [
       "<div>                            <div id=\"127a346f-e986-41f1-9aac-37aab9b83268\" class=\"plotly-graph-div\" style=\"height:525px; width:650px;\"></div>            <script type=\"text/javascript\">                require([\"plotly\"], function(Plotly) {                    window.PLOTLYENV=window.PLOTLYENV || {};                                    if (document.getElementById(\"127a346f-e986-41f1-9aac-37aab9b83268\")) {                    Plotly.newPlot(                        \"127a346f-e986-41f1-9aac-37aab9b83268\",                        [{\"coloraxis\":\"coloraxis\",\"name\":\"0\",\"x\":[0.0,0.5263157894736842,1.0526315789473684,1.5789473684210527,2.1052631578947367,2.631578947368421,3.1578947368421053,3.6842105263157894,4.2105263157894735,4.7368421052631575,5.263157894736842,5.789473684210526,6.315789473684211,6.842105263157895,7.368421052631579,7.894736842105263,8.421052631578947,8.947368421052632,9.473684210526315,10.0],\"y\":[3.5,3.407894736842105,3.31578947368421,3.2236842105263155,3.131578947368421,3.039473684210526,2.9473684210526314,2.8552631578947367,2.763157894736842,2.6710526315789473,2.5789473684210527,2.486842105263158,2.394736842105263,2.302631578947368,2.2105263157894735,2.1184210526315788,2.026315789473684,1.9342105263157894,1.8421052631578947,1.75,1.657894736842105,1.5657894736842104,1.4736842105263157,1.381578947368421,1.2894736842105263,1.1973684210526314,1.1052631578947367,1.013157894736842,0.9210526315789473,0.8289473684210525,0.7368421052631579,0.6447368421052632,0.5526315789473684,0.4605263157894737,0.3684210526315789,0.2763157894736842,0.18421052631578946,0.09210526315789473,0.0],\"z\":[[7.117942450370392e-05,7.117942450370392e-05,7.101789294509906e-05,7.085607085882385e-05,7.053370461709672e-05,7.037316046164487e-05,7.005333500311489e-05,6.989405370003675e-05,6.957673910409166e-05,6.941870581122472e-05,6.941870581122464e-05,6.957673910409157e-05,6.988298008411095e-05,7.003122571090943e-05,7.032562378983253e-05,7.047178665331056e-05,7.076196395972587e-05,7.090598864952616e-05,7.104978284611079e-05,7.104978284611079e-05],[7.113784476904056e-05,7.109622944474498e-05,7.097631295952228e-05,7.077320442331864e-05,7.049245351456358e-05,7.029094814590498e-05,7.001240889648218e-05,6.98124877888909e-05,6.953613416722568e-05,6.933777871035068e-05,6.93784184352239e-05,6.949581208223337e-05,6.984237532251212e-05,6.993865936763025e-05,7.027373274155416e-05,7.035331833057389e-05,7.069548793062171e-05,7.075495261824514e-05,7.096536825480964e-05,7.088080604755811e-05],[7.101308356096253e-05,7.097155300147565e-05,7.085188036735168e-05,7.064918471836053e-05,7.036900340566883e-05,7.016790604785726e-05,6.988992968050216e-05,6.969041178388041e-05,6.941461443539418e-05,6.921665746460534e-05,6.925721538657124e-05,6.937437319660694e-05,6.970919481350924e-05,6.979430830019164e-05,7.010335971382362e-05,7.016854691867308e-05,7.047795430827671e-05,7.05197800604484e-05,7.071203002742415e-05,7.062781620891339e-05],[7.088857638859227e-05,7.084713033519576e-05,7.072770080884825e-05,7.052541678934485e-05,7.02458033410455e-05,7.004511275611283e-05,6.976769756630287e-05,6.95685816620528e-05,6.929333890884152e-05,6.909577922453391e-05,6.913625559033337e-05,6.925317827335667e-05,6.95763152329499e-05,6.965030738687232e-05,6.993347490692777e-05,6.998434569324772e-05,7.026121058882506e-05,7.02855290730306e-05,7.045973800890057e-05,7.037587363300672e-05],[7.076432247682671e-05,7.072296067185416e-05,7.060377351297785e-05,7.040189987034059e-05,7.01228525617749e-05,6.992256751675627e-05,6.964571180684418e-05,6.944699668127354e-05,6.917230685217456e-05,6.897514325955348e-05,6.901553831493603e-05,6.913222657806146e-05,6.944373236771239e-05,6.950665533173053e-05,6.976407618781606e-05,6.980071356342706e-05,7.004525405959057e-05,7.005219424207945e-05,7.020849055877603e-05,7.012497186043919e-05],[7.064032105371302e-05,7.059904324054441e-05,7.048009771183578e-05,7.027863319852037e-05,7.000015031200653e-05,6.9800269578915e-05,6.952397165809415e-05,6.93256561023916e-05,6.905151753294993e-05,6.88547488420068e-05,6.889506283173567e-05,6.901151737924514e-05,6.931144838757612e-05,6.936335245026254e-05,6.959516144542041e-05,6.961764787636426e-05,6.983008035826374e-05,6.981977171976774e-05,6.995827800846427e-05,6.987510285482622e-05],[7.051657135043239e-05,7.047537727348894e-05,7.035667264063091e-05,7.01556160141447e-05,6.98776958389426e-05,6.96782181947441e-05,6.940247637901403e-05,6.920455918922472e-05,6.893097022165918e-05,6.873459524714772e-05,6.87748284150047e-05,6.889104994836177e-05,6.917946068778551e-05,6.922039430555508e-05,6.942672861443655e-05,6.943514602053005e-05,6.961568678626569e-05,6.958825297574068e-05,6.970909240090747e-05,6.96262570950783e-05],[7.039307260128427e-05,7.035196200602301e-05,7.023349753767006e-05,7.003284756054635e-05,6.975548839282248e-05,6.955641261941083e-05,6.928122523154319e-05,6.908370520854423e-05,6.88106641917143e-05,6.861468175312657e-05,6.865483434191695e-05,6.877082355978087e-05,6.904776668596046e-05,6.907778120758849e-05,6.925877558374494e-05,6.925320692268298e-05,6.940206590224686e-05,6.935763426473999e-05,6.946092739724037e-05,6.937843301076036e-05],[7.026982404367045e-05,7.022879667657912e-05,7.0110571644342e-05,6.991032708411487e-05,6.963352722690753e-05,6.943485211107968e-05,6.916021748058409e-05,6.896309343006044e-05,6.869059871943287e-05,6.849500764097572e-05,6.853507989253324e-05,6.865083749077287e-05,6.891636853905022e-05,6.893551347948994e-05,6.909130186170632e-05,6.907182640213751e-05,6.918921664717084e-05,6.912791190458105e-05,6.921378148823297e-05,6.913162435218563e-05],[7.014682491807947e-05,7.010588052667118e-05,6.998789420510226e-05,6.978805383428111e-05,6.951181159746585e-05,6.931353593089717e-05,6.903945239398743e-05,6.884272312640784e-05,6.85707730840237e-05,6.837557219459526e-05,6.841556434978683e-05,6.853109102149472e-05,6.87852636693931e-05,6.879358672814384e-05,6.89243022521344e-05,6.889100030833315e-05,6.897713323009186e-05,6.889907906472087e-05,6.896764526664066e-05,6.888582331714303e-05],[7.0024074468071e-05,6.998321280087914e-05,6.986546446745734e-05,6.966602706350204e-05,6.939034076375711e-05,6.919246334297702e-05,6.891892924253754e-05,6.87225935731306e-05,6.845118656757244e-05,6.825637470073868e-05,6.82962869994693e-05,6.841158343497539e-05,6.86544495214203e-05,6.865200126758568e-05,6.875777626417065e-05,6.871072919400395e-05,6.876581148081525e-05,6.867112899977357e-05,6.87225110072008e-05,6.864102064128627e-05],[6.99015719402603e-05,6.986079274683335e-05,6.974328168194962e-05,6.954424602724535e-05,6.926911398801768e-05,6.907163361438515e-05,6.879864729993757e-05,6.860270404866788e-05,6.833183845502712e-05,6.813741444899867e-05,6.817724713021623e-05,6.829231401710163e-05,6.852392823931814e-05,6.851075587679432e-05,6.859172188228e-05,6.853100738269503e-05,6.855524570478151e-05,6.844405809846556e-05,6.847837257524399e-05,6.839721488056677e-05],[6.97793165843028e-05,6.973861961519923e-05,6.96213451021417e-05,6.942270998397435e-05,6.914813053544547e-05,6.895104601512491e-05,6.867860584279491e-05,6.848305383433945e-05,6.821272803418394e-05,6.801869073179298e-05,6.8058444033493e-05,6.81732820566037e-05,6.839369571717738e-05,6.836984930313437e-05,6.842613706212277e-05,6.835183390194001e-05,6.834543336499727e-05,6.821786126758648e-05,6.823522858623155e-05,6.815439998657358e-05],[6.965730765287881e-05,6.961669265966199e-05,6.94996539846015e-05,6.930141819513299e-05,6.902738967418521e-05,6.883069981812243e-05,6.855880415060666e-05,6.836364221433138e-05,6.80938545956732e-05,6.790020284435047e-05,6.793987700358086e-05,6.805448684504126e-05,6.826375409071329e-05,6.822928188197418e-05,6.826101980882929e-05,6.817320620706031e-05,6.81363703579604e-05,6.799253496913103e-05,6.799306988460328e-05,6.791256838229095e-05],[6.953554440167834e-05,6.94950111369115e-05,6.937820758888715e-05,6.918036992513081e-05,6.890689067531381e-05,6.871059429921199e-05,6.843924150574535e-05,6.824446847568173e-05,6.797521743294503e-05,6.778195008469711e-05,6.782154533756284e-05,6.793592767678927e-05,6.813410082655973e-05,6.808904929180426e-05,6.809636812214019e-05,6.799512180506488e-05,6.792805419862443e-05,6.776807108986199e-05,6.775188896801007e-05,6.767171105064886e-05],[6.941402608938582e-05,6.937357430662698e-05,6.925700517753167e-05,6.905956444132818e-05,6.878663281282544e-05,6.859072873712149e-05,6.831991719344443e-05,6.812553190826627e-05,6.785681584225563e-05,6.76639317536421e-05,6.770344833530993e-05,6.781760384902415e-05,6.800473341298262e-05,6.794915185304412e-05,6.793217999452498e-05,6.78175797350656e-05,6.772047777961441e-05,6.754446614688809e-05,6.75116798978164e-05,6.743182666771872e-05],[6.929275197766518e-05,6.925238143146221e-05,6.91360460160284e-05,6.893900101402132e-05,6.866661536361709e-05,6.847110241345792e-05,6.820083050178417e-05,6.800683180478451e-05,6.773864912265308e-05,6.754614715476406e-05,6.758558529946722e-05,6.76995146617096e-05,6.787565397304734e-05,6.78095899081296e-05,6.776845500404434e-05,6.76405759699071e-05,6.751364017071902e-05,6.732171673125434e-05,6.727244140797697e-05,6.719290937833293e-05],[6.917172133114489e-05,6.913143177703052e-05,6.901532937281594e-05,6.881867891642788e-05,6.854683760747405e-05,6.835171461269321e-05,6.808198072167744e-05,6.788836746074563e-05,6.762071657596372e-05,6.742859559439754e-05,6.746795553544021e-05,6.758165941758322e-05,6.774685999946006e-05,6.76703591776996e-05,6.760518810637081e-05,6.746410651118433e-05,6.730753587482998e-05,6.709981637990801e-05,6.703416458540038e-05,6.695495182211186e-05],[6.905093341740303e-05,6.901072461188993e-05,6.889485451926352e-05,6.869859742467211e-05,6.842729882705558e-05,6.823256462214975e-05,6.796336714685563e-05,6.777013817445451e-05,6.750301750677834e-05,6.731127638161908e-05,6.735055835138121e-05,6.746403742214241e-05,6.761834900628847e-05,6.753145998578751e-05,6.744237886772153e-05,6.72881719807168e-05,6.710216095754891e-05,6.687875871475699e-05,6.679684214218326e-05,6.671794522022654e-05],[6.897048132121375e-05,6.897048132121375e-05,6.881471478586985e-05,6.865866673893181e-05,6.834778092127043e-05,6.81929431505471e-05,6.788446385972879e-05,6.773082233963378e-05,6.742472174037048e-05,6.727226266120217e-05,6.727226266120209e-05,6.742472174037039e-05,6.752929342493888e-05,6.747113248055782e-05,6.731906275191264e-05,6.71906377614963e-05,6.69362920554387e-05,6.673580419934299e-05,6.659887537548526e-05,6.65588049785593e-05],[6.901072461188993e-05,6.905093341740303e-05,6.885495816249915e-05,6.87388063943023e-05,6.838771145156943e-05,6.827246097891414e-05,6.792408517709341e-05,6.780972554994067e-05,6.74640374221425e-05,6.735055835138128e-05,6.7311276381619e-05,6.750301750677825e-05,6.75580839949506e-05,6.752852204273742e-05,6.731324059432858e-05,6.721030016704565e-05,6.688729544975244e-05,6.670925312628016e-05,6.651721652373789e-05,6.651573428302311e-05],[6.913143177703052e-05,6.917172133114489e-05,6.897535320745476e-05,6.88589686349889e-05,6.850717134918115e-05,6.839169077805439e-05,6.804262078063468e-05,6.792803371903852e-05,6.75816594175833e-05,6.746795553544029e-05,6.742859559439746e-05,6.762071657596363e-05,6.766535603742849e-05,6.762517087195533e-05,6.738551664107512e-05,6.726894260057964e-05,6.691582790596952e-05,6.672134424469984e-05,6.651276991349205e-05,6.651128778467577e-05],[6.925238143146221e-05,6.929275197766518e-05,6.909598980235717e-05,6.897937172500155e-05,6.862686998650648e-05,6.851115862712914e-05,6.816139235708095e-05,6.804657718189514e-05,6.769951466170968e-05,6.75855852994673e-05,6.754614715476398e-05,6.773864912265299e-05,6.777282836428597e-05,6.772198199722698e-05,6.745788987487164e-05,6.732765063449676e-05,6.694438817900289e-05,6.673345187063039e-05,6.650832363892902e-05,6.650684162199859e-05],[6.937357430662698e-05,6.941402608938582e-05,6.921686867487626e-05,6.910001638919583e-05,6.874680807994375e-05,6.863086523977689e-05,6.828040061177652e-05,6.816535664114799e-05,6.781760384902423e-05,6.770344833531001e-05,6.766393175364201e-05,6.785681584225555e-05,6.788050001455151e-05,6.781895737366745e-05,6.753036051888852e-05,6.738642898168939e-05,6.697297781705485e-05,6.674557758170227e-05,6.650387619722113e-05,6.650239278927431e-05],[6.94950111369115e-05,6.953554440167834e-05,6.933799055560757e-05,6.922090335533906e-05,6.886698634876045e-05,6.875081133249158e-05,6.839964625287952e-05,6.82843728022351e-05,6.793592767678937e-05,6.782154533756292e-05,6.778195008469703e-05,6.797521743294497e-05,6.798837461568241e-05,6.791609895749688e-05,6.760293334749474e-05,6.744527775703173e-05,6.700159689330441e-05,6.675772135342674e-05,6.649942758814438e-05,6.649794579506104e-05],[6.961669265966199e-05,6.965730765287881e-05,6.945935617808716e-05,6.934203335412477e-05,6.898740551510775e-05,6.887099762463676e-05,6.85191299913762e-05,6.840362637340886e-05,6.805448684504133e-05,6.793987700358095e-05,6.79002028443504e-05,6.809385459567312e-05,6.809645121287051e-05,6.80134041114277e-05,6.767560398027463e-05,6.750419402408026e-05,6.703024690519917e-05,6.676988471362729e-05,6.649498232074217e-05,6.649350063950663e-05],[6.969632293972034e-05,6.96947580305745e-05,6.953866950982383e-05,6.933754730724971e-05,6.90242977411179e-05,6.878338708487164e-05,6.851441898686089e-05,6.823442660778284e-05,6.800897412554764e-05,6.769059259577648e-05,6.781528576757479e-05,6.776311584176037e-05,6.795921427751533e-05,6.75807698777324e-05,6.746452955637294e-05,6.695802611086831e-05,6.673880905660207e-05,6.610625455686365e-05,6.613664388611159e-05,6.577834092206705e-05],[6.968850429000082e-05,6.968381504645343e-05,6.948919166031057e-05,6.92402240718386e-05,6.88471173314203e-05,6.855639142689076e-05,6.821198573639504e-05,6.788042562172289e-05,6.758368413055011e-05,6.721219251600007e-05,6.726602461427952e-05,6.715599496702316e-05,6.727402402615035e-05,6.68285622705314e-05,6.662764940158892e-05,6.605198473330523e-05,6.574831951671572e-05,6.504560492034884e-05,6.504295109244925e-05,6.466542353979443e-05],[6.967131206028623e-05,6.966349749286209e-05,6.942743835239685e-05,6.912772016954417e-05,6.864907115388923e-05,6.830594892057873e-05,6.788085076128021e-05,6.74954898433099e-05,6.712258050923477e-05,6.669611301519663e-05,6.667429133071815e-05,6.650470971096671e-05,6.65404436514899e-05,6.602716488723156e-05,6.573826940661842e-05,6.509334542834417e-05,6.470262992708042e-05,6.393040059428872e-05,6.389290994988865e-05,6.34974600737973e-05],[6.964474948803778e-05,6.963381481442195e-05,6.93534668641232e-05,6.90001448917308e-05,6.843038801912115e-05,6.803238119289332e-05,6.752152523666934e-05,6.708026096162534e-05,6.662655117913148e-05,6.614340663055477e-05,6.60414461698434e-05,6.58108328037454e-05,6.576043264022297e-05,6.517879121914622e-05,6.479904136089216e-05,6.408503050599849e-05,6.360514654295567e-05,6.276433048219774e-05,6.269044194866939e-05,6.227838815656265e-05],[6.960883050577891e-05,6.959477922237018e-05,6.926734643663605e-05,6.885761993068335e-05,6.819132150359439e-05,6.773603788550414e-05,6.713455659885423e-05,6.663542022958457e-05,6.609653580655175e-05,6.555518287303169e-05,6.536892498019827e-05,6.507601162228797e-05,6.493602939723595e-05,6.428572636377819e-05,6.381269675957195e-05,6.30300391950872e-05,6.245934302021422e-05,6.155113326668311e-05,6.143951310958014e-05,6.1012186206758154e-05],[6.956357020888513e-05,6.954641042059714e-05,6.91691564601987e-05,6.870028085269339e-05,6.793214456060378e-05,6.741728937268415e-05,6.672052505714762e-05,6.616168724153848e-05,6.553352454275191e-05,6.493260593019776e-05,6.465822390211358e-05,6.430195722889605e-05,6.406934308050072e-05,6.335032487982458e-05,6.278203460501826e-05,6.193142057271409e-05,6.126873483208911e-05,6.029456623016688e-05,6.0144113426238785e-05,5.970284335087033e-05],[6.950899118253809e-05,6.94887292634683e-05,6.905898174196905e-05,6.852827036305504e-05,6.765314719505042e-05,6.707653475730232e-05,6.628004893553936e-05,6.56598261825581e-05,6.493855657566242e-05,6.427689053766717e-05,6.391089888833364e-05,6.349043816007467e-05,6.316254276578802e-05,6.237498805317518e-05,6.170989247919576e-05,6.079224845823745e-05,6.00368503657312e-05,5.899838261277556e-05,5.880822201446672e-05,5.8354329585797575e-05],[6.944511713238242e-05,6.942176404347725e-05,6.893691690395754e-05,6.834174751381163e-05,6.735464480228227e-05,6.671419475610743e-05,6.58137779858944e-05,6.513062921952363e-05,6.431271398901082e-05,6.358928927225798e-05,6.312854913996951e-05,6.26432610325396e-05,6.221783656477801e-05,6.136215018148059e-05,6.059913510127761e-05,5.961561062026217e-05,5.8767212536786607e-05,5.766630883867935e-05,5.743578546490064e-05,5.697057729700262e-05],[6.937198077193597e-05,6.934554730483231e-05,6.880306629208297e-05,6.81408810013703e-05,6.703696524528133e-05,6.633071017593294e-05,6.53223878867963e-05,6.457491987488196e-05,6.365710710726963e-05,6.28710882095023e-05,6.231281205298629e-05,6.176227563505797e-05,6.123746952447493e-05,6.0314273938996126e-05,5.945263828873464e-05,5.840459216318195e-05,5.7463323357166654e-05,5.630203147814988e-05,5.603070049169018e-05,5.555546175149827e-05],[6.928961430418061e-05,6.926011107793186e-05,6.865753898541682e-05,6.792585028612047e-05,6.670045992065115e-05,6.592654684580001e-05,6.480658129470585e-05,6.399355234302591e-05,6.29728869587327e-05,6.212361598859768e-05,6.146536539188584e-05,6.084935634091083e-05,6.022370536451337e-05,5.9233826123099244e-05,5.827327843930299e-05,5.7162257105045464e-05,5.6128641429554005e-05,5.490916619387192e-05,5.459679061271971e-05,5.4112776109554614e-05],[6.919805411963644e-05,6.916549629188148e-05,6.850045478856476e-05,6.769684704679978e-05,6.634549384624894e-05,6.550218503997168e-05,6.426709074565703e-05,6.338740469779213e-05,6.226123093154174e-05,6.13482151723555e-05,6.058790146689087e-05,5.990639412812361e-05,5.917882001603402e-05,5.812327842198812e-05,5.706390646573598e-05,5.589162862295946e-05,5.4766561644757954e-05,5.3491247449233765e-05,5.313778282080589e-05,5.264621155221533e-05],[6.909734548481513e-05,6.906174800666358e-05,6.833193957870602e-05,6.745406989185764e-05,6.59724460976301e-05,6.50581242700137e-05,6.370466217454394e-05,6.27573751489552e-05,6.152333486739977e-05,6.0546252810895203e-05,5.968213475195325e-05,5.893529175866704e-05,5.8105087931403485e-05,5.698508176061201e-05,5.582734431526473e-05,5.4595684909277386e-05,5.338040432579002e-05,5.205171049713129e-05,5.1657294154012024e-05,5.115934684827552e-05],[6.902612352157636e-05,6.902612352157636e-05,6.819072043138708e-05,6.734680442389439e-05,6.569375466199923e-05,6.488462090759677e-05,6.329902737343209e-05,6.252256756492379e-05,6.1000384566340265e-05,6.025466140396607e-05,5.9045370163559995e-05,5.858617037775447e-05,5.735610845692074e-05,5.657926159538782e-05,5.4971113433211825e-05,5.413759525065417e-05,5.2426319838790566e-05,5.1546200868406636e-05,5.065408053771793e-05,5.065408053771793e-05]],\"type\":\"heatmap\",\"xaxis\":\"x\",\"yaxis\":\"y\",\"hovertemplate\":\"\\u0414\\u043b\\u0438\\u043d\\u043d\\u0430 \\u0432\\u0430\\u043d\\u043d\\u044b: %{x}\\u003cbr\\u003e\\u0428\\u0438\\u0440\\u0438\\u043d\\u0430 \\u0432\\u0430\\u043d\\u043d\\u044b: %{y}\\u003cbr\\u003ecolor: %{z}\\u003cextra\\u003e\\u003c\\u002fextra\\u003e\"}],                        {\"template\":{\"data\":{\"histogram2dcontour\":[{\"type\":\"histogram2dcontour\",\"colorbar\":{\"outlinewidth\":0,\"ticks\":\"\"},\"colorscale\":[[0.0,\"#0d0887\"],[0.1111111111111111,\"#46039f\"],[0.2222222222222222,\"#7201a8\"],[0.3333333333333333,\"#9c179e\"],[0.4444444444444444,\"#bd3786\"],[0.5555555555555556,\"#d8576b\"],[0.6666666666666666,\"#ed7953\"],[0.7777777777777778,\"#fb9f3a\"],[0.8888888888888888,\"#fdca26\"],[1.0,\"#f0f921\"]]}],\"choropleth\":[{\"type\":\"choropleth\",\"colorbar\":{\"outlinewidth\":0,\"ticks\":\"\"}}],\"histogram2d\":[{\"type\":\"histogram2d\",\"colorbar\":{\"outlinewidth\":0,\"ticks\":\"\"},\"colorscale\":[[0.0,\"#0d0887\"],[0.1111111111111111,\"#46039f\"],[0.2222222222222222,\"#7201a8\"],[0.3333333333333333,\"#9c179e\"],[0.4444444444444444,\"#bd3786\"],[0.5555555555555556,\"#d8576b\"],[0.6666666666666666,\"#ed7953\"],[0.7777777777777778,\"#fb9f3a\"],[0.8888888888888888,\"#fdca26\"],[1.0,\"#f0f921\"]]}],\"heatmap\":[{\"type\":\"heatmap\",\"colorbar\":{\"outlinewidth\":0,\"ticks\":\"\"},\"colorscale\":[[0.0,\"#0d0887\"],[0.1111111111111111,\"#46039f\"],[0.2222222222222222,\"#7201a8\"],[0.3333333333333333,\"#9c179e\"],[0.4444444444444444,\"#bd3786\"],[0.5555555555555556,\"#d8576b\"],[0.6666666666666666,\"#ed7953\"],[0.7777777777777778,\"#fb9f3a\"],[0.8888888888888888,\"#fdca26\"],[1.0,\"#f0f921\"]]}],\"heatmapgl\":[{\"type\":\"heatmapgl\",\"colorbar\":{\"outlinewidth\":0,\"ticks\":\"\"},\"colorscale\":[[0.0,\"#0d0887\"],[0.1111111111111111,\"#46039f\"],[0.2222222222222222,\"#7201a8\"],[0.3333333333333333,\"#9c179e\"],[0.4444444444444444,\"#bd3786\"],[0.5555555555555556,\"#d8576b\"],[0.6666666666666666,\"#ed7953\"],[0.7777777777777778,\"#fb9f3a\"],[0.8888888888888888,\"#fdca26\"],[1.0,\"#f0f921\"]]}],\"contourcarpet\":[{\"type\":\"contourcarpet\",\"colorbar\":{\"outlinewidth\":0,\"ticks\":\"\"}}],\"contour\":[{\"type\":\"contour\",\"colorbar\":{\"outlinewidth\":0,\"ticks\":\"\"},\"colorscale\":[[0.0,\"#0d0887\"],[0.1111111111111111,\"#46039f\"],[0.2222222222222222,\"#7201a8\"],[0.3333333333333333,\"#9c179e\"],[0.4444444444444444,\"#bd3786\"],[0.5555555555555556,\"#d8576b\"],[0.6666666666666666,\"#ed7953\"],[0.7777777777777778,\"#fb9f3a\"],[0.8888888888888888,\"#fdca26\"],[1.0,\"#f0f921\"]]}],\"surface\":[{\"type\":\"surface\",\"colorbar\":{\"outlinewidth\":0,\"ticks\":\"\"},\"colorscale\":[[0.0,\"#0d0887\"],[0.1111111111111111,\"#46039f\"],[0.2222222222222222,\"#7201a8\"],[0.3333333333333333,\"#9c179e\"],[0.4444444444444444,\"#bd3786\"],[0.5555555555555556,\"#d8576b\"],[0.6666666666666666,\"#ed7953\"],[0.7777777777777778,\"#fb9f3a\"],[0.8888888888888888,\"#fdca26\"],[1.0,\"#f0f921\"]]}],\"mesh3d\":[{\"type\":\"mesh3d\",\"colorbar\":{\"outlinewidth\":0,\"ticks\":\"\"}}],\"scatter\":[{\"fillpattern\":{\"fillmode\":\"overlay\",\"size\":10,\"solidity\":0.2},\"type\":\"scatter\"}],\"parcoords\":[{\"type\":\"parcoords\",\"line\":{\"colorbar\":{\"outlinewidth\":0,\"ticks\":\"\"}}}],\"scatterpolargl\":[{\"type\":\"scatterpolargl\",\"marker\":{\"colorbar\":{\"outlinewidth\":0,\"ticks\":\"\"}}}],\"bar\":[{\"error_x\":{\"color\":\"#2a3f5f\"},\"error_y\":{\"color\":\"#2a3f5f\"},\"marker\":{\"line\":{\"color\":\"#E5ECF6\",\"width\":0.5},\"pattern\":{\"fillmode\":\"overlay\",\"size\":10,\"solidity\":0.2}},\"type\":\"bar\"}],\"scattergeo\":[{\"type\":\"scattergeo\",\"marker\":{\"colorbar\":{\"outlinewidth\":0,\"ticks\":\"\"}}}],\"scatterpolar\":[{\"type\":\"scatterpolar\",\"marker\":{\"colorbar\":{\"outlinewidth\":0,\"ticks\":\"\"}}}],\"histogram\":[{\"marker\":{\"pattern\":{\"fillmode\":\"overlay\",\"size\":10,\"solidity\":0.2}},\"type\":\"histogram\"}],\"scattergl\":[{\"type\":\"scattergl\",\"marker\":{\"colorbar\":{\"outlinewidth\":0,\"ticks\":\"\"}}}],\"scatter3d\":[{\"type\":\"scatter3d\",\"line\":{\"colorbar\":{\"outlinewidth\":0,\"ticks\":\"\"}},\"marker\":{\"colorbar\":{\"outlinewidth\":0,\"ticks\":\"\"}}}],\"scattermapbox\":[{\"type\":\"scattermapbox\",\"marker\":{\"colorbar\":{\"outlinewidth\":0,\"ticks\":\"\"}}}],\"scatterternary\":[{\"type\":\"scatterternary\",\"marker\":{\"colorbar\":{\"outlinewidth\":0,\"ticks\":\"\"}}}],\"scattercarpet\":[{\"type\":\"scattercarpet\",\"marker\":{\"colorbar\":{\"outlinewidth\":0,\"ticks\":\"\"}}}],\"carpet\":[{\"aaxis\":{\"endlinecolor\":\"#2a3f5f\",\"gridcolor\":\"white\",\"linecolor\":\"white\",\"minorgridcolor\":\"white\",\"startlinecolor\":\"#2a3f5f\"},\"baxis\":{\"endlinecolor\":\"#2a3f5f\",\"gridcolor\":\"white\",\"linecolor\":\"white\",\"minorgridcolor\":\"white\",\"startlinecolor\":\"#2a3f5f\"},\"type\":\"carpet\"}],\"table\":[{\"cells\":{\"fill\":{\"color\":\"#EBF0F8\"},\"line\":{\"color\":\"white\"}},\"header\":{\"fill\":{\"color\":\"#C8D4E3\"},\"line\":{\"color\":\"white\"}},\"type\":\"table\"}],\"barpolar\":[{\"marker\":{\"line\":{\"color\":\"#E5ECF6\",\"width\":0.5},\"pattern\":{\"fillmode\":\"overlay\",\"size\":10,\"solidity\":0.2}},\"type\":\"barpolar\"}],\"pie\":[{\"automargin\":true,\"type\":\"pie\"}]},\"layout\":{\"autotypenumbers\":\"strict\",\"colorway\":[\"#636efa\",\"#EF553B\",\"#00cc96\",\"#ab63fa\",\"#FFA15A\",\"#19d3f3\",\"#FF6692\",\"#B6E880\",\"#FF97FF\",\"#FECB52\"],\"font\":{\"color\":\"#2a3f5f\"},\"hovermode\":\"closest\",\"hoverlabel\":{\"align\":\"left\"},\"paper_bgcolor\":\"white\",\"plot_bgcolor\":\"#E5ECF6\",\"polar\":{\"bgcolor\":\"#E5ECF6\",\"angularaxis\":{\"gridcolor\":\"white\",\"linecolor\":\"white\",\"ticks\":\"\"},\"radialaxis\":{\"gridcolor\":\"white\",\"linecolor\":\"white\",\"ticks\":\"\"}},\"ternary\":{\"bgcolor\":\"#E5ECF6\",\"aaxis\":{\"gridcolor\":\"white\",\"linecolor\":\"white\",\"ticks\":\"\"},\"baxis\":{\"gridcolor\":\"white\",\"linecolor\":\"white\",\"ticks\":\"\"},\"caxis\":{\"gridcolor\":\"white\",\"linecolor\":\"white\",\"ticks\":\"\"}},\"coloraxis\":{\"colorbar\":{\"outlinewidth\":0,\"ticks\":\"\"}},\"colorscale\":{\"sequential\":[[0.0,\"#0d0887\"],[0.1111111111111111,\"#46039f\"],[0.2222222222222222,\"#7201a8\"],[0.3333333333333333,\"#9c179e\"],[0.4444444444444444,\"#bd3786\"],[0.5555555555555556,\"#d8576b\"],[0.6666666666666666,\"#ed7953\"],[0.7777777777777778,\"#fb9f3a\"],[0.8888888888888888,\"#fdca26\"],[1.0,\"#f0f921\"]],\"sequentialminus\":[[0.0,\"#0d0887\"],[0.1111111111111111,\"#46039f\"],[0.2222222222222222,\"#7201a8\"],[0.3333333333333333,\"#9c179e\"],[0.4444444444444444,\"#bd3786\"],[0.5555555555555556,\"#d8576b\"],[0.6666666666666666,\"#ed7953\"],[0.7777777777777778,\"#fb9f3a\"],[0.8888888888888888,\"#fdca26\"],[1.0,\"#f0f921\"]],\"diverging\":[[0,\"#8e0152\"],[0.1,\"#c51b7d\"],[0.2,\"#de77ae\"],[0.3,\"#f1b6da\"],[0.4,\"#fde0ef\"],[0.5,\"#f7f7f7\"],[0.6,\"#e6f5d0\"],[0.7,\"#b8e186\"],[0.8,\"#7fbc41\"],[0.9,\"#4d9221\"],[1,\"#276419\"]]},\"xaxis\":{\"gridcolor\":\"white\",\"linecolor\":\"white\",\"ticks\":\"\",\"title\":{\"standoff\":15},\"zerolinecolor\":\"white\",\"automargin\":true,\"zerolinewidth\":2},\"yaxis\":{\"gridcolor\":\"white\",\"linecolor\":\"white\",\"ticks\":\"\",\"title\":{\"standoff\":15},\"zerolinecolor\":\"white\",\"automargin\":true,\"zerolinewidth\":2},\"scene\":{\"xaxis\":{\"backgroundcolor\":\"#E5ECF6\",\"gridcolor\":\"white\",\"linecolor\":\"white\",\"showbackground\":true,\"ticks\":\"\",\"zerolinecolor\":\"white\",\"gridwidth\":2},\"yaxis\":{\"backgroundcolor\":\"#E5ECF6\",\"gridcolor\":\"white\",\"linecolor\":\"white\",\"showbackground\":true,\"ticks\":\"\",\"zerolinecolor\":\"white\",\"gridwidth\":2},\"zaxis\":{\"backgroundcolor\":\"#E5ECF6\",\"gridcolor\":\"white\",\"linecolor\":\"white\",\"showbackground\":true,\"ticks\":\"\",\"zerolinecolor\":\"white\",\"gridwidth\":2}},\"shapedefaults\":{\"line\":{\"color\":\"#2a3f5f\"}},\"annotationdefaults\":{\"arrowcolor\":\"#2a3f5f\",\"arrowhead\":0,\"arrowwidth\":1},\"geo\":{\"bgcolor\":\"white\",\"landcolor\":\"#E5ECF6\",\"subunitcolor\":\"white\",\"showland\":true,\"showlakes\":true,\"lakecolor\":\"white\"},\"title\":{\"x\":0.05},\"mapbox\":{\"style\":\"light\"}}},\"xaxis\":{\"anchor\":\"y\",\"domain\":[0.0,1.0],\"scaleanchor\":\"y\",\"constrain\":\"domain\",\"title\":{\"text\":\"\\u0414\\u043b\\u0438\\u043d\\u043d\\u0430 \\u0432\\u0430\\u043d\\u043d\\u044b\"}},\"yaxis\":{\"anchor\":\"x\",\"domain\":[0.0,1.0],\"autorange\":\"reversed\",\"constrain\":\"domain\",\"title\":{\"text\":\"\\u0428\\u0438\\u0440\\u0438\\u043d\\u0430 \\u0432\\u0430\\u043d\\u043d\\u044b\"}},\"coloraxis\":{\"colorscale\":[[0.0,\"rgb(0,0,255)\"],[1.0,\"rgb(255,0,0)\"]]},\"title\":{\"text\":\"\\u0420\\u0430\\u0441\\u043f\\u0440\\u0435\\u0434\\u0435\\u043b\\u0435\\u043d\\u0438\\u0435 \\u043f\\u043e\\u0442\\u0435\\u0440\\u044c \\u043f\\u043e \\u0442\\u043e\\u043a\\u0443\"},\"width\":650},                        {\"responsive\": true}                    ).then(function(){\n",
       "                            \n",
       "var gd = document.getElementById('127a346f-e986-41f1-9aac-37aab9b83268');\n",
       "var x = new MutationObserver(function (mutations, observer) {{\n",
       "        var display = window.getComputedStyle(gd).display;\n",
       "        if (!display || display === 'none') {{\n",
       "            console.log([gd, 'removed!']);\n",
       "            Plotly.purge(gd);\n",
       "            observer.disconnect();\n",
       "        }}\n",
       "}});\n",
       "\n",
       "// Listen for the removal of the full notebook cells\n",
       "var notebookContainer = gd.closest('#notebook-container');\n",
       "if (notebookContainer) {{\n",
       "    x.observe(notebookContainer, {childList: true});\n",
       "}}\n",
       "\n",
       "// Listen for the clearing of the current output cell\n",
       "var outputEl = gd.closest('.output');\n",
       "if (outputEl) {{\n",
       "    x.observe(outputEl, {childList: true});\n",
       "}}\n",
       "\n",
       "                        })                };                });            </script>        </div>"
      ]
     },
     "metadata": {},
     "output_type": "display_data"
    }
   ],
   "source": [
    "import numpy as np\n",
    "import plotly.express as px\n",
    "\n",
    "class Grid():\n",
    "    \"\"\"A class that stores triangles and their order in a grid\"\"\"\n",
    "\n",
    "    def __init__(self, x, y, z):\n",
    "        self.triangles = []\n",
    "        for i1 in range(len(x)-1):\n",
    "            for i2 in range(len(y)-1):\n",
    "                self.triangles.append([])\n",
    "                self.triangles[-1].append(Triangle([x[i1], y[i2], z[i1][i2]],\n",
    "                                                  [x[i1+1], y[i2], z[i1+1][i2]],\n",
    "                                                  [x[i1], y[i2+1], z[i1][i2+1]]))\n",
    "                self.triangles[-1].append(Triangle([x[i1+1], y[i2+1], z[i1+1][i2+1]],\n",
    "                                                  [x[i1], y[i2+1], z[i1][i2+1]],\n",
    "                                                  [x[i1+1], y[i2], z[i1+1][i2]]))\n",
    "\n",
    "    def integral(self):\n",
    "        \"\"\"Calculating the integral sum for all triangles\"\"\"\n",
    "        sum = 0\n",
    "        array = []\n",
    "        for square in self.triangles:\n",
    "            for triangle in square:\n",
    "                sum += triangle.intpart()\n",
    "                array.append(triangle.intpart())\n",
    "        eta_0 = 0.98\n",
    "        #Squ = 15.8792448\n",
    "        Squ = 17.5\n",
    "        dot = [7,30]\n",
    "        dot[0] = dot[0]-1\n",
    "        dot[1] = dot[1]-1\n",
    "        array = (1-eta_0)/Squ*np.array(array)\n",
    "        return array\n",
    "#        return (1-eta_0)*(0.6-anod-z[dot[0]][dot[1]])/Squ*sum\n",
    "        return (1-eta_0)/Squ*sum\n",
    "\n",
    "    def square(self):\n",
    "        \"\"\"Calculating the surface area\"\"\"\n",
    "        sum = 0\n",
    "        for square in self.triangles:\n",
    "            for triangle in square:\n",
    "                sum += triangle.squarepart()\n",
    "        return sum\n",
    "\n",
    "\n",
    "class Triangle():\n",
    "    '''the class containing the corner points of a triangle,\n",
    "    its area and the corresponding value of the function'''\n",
    "\n",
    "    def __init__(self, dot1, dot2, dot3):\n",
    "        self.a = np.array(dot1)\n",
    "        self.b = np.array(dot2)\n",
    "        self.c = np.array(dot3)\n",
    "\n",
    "    def square(self):\n",
    "        return np.linalg.norm(np.cross(self.a-self.b, self.a-self.c))/2\n",
    "\n",
    "    def function(self):\n",
    "        return ((f(self.a[2])+f(self.b[2])+f(self.c[2]))/3)\n",
    "\n",
    "    def intpart(self):\n",
    "        return self.square()*self.function()\n",
    "    \n",
    "    def squarepart(self):\n",
    "        return self.square()\n",
    "\n",
    "    def print(self):\n",
    "        print(self.a, self.b, self.c)\n",
    "\n",
    "\n",
    "def f(h):\n",
    "    '''integral function'''\n",
    "    return ((0.6-anod)-h)/h\n",
    "    #return 1/h\n",
    "\n",
    "\n",
    "file_name=\"surf1.txt\"\n",
    "anod = 0\n",
    "\n",
    "\n",
    "file = open(file_name, \"r\", encoding=\"utf-8\")\n",
    "leny = len(file.readline().split())\n",
    "lenx = len(file.readlines())+1\n",
    "file.close()\n",
    "\n",
    "#x = np.linspace(0, 3.4, lenx)\n",
    "#y = np.linspace(0, 9.4, leny)\n",
    "\n",
    "#x = np.linspace(0, 2, lenx)\n",
    "#y = np.linspace(0, 5, leny)\n",
    "\n",
    "x = np.linspace(0, 10, lenx)\n",
    "y = np.linspace(0, 3.5, leny)\n",
    "\n",
    "z = []\n",
    "\n",
    "file = open(file_name, \"r\", encoding=\"utf-8\")\n",
    "\n",
    "data = []\n",
    "for line in file:\n",
    "    data_line = line.split()\n",
    "    for i in range(len(data_line)):\n",
    "        data_line[i] = float(data_line[i])\n",
    "    data.append(data_line)\n",
    "\n",
    "h = data\n",
    "\n",
    "file.close()\n",
    "\n",
    "\n",
    "for i1 in range(len(x)):\n",
    "    z.append([])\n",
    "    for i2 in range(len(y)):\n",
    "        z[-1].append(h[i1][i2])\n",
    "\n",
    "\n",
    "grid = Grid(x, y, z)\n",
    "x = np.outer(x, np.ones(len(y)))\n",
    "y = np.outer(y, np.ones(len(x))).T\n",
    "z = np.array(z)\n",
    "zero = np.zeros(z.shape)\n",
    "\n",
    "arr = grid.integral()\n",
    "d = np.reshape(arr, [(lenx-1), (leny-1)*2])\n",
    "\n",
    "x = np.linspace(start=0, stop=10, num=(leny-1)*2)\n",
    "y = np.flip(np.linspace(start=0, stop=3.5, num=(lenx-1)))\n",
    "title = 'Распределение потерь по току'\n",
    "labels = {'x':'Длинна ванны', 'y':'Ширина ванны'}\n",
    "fig = px.imshow(d,x=x, y=y, color_continuous_scale='bluered', labels=labels, title=title, width=650)\n",
    "fig.show()"
   ]
  },
  {
   "cell_type": "code",
   "execution_count": 31,
   "id": "b694659d-904b-405d-b438-fa3a013d2043",
   "metadata": {},
   "outputs": [
    {
     "ename": "TypeError",
     "evalue": "unsupported operand type(s) for -: 'float' and 'list'",
     "output_type": "error",
     "traceback": [
      "\u001b[1;31m---------------------------------------------------------------------------\u001b[0m",
      "\u001b[1;31mTypeError\u001b[0m                                 Traceback (most recent call last)",
      "Cell \u001b[1;32mIn[31], line 41\u001b[0m\n\u001b[0;32m     37\u001b[0m     \u001b[38;5;28;01mfor\u001b[39;00m i2 \u001b[38;5;129;01min\u001b[39;00m \u001b[38;5;28mrange\u001b[39m(\u001b[38;5;28mlen\u001b[39m(y)):\n\u001b[0;32m     38\u001b[0m         z[\u001b[38;5;241m-\u001b[39m\u001b[38;5;241m1\u001b[39m]\u001b[38;5;241m.\u001b[39mappend(h[i1][i2])\n\u001b[1;32m---> 41\u001b[0m d \u001b[38;5;241m=\u001b[39m \u001b[38;5;241;43m0.6\u001b[39;49m\u001b[38;5;241;43m-\u001b[39;49m\u001b[43mz\u001b[49m\u001b[38;5;241m-\u001b[39m\u001b[38;5;241m0.25\u001b[39m\n\u001b[0;32m     43\u001b[0m x \u001b[38;5;241m=\u001b[39m np\u001b[38;5;241m.\u001b[39mlinspace(start\u001b[38;5;241m=\u001b[39m\u001b[38;5;241m0\u001b[39m, stop\u001b[38;5;241m=\u001b[39m\u001b[38;5;241m10\u001b[39m, num\u001b[38;5;241m=\u001b[39m(leny\u001b[38;5;241m-\u001b[39m\u001b[38;5;241m1\u001b[39m)\u001b[38;5;241m*\u001b[39m\u001b[38;5;241m2\u001b[39m)\n\u001b[0;32m     44\u001b[0m y \u001b[38;5;241m=\u001b[39m np\u001b[38;5;241m.\u001b[39mflip(np\u001b[38;5;241m.\u001b[39mlinspace(start\u001b[38;5;241m=\u001b[39m\u001b[38;5;241m0\u001b[39m, stop\u001b[38;5;241m=\u001b[39m\u001b[38;5;241m3.5\u001b[39m, num\u001b[38;5;241m=\u001b[39m(lenx\u001b[38;5;241m-\u001b[39m\u001b[38;5;241m1\u001b[39m)))\n",
      "\u001b[1;31mTypeError\u001b[0m: unsupported operand type(s) for -: 'float' and 'list'"
     ]
    }
   ],
   "source": [
    "file_name=\"surf1.txt\"\n",
    "anod = 0\n",
    "\n",
    "\n",
    "file = open(file_name, \"r\", encoding=\"utf-8\")\n",
    "leny = len(file.readline().split())\n",
    "lenx = len(file.readlines())+1\n",
    "file.close()\n",
    "\n",
    "#x = np.linspace(0, 3.4, lenx)\n",
    "#y = np.linspace(0, 9.4, leny)\n",
    "\n",
    "#x = np.linspace(0, 2, lenx)\n",
    "#y = np.linspace(0, 5, leny)\n",
    "\n",
    "x = np.linspace(0, 10, lenx)\n",
    "y = np.linspace(0, 3.5, leny)\n",
    "\n",
    "z = []\n",
    "\n",
    "file = open(file_name, \"r\", encoding=\"utf-8\")\n",
    "\n",
    "data = []\n",
    "for line in file:\n",
    "    data_line = line.split()\n",
    "    for i in range(len(data_line)):\n",
    "        data_line[i] = float(data_line[i])\n",
    "    data.append(data_line)\n",
    "\n",
    "h = data\n",
    "\n",
    "file.close()\n",
    "\n",
    "\n",
    "for i1 in range(len(x)):\n",
    "    z.append([])\n",
    "    for i2 in range(len(y)):\n",
    "        z[-1].append(h[i1][i2])\n",
    "\n",
    "z = np.array(z)\n",
    "d = 0.6-z-0.25\n",
    "\n",
    "x = np.linspace(start=0, stop=10, num=(leny-1)*2)\n",
    "y = np.flip(np.linspace(start=0, stop=3.5, num=(lenx-1)))\n",
    "title = 'Распределение потерь по току'\n",
    "labels = {'x':'Длинна ванны', 'y':'Ширина ванны'}\n",
    "fig = px.imshow(d,x=x, y=y, color_continuous_scale='bluered', labels=labels, title=title, width=650)\n",
    "fig.show()"
   ]
  },
  {
   "cell_type": "code",
   "execution_count": 28,
   "id": "6ccd7e39-9aef-48b3-9707-1b34d058e886",
   "metadata": {},
   "outputs": [
    {
     "ename": "ValueError",
     "evalue": "The length of the y vector must match the length of the first dimension of the img matrix.",
     "output_type": "error",
     "traceback": [
      "\u001b[1;31m---------------------------------------------------------------------------\u001b[0m",
      "\u001b[1;31mValueError\u001b[0m                                Traceback (most recent call last)",
      "Cell \u001b[1;32mIn[28], line 26\u001b[0m\n\u001b[0;32m     24\u001b[0m title \u001b[38;5;241m=\u001b[39m \u001b[38;5;124m'\u001b[39m\u001b[38;5;124mРаспределение МПР\u001b[39m\u001b[38;5;124m'\u001b[39m\n\u001b[0;32m     25\u001b[0m labels \u001b[38;5;241m=\u001b[39m {\u001b[38;5;124m'\u001b[39m\u001b[38;5;124mx\u001b[39m\u001b[38;5;124m'\u001b[39m:\u001b[38;5;124m'\u001b[39m\u001b[38;5;124mДлинна ванны\u001b[39m\u001b[38;5;124m'\u001b[39m, \u001b[38;5;124m'\u001b[39m\u001b[38;5;124my\u001b[39m\u001b[38;5;124m'\u001b[39m:\u001b[38;5;124m'\u001b[39m\u001b[38;5;124mШирина ванны\u001b[39m\u001b[38;5;124m'\u001b[39m}\n\u001b[1;32m---> 26\u001b[0m fig2 \u001b[38;5;241m=\u001b[39m \u001b[43mpx\u001b[49m\u001b[38;5;241;43m.\u001b[39;49m\u001b[43mimshow\u001b[49m\u001b[43m(\u001b[49m\u001b[43md\u001b[49m\u001b[43m,\u001b[49m\u001b[43mx\u001b[49m\u001b[38;5;241;43m=\u001b[39;49m\u001b[43mx\u001b[49m\u001b[43m,\u001b[49m\u001b[43m \u001b[49m\u001b[43my\u001b[49m\u001b[38;5;241;43m=\u001b[39;49m\u001b[43my\u001b[49m\u001b[43m,\u001b[49m\u001b[43m \u001b[49m\u001b[43mcolor_continuous_scale\u001b[49m\u001b[38;5;241;43m=\u001b[39;49m\u001b[38;5;124;43m'\u001b[39;49m\u001b[38;5;124;43mbluered\u001b[39;49m\u001b[38;5;124;43m'\u001b[39;49m\u001b[43m,\u001b[49m\u001b[43m \u001b[49m\u001b[43mlabels\u001b[49m\u001b[38;5;241;43m=\u001b[39;49m\u001b[43mlabels\u001b[49m\u001b[43m,\u001b[49m\u001b[43m \u001b[49m\u001b[43mtitle\u001b[49m\u001b[38;5;241;43m=\u001b[39;49m\u001b[43mtitle\u001b[49m\u001b[43m,\u001b[49m\u001b[43m \u001b[49m\u001b[43mwidth\u001b[49m\u001b[38;5;241;43m=\u001b[39;49m\u001b[38;5;241;43m650\u001b[39;49m\u001b[43m)\u001b[49m\n\u001b[0;32m     27\u001b[0m fig2\u001b[38;5;241m.\u001b[39mshow()\n",
      "File \u001b[1;32m~\\AppData\\Local\\Packages\\PythonSoftwareFoundation.Python.3.11_qbz5n2kfra8p0\\LocalCache\\local-packages\\Python311\\site-packages\\plotly\\express\\_imshow.py:387\u001b[0m, in \u001b[0;36mimshow\u001b[1;34m(img, zmin, zmax, origin, labels, x, y, animation_frame, facet_col, facet_col_wrap, facet_col_spacing, facet_row_spacing, color_continuous_scale, color_continuous_midpoint, range_color, title, template, width, height, aspect, contrast_rescaling, binary_string, binary_backend, binary_compression_level, binary_format, text_auto)\u001b[0m\n\u001b[0;32m    385\u001b[0m y_index \u001b[38;5;241m=\u001b[39m slice_dimensions\n\u001b[0;32m    386\u001b[0m \u001b[38;5;28;01mif\u001b[39;00m y \u001b[38;5;129;01mis\u001b[39;00m \u001b[38;5;129;01mnot\u001b[39;00m \u001b[38;5;28;01mNone\u001b[39;00m \u001b[38;5;129;01mand\u001b[39;00m img\u001b[38;5;241m.\u001b[39mshape[y_index] \u001b[38;5;241m!=\u001b[39m \u001b[38;5;28mlen\u001b[39m(y):\n\u001b[1;32m--> 387\u001b[0m     \u001b[38;5;28;01mraise\u001b[39;00m \u001b[38;5;167;01mValueError\u001b[39;00m(\n\u001b[0;32m    388\u001b[0m         \u001b[38;5;124m\"\u001b[39m\u001b[38;5;124mThe length of the y vector must match the length of the first \u001b[39m\u001b[38;5;124m\"\u001b[39m\n\u001b[0;32m    389\u001b[0m         \u001b[38;5;241m+\u001b[39m \u001b[38;5;124m\"\u001b[39m\u001b[38;5;124mdimension of the img matrix.\u001b[39m\u001b[38;5;124m\"\u001b[39m\n\u001b[0;32m    390\u001b[0m     )\n\u001b[0;32m    391\u001b[0m x_index \u001b[38;5;241m=\u001b[39m slice_dimensions \u001b[38;5;241m+\u001b[39m \u001b[38;5;241m1\u001b[39m\n\u001b[0;32m    392\u001b[0m \u001b[38;5;28;01mif\u001b[39;00m x \u001b[38;5;129;01mis\u001b[39;00m \u001b[38;5;129;01mnot\u001b[39;00m \u001b[38;5;28;01mNone\u001b[39;00m \u001b[38;5;129;01mand\u001b[39;00m img\u001b[38;5;241m.\u001b[39mshape[x_index] \u001b[38;5;241m!=\u001b[39m \u001b[38;5;28mlen\u001b[39m(x):\n",
      "\u001b[1;31mValueError\u001b[0m: The length of the y vector must match the length of the first dimension of the img matrix."
     ]
    }
   ],
   "source": [
    "f = open(\"surf1.txt\", \"r\", encoding=\"utf-8\")\n",
    "\n",
    "d = []\n",
    "\n",
    "x = np.linspace(0,3.4, 31)\n",
    "y = np.linspace(0,9.4, 11)\n",
    "\n",
    "x, y = np.meshgrid(x, y)\n",
    "\n",
    "for line in f:\n",
    "    data = line.split()\n",
    "    d.append([])\n",
    "    for i in data:\n",
    "        d[-1].append(float(i))\n",
    "\n",
    "d = np.array(d)\n",
    "\n",
    "f.close()\n",
    "\n",
    "d = abs(0.6-0.25-d)\n",
    "\n",
    "x = np.linspace(start=0, stop=10, num=31)\n",
    "y = np.flip(np.linspace(start=0, stop=3.5, num=11))\n",
    "title = 'Распределение МПР'\n",
    "labels = {'x':'Длинна ванны', 'y':'Ширина ванны'}\n",
    "fig2 = px.imshow(d,x=x, y=y, color_continuous_scale='bluered', labels=labels, title=title, width=650)\n",
    "fig2.show()"
   ]
  }
 ],
 "metadata": {
  "kernelspec": {
   "display_name": "Python 3 (ipykernel)",
   "language": "python",
   "name": "python3"
  },
  "language_info": {
   "codemirror_mode": {
    "name": "ipython",
    "version": 3
   },
   "file_extension": ".py",
   "mimetype": "text/x-python",
   "name": "python",
   "nbconvert_exporter": "python",
   "pygments_lexer": "ipython3",
   "version": "3.11.9"
  }
 },
 "nbformat": 4,
 "nbformat_minor": 5
}
