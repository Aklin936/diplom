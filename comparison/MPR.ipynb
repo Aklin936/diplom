{
 "cells": [
  {
   "cell_type": "code",
   "execution_count": 2,
   "id": "abce2320-805e-430b-9460-b33af91ee48f",
   "metadata": {},
   "outputs": [],
   "source": [
    "import numpy as np\n",
    "import plotly.express as px"
   ]
  },
  {
   "cell_type": "code",
   "execution_count": 3,
   "id": "7a2f2587-8e94-4844-aa61-1e88069eb755",
   "metadata": {},
   "outputs": [],
   "source": [
    "f = open(\"h.txt\", \"r\", encoding=\"utf-8\")\n",
    "\n",
    "d = []\n",
    "\n",
    "x = np.linspace(0,3.4, 31)\n",
    "y = np.linspace(0,9.4, 11)\n",
    "\n",
    "x, y = np.meshgrid(x, y)\n",
    "\n",
    "for line in f:\n",
    "    data = line.split()\n",
    "    d.append([])\n",
    "    for i in data:\n",
    "        d[-1].append(float(i))\n",
    "\n",
    "d = np.array(d)\n",
    "\n",
    "f.close()\n",
    "\n",
    "d = abs(0.6-0.25-d)\n",
    "\n",
    "x = np.linspace(start=0, stop=10, num=31)\n",
    "y = np.flip(np.linspace(start=0, stop=3.5, num=11))\n",
    "title = 'Распределение МПР'\n",
    "labels = {'x':'Длинна ванны', 'y':'Ширина ванны'}\n",
    "fig = px.imshow(d,x=x, y=y, color_continuous_scale='bluered', labels=labels, title=title)\n",
    "fig2 = px.imshow(d,x=x, y=y, color_continuous_scale='bluered', labels=labels, title=title, width=650)\n",
    "fig.show()\n",
    "fig2.show()"
   ]
  },
  {
   "cell_type": "code",
   "execution_count": 16,
   "id": "b35b3e96-2c52-4508-b3e7-9e4771168a36",
   "metadata": {},
   "outputs": [
    {
     "data": {
      "application/vnd.plotly.v1+json": {
       "config": {
        "plotlyServerURL": "https://plot.ly"
       },
       "data": [
        {
         "coloraxis": "coloraxis",
         "hovertemplate": "Длинна ванны: %{x}<br>Ширина ванны: %{y}<br>color: %{z}<extra></extra>",
         "name": "0",
         "type": "heatmap",
         "x": [
          0,
          0.3333333333333333,
          0.6666666666666666,
          1,
          1.3333333333333333,
          1.6666666666666665,
          2,
          2.333333333333333,
          2.6666666666666665,
          3,
          3.333333333333333,
          3.6666666666666665,
          4,
          4.333333333333333,
          4.666666666666666,
          5,
          5.333333333333333,
          5.666666666666666,
          6,
          6.333333333333333,
          6.666666666666666,
          7,
          7.333333333333333,
          7.666666666666666,
          8,
          8.333333333333332,
          8.666666666666666,
          9,
          9.333333333333332,
          9.666666666666666,
          10
         ],
         "xaxis": "x",
         "y": [
          3.5,
          3.15,
          2.8,
          2.4499999999999997,
          2.0999999999999996,
          1.75,
          1.4,
          1.0499999999999998,
          0.7,
          0.35,
          0
         ],
         "yaxis": "y",
         "z": [
          [
           0.07399999999999995,
           0.07399999999999995,
           0.07299999999999995,
           0.07299999999999995,
           0.07399999999999995,
           0.07599999999999996,
           0.07899999999999996,
           0.08199999999999996,
           0.08599999999999997,
           0.08899999999999997,
           0.09099999999999997,
           0.09099999999999997,
           0.08899999999999997,
           0.08699999999999997,
           0.08599999999999997,
           0.08599999999999997,
           0.08699999999999997,
           0.08899999999999997,
           0.09299999999999997,
           0.09699999999999998,
           0.10099999999999998,
           0.10599999999999998,
           0.11199999999999999,
           0.11799999999999997,
           0.12499999999999997,
           0.13199999999999998,
           0.13899999999999998,
           0.146,
           0.15099999999999997,
           0.15599999999999997,
           0.15999999999999998
          ],
          [
           0.07299999999999995,
           0.07199999999999995,
           0.06899999999999995,
           0.066,
           0.063,
           0.063,
           0.064,
           0.066,
           0.06899999999999995,
           0.07199999999999995,
           0.07399999999999995,
           0.07599999999999996,
           0.07699999999999996,
           0.07799999999999996,
           0.07899999999999996,
           0.08099999999999996,
           0.08299999999999996,
           0.08599999999999997,
           0.08899999999999997,
           0.09299999999999997,
           0.09699999999999998,
           0.10199999999999998,
           0.10699999999999998,
           0.11299999999999999,
           0.11899999999999997,
           0.12599999999999997,
           0.13199999999999998,
           0.13899999999999998,
           0.146,
           0.15199999999999997,
           0.15699999999999997
          ],
          [
           0.07699999999999996,
           0.07599999999999996,
           0.07199999999999995,
           0.068,
           0.064,
           0.063,
           0.063,
           0.064,
           0.066,
           0.068,
           0.06999999999999995,
           0.07199999999999995,
           0.07399999999999995,
           0.07599999999999996,
           0.07699999999999996,
           0.07899999999999996,
           0.08199999999999996,
           0.08499999999999996,
           0.08799999999999997,
           0.09199999999999997,
           0.09599999999999997,
           0.09999999999999998,
           0.10499999999999998,
           0.10999999999999999,
           0.11599999999999996,
           0.12199999999999997,
           0.12799999999999997,
           0.13399999999999998,
           0.141,
           0.14799999999999996,
           0.15499999999999997
          ],
          [
           0.08499999999999996,
           0.08399999999999996,
           0.07899999999999996,
           0.07499999999999996,
           0.06999999999999995,
           0.068,
           0.067,
           0.066,
           0.067,
           0.06899999999999995,
           0.06999999999999995,
           0.07199999999999995,
           0.07299999999999995,
           0.07499999999999996,
           0.07699999999999996,
           0.07899999999999996,
           0.08199999999999996,
           0.08399999999999996,
           0.08699999999999997,
           0.09099999999999997,
           0.09499999999999997,
           0.09899999999999998,
           0.10399999999999998,
           0.10799999999999998,
           0.11299999999999999,
           0.11899999999999997,
           0.12499999999999997,
           0.13099999999999998,
           0.13699999999999998,
           0.144,
           0.15199999999999997
          ],
          [
           0.09699999999999998,
           0.09399999999999997,
           0.08899999999999997,
           0.08399999999999996,
           0.07899999999999996,
           0.07599999999999996,
           0.07399999999999995,
           0.07199999999999995,
           0.07199999999999995,
           0.07299999999999995,
           0.07399999999999995,
           0.07499999999999996,
           0.07599999999999996,
           0.07699999999999996,
           0.07899999999999996,
           0.08099999999999996,
           0.08299999999999996,
           0.08499999999999996,
           0.08799999999999997,
           0.09099999999999997,
           0.09499999999999997,
           0.09899999999999998,
           0.10299999999999998,
           0.10699999999999998,
           0.11199999999999999,
           0.11699999999999997,
           0.12199999999999997,
           0.12799999999999997,
           0.13299999999999998,
           0.13999999999999999,
           0.14799999999999996
          ],
          [
           0.10999999999999999,
           0.10599999999999998,
           0.10099999999999998,
           0.09499999999999997,
           0.08999999999999997,
           0.08599999999999997,
           0.08299999999999996,
           0.07999999999999996,
           0.07999999999999996,
           0.07899999999999996,
           0.07899999999999996,
           0.07899999999999996,
           0.07999999999999996,
           0.08099999999999996,
           0.08199999999999996,
           0.08299999999999996,
           0.08499999999999996,
           0.08599999999999997,
           0.08899999999999997,
           0.09199999999999997,
           0.09499999999999997,
           0.09799999999999998,
           0.10199999999999998,
           0.10599999999999998,
           0.10999999999999999,
           0.11499999999999999,
           0.11999999999999997,
           0.12399999999999997,
           0.12999999999999998,
           0.13499999999999998,
           0.142
          ],
          [
           0.12399999999999997,
           0.11799999999999997,
           0.11299999999999999,
           0.10699999999999998,
           0.10199999999999998,
           0.09699999999999998,
           0.09299999999999997,
           0.08999999999999997,
           0.08899999999999997,
           0.08699999999999997,
           0.08599999999999997,
           0.08599999999999997,
           0.08499999999999996,
           0.08599999999999997,
           0.08599999999999997,
           0.08699999999999997,
           0.08699999999999997,
           0.08799999999999997,
           0.08999999999999997,
           0.09199999999999997,
           0.09499999999999997,
           0.09799999999999998,
           0.10099999999999998,
           0.10499999999999998,
           0.10899999999999999,
           0.11299999999999999,
           0.11699999999999997,
           0.12099999999999997,
           0.12499999999999997,
           0.12899999999999998,
           0.13499999999999998
          ],
          [
           0.13599999999999998,
           0.12999999999999998,
           0.12499999999999997,
           0.11999999999999997,
           0.11399999999999999,
           0.10999999999999999,
           0.10499999999999998,
           0.10199999999999998,
           0.09899999999999998,
           0.09599999999999997,
           0.09399999999999997,
           0.09299999999999997,
           0.09099999999999997,
           0.09099999999999997,
           0.08999999999999997,
           0.08999999999999997,
           0.08999999999999997,
           0.09099999999999997,
           0.09199999999999997,
           0.09299999999999997,
           0.09499999999999997,
           0.09699999999999998,
           0.09999999999999998,
           0.10299999999999998,
           0.10599999999999998,
           0.10999999999999999,
           0.11299999999999999,
           0.11699999999999997,
           0.11999999999999997,
           0.12399999999999997,
           0.12799999999999997
          ],
          [
           0.14699999999999996,
           0.142,
           0.13699999999999998,
           0.13299999999999998,
           0.12799999999999997,
           0.12299999999999997,
           0.11899999999999997,
           0.11399999999999999,
           0.10999999999999999,
           0.10599999999999998,
           0.10299999999999998,
           0.09999999999999998,
           0.09699999999999998,
           0.09599999999999997,
           0.09399999999999997,
           0.09299999999999997,
           0.09299999999999997,
           0.09299999999999997,
           0.09299999999999997,
           0.09399999999999997,
           0.09499999999999997,
           0.09699999999999998,
           0.09899999999999998,
           0.10099999999999998,
           0.10299999999999998,
           0.10599999999999998,
           0.10899999999999999,
           0.11199999999999999,
           0.11499999999999999,
           0.11799999999999997,
           0.12099999999999997
          ],
          [
           0.15699999999999997,
           0.15399999999999997,
           0.15099999999999997,
           0.14699999999999996,
           0.144,
           0.13899999999999998,
           0.13399999999999998,
           0.12899999999999998,
           0.12299999999999997,
           0.11699999999999997,
           0.11199999999999999,
           0.10699999999999998,
           0.10299999999999998,
           0.09999999999999998,
           0.09699999999999998,
           0.09599999999999997,
           0.09499999999999997,
           0.09499999999999997,
           0.09499999999999997,
           0.09499999999999997,
           0.09599999999999997,
           0.09599999999999997,
           0.09699999999999998,
           0.09899999999999998,
           0.09999999999999998,
           0.10299999999999998,
           0.10499999999999998,
           0.10799999999999998,
           0.11099999999999999,
           0.11399999999999999,
           0.11499999999999999
          ],
          [
           0.16499999999999998,
           0.16299999999999998,
           0.16399999999999998,
           0.16499999999999998,
           0.16499999999999998,
           0.16199999999999998,
           0.15699999999999997,
           0.14999999999999997,
           0.142,
           0.13299999999999998,
           0.12399999999999997,
           0.11599999999999996,
           0.10899999999999999,
           0.10399999999999998,
           0.09999999999999998,
           0.09799999999999998,
           0.09799999999999998,
           0.09799999999999998,
           0.09799999999999998,
           0.09799999999999998,
           0.09799999999999998,
           0.09699999999999998,
           0.09699999999999998,
           0.09699999999999998,
           0.09799999999999998,
           0.09999999999999998,
           0.10199999999999998,
           0.10499999999999998,
           0.10799999999999998,
           0.11199999999999999,
           0.11299999999999999
          ]
         ]
        }
       ],
       "layout": {
        "autosize": true,
        "coloraxis": {
         "colorscale": [
          [
           0,
           "rgb(0,0,255)"
          ],
          [
           1,
           "rgb(255,0,0)"
          ]
         ]
        },
        "template": {
         "data": {
          "bar": [
           {
            "error_x": {
             "color": "#2a3f5f"
            },
            "error_y": {
             "color": "#2a3f5f"
            },
            "marker": {
             "line": {
              "color": "#E5ECF6",
              "width": 0.5
             },
             "pattern": {
              "fillmode": "overlay",
              "size": 10,
              "solidity": 0.2
             }
            },
            "type": "bar"
           }
          ],
          "barpolar": [
           {
            "marker": {
             "line": {
              "color": "#E5ECF6",
              "width": 0.5
             },
             "pattern": {
              "fillmode": "overlay",
              "size": 10,
              "solidity": 0.2
             }
            },
            "type": "barpolar"
           }
          ],
          "carpet": [
           {
            "aaxis": {
             "endlinecolor": "#2a3f5f",
             "gridcolor": "white",
             "linecolor": "white",
             "minorgridcolor": "white",
             "startlinecolor": "#2a3f5f"
            },
            "baxis": {
             "endlinecolor": "#2a3f5f",
             "gridcolor": "white",
             "linecolor": "white",
             "minorgridcolor": "white",
             "startlinecolor": "#2a3f5f"
            },
            "type": "carpet"
           }
          ],
          "choropleth": [
           {
            "colorbar": {
             "outlinewidth": 0,
             "ticks": ""
            },
            "type": "choropleth"
           }
          ],
          "contour": [
           {
            "colorbar": {
             "outlinewidth": 0,
             "ticks": ""
            },
            "colorscale": [
             [
              0,
              "#0d0887"
             ],
             [
              0.1111111111111111,
              "#46039f"
             ],
             [
              0.2222222222222222,
              "#7201a8"
             ],
             [
              0.3333333333333333,
              "#9c179e"
             ],
             [
              0.4444444444444444,
              "#bd3786"
             ],
             [
              0.5555555555555556,
              "#d8576b"
             ],
             [
              0.6666666666666666,
              "#ed7953"
             ],
             [
              0.7777777777777778,
              "#fb9f3a"
             ],
             [
              0.8888888888888888,
              "#fdca26"
             ],
             [
              1,
              "#f0f921"
             ]
            ],
            "type": "contour"
           }
          ],
          "contourcarpet": [
           {
            "colorbar": {
             "outlinewidth": 0,
             "ticks": ""
            },
            "type": "contourcarpet"
           }
          ],
          "heatmap": [
           {
            "colorbar": {
             "outlinewidth": 0,
             "ticks": ""
            },
            "colorscale": [
             [
              0,
              "#0d0887"
             ],
             [
              0.1111111111111111,
              "#46039f"
             ],
             [
              0.2222222222222222,
              "#7201a8"
             ],
             [
              0.3333333333333333,
              "#9c179e"
             ],
             [
              0.4444444444444444,
              "#bd3786"
             ],
             [
              0.5555555555555556,
              "#d8576b"
             ],
             [
              0.6666666666666666,
              "#ed7953"
             ],
             [
              0.7777777777777778,
              "#fb9f3a"
             ],
             [
              0.8888888888888888,
              "#fdca26"
             ],
             [
              1,
              "#f0f921"
             ]
            ],
            "type": "heatmap"
           }
          ],
          "heatmapgl": [
           {
            "colorbar": {
             "outlinewidth": 0,
             "ticks": ""
            },
            "colorscale": [
             [
              0,
              "#0d0887"
             ],
             [
              0.1111111111111111,
              "#46039f"
             ],
             [
              0.2222222222222222,
              "#7201a8"
             ],
             [
              0.3333333333333333,
              "#9c179e"
             ],
             [
              0.4444444444444444,
              "#bd3786"
             ],
             [
              0.5555555555555556,
              "#d8576b"
             ],
             [
              0.6666666666666666,
              "#ed7953"
             ],
             [
              0.7777777777777778,
              "#fb9f3a"
             ],
             [
              0.8888888888888888,
              "#fdca26"
             ],
             [
              1,
              "#f0f921"
             ]
            ],
            "type": "heatmapgl"
           }
          ],
          "histogram": [
           {
            "marker": {
             "pattern": {
              "fillmode": "overlay",
              "size": 10,
              "solidity": 0.2
             }
            },
            "type": "histogram"
           }
          ],
          "histogram2d": [
           {
            "colorbar": {
             "outlinewidth": 0,
             "ticks": ""
            },
            "colorscale": [
             [
              0,
              "#0d0887"
             ],
             [
              0.1111111111111111,
              "#46039f"
             ],
             [
              0.2222222222222222,
              "#7201a8"
             ],
             [
              0.3333333333333333,
              "#9c179e"
             ],
             [
              0.4444444444444444,
              "#bd3786"
             ],
             [
              0.5555555555555556,
              "#d8576b"
             ],
             [
              0.6666666666666666,
              "#ed7953"
             ],
             [
              0.7777777777777778,
              "#fb9f3a"
             ],
             [
              0.8888888888888888,
              "#fdca26"
             ],
             [
              1,
              "#f0f921"
             ]
            ],
            "type": "histogram2d"
           }
          ],
          "histogram2dcontour": [
           {
            "colorbar": {
             "outlinewidth": 0,
             "ticks": ""
            },
            "colorscale": [
             [
              0,
              "#0d0887"
             ],
             [
              0.1111111111111111,
              "#46039f"
             ],
             [
              0.2222222222222222,
              "#7201a8"
             ],
             [
              0.3333333333333333,
              "#9c179e"
             ],
             [
              0.4444444444444444,
              "#bd3786"
             ],
             [
              0.5555555555555556,
              "#d8576b"
             ],
             [
              0.6666666666666666,
              "#ed7953"
             ],
             [
              0.7777777777777778,
              "#fb9f3a"
             ],
             [
              0.8888888888888888,
              "#fdca26"
             ],
             [
              1,
              "#f0f921"
             ]
            ],
            "type": "histogram2dcontour"
           }
          ],
          "mesh3d": [
           {
            "colorbar": {
             "outlinewidth": 0,
             "ticks": ""
            },
            "type": "mesh3d"
           }
          ],
          "parcoords": [
           {
            "line": {
             "colorbar": {
              "outlinewidth": 0,
              "ticks": ""
             }
            },
            "type": "parcoords"
           }
          ],
          "pie": [
           {
            "automargin": true,
            "type": "pie"
           }
          ],
          "scatter": [
           {
            "fillpattern": {
             "fillmode": "overlay",
             "size": 10,
             "solidity": 0.2
            },
            "type": "scatter"
           }
          ],
          "scatter3d": [
           {
            "line": {
             "colorbar": {
              "outlinewidth": 0,
              "ticks": ""
             }
            },
            "marker": {
             "colorbar": {
              "outlinewidth": 0,
              "ticks": ""
             }
            },
            "type": "scatter3d"
           }
          ],
          "scattercarpet": [
           {
            "marker": {
             "colorbar": {
              "outlinewidth": 0,
              "ticks": ""
             }
            },
            "type": "scattercarpet"
           }
          ],
          "scattergeo": [
           {
            "marker": {
             "colorbar": {
              "outlinewidth": 0,
              "ticks": ""
             }
            },
            "type": "scattergeo"
           }
          ],
          "scattergl": [
           {
            "marker": {
             "colorbar": {
              "outlinewidth": 0,
              "ticks": ""
             }
            },
            "type": "scattergl"
           }
          ],
          "scattermapbox": [
           {
            "marker": {
             "colorbar": {
              "outlinewidth": 0,
              "ticks": ""
             }
            },
            "type": "scattermapbox"
           }
          ],
          "scatterpolar": [
           {
            "marker": {
             "colorbar": {
              "outlinewidth": 0,
              "ticks": ""
             }
            },
            "type": "scatterpolar"
           }
          ],
          "scatterpolargl": [
           {
            "marker": {
             "colorbar": {
              "outlinewidth": 0,
              "ticks": ""
             }
            },
            "type": "scatterpolargl"
           }
          ],
          "scatterternary": [
           {
            "marker": {
             "colorbar": {
              "outlinewidth": 0,
              "ticks": ""
             }
            },
            "type": "scatterternary"
           }
          ],
          "surface": [
           {
            "colorbar": {
             "outlinewidth": 0,
             "ticks": ""
            },
            "colorscale": [
             [
              0,
              "#0d0887"
             ],
             [
              0.1111111111111111,
              "#46039f"
             ],
             [
              0.2222222222222222,
              "#7201a8"
             ],
             [
              0.3333333333333333,
              "#9c179e"
             ],
             [
              0.4444444444444444,
              "#bd3786"
             ],
             [
              0.5555555555555556,
              "#d8576b"
             ],
             [
              0.6666666666666666,
              "#ed7953"
             ],
             [
              0.7777777777777778,
              "#fb9f3a"
             ],
             [
              0.8888888888888888,
              "#fdca26"
             ],
             [
              1,
              "#f0f921"
             ]
            ],
            "type": "surface"
           }
          ],
          "table": [
           {
            "cells": {
             "fill": {
              "color": "#EBF0F8"
             },
             "line": {
              "color": "white"
             }
            },
            "header": {
             "fill": {
              "color": "#C8D4E3"
             },
             "line": {
              "color": "white"
             }
            },
            "type": "table"
           }
          ]
         },
         "layout": {
          "annotationdefaults": {
           "arrowcolor": "#2a3f5f",
           "arrowhead": 0,
           "arrowwidth": 1
          },
          "autotypenumbers": "strict",
          "coloraxis": {
           "colorbar": {
            "outlinewidth": 0,
            "ticks": ""
           }
          },
          "colorscale": {
           "diverging": [
            [
             0,
             "#8e0152"
            ],
            [
             0.1,
             "#c51b7d"
            ],
            [
             0.2,
             "#de77ae"
            ],
            [
             0.3,
             "#f1b6da"
            ],
            [
             0.4,
             "#fde0ef"
            ],
            [
             0.5,
             "#f7f7f7"
            ],
            [
             0.6,
             "#e6f5d0"
            ],
            [
             0.7,
             "#b8e186"
            ],
            [
             0.8,
             "#7fbc41"
            ],
            [
             0.9,
             "#4d9221"
            ],
            [
             1,
             "#276419"
            ]
           ],
           "sequential": [
            [
             0,
             "#0d0887"
            ],
            [
             0.1111111111111111,
             "#46039f"
            ],
            [
             0.2222222222222222,
             "#7201a8"
            ],
            [
             0.3333333333333333,
             "#9c179e"
            ],
            [
             0.4444444444444444,
             "#bd3786"
            ],
            [
             0.5555555555555556,
             "#d8576b"
            ],
            [
             0.6666666666666666,
             "#ed7953"
            ],
            [
             0.7777777777777778,
             "#fb9f3a"
            ],
            [
             0.8888888888888888,
             "#fdca26"
            ],
            [
             1,
             "#f0f921"
            ]
           ],
           "sequentialminus": [
            [
             0,
             "#0d0887"
            ],
            [
             0.1111111111111111,
             "#46039f"
            ],
            [
             0.2222222222222222,
             "#7201a8"
            ],
            [
             0.3333333333333333,
             "#9c179e"
            ],
            [
             0.4444444444444444,
             "#bd3786"
            ],
            [
             0.5555555555555556,
             "#d8576b"
            ],
            [
             0.6666666666666666,
             "#ed7953"
            ],
            [
             0.7777777777777778,
             "#fb9f3a"
            ],
            [
             0.8888888888888888,
             "#fdca26"
            ],
            [
             1,
             "#f0f921"
            ]
           ]
          },
          "colorway": [
           "#636efa",
           "#EF553B",
           "#00cc96",
           "#ab63fa",
           "#FFA15A",
           "#19d3f3",
           "#FF6692",
           "#B6E880",
           "#FF97FF",
           "#FECB52"
          ],
          "font": {
           "color": "#2a3f5f"
          },
          "geo": {
           "bgcolor": "white",
           "lakecolor": "white",
           "landcolor": "#E5ECF6",
           "showlakes": true,
           "showland": true,
           "subunitcolor": "white"
          },
          "hoverlabel": {
           "align": "left"
          },
          "hovermode": "closest",
          "mapbox": {
           "style": "light"
          },
          "paper_bgcolor": "white",
          "plot_bgcolor": "#E5ECF6",
          "polar": {
           "angularaxis": {
            "gridcolor": "white",
            "linecolor": "white",
            "ticks": ""
           },
           "bgcolor": "#E5ECF6",
           "radialaxis": {
            "gridcolor": "white",
            "linecolor": "white",
            "ticks": ""
           }
          },
          "scene": {
           "xaxis": {
            "backgroundcolor": "#E5ECF6",
            "gridcolor": "white",
            "gridwidth": 2,
            "linecolor": "white",
            "showbackground": true,
            "ticks": "",
            "zerolinecolor": "white"
           },
           "yaxis": {
            "backgroundcolor": "#E5ECF6",
            "gridcolor": "white",
            "gridwidth": 2,
            "linecolor": "white",
            "showbackground": true,
            "ticks": "",
            "zerolinecolor": "white"
           },
           "zaxis": {
            "backgroundcolor": "#E5ECF6",
            "gridcolor": "white",
            "gridwidth": 2,
            "linecolor": "white",
            "showbackground": true,
            "ticks": "",
            "zerolinecolor": "white"
           }
          },
          "shapedefaults": {
           "line": {
            "color": "#2a3f5f"
           }
          },
          "ternary": {
           "aaxis": {
            "gridcolor": "white",
            "linecolor": "white",
            "ticks": ""
           },
           "baxis": {
            "gridcolor": "white",
            "linecolor": "white",
            "ticks": ""
           },
           "bgcolor": "#E5ECF6",
           "caxis": {
            "gridcolor": "white",
            "linecolor": "white",
            "ticks": ""
           }
          },
          "title": {
           "x": 0.05
          },
          "xaxis": {
           "automargin": true,
           "gridcolor": "white",
           "linecolor": "white",
           "ticks": "",
           "title": {
            "standoff": 15
           },
           "zerolinecolor": "white",
           "zerolinewidth": 2
          },
          "yaxis": {
           "automargin": true,
           "gridcolor": "white",
           "linecolor": "white",
           "ticks": "",
           "title": {
            "standoff": 15
           },
           "zerolinecolor": "white",
           "zerolinewidth": 2
          }
         }
        },
        "title": {
         "text": "Распределение МПР"
        },
        "xaxis": {
         "anchor": "y",
         "autorange": true,
         "constrain": "domain",
         "domain": [
          0.24274926351603665,
          0.7572507364839633
         ],
         "range": [
          -0.16666666666666666,
          10.166666666666668
         ],
         "scaleanchor": "y",
         "title": {
          "text": "Длинна ванны"
         },
         "type": "linear"
        },
        "yaxis": {
         "anchor": "x",
         "autorange": true,
         "constrain": "domain",
         "domain": [
          1.1102230246251565e-16,
          0.9999999999999999
         ],
         "range": [
          3.675,
          -0.175
         ],
         "title": {
          "text": "Ширина ванны"
         },
         "type": "linear"
        }
       }
      },
      "image/png": "[encoded data removed]",
      "text/html": [
       "<div>                            <div id=\"30ef1ab7-76c7-405e-95e7-85a739c5f8a3\" class=\"plotly-graph-div\" style=\"height:525px; width:100%;\"></div>            <script type=\"text/javascript\">                require([\"plotly\"], function(Plotly) {                    window.PLOTLYENV=window.PLOTLYENV || {};                                    if (document.getElementById(\"30ef1ab7-76c7-405e-95e7-85a739c5f8a3\")) {                    Plotly.newPlot(                        \"30ef1ab7-76c7-405e-95e7-85a739c5f8a3\",                        [{\"coloraxis\":\"coloraxis\",\"name\":\"0\",\"x\":[0.0,0.3333333333333333,0.6666666666666666,1.0,1.3333333333333333,1.6666666666666665,2.0,2.333333333333333,2.6666666666666665,3.0,3.333333333333333,3.6666666666666665,4.0,4.333333333333333,4.666666666666666,5.0,5.333333333333333,5.666666666666666,6.0,6.333333333333333,6.666666666666666,7.0,7.333333333333333,7.666666666666666,8.0,8.333333333333332,8.666666666666666,9.0,9.333333333333332,9.666666666666666,10.0],\"y\":[3.5,3.15,2.8,2.4499999999999997,2.0999999999999996,1.75,1.4,1.0499999999999998,0.7,0.35,0.0],\"z\":[[0.07399999999999995,0.07399999999999995,0.07299999999999995,0.07299999999999995,0.07399999999999995,0.07599999999999996,0.07899999999999996,0.08199999999999996,0.08599999999999997,0.08899999999999997,0.09099999999999997,0.09099999999999997,0.08899999999999997,0.08699999999999997,0.08599999999999997,0.08599999999999997,0.08699999999999997,0.08899999999999997,0.09299999999999997,0.09699999999999998,0.10099999999999998,0.10599999999999998,0.11199999999999999,0.11799999999999997,0.12499999999999997,0.13199999999999998,0.13899999999999998,0.146,0.15099999999999997,0.15599999999999997,0.15999999999999998],[0.07299999999999995,0.07199999999999995,0.06899999999999995,0.066,0.063,0.063,0.064,0.066,0.06899999999999995,0.07199999999999995,0.07399999999999995,0.07599999999999996,0.07699999999999996,0.07799999999999996,0.07899999999999996,0.08099999999999996,0.08299999999999996,0.08599999999999997,0.08899999999999997,0.09299999999999997,0.09699999999999998,0.10199999999999998,0.10699999999999998,0.11299999999999999,0.11899999999999997,0.12599999999999997,0.13199999999999998,0.13899999999999998,0.146,0.15199999999999997,0.15699999999999997],[0.07699999999999996,0.07599999999999996,0.07199999999999995,0.068,0.064,0.063,0.063,0.064,0.066,0.068,0.06999999999999995,0.07199999999999995,0.07399999999999995,0.07599999999999996,0.07699999999999996,0.07899999999999996,0.08199999999999996,0.08499999999999996,0.08799999999999997,0.09199999999999997,0.09599999999999997,0.09999999999999998,0.10499999999999998,0.10999999999999999,0.11599999999999996,0.12199999999999997,0.12799999999999997,0.13399999999999998,0.141,0.14799999999999996,0.15499999999999997],[0.08499999999999996,0.08399999999999996,0.07899999999999996,0.07499999999999996,0.06999999999999995,0.068,0.067,0.066,0.067,0.06899999999999995,0.06999999999999995,0.07199999999999995,0.07299999999999995,0.07499999999999996,0.07699999999999996,0.07899999999999996,0.08199999999999996,0.08399999999999996,0.08699999999999997,0.09099999999999997,0.09499999999999997,0.09899999999999998,0.10399999999999998,0.10799999999999998,0.11299999999999999,0.11899999999999997,0.12499999999999997,0.13099999999999998,0.13699999999999998,0.144,0.15199999999999997],[0.09699999999999998,0.09399999999999997,0.08899999999999997,0.08399999999999996,0.07899999999999996,0.07599999999999996,0.07399999999999995,0.07199999999999995,0.07199999999999995,0.07299999999999995,0.07399999999999995,0.07499999999999996,0.07599999999999996,0.07699999999999996,0.07899999999999996,0.08099999999999996,0.08299999999999996,0.08499999999999996,0.08799999999999997,0.09099999999999997,0.09499999999999997,0.09899999999999998,0.10299999999999998,0.10699999999999998,0.11199999999999999,0.11699999999999997,0.12199999999999997,0.12799999999999997,0.13299999999999998,0.13999999999999999,0.14799999999999996],[0.10999999999999999,0.10599999999999998,0.10099999999999998,0.09499999999999997,0.08999999999999997,0.08599999999999997,0.08299999999999996,0.07999999999999996,0.07999999999999996,0.07899999999999996,0.07899999999999996,0.07899999999999996,0.07999999999999996,0.08099999999999996,0.08199999999999996,0.08299999999999996,0.08499999999999996,0.08599999999999997,0.08899999999999997,0.09199999999999997,0.09499999999999997,0.09799999999999998,0.10199999999999998,0.10599999999999998,0.10999999999999999,0.11499999999999999,0.11999999999999997,0.12399999999999997,0.12999999999999998,0.13499999999999998,0.142],[0.12399999999999997,0.11799999999999997,0.11299999999999999,0.10699999999999998,0.10199999999999998,0.09699999999999998,0.09299999999999997,0.08999999999999997,0.08899999999999997,0.08699999999999997,0.08599999999999997,0.08599999999999997,0.08499999999999996,0.08599999999999997,0.08599999999999997,0.08699999999999997,0.08699999999999997,0.08799999999999997,0.08999999999999997,0.09199999999999997,0.09499999999999997,0.09799999999999998,0.10099999999999998,0.10499999999999998,0.10899999999999999,0.11299999999999999,0.11699999999999997,0.12099999999999997,0.12499999999999997,0.12899999999999998,0.13499999999999998],[0.13599999999999998,0.12999999999999998,0.12499999999999997,0.11999999999999997,0.11399999999999999,0.10999999999999999,0.10499999999999998,0.10199999999999998,0.09899999999999998,0.09599999999999997,0.09399999999999997,0.09299999999999997,0.09099999999999997,0.09099999999999997,0.08999999999999997,0.08999999999999997,0.08999999999999997,0.09099999999999997,0.09199999999999997,0.09299999999999997,0.09499999999999997,0.09699999999999998,0.09999999999999998,0.10299999999999998,0.10599999999999998,0.10999999999999999,0.11299999999999999,0.11699999999999997,0.11999999999999997,0.12399999999999997,0.12799999999999997],[0.14699999999999996,0.142,0.13699999999999998,0.13299999999999998,0.12799999999999997,0.12299999999999997,0.11899999999999997,0.11399999999999999,0.10999999999999999,0.10599999999999998,0.10299999999999998,0.09999999999999998,0.09699999999999998,0.09599999999999997,0.09399999999999997,0.09299999999999997,0.09299999999999997,0.09299999999999997,0.09299999999999997,0.09399999999999997,0.09499999999999997,0.09699999999999998,0.09899999999999998,0.10099999999999998,0.10299999999999998,0.10599999999999998,0.10899999999999999,0.11199999999999999,0.11499999999999999,0.11799999999999997,0.12099999999999997],[0.15699999999999997,0.15399999999999997,0.15099999999999997,0.14699999999999996,0.144,0.13899999999999998,0.13399999999999998,0.12899999999999998,0.12299999999999997,0.11699999999999997,0.11199999999999999,0.10699999999999998,0.10299999999999998,0.09999999999999998,0.09699999999999998,0.09599999999999997,0.09499999999999997,0.09499999999999997,0.09499999999999997,0.09499999999999997,0.09599999999999997,0.09599999999999997,0.09699999999999998,0.09899999999999998,0.09999999999999998,0.10299999999999998,0.10499999999999998,0.10799999999999998,0.11099999999999999,0.11399999999999999,0.11499999999999999],[0.16499999999999998,0.16299999999999998,0.16399999999999998,0.16499999999999998,0.16499999999999998,0.16199999999999998,0.15699999999999997,0.14999999999999997,0.142,0.13299999999999998,0.12399999999999997,0.11599999999999996,0.10899999999999999,0.10399999999999998,0.09999999999999998,0.09799999999999998,0.09799999999999998,0.09799999999999998,0.09799999999999998,0.09799999999999998,0.09799999999999998,0.09699999999999998,0.09699999999999998,0.09699999999999998,0.09799999999999998,0.09999999999999998,0.10199999999999998,0.10499999999999998,0.10799999999999998,0.11199999999999999,0.11299999999999999]],\"type\":\"heatmap\",\"xaxis\":\"x\",\"yaxis\":\"y\",\"hovertemplate\":\"\\u0414\\u043b\\u0438\\u043d\\u043d\\u0430 \\u0432\\u0430\\u043d\\u043d\\u044b: %{x}\\u003cbr\\u003e\\u0428\\u0438\\u0440\\u0438\\u043d\\u0430 \\u0432\\u0430\\u043d\\u043d\\u044b: %{y}\\u003cbr\\u003ecolor: %{z}\\u003cextra\\u003e\\u003c\\u002fextra\\u003e\"}],                        {\"template\":{\"data\":{\"histogram2dcontour\":[{\"type\":\"histogram2dcontour\",\"colorbar\":{\"outlinewidth\":0,\"ticks\":\"\"},\"colorscale\":[[0.0,\"#0d0887\"],[0.1111111111111111,\"#46039f\"],[0.2222222222222222,\"#7201a8\"],[0.3333333333333333,\"#9c179e\"],[0.4444444444444444,\"#bd3786\"],[0.5555555555555556,\"#d8576b\"],[0.6666666666666666,\"#ed7953\"],[0.7777777777777778,\"#fb9f3a\"],[0.8888888888888888,\"#fdca26\"],[1.0,\"#f0f921\"]]}],\"choropleth\":[{\"type\":\"choropleth\",\"colorbar\":{\"outlinewidth\":0,\"ticks\":\"\"}}],\"histogram2d\":[{\"type\":\"histogram2d\",\"colorbar\":{\"outlinewidth\":0,\"ticks\":\"\"},\"colorscale\":[[0.0,\"#0d0887\"],[0.1111111111111111,\"#46039f\"],[0.2222222222222222,\"#7201a8\"],[0.3333333333333333,\"#9c179e\"],[0.4444444444444444,\"#bd3786\"],[0.5555555555555556,\"#d8576b\"],[0.6666666666666666,\"#ed7953\"],[0.7777777777777778,\"#fb9f3a\"],[0.8888888888888888,\"#fdca26\"],[1.0,\"#f0f921\"]]}],\"heatmap\":[{\"type\":\"heatmap\",\"colorbar\":{\"outlinewidth\":0,\"ticks\":\"\"},\"colorscale\":[[0.0,\"#0d0887\"],[0.1111111111111111,\"#46039f\"],[0.2222222222222222,\"#7201a8\"],[0.3333333333333333,\"#9c179e\"],[0.4444444444444444,\"#bd3786\"],[0.5555555555555556,\"#d8576b\"],[0.6666666666666666,\"#ed7953\"],[0.7777777777777778,\"#fb9f3a\"],[0.8888888888888888,\"#fdca26\"],[1.0,\"#f0f921\"]]}],\"heatmapgl\":[{\"type\":\"heatmapgl\",\"colorbar\":{\"outlinewidth\":0,\"ticks\":\"\"},\"colorscale\":[[0.0,\"#0d0887\"],[0.1111111111111111,\"#46039f\"],[0.2222222222222222,\"#7201a8\"],[0.3333333333333333,\"#9c179e\"],[0.4444444444444444,\"#bd3786\"],[0.5555555555555556,\"#d8576b\"],[0.6666666666666666,\"#ed7953\"],[0.7777777777777778,\"#fb9f3a\"],[0.8888888888888888,\"#fdca26\"],[1.0,\"#f0f921\"]]}],\"contourcarpet\":[{\"type\":\"contourcarpet\",\"colorbar\":{\"outlinewidth\":0,\"ticks\":\"\"}}],\"contour\":[{\"type\":\"contour\",\"colorbar\":{\"outlinewidth\":0,\"ticks\":\"\"},\"colorscale\":[[0.0,\"#0d0887\"],[0.1111111111111111,\"#46039f\"],[0.2222222222222222,\"#7201a8\"],[0.3333333333333333,\"#9c179e\"],[0.4444444444444444,\"#bd3786\"],[0.5555555555555556,\"#d8576b\"],[0.6666666666666666,\"#ed7953\"],[0.7777777777777778,\"#fb9f3a\"],[0.8888888888888888,\"#fdca26\"],[1.0,\"#f0f921\"]]}],\"surface\":[{\"type\":\"surface\",\"colorbar\":{\"outlinewidth\":0,\"ticks\":\"\"},\"colorscale\":[[0.0,\"#0d0887\"],[0.1111111111111111,\"#46039f\"],[0.2222222222222222,\"#7201a8\"],[0.3333333333333333,\"#9c179e\"],[0.4444444444444444,\"#bd3786\"],[0.5555555555555556,\"#d8576b\"],[0.6666666666666666,\"#ed7953\"],[0.7777777777777778,\"#fb9f3a\"],[0.8888888888888888,\"#fdca26\"],[1.0,\"#f0f921\"]]}],\"mesh3d\":[{\"type\":\"mesh3d\",\"colorbar\":{\"outlinewidth\":0,\"ticks\":\"\"}}],\"scatter\":[{\"fillpattern\":{\"fillmode\":\"overlay\",\"size\":10,\"solidity\":0.2},\"type\":\"scatter\"}],\"parcoords\":[{\"type\":\"parcoords\",\"line\":{\"colorbar\":{\"outlinewidth\":0,\"ticks\":\"\"}}}],\"scatterpolargl\":[{\"type\":\"scatterpolargl\",\"marker\":{\"colorbar\":{\"outlinewidth\":0,\"ticks\":\"\"}}}],\"bar\":[{\"error_x\":{\"color\":\"#2a3f5f\"},\"error_y\":{\"color\":\"#2a3f5f\"},\"marker\":{\"line\":{\"color\":\"#E5ECF6\",\"width\":0.5},\"pattern\":{\"fillmode\":\"overlay\",\"size\":10,\"solidity\":0.2}},\"type\":\"bar\"}],\"scattergeo\":[{\"type\":\"scattergeo\",\"marker\":{\"colorbar\":{\"outlinewidth\":0,\"ticks\":\"\"}}}],\"scatterpolar\":[{\"type\":\"scatterpolar\",\"marker\":{\"colorbar\":{\"outlinewidth\":0,\"ticks\":\"\"}}}],\"histogram\":[{\"marker\":{\"pattern\":{\"fillmode\":\"overlay\",\"size\":10,\"solidity\":0.2}},\"type\":\"histogram\"}],\"scattergl\":[{\"type\":\"scattergl\",\"marker\":{\"colorbar\":{\"outlinewidth\":0,\"ticks\":\"\"}}}],\"scatter3d\":[{\"type\":\"scatter3d\",\"line\":{\"colorbar\":{\"outlinewidth\":0,\"ticks\":\"\"}},\"marker\":{\"colorbar\":{\"outlinewidth\":0,\"ticks\":\"\"}}}],\"scattermapbox\":[{\"type\":\"scattermapbox\",\"marker\":{\"colorbar\":{\"outlinewidth\":0,\"ticks\":\"\"}}}],\"scatterternary\":[{\"type\":\"scatterternary\",\"marker\":{\"colorbar\":{\"outlinewidth\":0,\"ticks\":\"\"}}}],\"scattercarpet\":[{\"type\":\"scattercarpet\",\"marker\":{\"colorbar\":{\"outlinewidth\":0,\"ticks\":\"\"}}}],\"carpet\":[{\"aaxis\":{\"endlinecolor\":\"#2a3f5f\",\"gridcolor\":\"white\",\"linecolor\":\"white\",\"minorgridcolor\":\"white\",\"startlinecolor\":\"#2a3f5f\"},\"baxis\":{\"endlinecolor\":\"#2a3f5f\",\"gridcolor\":\"white\",\"linecolor\":\"white\",\"minorgridcolor\":\"white\",\"startlinecolor\":\"#2a3f5f\"},\"type\":\"carpet\"}],\"table\":[{\"cells\":{\"fill\":{\"color\":\"#EBF0F8\"},\"line\":{\"color\":\"white\"}},\"header\":{\"fill\":{\"color\":\"#C8D4E3\"},\"line\":{\"color\":\"white\"}},\"type\":\"table\"}],\"barpolar\":[{\"marker\":{\"line\":{\"color\":\"#E5ECF6\",\"width\":0.5},\"pattern\":{\"fillmode\":\"overlay\",\"size\":10,\"solidity\":0.2}},\"type\":\"barpolar\"}],\"pie\":[{\"automargin\":true,\"type\":\"pie\"}]},\"layout\":{\"autotypenumbers\":\"strict\",\"colorway\":[\"#636efa\",\"#EF553B\",\"#00cc96\",\"#ab63fa\",\"#FFA15A\",\"#19d3f3\",\"#FF6692\",\"#B6E880\",\"#FF97FF\",\"#FECB52\"],\"font\":{\"color\":\"#2a3f5f\"},\"hovermode\":\"closest\",\"hoverlabel\":{\"align\":\"left\"},\"paper_bgcolor\":\"white\",\"plot_bgcolor\":\"#E5ECF6\",\"polar\":{\"bgcolor\":\"#E5ECF6\",\"angularaxis\":{\"gridcolor\":\"white\",\"linecolor\":\"white\",\"ticks\":\"\"},\"radialaxis\":{\"gridcolor\":\"white\",\"linecolor\":\"white\",\"ticks\":\"\"}},\"ternary\":{\"bgcolor\":\"#E5ECF6\",\"aaxis\":{\"gridcolor\":\"white\",\"linecolor\":\"white\",\"ticks\":\"\"},\"baxis\":{\"gridcolor\":\"white\",\"linecolor\":\"white\",\"ticks\":\"\"},\"caxis\":{\"gridcolor\":\"white\",\"linecolor\":\"white\",\"ticks\":\"\"}},\"coloraxis\":{\"colorbar\":{\"outlinewidth\":0,\"ticks\":\"\"}},\"colorscale\":{\"sequential\":[[0.0,\"#0d0887\"],[0.1111111111111111,\"#46039f\"],[0.2222222222222222,\"#7201a8\"],[0.3333333333333333,\"#9c179e\"],[0.4444444444444444,\"#bd3786\"],[0.5555555555555556,\"#d8576b\"],[0.6666666666666666,\"#ed7953\"],[0.7777777777777778,\"#fb9f3a\"],[0.8888888888888888,\"#fdca26\"],[1.0,\"#f0f921\"]],\"sequentialminus\":[[0.0,\"#0d0887\"],[0.1111111111111111,\"#46039f\"],[0.2222222222222222,\"#7201a8\"],[0.3333333333333333,\"#9c179e\"],[0.4444444444444444,\"#bd3786\"],[0.5555555555555556,\"#d8576b\"],[0.6666666666666666,\"#ed7953\"],[0.7777777777777778,\"#fb9f3a\"],[0.8888888888888888,\"#fdca26\"],[1.0,\"#f0f921\"]],\"diverging\":[[0,\"#8e0152\"],[0.1,\"#c51b7d\"],[0.2,\"#de77ae\"],[0.3,\"#f1b6da\"],[0.4,\"#fde0ef\"],[0.5,\"#f7f7f7\"],[0.6,\"#e6f5d0\"],[0.7,\"#b8e186\"],[0.8,\"#7fbc41\"],[0.9,\"#4d9221\"],[1,\"#276419\"]]},\"xaxis\":{\"gridcolor\":\"white\",\"linecolor\":\"white\",\"ticks\":\"\",\"title\":{\"standoff\":15},\"zerolinecolor\":\"white\",\"automargin\":true,\"zerolinewidth\":2},\"yaxis\":{\"gridcolor\":\"white\",\"linecolor\":\"white\",\"ticks\":\"\",\"title\":{\"standoff\":15},\"zerolinecolor\":\"white\",\"automargin\":true,\"zerolinewidth\":2},\"scene\":{\"xaxis\":{\"backgroundcolor\":\"#E5ECF6\",\"gridcolor\":\"white\",\"linecolor\":\"white\",\"showbackground\":true,\"ticks\":\"\",\"zerolinecolor\":\"white\",\"gridwidth\":2},\"yaxis\":{\"backgroundcolor\":\"#E5ECF6\",\"gridcolor\":\"white\",\"linecolor\":\"white\",\"showbackground\":true,\"ticks\":\"\",\"zerolinecolor\":\"white\",\"gridwidth\":2},\"zaxis\":{\"backgroundcolor\":\"#E5ECF6\",\"gridcolor\":\"white\",\"linecolor\":\"white\",\"showbackground\":true,\"ticks\":\"\",\"zerolinecolor\":\"white\",\"gridwidth\":2}},\"shapedefaults\":{\"line\":{\"color\":\"#2a3f5f\"}},\"annotationdefaults\":{\"arrowcolor\":\"#2a3f5f\",\"arrowhead\":0,\"arrowwidth\":1},\"geo\":{\"bgcolor\":\"white\",\"landcolor\":\"#E5ECF6\",\"subunitcolor\":\"white\",\"showland\":true,\"showlakes\":true,\"lakecolor\":\"white\"},\"title\":{\"x\":0.05},\"mapbox\":{\"style\":\"light\"}}},\"xaxis\":{\"anchor\":\"y\",\"domain\":[0.0,1.0],\"scaleanchor\":\"y\",\"constrain\":\"domain\",\"title\":{\"text\":\"\\u0414\\u043b\\u0438\\u043d\\u043d\\u0430 \\u0432\\u0430\\u043d\\u043d\\u044b\"}},\"yaxis\":{\"anchor\":\"x\",\"domain\":[0.0,1.0],\"autorange\":\"reversed\",\"constrain\":\"domain\",\"title\":{\"text\":\"\\u0428\\u0438\\u0440\\u0438\\u043d\\u0430 \\u0432\\u0430\\u043d\\u043d\\u044b\"}},\"coloraxis\":{\"colorscale\":[[0.0,\"rgb(0,0,255)\"],[1.0,\"rgb(255,0,0)\"]]},\"title\":{\"text\":\"\\u0420\\u0430\\u0441\\u043f\\u0440\\u0435\\u0434\\u0435\\u043b\\u0435\\u043d\\u0438\\u0435 \\u041c\\u041f\\u0420\"}},                        {\"responsive\": true}                    ).then(function(){\n",
       "                            \n",
       "var gd = document.getElementById('30ef1ab7-76c7-405e-95e7-85a739c5f8a3');\n",
       "var x = new MutationObserver(function (mutations, observer) {{\n",
       "        var display = window.getComputedStyle(gd).display;\n",
       "        if (!display || display === 'none') {{\n",
       "            console.log([gd, 'removed!']);\n",
       "            Plotly.purge(gd);\n",
       "            observer.disconnect();\n",
       "        }}\n",
       "}});\n",
       "\n",
       "// Listen for the removal of the full notebook cells\n",
       "var notebookContainer = gd.closest('#notebook-container');\n",
       "if (notebookContainer) {{\n",
       "    x.observe(notebookContainer, {childList: true});\n",
       "}}\n",
       "\n",
       "// Listen for the clearing of the current output cell\n",
       "var outputEl = gd.closest('.output');\n",
       "if (outputEl) {{\n",
       "    x.observe(outputEl, {childList: true});\n",
       "}}\n",
       "\n",
       "                        })                };                });            </script>        </div>"
      ]
     },
     "metadata": {},
     "output_type": "display_data"
    },
    {
     "data": {
      "application/vnd.plotly.v1+json": {
       "config": {
        "plotlyServerURL": "https://plot.ly"
       },
       "data": [
        {
         "coloraxis": "coloraxis",
         "hovertemplate": "Длинна ванны: %{x}<br>Ширина ванны: %{y}<br>color: %{z}<extra></extra>",
         "name": "0",
         "type": "heatmap",
         "x": [
          0,
          0.3333333333333333,
          0.6666666666666666,
          1,
          1.3333333333333333,
          1.6666666666666665,
          2,
          2.333333333333333,
          2.6666666666666665,
          3,
          3.333333333333333,
          3.6666666666666665,
          4,
          4.333333333333333,
          4.666666666666666,
          5,
          5.333333333333333,
          5.666666666666666,
          6,
          6.333333333333333,
          6.666666666666666,
          7,
          7.333333333333333,
          7.666666666666666,
          8,
          8.333333333333332,
          8.666666666666666,
          9,
          9.333333333333332,
          9.666666666666666,
          10
         ],
         "xaxis": "x",
         "y": [
          3.5,
          3.15,
          2.8,
          2.4499999999999997,
          2.0999999999999996,
          1.75,
          1.4,
          1.0499999999999998,
          0.7,
          0.35,
          0
         ],
         "yaxis": "y",
         "z": [
          [
           0.07399999999999995,
           0.07399999999999995,
           0.07299999999999995,
           0.07299999999999995,
           0.07399999999999995,
           0.07599999999999996,
           0.07899999999999996,
           0.08199999999999996,
           0.08599999999999997,
           0.08899999999999997,
           0.09099999999999997,
           0.09099999999999997,
           0.08899999999999997,
           0.08699999999999997,
           0.08599999999999997,
           0.08599999999999997,
           0.08699999999999997,
           0.08899999999999997,
           0.09299999999999997,
           0.09699999999999998,
           0.10099999999999998,
           0.10599999999999998,
           0.11199999999999999,
           0.11799999999999997,
           0.12499999999999997,
           0.13199999999999998,
           0.13899999999999998,
           0.146,
           0.15099999999999997,
           0.15599999999999997,
           0.15999999999999998
          ],
          [
           0.07299999999999995,
           0.07199999999999995,
           0.06899999999999995,
           0.066,
           0.063,
           0.063,
           0.064,
           0.066,
           0.06899999999999995,
           0.07199999999999995,
           0.07399999999999995,
           0.07599999999999996,
           0.07699999999999996,
           0.07799999999999996,
           0.07899999999999996,
           0.08099999999999996,
           0.08299999999999996,
           0.08599999999999997,
           0.08899999999999997,
           0.09299999999999997,
           0.09699999999999998,
           0.10199999999999998,
           0.10699999999999998,
           0.11299999999999999,
           0.11899999999999997,
           0.12599999999999997,
           0.13199999999999998,
           0.13899999999999998,
           0.146,
           0.15199999999999997,
           0.15699999999999997
          ],
          [
           0.07699999999999996,
           0.07599999999999996,
           0.07199999999999995,
           0.068,
           0.064,
           0.063,
           0.063,
           0.064,
           0.066,
           0.068,
           0.06999999999999995,
           0.07199999999999995,
           0.07399999999999995,
           0.07599999999999996,
           0.07699999999999996,
           0.07899999999999996,
           0.08199999999999996,
           0.08499999999999996,
           0.08799999999999997,
           0.09199999999999997,
           0.09599999999999997,
           0.09999999999999998,
           0.10499999999999998,
           0.10999999999999999,
           0.11599999999999996,
           0.12199999999999997,
           0.12799999999999997,
           0.13399999999999998,
           0.141,
           0.14799999999999996,
           0.15499999999999997
          ],
          [
           0.08499999999999996,
           0.08399999999999996,
           0.07899999999999996,
           0.07499999999999996,
           0.06999999999999995,
           0.068,
           0.067,
           0.066,
           0.067,
           0.06899999999999995,
           0.06999999999999995,
           0.07199999999999995,
           0.07299999999999995,
           0.07499999999999996,
           0.07699999999999996,
           0.07899999999999996,
           0.08199999999999996,
           0.08399999999999996,
           0.08699999999999997,
           0.09099999999999997,
           0.09499999999999997,
           0.09899999999999998,
           0.10399999999999998,
           0.10799999999999998,
           0.11299999999999999,
           0.11899999999999997,
           0.12499999999999997,
           0.13099999999999998,
           0.13699999999999998,
           0.144,
           0.15199999999999997
          ],
          [
           0.09699999999999998,
           0.09399999999999997,
           0.08899999999999997,
           0.08399999999999996,
           0.07899999999999996,
           0.07599999999999996,
           0.07399999999999995,
           0.07199999999999995,
           0.07199999999999995,
           0.07299999999999995,
           0.07399999999999995,
           0.07499999999999996,
           0.07599999999999996,
           0.07699999999999996,
           0.07899999999999996,
           0.08099999999999996,
           0.08299999999999996,
           0.08499999999999996,
           0.08799999999999997,
           0.09099999999999997,
           0.09499999999999997,
           0.09899999999999998,
           0.10299999999999998,
           0.10699999999999998,
           0.11199999999999999,
           0.11699999999999997,
           0.12199999999999997,
           0.12799999999999997,
           0.13299999999999998,
           0.13999999999999999,
           0.14799999999999996
          ],
          [
           0.10999999999999999,
           0.10599999999999998,
           0.10099999999999998,
           0.09499999999999997,
           0.08999999999999997,
           0.08599999999999997,
           0.08299999999999996,
           0.07999999999999996,
           0.07999999999999996,
           0.07899999999999996,
           0.07899999999999996,
           0.07899999999999996,
           0.07999999999999996,
           0.08099999999999996,
           0.08199999999999996,
           0.08299999999999996,
           0.08499999999999996,
           0.08599999999999997,
           0.08899999999999997,
           0.09199999999999997,
           0.09499999999999997,
           0.09799999999999998,
           0.10199999999999998,
           0.10599999999999998,
           0.10999999999999999,
           0.11499999999999999,
           0.11999999999999997,
           0.12399999999999997,
           0.12999999999999998,
           0.13499999999999998,
           0.142
          ],
          [
           0.12399999999999997,
           0.11799999999999997,
           0.11299999999999999,
           0.10699999999999998,
           0.10199999999999998,
           0.09699999999999998,
           0.09299999999999997,
           0.08999999999999997,
           0.08899999999999997,
           0.08699999999999997,
           0.08599999999999997,
           0.08599999999999997,
           0.08499999999999996,
           0.08599999999999997,
           0.08599999999999997,
           0.08699999999999997,
           0.08699999999999997,
           0.08799999999999997,
           0.08999999999999997,
           0.09199999999999997,
           0.09499999999999997,
           0.09799999999999998,
           0.10099999999999998,
           0.10499999999999998,
           0.10899999999999999,
           0.11299999999999999,
           0.11699999999999997,
           0.12099999999999997,
           0.12499999999999997,
           0.12899999999999998,
           0.13499999999999998
          ],
          [
           0.13599999999999998,
           0.12999999999999998,
           0.12499999999999997,
           0.11999999999999997,
           0.11399999999999999,
           0.10999999999999999,
           0.10499999999999998,
           0.10199999999999998,
           0.09899999999999998,
           0.09599999999999997,
           0.09399999999999997,
           0.09299999999999997,
           0.09099999999999997,
           0.09099999999999997,
           0.08999999999999997,
           0.08999999999999997,
           0.08999999999999997,
           0.09099999999999997,
           0.09199999999999997,
           0.09299999999999997,
           0.09499999999999997,
           0.09699999999999998,
           0.09999999999999998,
           0.10299999999999998,
           0.10599999999999998,
           0.10999999999999999,
           0.11299999999999999,
           0.11699999999999997,
           0.11999999999999997,
           0.12399999999999997,
           0.12799999999999997
          ],
          [
           0.14699999999999996,
           0.142,
           0.13699999999999998,
           0.13299999999999998,
           0.12799999999999997,
           0.12299999999999997,
           0.11899999999999997,
           0.11399999999999999,
           0.10999999999999999,
           0.10599999999999998,
           0.10299999999999998,
           0.09999999999999998,
           0.09699999999999998,
           0.09599999999999997,
           0.09399999999999997,
           0.09299999999999997,
           0.09299999999999997,
           0.09299999999999997,
           0.09299999999999997,
           0.09399999999999997,
           0.09499999999999997,
           0.09699999999999998,
           0.09899999999999998,
           0.10099999999999998,
           0.10299999999999998,
           0.10599999999999998,
           0.10899999999999999,
           0.11199999999999999,
           0.11499999999999999,
           0.11799999999999997,
           0.12099999999999997
          ],
          [
           0.15699999999999997,
           0.15399999999999997,
           0.15099999999999997,
           0.14699999999999996,
           0.144,
           0.13899999999999998,
           0.13399999999999998,
           0.12899999999999998,
           0.12299999999999997,
           0.11699999999999997,
           0.11199999999999999,
           0.10699999999999998,
           0.10299999999999998,
           0.09999999999999998,
           0.09699999999999998,
           0.09599999999999997,
           0.09499999999999997,
           0.09499999999999997,
           0.09499999999999997,
           0.09499999999999997,
           0.09599999999999997,
           0.09599999999999997,
           0.09699999999999998,
           0.09899999999999998,
           0.09999999999999998,
           0.10299999999999998,
           0.10499999999999998,
           0.10799999999999998,
           0.11099999999999999,
           0.11399999999999999,
           0.11499999999999999
          ],
          [
           0.16499999999999998,
           0.16299999999999998,
           0.16399999999999998,
           0.16499999999999998,
           0.16499999999999998,
           0.16199999999999998,
           0.15699999999999997,
           0.14999999999999997,
           0.142,
           0.13299999999999998,
           0.12399999999999997,
           0.11599999999999996,
           0.10899999999999999,
           0.10399999999999998,
           0.09999999999999998,
           0.09799999999999998,
           0.09799999999999998,
           0.09799999999999998,
           0.09799999999999998,
           0.09799999999999998,
           0.09799999999999998,
           0.09699999999999998,
           0.09699999999999998,
           0.09699999999999998,
           0.09799999999999998,
           0.09999999999999998,
           0.10199999999999998,
           0.10499999999999998,
           0.10799999999999998,
           0.11199999999999999,
           0.11299999999999999
          ]
         ]
        }
       ],
       "layout": {
        "coloraxis": {
         "colorscale": [
          [
           0,
           "rgb(0,0,255)"
          ],
          [
           1,
           "rgb(255,0,0)"
          ]
         ]
        },
        "height": 360,
        "template": {
         "data": {
          "bar": [
           {
            "error_x": {
             "color": "#2a3f5f"
            },
            "error_y": {
             "color": "#2a3f5f"
            },
            "marker": {
             "line": {
              "color": "#E5ECF6",
              "width": 0.5
             },
             "pattern": {
              "fillmode": "overlay",
              "size": 10,
              "solidity": 0.2
             }
            },
            "type": "bar"
           }
          ],
          "barpolar": [
           {
            "marker": {
             "line": {
              "color": "#E5ECF6",
              "width": 0.5
             },
             "pattern": {
              "fillmode": "overlay",
              "size": 10,
              "solidity": 0.2
             }
            },
            "type": "barpolar"
           }
          ],
          "carpet": [
           {
            "aaxis": {
             "endlinecolor": "#2a3f5f",
             "gridcolor": "white",
             "linecolor": "white",
             "minorgridcolor": "white",
             "startlinecolor": "#2a3f5f"
            },
            "baxis": {
             "endlinecolor": "#2a3f5f",
             "gridcolor": "white",
             "linecolor": "white",
             "minorgridcolor": "white",
             "startlinecolor": "#2a3f5f"
            },
            "type": "carpet"
           }
          ],
          "choropleth": [
           {
            "colorbar": {
             "outlinewidth": 0,
             "ticks": ""
            },
            "type": "choropleth"
           }
          ],
          "contour": [
           {
            "colorbar": {
             "outlinewidth": 0,
             "ticks": ""
            },
            "colorscale": [
             [
              0,
              "#0d0887"
             ],
             [
              0.1111111111111111,
              "#46039f"
             ],
             [
              0.2222222222222222,
              "#7201a8"
             ],
             [
              0.3333333333333333,
              "#9c179e"
             ],
             [
              0.4444444444444444,
              "#bd3786"
             ],
             [
              0.5555555555555556,
              "#d8576b"
             ],
             [
              0.6666666666666666,
              "#ed7953"
             ],
             [
              0.7777777777777778,
              "#fb9f3a"
             ],
             [
              0.8888888888888888,
              "#fdca26"
             ],
             [
              1,
              "#f0f921"
             ]
            ],
            "type": "contour"
           }
          ],
          "contourcarpet": [
           {
            "colorbar": {
             "outlinewidth": 0,
             "ticks": ""
            },
            "type": "contourcarpet"
           }
          ],
          "heatmap": [
           {
            "colorbar": {
             "outlinewidth": 0,
             "ticks": ""
            },
            "colorscale": [
             [
              0,
              "#0d0887"
             ],
             [
              0.1111111111111111,
              "#46039f"
             ],
             [
              0.2222222222222222,
              "#7201a8"
             ],
             [
              0.3333333333333333,
              "#9c179e"
             ],
             [
              0.4444444444444444,
              "#bd3786"
             ],
             [
              0.5555555555555556,
              "#d8576b"
             ],
             [
              0.6666666666666666,
              "#ed7953"
             ],
             [
              0.7777777777777778,
              "#fb9f3a"
             ],
             [
              0.8888888888888888,
              "#fdca26"
             ],
             [
              1,
              "#f0f921"
             ]
            ],
            "type": "heatmap"
           }
          ],
          "heatmapgl": [
           {
            "colorbar": {
             "outlinewidth": 0,
             "ticks": ""
            },
            "colorscale": [
             [
              0,
              "#0d0887"
             ],
             [
              0.1111111111111111,
              "#46039f"
             ],
             [
              0.2222222222222222,
              "#7201a8"
             ],
             [
              0.3333333333333333,
              "#9c179e"
             ],
             [
              0.4444444444444444,
              "#bd3786"
             ],
             [
              0.5555555555555556,
              "#d8576b"
             ],
             [
              0.6666666666666666,
              "#ed7953"
             ],
             [
              0.7777777777777778,
              "#fb9f3a"
             ],
             [
              0.8888888888888888,
              "#fdca26"
             ],
             [
              1,
              "#f0f921"
             ]
            ],
            "type": "heatmapgl"
           }
          ],
          "histogram": [
           {
            "marker": {
             "pattern": {
              "fillmode": "overlay",
              "size": 10,
              "solidity": 0.2
             }
            },
            "type": "histogram"
           }
          ],
          "histogram2d": [
           {
            "colorbar": {
             "outlinewidth": 0,
             "ticks": ""
            },
            "colorscale": [
             [
              0,
              "#0d0887"
             ],
             [
              0.1111111111111111,
              "#46039f"
             ],
             [
              0.2222222222222222,
              "#7201a8"
             ],
             [
              0.3333333333333333,
              "#9c179e"
             ],
             [
              0.4444444444444444,
              "#bd3786"
             ],
             [
              0.5555555555555556,
              "#d8576b"
             ],
             [
              0.6666666666666666,
              "#ed7953"
             ],
             [
              0.7777777777777778,
              "#fb9f3a"
             ],
             [
              0.8888888888888888,
              "#fdca26"
             ],
             [
              1,
              "#f0f921"
             ]
            ],
            "type": "histogram2d"
           }
          ],
          "histogram2dcontour": [
           {
            "colorbar": {
             "outlinewidth": 0,
             "ticks": ""
            },
            "colorscale": [
             [
              0,
              "#0d0887"
             ],
             [
              0.1111111111111111,
              "#46039f"
             ],
             [
              0.2222222222222222,
              "#7201a8"
             ],
             [
              0.3333333333333333,
              "#9c179e"
             ],
             [
              0.4444444444444444,
              "#bd3786"
             ],
             [
              0.5555555555555556,
              "#d8576b"
             ],
             [
              0.6666666666666666,
              "#ed7953"
             ],
             [
              0.7777777777777778,
              "#fb9f3a"
             ],
             [
              0.8888888888888888,
              "#fdca26"
             ],
             [
              1,
              "#f0f921"
             ]
            ],
            "type": "histogram2dcontour"
           }
          ],
          "mesh3d": [
           {
            "colorbar": {
             "outlinewidth": 0,
             "ticks": ""
            },
            "type": "mesh3d"
           }
          ],
          "parcoords": [
           {
            "line": {
             "colorbar": {
              "outlinewidth": 0,
              "ticks": ""
             }
            },
            "type": "parcoords"
           }
          ],
          "pie": [
           {
            "automargin": true,
            "type": "pie"
           }
          ],
          "scatter": [
           {
            "fillpattern": {
             "fillmode": "overlay",
             "size": 10,
             "solidity": 0.2
            },
            "type": "scatter"
           }
          ],
          "scatter3d": [
           {
            "line": {
             "colorbar": {
              "outlinewidth": 0,
              "ticks": ""
             }
            },
            "marker": {
             "colorbar": {
              "outlinewidth": 0,
              "ticks": ""
             }
            },
            "type": "scatter3d"
           }
          ],
          "scattercarpet": [
           {
            "marker": {
             "colorbar": {
              "outlinewidth": 0,
              "ticks": ""
             }
            },
            "type": "scattercarpet"
           }
          ],
          "scattergeo": [
           {
            "marker": {
             "colorbar": {
              "outlinewidth": 0,
              "ticks": ""
             }
            },
            "type": "scattergeo"
           }
          ],
          "scattergl": [
           {
            "marker": {
             "colorbar": {
              "outlinewidth": 0,
              "ticks": ""
             }
            },
            "type": "scattergl"
           }
          ],
          "scattermapbox": [
           {
            "marker": {
             "colorbar": {
              "outlinewidth": 0,
              "ticks": ""
             }
            },
            "type": "scattermapbox"
           }
          ],
          "scatterpolar": [
           {
            "marker": {
             "colorbar": {
              "outlinewidth": 0,
              "ticks": ""
             }
            },
            "type": "scatterpolar"
           }
          ],
          "scatterpolargl": [
           {
            "marker": {
             "colorbar": {
              "outlinewidth": 0,
              "ticks": ""
             }
            },
            "type": "scatterpolargl"
           }
          ],
          "scatterternary": [
           {
            "marker": {
             "colorbar": {
              "outlinewidth": 0,
              "ticks": ""
             }
            },
            "type": "scatterternary"
           }
          ],
          "surface": [
           {
            "colorbar": {
             "outlinewidth": 0,
             "ticks": ""
            },
            "colorscale": [
             [
              0,
              "#0d0887"
             ],
             [
              0.1111111111111111,
              "#46039f"
             ],
             [
              0.2222222222222222,
              "#7201a8"
             ],
             [
              0.3333333333333333,
              "#9c179e"
             ],
             [
              0.4444444444444444,
              "#bd3786"
             ],
             [
              0.5555555555555556,
              "#d8576b"
             ],
             [
              0.6666666666666666,
              "#ed7953"
             ],
             [
              0.7777777777777778,
              "#fb9f3a"
             ],
             [
              0.8888888888888888,
              "#fdca26"
             ],
             [
              1,
              "#f0f921"
             ]
            ],
            "type": "surface"
           }
          ],
          "table": [
           {
            "cells": {
             "fill": {
              "color": "#EBF0F8"
             },
             "line": {
              "color": "white"
             }
            },
            "header": {
             "fill": {
              "color": "#C8D4E3"
             },
             "line": {
              "color": "white"
             }
            },
            "type": "table"
           }
          ]
         },
         "layout": {
          "annotationdefaults": {
           "arrowcolor": "#2a3f5f",
           "arrowhead": 0,
           "arrowwidth": 1
          },
          "autotypenumbers": "strict",
          "coloraxis": {
           "colorbar": {
            "outlinewidth": 0,
            "ticks": ""
           }
          },
          "colorscale": {
           "diverging": [
            [
             0,
             "#8e0152"
            ],
            [
             0.1,
             "#c51b7d"
            ],
            [
             0.2,
             "#de77ae"
            ],
            [
             0.3,
             "#f1b6da"
            ],
            [
             0.4,
             "#fde0ef"
            ],
            [
             0.5,
             "#f7f7f7"
            ],
            [
             0.6,
             "#e6f5d0"
            ],
            [
             0.7,
             "#b8e186"
            ],
            [
             0.8,
             "#7fbc41"
            ],
            [
             0.9,
             "#4d9221"
            ],
            [
             1,
             "#276419"
            ]
           ],
           "sequential": [
            [
             0,
             "#0d0887"
            ],
            [
             0.1111111111111111,
             "#46039f"
            ],
            [
             0.2222222222222222,
             "#7201a8"
            ],
            [
             0.3333333333333333,
             "#9c179e"
            ],
            [
             0.4444444444444444,
             "#bd3786"
            ],
            [
             0.5555555555555556,
             "#d8576b"
            ],
            [
             0.6666666666666666,
             "#ed7953"
            ],
            [
             0.7777777777777778,
             "#fb9f3a"
            ],
            [
             0.8888888888888888,
             "#fdca26"
            ],
            [
             1,
             "#f0f921"
            ]
           ],
           "sequentialminus": [
            [
             0,
             "#0d0887"
            ],
            [
             0.1111111111111111,
             "#46039f"
            ],
            [
             0.2222222222222222,
             "#7201a8"
            ],
            [
             0.3333333333333333,
             "#9c179e"
            ],
            [
             0.4444444444444444,
             "#bd3786"
            ],
            [
             0.5555555555555556,
             "#d8576b"
            ],
            [
             0.6666666666666666,
             "#ed7953"
            ],
            [
             0.7777777777777778,
             "#fb9f3a"
            ],
            [
             0.8888888888888888,
             "#fdca26"
            ],
            [
             1,
             "#f0f921"
            ]
           ]
          },
          "colorway": [
           "#636efa",
           "#EF553B",
           "#00cc96",
           "#ab63fa",
           "#FFA15A",
           "#19d3f3",
           "#FF6692",
           "#B6E880",
           "#FF97FF",
           "#FECB52"
          ],
          "font": {
           "color": "#2a3f5f"
          },
          "geo": {
           "bgcolor": "white",
           "lakecolor": "white",
           "landcolor": "#E5ECF6",
           "showlakes": true,
           "showland": true,
           "subunitcolor": "white"
          },
          "hoverlabel": {
           "align": "left"
          },
          "hovermode": "closest",
          "mapbox": {
           "style": "light"
          },
          "paper_bgcolor": "white",
          "plot_bgcolor": "#E5ECF6",
          "polar": {
           "angularaxis": {
            "gridcolor": "white",
            "linecolor": "white",
            "ticks": ""
           },
           "bgcolor": "#E5ECF6",
           "radialaxis": {
            "gridcolor": "white",
            "linecolor": "white",
            "ticks": ""
           }
          },
          "scene": {
           "xaxis": {
            "backgroundcolor": "#E5ECF6",
            "gridcolor": "white",
            "gridwidth": 2,
            "linecolor": "white",
            "showbackground": true,
            "ticks": "",
            "zerolinecolor": "white"
           },
           "yaxis": {
            "backgroundcolor": "#E5ECF6",
            "gridcolor": "white",
            "gridwidth": 2,
            "linecolor": "white",
            "showbackground": true,
            "ticks": "",
            "zerolinecolor": "white"
           },
           "zaxis": {
            "backgroundcolor": "#E5ECF6",
            "gridcolor": "white",
            "gridwidth": 2,
            "linecolor": "white",
            "showbackground": true,
            "ticks": "",
            "zerolinecolor": "white"
           }
          },
          "shapedefaults": {
           "line": {
            "color": "#2a3f5f"
           }
          },
          "ternary": {
           "aaxis": {
            "gridcolor": "white",
            "linecolor": "white",
            "ticks": ""
           },
           "baxis": {
            "gridcolor": "white",
            "linecolor": "white",
            "ticks": ""
           },
           "bgcolor": "#E5ECF6",
           "caxis": {
            "gridcolor": "white",
            "linecolor": "white",
            "ticks": ""
           }
          },
          "title": {
           "x": 0.05
          },
          "xaxis": {
           "automargin": true,
           "gridcolor": "white",
           "linecolor": "white",
           "ticks": "",
           "title": {
            "standoff": 15
           },
           "zerolinecolor": "white",
           "zerolinewidth": 2
          },
          "yaxis": {
           "automargin": true,
           "gridcolor": "white",
           "linecolor": "white",
           "ticks": "",
           "title": {
            "standoff": 15
           },
           "zerolinecolor": "white",
           "zerolinewidth": 2
          }
         }
        },
        "title": {
         "text": "Распределение МПР"
        },
        "width": 650,
        "xaxis": {
         "anchor": "y",
         "autorange": true,
         "constrain": "domain",
         "domain": [
          0,
          1
         ],
         "range": [
          -0.16666666666666666,
          10.166666666666668
         ],
         "scaleanchor": "y",
         "title": {
          "text": "Длинна ванны"
         },
         "type": "linear"
        },
        "yaxis": {
         "anchor": "x",
         "autorange": true,
         "constrain": "domain",
         "domain": [
          0.012540322580645302,
          0.9874596774193547
         ],
         "range": [
          3.675,
          -0.175
         ],
         "title": {
          "text": "Ширина ванны"
         },
         "type": "linear"
        }
       }
      },
      "image/png": "[encoded data removed]",
      "text/html": [
       "<div>                            <div id=\"d91b8708-b1b3-4238-a870-ce84184843f5\" class=\"plotly-graph-div\" style=\"height:525px; width:650px;\"></div>            <script type=\"text/javascript\">                require([\"plotly\"], function(Plotly) {                    window.PLOTLYENV=window.PLOTLYENV || {};                                    if (document.getElementById(\"d91b8708-b1b3-4238-a870-ce84184843f5\")) {                    Plotly.newPlot(                        \"d91b8708-b1b3-4238-a870-ce84184843f5\",                        [{\"coloraxis\":\"coloraxis\",\"name\":\"0\",\"x\":[0.0,0.3333333333333333,0.6666666666666666,1.0,1.3333333333333333,1.6666666666666665,2.0,2.333333333333333,2.6666666666666665,3.0,3.333333333333333,3.6666666666666665,4.0,4.333333333333333,4.666666666666666,5.0,5.333333333333333,5.666666666666666,6.0,6.333333333333333,6.666666666666666,7.0,7.333333333333333,7.666666666666666,8.0,8.333333333333332,8.666666666666666,9.0,9.333333333333332,9.666666666666666,10.0],\"y\":[3.5,3.15,2.8,2.4499999999999997,2.0999999999999996,1.75,1.4,1.0499999999999998,0.7,0.35,0.0],\"z\":[[0.07399999999999995,0.07399999999999995,0.07299999999999995,0.07299999999999995,0.07399999999999995,0.07599999999999996,0.07899999999999996,0.08199999999999996,0.08599999999999997,0.08899999999999997,0.09099999999999997,0.09099999999999997,0.08899999999999997,0.08699999999999997,0.08599999999999997,0.08599999999999997,0.08699999999999997,0.08899999999999997,0.09299999999999997,0.09699999999999998,0.10099999999999998,0.10599999999999998,0.11199999999999999,0.11799999999999997,0.12499999999999997,0.13199999999999998,0.13899999999999998,0.146,0.15099999999999997,0.15599999999999997,0.15999999999999998],[0.07299999999999995,0.07199999999999995,0.06899999999999995,0.066,0.063,0.063,0.064,0.066,0.06899999999999995,0.07199999999999995,0.07399999999999995,0.07599999999999996,0.07699999999999996,0.07799999999999996,0.07899999999999996,0.08099999999999996,0.08299999999999996,0.08599999999999997,0.08899999999999997,0.09299999999999997,0.09699999999999998,0.10199999999999998,0.10699999999999998,0.11299999999999999,0.11899999999999997,0.12599999999999997,0.13199999999999998,0.13899999999999998,0.146,0.15199999999999997,0.15699999999999997],[0.07699999999999996,0.07599999999999996,0.07199999999999995,0.068,0.064,0.063,0.063,0.064,0.066,0.068,0.06999999999999995,0.07199999999999995,0.07399999999999995,0.07599999999999996,0.07699999999999996,0.07899999999999996,0.08199999999999996,0.08499999999999996,0.08799999999999997,0.09199999999999997,0.09599999999999997,0.09999999999999998,0.10499999999999998,0.10999999999999999,0.11599999999999996,0.12199999999999997,0.12799999999999997,0.13399999999999998,0.141,0.14799999999999996,0.15499999999999997],[0.08499999999999996,0.08399999999999996,0.07899999999999996,0.07499999999999996,0.06999999999999995,0.068,0.067,0.066,0.067,0.06899999999999995,0.06999999999999995,0.07199999999999995,0.07299999999999995,0.07499999999999996,0.07699999999999996,0.07899999999999996,0.08199999999999996,0.08399999999999996,0.08699999999999997,0.09099999999999997,0.09499999999999997,0.09899999999999998,0.10399999999999998,0.10799999999999998,0.11299999999999999,0.11899999999999997,0.12499999999999997,0.13099999999999998,0.13699999999999998,0.144,0.15199999999999997],[0.09699999999999998,0.09399999999999997,0.08899999999999997,0.08399999999999996,0.07899999999999996,0.07599999999999996,0.07399999999999995,0.07199999999999995,0.07199999999999995,0.07299999999999995,0.07399999999999995,0.07499999999999996,0.07599999999999996,0.07699999999999996,0.07899999999999996,0.08099999999999996,0.08299999999999996,0.08499999999999996,0.08799999999999997,0.09099999999999997,0.09499999999999997,0.09899999999999998,0.10299999999999998,0.10699999999999998,0.11199999999999999,0.11699999999999997,0.12199999999999997,0.12799999999999997,0.13299999999999998,0.13999999999999999,0.14799999999999996],[0.10999999999999999,0.10599999999999998,0.10099999999999998,0.09499999999999997,0.08999999999999997,0.08599999999999997,0.08299999999999996,0.07999999999999996,0.07999999999999996,0.07899999999999996,0.07899999999999996,0.07899999999999996,0.07999999999999996,0.08099999999999996,0.08199999999999996,0.08299999999999996,0.08499999999999996,0.08599999999999997,0.08899999999999997,0.09199999999999997,0.09499999999999997,0.09799999999999998,0.10199999999999998,0.10599999999999998,0.10999999999999999,0.11499999999999999,0.11999999999999997,0.12399999999999997,0.12999999999999998,0.13499999999999998,0.142],[0.12399999999999997,0.11799999999999997,0.11299999999999999,0.10699999999999998,0.10199999999999998,0.09699999999999998,0.09299999999999997,0.08999999999999997,0.08899999999999997,0.08699999999999997,0.08599999999999997,0.08599999999999997,0.08499999999999996,0.08599999999999997,0.08599999999999997,0.08699999999999997,0.08699999999999997,0.08799999999999997,0.08999999999999997,0.09199999999999997,0.09499999999999997,0.09799999999999998,0.10099999999999998,0.10499999999999998,0.10899999999999999,0.11299999999999999,0.11699999999999997,0.12099999999999997,0.12499999999999997,0.12899999999999998,0.13499999999999998],[0.13599999999999998,0.12999999999999998,0.12499999999999997,0.11999999999999997,0.11399999999999999,0.10999999999999999,0.10499999999999998,0.10199999999999998,0.09899999999999998,0.09599999999999997,0.09399999999999997,0.09299999999999997,0.09099999999999997,0.09099999999999997,0.08999999999999997,0.08999999999999997,0.08999999999999997,0.09099999999999997,0.09199999999999997,0.09299999999999997,0.09499999999999997,0.09699999999999998,0.09999999999999998,0.10299999999999998,0.10599999999999998,0.10999999999999999,0.11299999999999999,0.11699999999999997,0.11999999999999997,0.12399999999999997,0.12799999999999997],[0.14699999999999996,0.142,0.13699999999999998,0.13299999999999998,0.12799999999999997,0.12299999999999997,0.11899999999999997,0.11399999999999999,0.10999999999999999,0.10599999999999998,0.10299999999999998,0.09999999999999998,0.09699999999999998,0.09599999999999997,0.09399999999999997,0.09299999999999997,0.09299999999999997,0.09299999999999997,0.09299999999999997,0.09399999999999997,0.09499999999999997,0.09699999999999998,0.09899999999999998,0.10099999999999998,0.10299999999999998,0.10599999999999998,0.10899999999999999,0.11199999999999999,0.11499999999999999,0.11799999999999997,0.12099999999999997],[0.15699999999999997,0.15399999999999997,0.15099999999999997,0.14699999999999996,0.144,0.13899999999999998,0.13399999999999998,0.12899999999999998,0.12299999999999997,0.11699999999999997,0.11199999999999999,0.10699999999999998,0.10299999999999998,0.09999999999999998,0.09699999999999998,0.09599999999999997,0.09499999999999997,0.09499999999999997,0.09499999999999997,0.09499999999999997,0.09599999999999997,0.09599999999999997,0.09699999999999998,0.09899999999999998,0.09999999999999998,0.10299999999999998,0.10499999999999998,0.10799999999999998,0.11099999999999999,0.11399999999999999,0.11499999999999999],[0.16499999999999998,0.16299999999999998,0.16399999999999998,0.16499999999999998,0.16499999999999998,0.16199999999999998,0.15699999999999997,0.14999999999999997,0.142,0.13299999999999998,0.12399999999999997,0.11599999999999996,0.10899999999999999,0.10399999999999998,0.09999999999999998,0.09799999999999998,0.09799999999999998,0.09799999999999998,0.09799999999999998,0.09799999999999998,0.09799999999999998,0.09699999999999998,0.09699999999999998,0.09699999999999998,0.09799999999999998,0.09999999999999998,0.10199999999999998,0.10499999999999998,0.10799999999999998,0.11199999999999999,0.11299999999999999]],\"type\":\"heatmap\",\"xaxis\":\"x\",\"yaxis\":\"y\",\"hovertemplate\":\"\\u0414\\u043b\\u0438\\u043d\\u043d\\u0430 \\u0432\\u0430\\u043d\\u043d\\u044b: %{x}\\u003cbr\\u003e\\u0428\\u0438\\u0440\\u0438\\u043d\\u0430 \\u0432\\u0430\\u043d\\u043d\\u044b: %{y}\\u003cbr\\u003ecolor: %{z}\\u003cextra\\u003e\\u003c\\u002fextra\\u003e\"}],                        {\"template\":{\"data\":{\"histogram2dcontour\":[{\"type\":\"histogram2dcontour\",\"colorbar\":{\"outlinewidth\":0,\"ticks\":\"\"},\"colorscale\":[[0.0,\"#0d0887\"],[0.1111111111111111,\"#46039f\"],[0.2222222222222222,\"#7201a8\"],[0.3333333333333333,\"#9c179e\"],[0.4444444444444444,\"#bd3786\"],[0.5555555555555556,\"#d8576b\"],[0.6666666666666666,\"#ed7953\"],[0.7777777777777778,\"#fb9f3a\"],[0.8888888888888888,\"#fdca26\"],[1.0,\"#f0f921\"]]}],\"choropleth\":[{\"type\":\"choropleth\",\"colorbar\":{\"outlinewidth\":0,\"ticks\":\"\"}}],\"histogram2d\":[{\"type\":\"histogram2d\",\"colorbar\":{\"outlinewidth\":0,\"ticks\":\"\"},\"colorscale\":[[0.0,\"#0d0887\"],[0.1111111111111111,\"#46039f\"],[0.2222222222222222,\"#7201a8\"],[0.3333333333333333,\"#9c179e\"],[0.4444444444444444,\"#bd3786\"],[0.5555555555555556,\"#d8576b\"],[0.6666666666666666,\"#ed7953\"],[0.7777777777777778,\"#fb9f3a\"],[0.8888888888888888,\"#fdca26\"],[1.0,\"#f0f921\"]]}],\"heatmap\":[{\"type\":\"heatmap\",\"colorbar\":{\"outlinewidth\":0,\"ticks\":\"\"},\"colorscale\":[[0.0,\"#0d0887\"],[0.1111111111111111,\"#46039f\"],[0.2222222222222222,\"#7201a8\"],[0.3333333333333333,\"#9c179e\"],[0.4444444444444444,\"#bd3786\"],[0.5555555555555556,\"#d8576b\"],[0.6666666666666666,\"#ed7953\"],[0.7777777777777778,\"#fb9f3a\"],[0.8888888888888888,\"#fdca26\"],[1.0,\"#f0f921\"]]}],\"heatmapgl\":[{\"type\":\"heatmapgl\",\"colorbar\":{\"outlinewidth\":0,\"ticks\":\"\"},\"colorscale\":[[0.0,\"#0d0887\"],[0.1111111111111111,\"#46039f\"],[0.2222222222222222,\"#7201a8\"],[0.3333333333333333,\"#9c179e\"],[0.4444444444444444,\"#bd3786\"],[0.5555555555555556,\"#d8576b\"],[0.6666666666666666,\"#ed7953\"],[0.7777777777777778,\"#fb9f3a\"],[0.8888888888888888,\"#fdca26\"],[1.0,\"#f0f921\"]]}],\"contourcarpet\":[{\"type\":\"contourcarpet\",\"colorbar\":{\"outlinewidth\":0,\"ticks\":\"\"}}],\"contour\":[{\"type\":\"contour\",\"colorbar\":{\"outlinewidth\":0,\"ticks\":\"\"},\"colorscale\":[[0.0,\"#0d0887\"],[0.1111111111111111,\"#46039f\"],[0.2222222222222222,\"#7201a8\"],[0.3333333333333333,\"#9c179e\"],[0.4444444444444444,\"#bd3786\"],[0.5555555555555556,\"#d8576b\"],[0.6666666666666666,\"#ed7953\"],[0.7777777777777778,\"#fb9f3a\"],[0.8888888888888888,\"#fdca26\"],[1.0,\"#f0f921\"]]}],\"surface\":[{\"type\":\"surface\",\"colorbar\":{\"outlinewidth\":0,\"ticks\":\"\"},\"colorscale\":[[0.0,\"#0d0887\"],[0.1111111111111111,\"#46039f\"],[0.2222222222222222,\"#7201a8\"],[0.3333333333333333,\"#9c179e\"],[0.4444444444444444,\"#bd3786\"],[0.5555555555555556,\"#d8576b\"],[0.6666666666666666,\"#ed7953\"],[0.7777777777777778,\"#fb9f3a\"],[0.8888888888888888,\"#fdca26\"],[1.0,\"#f0f921\"]]}],\"mesh3d\":[{\"type\":\"mesh3d\",\"colorbar\":{\"outlinewidth\":0,\"ticks\":\"\"}}],\"scatter\":[{\"fillpattern\":{\"fillmode\":\"overlay\",\"size\":10,\"solidity\":0.2},\"type\":\"scatter\"}],\"parcoords\":[{\"type\":\"parcoords\",\"line\":{\"colorbar\":{\"outlinewidth\":0,\"ticks\":\"\"}}}],\"scatterpolargl\":[{\"type\":\"scatterpolargl\",\"marker\":{\"colorbar\":{\"outlinewidth\":0,\"ticks\":\"\"}}}],\"bar\":[{\"error_x\":{\"color\":\"#2a3f5f\"},\"error_y\":{\"color\":\"#2a3f5f\"},\"marker\":{\"line\":{\"color\":\"#E5ECF6\",\"width\":0.5},\"pattern\":{\"fillmode\":\"overlay\",\"size\":10,\"solidity\":0.2}},\"type\":\"bar\"}],\"scattergeo\":[{\"type\":\"scattergeo\",\"marker\":{\"colorbar\":{\"outlinewidth\":0,\"ticks\":\"\"}}}],\"scatterpolar\":[{\"type\":\"scatterpolar\",\"marker\":{\"colorbar\":{\"outlinewidth\":0,\"ticks\":\"\"}}}],\"histogram\":[{\"marker\":{\"pattern\":{\"fillmode\":\"overlay\",\"size\":10,\"solidity\":0.2}},\"type\":\"histogram\"}],\"scattergl\":[{\"type\":\"scattergl\",\"marker\":{\"colorbar\":{\"outlinewidth\":0,\"ticks\":\"\"}}}],\"scatter3d\":[{\"type\":\"scatter3d\",\"line\":{\"colorbar\":{\"outlinewidth\":0,\"ticks\":\"\"}},\"marker\":{\"colorbar\":{\"outlinewidth\":0,\"ticks\":\"\"}}}],\"scattermapbox\":[{\"type\":\"scattermapbox\",\"marker\":{\"colorbar\":{\"outlinewidth\":0,\"ticks\":\"\"}}}],\"scatterternary\":[{\"type\":\"scatterternary\",\"marker\":{\"colorbar\":{\"outlinewidth\":0,\"ticks\":\"\"}}}],\"scattercarpet\":[{\"type\":\"scattercarpet\",\"marker\":{\"colorbar\":{\"outlinewidth\":0,\"ticks\":\"\"}}}],\"carpet\":[{\"aaxis\":{\"endlinecolor\":\"#2a3f5f\",\"gridcolor\":\"white\",\"linecolor\":\"white\",\"minorgridcolor\":\"white\",\"startlinecolor\":\"#2a3f5f\"},\"baxis\":{\"endlinecolor\":\"#2a3f5f\",\"gridcolor\":\"white\",\"linecolor\":\"white\",\"minorgridcolor\":\"white\",\"startlinecolor\":\"#2a3f5f\"},\"type\":\"carpet\"}],\"table\":[{\"cells\":{\"fill\":{\"color\":\"#EBF0F8\"},\"line\":{\"color\":\"white\"}},\"header\":{\"fill\":{\"color\":\"#C8D4E3\"},\"line\":{\"color\":\"white\"}},\"type\":\"table\"}],\"barpolar\":[{\"marker\":{\"line\":{\"color\":\"#E5ECF6\",\"width\":0.5},\"pattern\":{\"fillmode\":\"overlay\",\"size\":10,\"solidity\":0.2}},\"type\":\"barpolar\"}],\"pie\":[{\"automargin\":true,\"type\":\"pie\"}]},\"layout\":{\"autotypenumbers\":\"strict\",\"colorway\":[\"#636efa\",\"#EF553B\",\"#00cc96\",\"#ab63fa\",\"#FFA15A\",\"#19d3f3\",\"#FF6692\",\"#B6E880\",\"#FF97FF\",\"#FECB52\"],\"font\":{\"color\":\"#2a3f5f\"},\"hovermode\":\"closest\",\"hoverlabel\":{\"align\":\"left\"},\"paper_bgcolor\":\"white\",\"plot_bgcolor\":\"#E5ECF6\",\"polar\":{\"bgcolor\":\"#E5ECF6\",\"angularaxis\":{\"gridcolor\":\"white\",\"linecolor\":\"white\",\"ticks\":\"\"},\"radialaxis\":{\"gridcolor\":\"white\",\"linecolor\":\"white\",\"ticks\":\"\"}},\"ternary\":{\"bgcolor\":\"#E5ECF6\",\"aaxis\":{\"gridcolor\":\"white\",\"linecolor\":\"white\",\"ticks\":\"\"},\"baxis\":{\"gridcolor\":\"white\",\"linecolor\":\"white\",\"ticks\":\"\"},\"caxis\":{\"gridcolor\":\"white\",\"linecolor\":\"white\",\"ticks\":\"\"}},\"coloraxis\":{\"colorbar\":{\"outlinewidth\":0,\"ticks\":\"\"}},\"colorscale\":{\"sequential\":[[0.0,\"#0d0887\"],[0.1111111111111111,\"#46039f\"],[0.2222222222222222,\"#7201a8\"],[0.3333333333333333,\"#9c179e\"],[0.4444444444444444,\"#bd3786\"],[0.5555555555555556,\"#d8576b\"],[0.6666666666666666,\"#ed7953\"],[0.7777777777777778,\"#fb9f3a\"],[0.8888888888888888,\"#fdca26\"],[1.0,\"#f0f921\"]],\"sequentialminus\":[[0.0,\"#0d0887\"],[0.1111111111111111,\"#46039f\"],[0.2222222222222222,\"#7201a8\"],[0.3333333333333333,\"#9c179e\"],[0.4444444444444444,\"#bd3786\"],[0.5555555555555556,\"#d8576b\"],[0.6666666666666666,\"#ed7953\"],[0.7777777777777778,\"#fb9f3a\"],[0.8888888888888888,\"#fdca26\"],[1.0,\"#f0f921\"]],\"diverging\":[[0,\"#8e0152\"],[0.1,\"#c51b7d\"],[0.2,\"#de77ae\"],[0.3,\"#f1b6da\"],[0.4,\"#fde0ef\"],[0.5,\"#f7f7f7\"],[0.6,\"#e6f5d0\"],[0.7,\"#b8e186\"],[0.8,\"#7fbc41\"],[0.9,\"#4d9221\"],[1,\"#276419\"]]},\"xaxis\":{\"gridcolor\":\"white\",\"linecolor\":\"white\",\"ticks\":\"\",\"title\":{\"standoff\":15},\"zerolinecolor\":\"white\",\"automargin\":true,\"zerolinewidth\":2},\"yaxis\":{\"gridcolor\":\"white\",\"linecolor\":\"white\",\"ticks\":\"\",\"title\":{\"standoff\":15},\"zerolinecolor\":\"white\",\"automargin\":true,\"zerolinewidth\":2},\"scene\":{\"xaxis\":{\"backgroundcolor\":\"#E5ECF6\",\"gridcolor\":\"white\",\"linecolor\":\"white\",\"showbackground\":true,\"ticks\":\"\",\"zerolinecolor\":\"white\",\"gridwidth\":2},\"yaxis\":{\"backgroundcolor\":\"#E5ECF6\",\"gridcolor\":\"white\",\"linecolor\":\"white\",\"showbackground\":true,\"ticks\":\"\",\"zerolinecolor\":\"white\",\"gridwidth\":2},\"zaxis\":{\"backgroundcolor\":\"#E5ECF6\",\"gridcolor\":\"white\",\"linecolor\":\"white\",\"showbackground\":true,\"ticks\":\"\",\"zerolinecolor\":\"white\",\"gridwidth\":2}},\"shapedefaults\":{\"line\":{\"color\":\"#2a3f5f\"}},\"annotationdefaults\":{\"arrowcolor\":\"#2a3f5f\",\"arrowhead\":0,\"arrowwidth\":1},\"geo\":{\"bgcolor\":\"white\",\"landcolor\":\"#E5ECF6\",\"subunitcolor\":\"white\",\"showland\":true,\"showlakes\":true,\"lakecolor\":\"white\"},\"title\":{\"x\":0.05},\"mapbox\":{\"style\":\"light\"}}},\"xaxis\":{\"anchor\":\"y\",\"domain\":[0.0,1.0],\"scaleanchor\":\"y\",\"constrain\":\"domain\",\"title\":{\"text\":\"\\u0414\\u043b\\u0438\\u043d\\u043d\\u0430 \\u0432\\u0430\\u043d\\u043d\\u044b\"}},\"yaxis\":{\"anchor\":\"x\",\"domain\":[0.0,1.0],\"autorange\":\"reversed\",\"constrain\":\"domain\",\"title\":{\"text\":\"\\u0428\\u0438\\u0440\\u0438\\u043d\\u0430 \\u0432\\u0430\\u043d\\u043d\\u044b\"}},\"coloraxis\":{\"colorscale\":[[0.0,\"rgb(0,0,255)\"],[1.0,\"rgb(255,0,0)\"]]},\"title\":{\"text\":\"\\u0420\\u0430\\u0441\\u043f\\u0440\\u0435\\u0434\\u0435\\u043b\\u0435\\u043d\\u0438\\u0435 \\u041c\\u041f\\u0420\"},\"width\":650},                        {\"responsive\": true}                    ).then(function(){\n",
       "                            \n",
       "var gd = document.getElementById('d91b8708-b1b3-4238-a870-ce84184843f5');\n",
       "var x = new MutationObserver(function (mutations, observer) {{\n",
       "        var display = window.getComputedStyle(gd).display;\n",
       "        if (!display || display === 'none') {{\n",
       "            console.log([gd, 'removed!']);\n",
       "            Plotly.purge(gd);\n",
       "            observer.disconnect();\n",
       "        }}\n",
       "}});\n",
       "\n",
       "// Listen for the removal of the full notebook cells\n",
       "var notebookContainer = gd.closest('#notebook-container');\n",
       "if (notebookContainer) {{\n",
       "    x.observe(notebookContainer, {childList: true});\n",
       "}}\n",
       "\n",
       "// Listen for the clearing of the current output cell\n",
       "var outputEl = gd.closest('.output');\n",
       "if (outputEl) {{\n",
       "    x.observe(outputEl, {childList: true});\n",
       "}}\n",
       "\n",
       "                        })                };                });            </script>        </div>"
      ]
     },
     "metadata": {},
     "output_type": "display_data"
    }
   ],
   "source": [
    "x = np.linspace(start=0, stop=10, num=31)\n",
    "y = np.flip(np.linspace(start=0, stop=3.5, num=11))\n",
    "title = 'Распределение МПР'\n",
    "labels = {'x':'Длинна ванны', 'y':'Ширина ванны'}\n",
    "fig = px.imshow(d,x=x, y=y, color_continuous_scale='bluered', labels=labels, title=title)\n",
    "fig2 = px.imshow(d,x=x, y=y, color_continuous_scale='bluered', labels=labels, title=title, width=650)\n",
    "fig.show()\n",
    "fig2.show()"
   ]
  },
  {
   "cell_type": "code",
   "execution_count": 6,
   "id": "2b75d46d-9e0f-4cfd-bfbf-b5e5648fcfd9",
   "metadata": {},
   "outputs": [
    {
     "data": {
      "application/vnd.plotly.v1+json": {
       "config": {
        "plotlyServerURL": "https://plot.ly"
       },
       "data": [
        {
         "coloraxis": "coloraxis",
         "hovertemplate": "Длинна ванны: %{x}<br>Ширина ванны: %{y}<br>color: %{z}<extra></extra>",
         "name": "0",
         "type": "heatmap",
         "x": [
          10,
          9.882352941176471,
          9.76470588235294,
          9.647058823529411,
          9.529411764705882,
          9.411764705882353,
          9.294117647058824,
          9.176470588235293,
          9.058823529411764,
          8.941176470588236,
          8.823529411764707,
          8.705882352941176,
          8.588235294117647,
          8.470588235294118,
          8.352941176470589,
          8.235294117647058,
          8.117647058823529,
          8,
          7.88235294117647,
          7.764705882352941,
          7.647058823529411,
          7.529411764705882,
          7.411764705882353,
          7.294117647058823,
          7.176470588235294,
          7.0588235294117645,
          6.9411764705882355,
          6.823529411764706,
          6.705882352941177,
          6.588235294117647,
          6.470588235294118,
          6.352941176470588,
          6.235294117647059,
          6.117647058823529,
          6,
          5.88235294117647,
          5.764705882352941,
          5.647058823529411,
          5.529411764705882,
          5.411764705882353,
          5.294117647058823,
          5.176470588235294,
          5.0588235294117645,
          4.9411764705882355,
          4.823529411764706,
          4.705882352941177,
          4.588235294117647,
          4.470588235294118,
          4.352941176470588,
          4.235294117647059,
          4.117647058823529,
          4,
          3.8823529411764706,
          3.764705882352941,
          3.6470588235294117,
          3.5294117647058822,
          3.411764705882353,
          3.2941176470588234,
          3.176470588235294,
          3.0588235294117645,
          2.941176470588235,
          2.8235294117647056,
          2.7058823529411766,
          2.588235294117647,
          2.4705882352941178,
          2.3529411764705883,
          2.235294117647059,
          2.1176470588235294,
          2,
          1.8823529411764706,
          1.7647058823529411,
          1.6470588235294117,
          1.5294117647058822,
          1.4117647058823528,
          1.2941176470588236,
          1.1764705882352942,
          1.0588235294117647,
          0.9411764705882353,
          0.8235294117647058,
          0.7058823529411764,
          0.5882352941176471,
          0.47058823529411764,
          0.3529411764705882,
          0.23529411764705882,
          0.11764705882352941,
          0
         ],
         "xaxis": "x",
         "y": [
          3.5,
          3.111111111111111,
          2.7222222222222223,
          2.3333333333333335,
          1.9444444444444444,
          1.5555555555555556,
          1.1666666666666667,
          0.7777777777777778,
          0.3888888888888889,
          0
         ],
         "yaxis": "y",
         "z": [
          [
           0.0000839172799569501,
           0.00008386249015046287,
           0.00008386249015046287,
           0.0000838075372771623,
           0.00008386187702874423,
           0.00008380754033802586,
           0.0000838070783337639,
           0.0000838075372771623,
           0.00008386187702874427,
           0.00008386187702874427,
           0.0000838618770287442,
           0.00008391728302182171,
           0.00008391682041258332,
           0.00008391727995695005,
           0.00008397374839218141,
           0.00008397190902352376,
           0.00008397376065951102,
           0.00008386187702874427,
           0.00008391727995695012,
           0.00008391682041258336,
           0.00008391728302182163,
           0.00008386187702874416,
           0.00008380753727716234,
           0.00008380707833376393,
           0.00008380754033802587,
           0.00008386187702874427,
           0.00008386187702874416,
           0.00008391728302182163,
           0.00008391682041258346,
           0.00008397176073354063,
           0.00008391682041258325,
           0.00008391727995695,
           0.00008386187702874416,
           0.00008386187702874416,
           0.00008391727995695023,
           0.00008391682041258346,
           0.00008444611333654533,
           0.00008436164144845474,
           0.00008475103307112685,
           0.00008424954951512335,
           0.00008437119487909147,
           0.00008397190902352365,
           0.00008413761162494436,
           0.00008402714340253525,
           0.0000841376269895325,
           0.00008397190902352388,
           0.00008408192876677605,
           0.00008397190902352365,
           0.00008419436348564962,
           0.00008408252409333263,
           0.00008465504612328977,
           0.00008447325915660815,
           0.00008451934792868403,
           0.00008391727995695023,
           0.00008487744498130742,
           0.00008481401879051452,
           0.00008493315875948988,
           0.00008391727995695023,
           0.00008386187702874438,
           0.00008386187702874438,
           0.00008386187702874392,
           0.00008386187702874392,
           0.00008487744498130788,
           0.00008475870643808066,
           0.00008663627302458745,
           0.000086579118298014,
           0.000089912861773881,
           0.00008970454749764896,
           0.0000926260869494707,
           0.00009129048267898013,
           0.00009339555873241558,
           0.00009323683304119772,
           0.00009487317972620252,
           0.00009504567935874814,
           0.00009545353610113151,
           0.00009564971503745368,
           0.00009551894458424726,
           0.00009552365219650115,
           0.0000953232790318552,
           0.0000953232790318552,
           0.00009532327903185468,
           0.00009532327903185468,
           0.0000953232790318552,
           0.0000953232790318552,
           0.00009532327903185468,
           0.00009532327903185468
          ],
          [
           0.00008397280454370125,
           0.00008397648323805737,
           0.00008380754033802586,
           0.00008391728302182173,
           0.00008386248096185318,
           0.00008386248096185318,
           0.00008380754033802586,
           0.00008386187702874423,
           0.00008386187702874427,
           0.00008386187702874427,
           0.00008391727995695005,
           0.00008391682041258332,
           0.00008391728302182171,
           0.0000838618770287442,
           0.00008386187702874427,
           0.00008386187702874427,
           0.00008386187702874427,
           0.00008386187702874427,
           0.00008386187702874427,
           0.00008386187702874427,
           0.00008386187702874416,
           0.00008386187702874416,
           0.00008386187702874427,
           0.00008391728302182175,
           0.00008391682041258336,
           0.00008397176073354052,
           0.00008397222364564894,
           0.00008397222364564894,
           0.00008397176073354063,
           0.00008391682041258346,
           0.00008391728302182163,
           0.00008386187702874416,
           0.00008386187702874416,
           0.00008386187702874416,
           0.00008386187702874438,
           0.00008386187702874438,
           0.00008386187702874416,
           0.00008386187702874416,
           0.00008386187702874438,
           0.00008386187702874438,
           0.00008386187702874416,
           0.00008386187702874416,
           0.00008386187702874416,
           0.00008386187702874416,
           0.00008386187702874438,
           0.00008391728302182188,
           0.00008391682041258325,
           0.00008391727995695,
           0.00008386187702874416,
           0.00008386187702874416,
           0.00008391727995695023,
           0.00008397222057877096,
           0.00008397222057877096,
           0.00008391727995695023,
           0.00008391727995694977,
           0.00008739696373570504,
           0.00008647947629586761,
           0.00008923732685620276,
           0.00008667290020550253,
           0.00008775947410401505,
           0.00008386187702874392,
           0.00008386187702874392,
           0.00008386187702874438,
           0.00008386187702874438,
           0.00008480582528829397,
           0.00008470152657283225,
           0.00008651959201828062,
           0.00008580309653983116,
           0.00008768939570162454,
           0.00008752261660385824,
           0.00009076671607486872,
           0.00009032139087145962,
           0.0000929376652173761,
           0.00009123877914176129,
           0.00009354456873278691,
           0.00009130441667703186,
           0.00009341868696236513,
           0.00009390659240810143,
           0.0000953883145022215,
           0.00009538883686665772,
           0.00009532327903185468,
           0.00009532327903185468,
           0.0000953232790318552,
           0.0000953232790318552,
           0.00009532327903185468,
           0.00009532327903185468
          ],
          [
           0.0000840313122649299,
           0.00008386187702874423,
           0.0000839172799569501,
           0.00008391682041258333,
           0.00008391728302182173,
           0.00008386187702874423,
           0.00008386187702874423,
           0.00008386187702874423,
           0.00008386187702874427,
           0.00008386187702874427,
           0.0000838618770287442,
           0.0000838618770287442,
           0.0000838618770287442,
           0.0000838618770287442,
           0.00008386187702874427,
           0.00008386187702874427,
           0.00008386187702874427,
           0.00008386187702874427,
           0.00008386187702874427,
           0.00008386187702874427,
           0.00008386187702874416,
           0.00008386187702874416,
           0.00008391727995695012,
           0.00008391682041258336,
           0.00008397176073354052,
           0.00008391682041258336,
           0.00008391728302182163,
           0.00008386187702874416,
           0.00008386187702874438,
           0.00008391728302182188,
           0.00008391682041258325,
           0.00008391727995695,
           0.00008386187702874416,
           0.00008386187702874416,
           0.00008386187702874438,
           0.00008386187702874438,
           0.00008386187702874416,
           0.00008386187702874416,
           0.00008386187702874438,
           0.00008386187702874438,
           0.00008386187702874416,
           0.00008386187702874416,
           0.00008386187702874416,
           0.00008386187702874416,
           0.00008391727995695023,
           0.00008397222057877096,
           0.00008397222057877075,
           0.00008397176073354041,
           0.00008391682041258325,
           0.00008391727995695,
           0.00008391727995695023,
           0.00008391682041258346,
           0.00008391728302182188,
           0.00008386187702874438,
           0.00008733566206733432,
           0.00008659306970840919,
           0.00008940056051497926,
           0.00008689471209880307,
           0.00008782201693578229,
           0.00008391727995695023,
           0.00008386187702874392,
           0.00008427230415562375,
           0.00008424954951512335,
           0.00008427215342173399,
           0.00008386187702874438,
           0.00008391728302182188,
           0.00008414483924871502,
           0.0000841379282694654,
           0.00008562877761811956,
           0.00008522172576874105,
           0.0000869499484701067,
           0.00008673842543644346,
           0.00008829486098574295,
           0.00008836445980388946,
           0.00008899468694983929,
           0.00008971646246559115,
           0.00009244931094218545,
           0.00009189618498506024,
           0.00009328346778421381,
           0.00009110806403796484,
           0.0000932176837957547,
           0.00009110806403796434,
           0.00009321768379575522,
           0.00009116770044633282,
           0.00009327681250368883,
           0.0000911679235168144
          ],
          [
           0.00008447433191544847,
           0.00008453028733178175,
           0.00008386187702874423,
           0.00008386187702874423,
           0.00008386187702874423,
           0.00008386187702874423,
           0.00008386187702874423,
           0.00008386187702874423,
           0.00008386187702874427,
           0.00008391728302182175,
           0.00008391682041258332,
           0.00008391727995695005,
           0.0000838618770287442,
           0.0000838618770287442,
           0.00008386187702874427,
           0.00008386187702874427,
           0.00008386187702874427,
           0.00008386187702874427,
           0.00008386187702874427,
           0.00008386187702874427,
           0.00008386187702874416,
           0.00008386187702874416,
           0.00008386187702874427,
           0.00008397376065951102,
           0.00008397190902352376,
           0.00008455774892003132,
           0.00008441791158389083,
           0.00008460571455549462,
           0.0000840825472595619,
           0.00008413885169700338,
           0.00008397222057877075,
           0.00008391727995695,
           0.00008386187702874416,
           0.00008386187702874416,
           0.00008386187702874438,
           0.00008386187702874438,
           0.00008386187702874416,
           0.00008386187702874416,
           0.00008386187702874438,
           0.00008386187702874438,
           0.00008386187702874416,
           0.00008386187702874416,
           0.00008386187702874416,
           0.00008386187702874416,
           0.00008391727995695023,
           0.00008386249015046301,
           0.00008391696817035822,
           0.00008386248096185307,
           0.00008391728302182163,
           0.00008386187702874416,
           0.00008386187702874438,
           0.00008386187702874438,
           0.00008386187702874438,
           0.00008386187702874438,
           0.00008403128464605129,
           0.000084027143402535,
           0.00008408393780428055,
           0.00008317427225374886,
           0.00008305759956611338,
           0.00008102099431381422,
           0.00008189231881127074,
           0.00007939109739848066,
           0.0000817972073024536,
           0.00007949589781921663,
           0.00008198175409928618,
           0.00008176230773520415,
           0.00008337577570475662,
           0.000081484400616144,
           0.0000813854185060297,
           0.00008240570750897465,
           0.0000850239810196954,
           0.00008487352766650414,
           0.00008665318926568997,
           0.00008557562645627254,
           0.00008800687782742888,
           0.00008623970264877724,
           0.00008800938463688332,
           0.000085575626456273,
           0.00008728661933530084,
           0.00008574458882258498,
           0.00008745131738065217,
           0.0000872297009188082,
           0.00008864352993050055,
           0.00008866682717284668,
           0.00008905453556724006,
           0.00008899468694983882
          ],
          [
           0.00008624350041914255,
           0.00008740781134208303,
           0.00008569488350094738,
           0.00008625407726933135,
           0.00008402714340253533,
           0.00008403128464605161,
           0.00008386187702874423,
           0.00008386187702874423,
           0.00008391727995695012,
           0.00008391682041258336,
           0.00008391728302182171,
           0.0000838618770287442,
           0.0000838618770287442,
           0.0000838618770287442,
           0.00008386187702874427,
           0.00008386187702874427,
           0.00008386187702874427,
           0.00008386187702874427,
           0.00008386187702874427,
           0.00008386187702874427,
           0.00008386187702874416,
           0.00008386187702874416,
           0.00008397374839218141,
           0.00008397190902352376,
           0.00008455745265419,
           0.00008441791158389093,
           0.00008460599559748203,
           0.000084082531905032,
           0.00008413886398845217,
           0.00008397222364564918,
           0.00008391728302182163,
           0.00008386187702874416,
           0.00008386187702874416,
           0.00008386187702874416,
           0.00008386187702874438,
           0.00008386187702874438,
           0.00008386187702874416,
           0.00008386187702874416,
           0.00008386187702874438,
           0.00008386187702874438,
           0.00008386187702874416,
           0.0000839737606595109,
           0.00008397190902352365,
           0.0000839737483921813,
           0.00008380753727716245,
           0.00008288652474868432,
           0.00008268621107431691,
           0.00008058465573608923,
           0.0000813854185060295,
           0.00007885389205662404,
           0.00008133698136109023,
           0.0000788536127501268,
           0.0000813854185060297,
           0.00007890190337830712,
           0.00008138541850602928,
           0.00007890190337830667,
           0.00008063833641200373,
           0.00007803763079130336,
           0.00007852210610158927,
           0.00007650976083952087,
           0.00007651144793021772,
           0.0000764119585231765,
           0.00007700696652516261,
           0.00007623417508283323,
           0.00007835285764784274,
           0.00007569083709402058,
           0.00007680624169426047,
           0.00007207548997326773,
           0.00007769862548641098,
           0.00007485373357316689,
           0.00007949468516650458,
           0.00007706905776196465,
           0.00008100129507900853,
           0.00008092455331881562,
           0.0000830547919126647,
           0.00008315706339664007,
           0.00008386187702874438,
           0.00008386187702874438,
           0.00008403128464605175,
           0.00008408253190503223,
           0.00008556991401583225,
           0.0000852187114221831,
           0.00008689773269143962,
           0.00008568717611134206,
           0.00008739627243248059,
           0.00008585083108637503
          ],
          [
           0.00008911551702996717,
           0.00008911356503553946,
           0.0000879729124996722,
           0.00008751133156959566,
           0.00008580412011640922,
           0.00008778369252750298,
           0.00008599589825769348,
           0.0000866381415445074,
           0.00008386187702874427,
           0.00008386187702874427,
           0.0000838618770287442,
           0.0000838618770287442,
           0.0000838618770287442,
           0.0000838618770287442,
           0.00008386187702874427,
           0.00008386187702874427,
           0.00008386187702874427,
           0.00008386187702874427,
           0.00008386187702874427,
           0.00008386187702874427,
           0.00008386187702874416,
           0.0000839737606595109,
           0.00008397190902352376,
           0.00008397374839218141,
           0.00008386187702874427,
           0.00008403131226492992,
           0.00008408254725956167,
           0.0000842473071626133,
           0.00008408253190503223,
           0.00008442223390075267,
           0.0000842495495151231,
           0.00008458171509112069,
           0.0000841937265989714,
           0.00008421032315346427,
           0.00008386187702874438,
           0.00008386187702874438,
           0.00008386187702874416,
           0.00008380754033802577,
           0.00008380707833376406,
           0.00008380753727716245,
           0.0000839737483921813,
           0.00008391758519478067,
           0.00008391897301138113,
           0.00008380753727716222,
           0.0000829402545500337,
           0.0000812788811247225,
           0.00007813561028954627,
           0.00007646121732065156,
           0.0000763636583414844,
           0.0000764125070649411,
           0.00007641250706494133,
           0.00007646121732065176,
           0.00007641195852317694,
           0.00007641195852317694,
           0.0000764119585231765,
           0.0000764119585231765,
           0.00007641195852317694,
           0.00007641195852317694,
           0.00007641195852317694,
           0.00007641195852317694,
           0.0000764119585231765,
           0.00007541618159612411,
           0.00007436518470682737,
           0.00007217674643769564,
           0.00007149788337419982,
           0.00006981114187479437,
           0.00006985483934101123,
           0.00006981114187479398,
           0.00007013302165888684,
           0.00007007553271277127,
           0.00007233419906800395,
           0.00007164380091406263,
           0.00007623067582044763,
           0.00007394310476293043,
           0.00007868939741644247,
           0.00007666325636407894,
           0.00008076508012727442,
           0.00007835026718496192,
           0.00008144081232969657,
           0.00007921207389801493,
           0.00008168509282698936,
           0.00008156766518572039,
           0.00008343217142802795,
           0.00008347601958484382,
           0.00008413761162494413,
           0.000084027143402535
          ],
          [
           0.00008899468694983916,
           0.00008899468694983916,
           0.00008905453231474329,
           0.00008905404463796587,
           0.00008949058484065065,
           0.00008941363208400205,
           0.00008836209794371347,
           0.00008679661644268336,
           0.000085046922059896,
           0.00008532488376479461,
           0.0000839719090235237,
           0.00008397374839218137,
           0.0000838618770287442,
           0.0000838618770287442,
           0.00008386187702874427,
           0.00008386187702874427,
           0.00008386187702874427,
           0.00008386187702874427,
           0.00008386187702874427,
           0.00008386187702874427,
           0.0000839737483921813,
           0.00008397190902352365,
           0.00008397376065951102,
           0.00008386187702874427,
           0.00008403128464605164,
           0.00008402714340253536,
           0.00008419238221039285,
           0.00008402714340253525,
           0.00008442211058894172,
           0.00008424954951512335,
           0.00008458175524980666,
           0.00008424909758075737,
           0.00008426535128450865,
           0.00008391727995695,
           0.00008386187702874438,
           0.00008386187702874438,
           0.00008380753727716222,
           0.00008386249015046278,
           0.00008386249015046301,
           0.00008391727995695023,
           0.00008380753727716222,
           0.00008380707833376382,
           0.00008380754033802577,
           0.00008241246981012094,
           0.00007990623591589056,
           0.00007651005488099746,
           0.00007651005488099726,
           0.00007646121732065156,
           0.00007646121732065156,
           0.00007646079860686922,
           0.00007646122011320913,
           0.00007641195852317694,
           0.00007641195852317694,
           0.00007641195852317694,
           0.0000764119585231765,
           0.0000764119585231765,
           0.00007641195852317694,
           0.00007641195852317694,
           0.00007641195852317694,
           0.0000767771501571315,
           0.00007575998352364079,
           0.00007443273555927458,
           0.00007086088897432056,
           0.00006981152417379984,
           0.0000697674418604653,
           0.0000697674418604653,
           0.00006976744186046492,
           0.00006976744186046492,
           0.0000697674418604653,
           0.0000697674418604653,
           0.00006981152417379984,
           0.00006981114187479437,
           0.0000700367956374127,
           0.00006998698283578975,
           0.00007193160993745002,
           0.00007136100862858814,
           0.00007364445567661721,
           0.00007437889751596388,
           0.00007623368585468377,
           0.00007625705408233893,
           0.00007906927225012685,
           0.00007835752715840052,
           0.00008088551306511418,
           0.00007890190337830712,
           0.00008138541850602928,
           0.00008122025206632682
          ],
          [
           0.00009059256017917991,
           0.00009110944156123686,
           0.00008929311102974456,
           0.00008930533503474742,
           0.00008899468694983916,
           0.00008899468694983916,
           0.0000885069201800692,
           0.00008846768727360732,
           0.0000870394660056211,
           0.00008739627243248097,
           0.0000856871761113419,
           0.00008815567466157191,
           0.00008636261736023619,
           0.0000872325838514308,
           0.00008386187702874427,
           0.00008386187702874427,
           0.00008386187702874427,
           0.00008386187702874427,
           0.00008386187702874427,
           0.00008386187702874427,
           0.00008386187702874416,
           0.00008386187702874416,
           0.00008386187702874427,
           0.00008386187702874427,
           0.00008386187702874427,
           0.00008386187702874427,
           0.00008386187702874416,
           0.0000839737606595109,
           0.00008397190902352388,
           0.0000841376269895325,
           0.00008408254725956167,
           0.0000842473071626133,
           0.000084082531905032,
           0.0000840839132374378,
           0.00008391682041258346,
           0.00008397176073354063,
           0.00008397222364564894,
           0.00008397222364564894,
           0.00008391728302182188,
           0.00008403131226493003,
           0.00008402714340253525,
           0.00008419238221039285,
           0.00008257305832787206,
           0.00008018611115938685,
           0.00007646121732065176,
           0.00007651005488099746,
           0.00007651005488099726,
           0.00007646121732065156,
           0.00007641195852317672,
           0.0000764612201132089,
           0.00007646079860686942,
           0.00007646121732065176,
           0.00007641195852317694,
           0.00007641195852317694,
           0.0000764119585231765,
           0.00007646122011320868,
           0.00007646079860686942,
           0.00007646121732065176,
           0.0000767770128294692,
           0.00007549041442620395,
           0.0000735323304298933,
           0.00006981114187479398,
           0.00006981152672349353,
           0.0000697674418604653,
           0.0000697674418604653,
           0.0000697674418604653,
           0.00006976744186046492,
           0.00006976744186046492,
           0.0000697674418604653,
           0.0000697674418604653,
           0.0000697674418604653,
           0.00006981152672349353,
           0.00006981114187479398,
           0.00006981152417379946,
           0.0000697674418604653,
           0.0000697674418604653,
           0.0000721453482860595,
           0.00007155189670418682,
           0.00007379978680008316,
           0.00007303796463993047,
           0.00007509235092586548,
           0.00007541404072804673,
           0.00007641195852317694,
           0.00007641195852317694,
           0.00007871973747609719,
           0.000078452203560846
          ],
          [
           0.00009322422860861449,
           0.00009351496313908801,
           0.00009141796351656502,
           0.00009290690403152863,
           0.00009078450771438006,
           0.00009120163177535158,
           0.00008899468694983916,
           0.00008899468694983916,
           0.00008899468694983918,
           0.00008899468694983918,
           0.00008986226299457841,
           0.00008977921322465146,
           0.00008896141029904058,
           0.00008665318926569028,
           0.00008487352766650404,
           0.00008498635233527696,
           0.00008380707833376393,
           0.00008380753727716234,
           0.00008386187702874427,
           0.00008386187702874427,
           0.00008386187702874416,
           0.00008386187702874416,
           0.00008386187702874427,
           0.00008386187702874427,
           0.00008386187702874427,
           0.00008386187702874427,
           0.0000839737483921813,
           0.00008402730335952634,
           0.0000841925430300178,
           0.00008402915630396229,
           0.00008413760194716205,
           0.00008397280454370115,
           0.00008408393780428032,
           0.00008397222057877075,
           0.00008402669798559609,
           0.00008397222364564918,
           0.00008391728302182163,
           0.00008386187702874416,
           0.00008403128464605175,
           0.00008402714340253547,
           0.00008419238221039285,
           0.00008258068132098757,
           0.00008019351585563358,
           0.00007641195852317672,
           0.00007646121732065176,
           0.00007651005488099746,
           0.00007651005488099726,
           0.00007650963589977265,
           0.00007651005767533824,
           0.000076558470396536,
           0.00007651005488099746,
           0.00007646121732065176,
           0.00007641195852317694,
           0.00007641195852317694,
           0.00007646121732065135,
           0.00007646079860686899,
           0.00007646122011320913,
           0.00007641195852317694,
           0.00007513361266128939,
           0.00007430333224834798,
           0.00007208665303594962,
           0.00007307217225366757,
           0.00006981114187479437,
           0.00006981152417379984,
           0.0000697674418604653,
           0.0000697674418604653,
           0.00006976744186046492,
           0.00006976744186046492,
           0.0000697674418604653,
           0.0000697674418604653,
           0.00006981152417379984,
           0.00006985522187931267,
           0.00006985522187931229,
           0.00006981152417379946,
           0.0000697674418604653,
           0.0000697674418604653,
           0.0000697674418604653,
           0.0000697674418604653,
           0.00007081616509021297,
           0.0000706615553382315,
           0.00007319071002554112,
           0.00007198833772836727,
           0.00007420336298452004,
           0.00007246746622690513,
           0.00007489819805417163,
           0.00007271659114761531
          ],
          [
           0.00009532327903185504,
           0.00009532327903185504,
           0.00009501387263876844,
           0.00009500086744856005,
           0.00009332100456708271,
           0.00009257348593375227,
           0.00009040222836155896,
           0.00009070088049764349,
           0.00008905404463796591,
           0.00008905453231474333,
           0.00008899468694983912,
           0.00008899468694983912,
           0.00008836445980388977,
           0.00009014001971385541,
           0.0000882403120866073,
           0.00008879593132683932,
           0.00008499272141718124,
           0.00008532488376479461,
           0.00008397190902352376,
           0.00008496037619107452,
           0.00008475870643808043,
           0.00008487744498130764,
           0.00008386187702874427,
           0.00008386187702874427,
           0.00008386187702874427,
           0.00008386187702874427,
           0.00008391727995695,
           0.00008426535128450865,
           0.00008419568786391961,
           0.00008476302079480394,
           0.00008442006620753825,
           0.00008508641619424886,
           0.0000845297384586203,
           0.00008514129145468782,
           0.0000845296736271239,
           0.00008544507984695406,
           0.00008481603994129307,
           0.00008495016288164539,
           0.00008386187702874438,
           0.00008386187702874438,
           0.00008240570750897443,
           0.00008149782748996622,
           0.00007901249787337987,
           0.00008155113078132657,
           0.00007900640502984833,
           0.00008004559893445316,
           0.000076558470396536,
           0.00007651005767533824,
           0.00007650963589977265,
           0.00007651005488099726,
           0.00007651005488099746,
           0.00007646121732065176,
           0.00007641195852317694,
           0.00007641195852317694,
           0.0000764119585231765,
           0.0000764119585231765,
           0.00007641195852317694,
           0.00007641195852317694,
           0.00007651143675302253,
           0.00007660923004828414,
           0.00007541520989076481,
           0.00007355459922821048,
           0.00007102874558345111,
           0.00007126759739118517,
           0.0000697674418604653,
           0.0000697674418604653,
           0.00006976744186046492,
           0.00006976744186046492,
           0.0000697674418604653,
           0.0000697674418604653,
           0.00006981152417379984,
           0.00006985522187931267,
           0.00006985522187931229,
           0.00006981152417379946,
           0.0000697674418604653,
           0.0000697674418604653,
           0.0000697674418604653,
           0.0000697674418604653,
           0.0000697674418604653,
           0.0000697674418604653,
           0.00006976744186046492,
           0.00006976744186046492,
           0.00007024758932836295,
           0.00007020915216415381,
           0.0000702478456101563,
           0.00006976744186046492
          ]
         ]
        }
       ],
       "layout": {
        "coloraxis": {
         "colorscale": [
          [
           0,
           "rgb(0,0,255)"
          ],
          [
           1,
           "rgb(255,0,0)"
          ]
         ]
        },
        "template": {
         "data": {
          "bar": [
           {
            "error_x": {
             "color": "#2a3f5f"
            },
            "error_y": {
             "color": "#2a3f5f"
            },
            "marker": {
             "line": {
              "color": "#E5ECF6",
              "width": 0.5
             },
             "pattern": {
              "fillmode": "overlay",
              "size": 10,
              "solidity": 0.2
             }
            },
            "type": "bar"
           }
          ],
          "barpolar": [
           {
            "marker": {
             "line": {
              "color": "#E5ECF6",
              "width": 0.5
             },
             "pattern": {
              "fillmode": "overlay",
              "size": 10,
              "solidity": 0.2
             }
            },
            "type": "barpolar"
           }
          ],
          "carpet": [
           {
            "aaxis": {
             "endlinecolor": "#2a3f5f",
             "gridcolor": "white",
             "linecolor": "white",
             "minorgridcolor": "white",
             "startlinecolor": "#2a3f5f"
            },
            "baxis": {
             "endlinecolor": "#2a3f5f",
             "gridcolor": "white",
             "linecolor": "white",
             "minorgridcolor": "white",
             "startlinecolor": "#2a3f5f"
            },
            "type": "carpet"
           }
          ],
          "choropleth": [
           {
            "colorbar": {
             "outlinewidth": 0,
             "ticks": ""
            },
            "type": "choropleth"
           }
          ],
          "contour": [
           {
            "colorbar": {
             "outlinewidth": 0,
             "ticks": ""
            },
            "colorscale": [
             [
              0,
              "#0d0887"
             ],
             [
              0.1111111111111111,
              "#46039f"
             ],
             [
              0.2222222222222222,
              "#7201a8"
             ],
             [
              0.3333333333333333,
              "#9c179e"
             ],
             [
              0.4444444444444444,
              "#bd3786"
             ],
             [
              0.5555555555555556,
              "#d8576b"
             ],
             [
              0.6666666666666666,
              "#ed7953"
             ],
             [
              0.7777777777777778,
              "#fb9f3a"
             ],
             [
              0.8888888888888888,
              "#fdca26"
             ],
             [
              1,
              "#f0f921"
             ]
            ],
            "type": "contour"
           }
          ],
          "contourcarpet": [
           {
            "colorbar": {
             "outlinewidth": 0,
             "ticks": ""
            },
            "type": "contourcarpet"
           }
          ],
          "heatmap": [
           {
            "colorbar": {
             "outlinewidth": 0,
             "ticks": ""
            },
            "colorscale": [
             [
              0,
              "#0d0887"
             ],
             [
              0.1111111111111111,
              "#46039f"
             ],
             [
              0.2222222222222222,
              "#7201a8"
             ],
             [
              0.3333333333333333,
              "#9c179e"
             ],
             [
              0.4444444444444444,
              "#bd3786"
             ],
             [
              0.5555555555555556,
              "#d8576b"
             ],
             [
              0.6666666666666666,
              "#ed7953"
             ],
             [
              0.7777777777777778,
              "#fb9f3a"
             ],
             [
              0.8888888888888888,
              "#fdca26"
             ],
             [
              1,
              "#f0f921"
             ]
            ],
            "type": "heatmap"
           }
          ],
          "heatmapgl": [
           {
            "colorbar": {
             "outlinewidth": 0,
             "ticks": ""
            },
            "colorscale": [
             [
              0,
              "#0d0887"
             ],
             [
              0.1111111111111111,
              "#46039f"
             ],
             [
              0.2222222222222222,
              "#7201a8"
             ],
             [
              0.3333333333333333,
              "#9c179e"
             ],
             [
              0.4444444444444444,
              "#bd3786"
             ],
             [
              0.5555555555555556,
              "#d8576b"
             ],
             [
              0.6666666666666666,
              "#ed7953"
             ],
             [
              0.7777777777777778,
              "#fb9f3a"
             ],
             [
              0.8888888888888888,
              "#fdca26"
             ],
             [
              1,
              "#f0f921"
             ]
            ],
            "type": "heatmapgl"
           }
          ],
          "histogram": [
           {
            "marker": {
             "pattern": {
              "fillmode": "overlay",
              "size": 10,
              "solidity": 0.2
             }
            },
            "type": "histogram"
           }
          ],
          "histogram2d": [
           {
            "colorbar": {
             "outlinewidth": 0,
             "ticks": ""
            },
            "colorscale": [
             [
              0,
              "#0d0887"
             ],
             [
              0.1111111111111111,
              "#46039f"
             ],
             [
              0.2222222222222222,
              "#7201a8"
             ],
             [
              0.3333333333333333,
              "#9c179e"
             ],
             [
              0.4444444444444444,
              "#bd3786"
             ],
             [
              0.5555555555555556,
              "#d8576b"
             ],
             [
              0.6666666666666666,
              "#ed7953"
             ],
             [
              0.7777777777777778,
              "#fb9f3a"
             ],
             [
              0.8888888888888888,
              "#fdca26"
             ],
             [
              1,
              "#f0f921"
             ]
            ],
            "type": "histogram2d"
           }
          ],
          "histogram2dcontour": [
           {
            "colorbar": {
             "outlinewidth": 0,
             "ticks": ""
            },
            "colorscale": [
             [
              0,
              "#0d0887"
             ],
             [
              0.1111111111111111,
              "#46039f"
             ],
             [
              0.2222222222222222,
              "#7201a8"
             ],
             [
              0.3333333333333333,
              "#9c179e"
             ],
             [
              0.4444444444444444,
              "#bd3786"
             ],
             [
              0.5555555555555556,
              "#d8576b"
             ],
             [
              0.6666666666666666,
              "#ed7953"
             ],
             [
              0.7777777777777778,
              "#fb9f3a"
             ],
             [
              0.8888888888888888,
              "#fdca26"
             ],
             [
              1,
              "#f0f921"
             ]
            ],
            "type": "histogram2dcontour"
           }
          ],
          "mesh3d": [
           {
            "colorbar": {
             "outlinewidth": 0,
             "ticks": ""
            },
            "type": "mesh3d"
           }
          ],
          "parcoords": [
           {
            "line": {
             "colorbar": {
              "outlinewidth": 0,
              "ticks": ""
             }
            },
            "type": "parcoords"
           }
          ],
          "pie": [
           {
            "automargin": true,
            "type": "pie"
           }
          ],
          "scatter": [
           {
            "fillpattern": {
             "fillmode": "overlay",
             "size": 10,
             "solidity": 0.2
            },
            "type": "scatter"
           }
          ],
          "scatter3d": [
           {
            "line": {
             "colorbar": {
              "outlinewidth": 0,
              "ticks": ""
             }
            },
            "marker": {
             "colorbar": {
              "outlinewidth": 0,
              "ticks": ""
             }
            },
            "type": "scatter3d"
           }
          ],
          "scattercarpet": [
           {
            "marker": {
             "colorbar": {
              "outlinewidth": 0,
              "ticks": ""
             }
            },
            "type": "scattercarpet"
           }
          ],
          "scattergeo": [
           {
            "marker": {
             "colorbar": {
              "outlinewidth": 0,
              "ticks": ""
             }
            },
            "type": "scattergeo"
           }
          ],
          "scattergl": [
           {
            "marker": {
             "colorbar": {
              "outlinewidth": 0,
              "ticks": ""
             }
            },
            "type": "scattergl"
           }
          ],
          "scattermapbox": [
           {
            "marker": {
             "colorbar": {
              "outlinewidth": 0,
              "ticks": ""
             }
            },
            "type": "scattermapbox"
           }
          ],
          "scatterpolar": [
           {
            "marker": {
             "colorbar": {
              "outlinewidth": 0,
              "ticks": ""
             }
            },
            "type": "scatterpolar"
           }
          ],
          "scatterpolargl": [
           {
            "marker": {
             "colorbar": {
              "outlinewidth": 0,
              "ticks": ""
             }
            },
            "type": "scatterpolargl"
           }
          ],
          "scatterternary": [
           {
            "marker": {
             "colorbar": {
              "outlinewidth": 0,
              "ticks": ""
             }
            },
            "type": "scatterternary"
           }
          ],
          "surface": [
           {
            "colorbar": {
             "outlinewidth": 0,
             "ticks": ""
            },
            "colorscale": [
             [
              0,
              "#0d0887"
             ],
             [
              0.1111111111111111,
              "#46039f"
             ],
             [
              0.2222222222222222,
              "#7201a8"
             ],
             [
              0.3333333333333333,
              "#9c179e"
             ],
             [
              0.4444444444444444,
              "#bd3786"
             ],
             [
              0.5555555555555556,
              "#d8576b"
             ],
             [
              0.6666666666666666,
              "#ed7953"
             ],
             [
              0.7777777777777778,
              "#fb9f3a"
             ],
             [
              0.8888888888888888,
              "#fdca26"
             ],
             [
              1,
              "#f0f921"
             ]
            ],
            "type": "surface"
           }
          ],
          "table": [
           {
            "cells": {
             "fill": {
              "color": "#EBF0F8"
             },
             "line": {
              "color": "white"
             }
            },
            "header": {
             "fill": {
              "color": "#C8D4E3"
             },
             "line": {
              "color": "white"
             }
            },
            "type": "table"
           }
          ]
         },
         "layout": {
          "annotationdefaults": {
           "arrowcolor": "#2a3f5f",
           "arrowhead": 0,
           "arrowwidth": 1
          },
          "autotypenumbers": "strict",
          "coloraxis": {
           "colorbar": {
            "outlinewidth": 0,
            "ticks": ""
           }
          },
          "colorscale": {
           "diverging": [
            [
             0,
             "#8e0152"
            ],
            [
             0.1,
             "#c51b7d"
            ],
            [
             0.2,
             "#de77ae"
            ],
            [
             0.3,
             "#f1b6da"
            ],
            [
             0.4,
             "#fde0ef"
            ],
            [
             0.5,
             "#f7f7f7"
            ],
            [
             0.6,
             "#e6f5d0"
            ],
            [
             0.7,
             "#b8e186"
            ],
            [
             0.8,
             "#7fbc41"
            ],
            [
             0.9,
             "#4d9221"
            ],
            [
             1,
             "#276419"
            ]
           ],
           "sequential": [
            [
             0,
             "#0d0887"
            ],
            [
             0.1111111111111111,
             "#46039f"
            ],
            [
             0.2222222222222222,
             "#7201a8"
            ],
            [
             0.3333333333333333,
             "#9c179e"
            ],
            [
             0.4444444444444444,
             "#bd3786"
            ],
            [
             0.5555555555555556,
             "#d8576b"
            ],
            [
             0.6666666666666666,
             "#ed7953"
            ],
            [
             0.7777777777777778,
             "#fb9f3a"
            ],
            [
             0.8888888888888888,
             "#fdca26"
            ],
            [
             1,
             "#f0f921"
            ]
           ],
           "sequentialminus": [
            [
             0,
             "#0d0887"
            ],
            [
             0.1111111111111111,
             "#46039f"
            ],
            [
             0.2222222222222222,
             "#7201a8"
            ],
            [
             0.3333333333333333,
             "#9c179e"
            ],
            [
             0.4444444444444444,
             "#bd3786"
            ],
            [
             0.5555555555555556,
             "#d8576b"
            ],
            [
             0.6666666666666666,
             "#ed7953"
            ],
            [
             0.7777777777777778,
             "#fb9f3a"
            ],
            [
             0.8888888888888888,
             "#fdca26"
            ],
            [
             1,
             "#f0f921"
            ]
           ]
          },
          "colorway": [
           "#636efa",
           "#EF553B",
           "#00cc96",
           "#ab63fa",
           "#FFA15A",
           "#19d3f3",
           "#FF6692",
           "#B6E880",
           "#FF97FF",
           "#FECB52"
          ],
          "font": {
           "color": "#2a3f5f"
          },
          "geo": {
           "bgcolor": "white",
           "lakecolor": "white",
           "landcolor": "#E5ECF6",
           "showlakes": true,
           "showland": true,
           "subunitcolor": "white"
          },
          "hoverlabel": {
           "align": "left"
          },
          "hovermode": "closest",
          "mapbox": {
           "style": "light"
          },
          "paper_bgcolor": "white",
          "plot_bgcolor": "#E5ECF6",
          "polar": {
           "angularaxis": {
            "gridcolor": "white",
            "linecolor": "white",
            "ticks": ""
           },
           "bgcolor": "#E5ECF6",
           "radialaxis": {
            "gridcolor": "white",
            "linecolor": "white",
            "ticks": ""
           }
          },
          "scene": {
           "xaxis": {
            "backgroundcolor": "#E5ECF6",
            "gridcolor": "white",
            "gridwidth": 2,
            "linecolor": "white",
            "showbackground": true,
            "ticks": "",
            "zerolinecolor": "white"
           },
           "yaxis": {
            "backgroundcolor": "#E5ECF6",
            "gridcolor": "white",
            "gridwidth": 2,
            "linecolor": "white",
            "showbackground": true,
            "ticks": "",
            "zerolinecolor": "white"
           },
           "zaxis": {
            "backgroundcolor": "#E5ECF6",
            "gridcolor": "white",
            "gridwidth": 2,
            "linecolor": "white",
            "showbackground": true,
            "ticks": "",
            "zerolinecolor": "white"
           }
          },
          "shapedefaults": {
           "line": {
            "color": "#2a3f5f"
           }
          },
          "ternary": {
           "aaxis": {
            "gridcolor": "white",
            "linecolor": "white",
            "ticks": ""
           },
           "baxis": {
            "gridcolor": "white",
            "linecolor": "white",
            "ticks": ""
           },
           "bgcolor": "#E5ECF6",
           "caxis": {
            "gridcolor": "white",
            "linecolor": "white",
            "ticks": ""
           }
          },
          "title": {
           "x": 0.05
          },
          "xaxis": {
           "automargin": true,
           "gridcolor": "white",
           "linecolor": "white",
           "ticks": "",
           "title": {
            "standoff": 15
           },
           "zerolinecolor": "white",
           "zerolinewidth": 2
          },
          "yaxis": {
           "automargin": true,
           "gridcolor": "white",
           "linecolor": "white",
           "ticks": "",
           "title": {
            "standoff": 15
           },
           "zerolinecolor": "white",
           "zerolinewidth": 2
          }
         }
        },
        "title": {
         "text": "Распределение потерь по току"
        },
        "width": 650,
        "xaxis": {
         "anchor": "y",
         "constrain": "domain",
         "domain": [
          0,
          1
         ],
         "scaleanchor": "y",
         "title": {
          "text": "Длинна ванны"
         }
        },
        "yaxis": {
         "anchor": "x",
         "autorange": "reversed",
         "constrain": "domain",
         "domain": [
          0,
          1
         ],
         "title": {
          "text": "Ширина ванны"
         }
        }
       }
      }
     },
     "metadata": {},
     "output_type": "display_data"
    }
   ],
   "source": [
    "import numpy as np\n",
    "import plotly.express as px\n",
    "\n",
    "class Grid():\n",
    "    \"\"\"A class that stores triangles and their order in a grid\"\"\"\n",
    "\n",
    "    def __init__(self, x, y, z):\n",
    "        self.triangles = []\n",
    "        for i1 in range(len(x)-1):\n",
    "            for i2 in range(len(y)-1):\n",
    "                self.triangles.append([])\n",
    "                self.triangles[-1].append(Triangle([x[i1], y[i2], z[i1][i2]],\n",
    "                                                  [x[i1+1], y[i2], z[i1+1][i2]],\n",
    "                                                  [x[i1], y[i2+1], z[i1][i2+1]]))\n",
    "                self.triangles[-1].append(Triangle([x[i1+1], y[i2+1], z[i1+1][i2+1]],\n",
    "                                                  [x[i1], y[i2+1], z[i1][i2+1]],\n",
    "                                                  [x[i1+1], y[i2], z[i1+1][i2]]))\n",
    "\n",
    "    def integral(self):\n",
    "        \"\"\"Calculating the integral sum for all triangles\"\"\"\n",
    "        sum = 0\n",
    "        array = []\n",
    "        for square in self.triangles:\n",
    "            for triangle in square:\n",
    "                sum += triangle.intpart()\n",
    "                array.append(triangle.intpart())\n",
    "        eta_0 = 0.98\n",
    "        #Squ = 15.8792448\n",
    "        Squ = 17.5\n",
    "        dot = [7,30]\n",
    "        dot[0] = dot[0]-1\n",
    "        dot[1] = dot[1]-1\n",
    "        array = (1-eta_0)/Squ*np.array(array)\n",
    "        return array\n",
    "#        return (1-eta_0)*(0.6-anod-z[dot[0]][dot[1]])/Squ*sum\n",
    "        return (1-eta_0)/Squ*sum\n",
    "\n",
    "    def square(self):\n",
    "        \"\"\"Calculating the surface area\"\"\"\n",
    "        sum = 0\n",
    "        for square in self.triangles:\n",
    "            for triangle in square:\n",
    "                sum += triangle.squarepart()\n",
    "        return sum\n",
    "\n",
    "\n",
    "class Triangle():\n",
    "    '''the class containing the corner points of a triangle,\n",
    "    its area and the corresponding value of the function'''\n",
    "\n",
    "    def __init__(self, dot1, dot2, dot3):\n",
    "        self.a = np.array(dot1)\n",
    "        self.b = np.array(dot2)\n",
    "        self.c = np.array(dot3)\n",
    "\n",
    "    def square(self):\n",
    "        return np.linalg.norm(np.cross(self.a-self.b, self.a-self.c))/2\n",
    "\n",
    "    def function(self):\n",
    "        return ((f(self.a[2])+f(self.b[2])+f(self.c[2]))/3)\n",
    "\n",
    "    def intpart(self):\n",
    "        return self.square()*self.function()\n",
    "    \n",
    "    def squarepart(self):\n",
    "        return self.square()\n",
    "\n",
    "    def print(self):\n",
    "        print(self.a, self.b, self.c)\n",
    "\n",
    "\n",
    "def f(h):\n",
    "    '''integral function'''\n",
    "    return ((0.6-anod)-h)/h\n",
    "    #return 1/h\n",
    "\n",
    "\n",
    "file_name=\"anodeffect.txt\"\n",
    "anod = 0\n",
    "\n",
    "\n",
    "file = open(file_name, \"r\", encoding=\"utf-8\")\n",
    "leny = len(file.readline().split())\n",
    "lenx = len(file.readlines())+1\n",
    "file.close()\n",
    "\n",
    "#x = np.linspace(0, 3.4, lenx)\n",
    "#y = np.linspace(0, 9.4, leny)\n",
    "\n",
    "#x = np.linspace(0, 2, lenx)\n",
    "#y = np.linspace(0, 5, leny)\n",
    "\n",
    "x = np.linspace(0, 10, lenx)\n",
    "y = np.linspace(0, 3.5, leny)\n",
    "\n",
    "z = []\n",
    "\n",
    "file = open(file_name, \"r\", encoding=\"utf-8\")\n",
    "\n",
    "data = []\n",
    "for line in file:\n",
    "    data_line = line.split()\n",
    "    for i in range(len(data_line)):\n",
    "        data_line[i] = float(data_line[i])\n",
    "    data.append(data_line)\n",
    "\n",
    "h = data\n",
    "\n",
    "file.close()\n",
    "\n",
    "\n",
    "for i1 in range(len(x)):\n",
    "    z.append([])\n",
    "    for i2 in range(len(y)):\n",
    "        z[-1].append(h[i1][i2])\n",
    "\n",
    "\n",
    "grid = Grid(x, y, z)\n",
    "x = np.outer(x, np.ones(len(y)))\n",
    "y = np.outer(y, np.ones(len(x))).T\n",
    "z = np.array(z)\n",
    "zero = np.zeros(z.shape)\n",
    "\n",
    "arr = grid.integral()\n",
    "d = np.reshape(arr, [(lenx-1), (leny-1)*2])\n",
    "\n",
    "x = np.linspace(start=0, stop=10, num=(leny-1)*2)\n",
    "y = np.flip(np.linspace(start=0, stop=3.5, num=(lenx-1)))\n",
    "title = 'Распределение потерь по току'\n",
    "labels = {'x':'Длинна ванны', 'y':'Ширина ванны'}\n",
    "fig = px.imshow(d,x=x[::-1], y=y, color_continuous_scale='bluered', labels=labels, title=title, width=650)\n",
    "fig.show()"
   ]
  },
  {
   "cell_type": "code",
   "execution_count": 3,
   "id": "b694659d-904b-405d-b438-fa3a013d2043",
   "metadata": {},
   "outputs": [
    {
     "name": "stdout",
     "output_type": "stream",
     "text": [
      "(40, 11) 20 39\n"
     ]
    },
    {
     "ename": "ValueError",
     "evalue": "The length of the y vector must match the length of the first dimension of the img matrix.",
     "output_type": "error",
     "traceback": [
      "\u001b[1;31m---------------------------------------------------------------------------\u001b[0m",
      "\u001b[1;31mValueError\u001b[0m                                Traceback (most recent call last)",
      "Cell \u001b[1;32mIn[3], line 48\u001b[0m\n\u001b[0;32m     46\u001b[0m labels \u001b[38;5;241m=\u001b[39m {\u001b[38;5;124m'\u001b[39m\u001b[38;5;124mx\u001b[39m\u001b[38;5;124m'\u001b[39m:\u001b[38;5;124m'\u001b[39m\u001b[38;5;124mДлинна ванны\u001b[39m\u001b[38;5;124m'\u001b[39m, \u001b[38;5;124m'\u001b[39m\u001b[38;5;124my\u001b[39m\u001b[38;5;124m'\u001b[39m:\u001b[38;5;124m'\u001b[39m\u001b[38;5;124mШирина ванны\u001b[39m\u001b[38;5;124m'\u001b[39m}\n\u001b[0;32m     47\u001b[0m \u001b[38;5;28mprint\u001b[39m(z\u001b[38;5;241m.\u001b[39mshape, x\u001b[38;5;241m.\u001b[39msize,  y\u001b[38;5;241m.\u001b[39msize)\n\u001b[1;32m---> 48\u001b[0m fig \u001b[38;5;241m=\u001b[39m \u001b[43mpx\u001b[49m\u001b[38;5;241;43m.\u001b[39;49m\u001b[43mimshow\u001b[49m\u001b[43m(\u001b[49m\u001b[43md\u001b[49m\u001b[43m,\u001b[49m\u001b[43mx\u001b[49m\u001b[38;5;241;43m=\u001b[39;49m\u001b[43mx\u001b[49m\u001b[43m,\u001b[49m\u001b[43m \u001b[49m\u001b[43my\u001b[49m\u001b[38;5;241;43m=\u001b[39;49m\u001b[43my\u001b[49m\u001b[43m,\u001b[49m\u001b[43m \u001b[49m\u001b[43mcolor_continuous_scale\u001b[49m\u001b[38;5;241;43m=\u001b[39;49m\u001b[38;5;124;43m'\u001b[39;49m\u001b[38;5;124;43mbluered\u001b[39;49m\u001b[38;5;124;43m'\u001b[39;49m\u001b[43m,\u001b[49m\u001b[43m \u001b[49m\u001b[43mlabels\u001b[49m\u001b[38;5;241;43m=\u001b[39;49m\u001b[43mlabels\u001b[49m\u001b[43m,\u001b[49m\u001b[43m \u001b[49m\u001b[43mtitle\u001b[49m\u001b[38;5;241;43m=\u001b[39;49m\u001b[43mtitle\u001b[49m\u001b[43m,\u001b[49m\u001b[43m \u001b[49m\u001b[43mwidth\u001b[49m\u001b[38;5;241;43m=\u001b[39;49m\u001b[38;5;241;43m650\u001b[39;49m\u001b[43m)\u001b[49m\n\u001b[0;32m     49\u001b[0m fig\u001b[38;5;241m.\u001b[39mshow()\n",
      "File \u001b[1;32m~\\AppData\\Local\\Packages\\PythonSoftwareFoundation.Python.3.11_qbz5n2kfra8p0\\LocalCache\\local-packages\\Python311\\site-packages\\plotly\\express\\_imshow.py:387\u001b[0m, in \u001b[0;36mimshow\u001b[1;34m(img, zmin, zmax, origin, labels, x, y, animation_frame, facet_col, facet_col_wrap, facet_col_spacing, facet_row_spacing, color_continuous_scale, color_continuous_midpoint, range_color, title, template, width, height, aspect, contrast_rescaling, binary_string, binary_backend, binary_compression_level, binary_format, text_auto)\u001b[0m\n\u001b[0;32m    385\u001b[0m y_index \u001b[38;5;241m=\u001b[39m slice_dimensions\n\u001b[0;32m    386\u001b[0m \u001b[38;5;28;01mif\u001b[39;00m y \u001b[38;5;129;01mis\u001b[39;00m \u001b[38;5;129;01mnot\u001b[39;00m \u001b[38;5;28;01mNone\u001b[39;00m \u001b[38;5;129;01mand\u001b[39;00m img\u001b[38;5;241m.\u001b[39mshape[y_index] \u001b[38;5;241m!=\u001b[39m \u001b[38;5;28mlen\u001b[39m(y):\n\u001b[1;32m--> 387\u001b[0m     \u001b[38;5;28;01mraise\u001b[39;00m \u001b[38;5;167;01mValueError\u001b[39;00m(\n\u001b[0;32m    388\u001b[0m         \u001b[38;5;124m\"\u001b[39m\u001b[38;5;124mThe length of the y vector must match the length of the first \u001b[39m\u001b[38;5;124m\"\u001b[39m\n\u001b[0;32m    389\u001b[0m         \u001b[38;5;241m+\u001b[39m \u001b[38;5;124m\"\u001b[39m\u001b[38;5;124mdimension of the img matrix.\u001b[39m\u001b[38;5;124m\"\u001b[39m\n\u001b[0;32m    390\u001b[0m     )\n\u001b[0;32m    391\u001b[0m x_index \u001b[38;5;241m=\u001b[39m slice_dimensions \u001b[38;5;241m+\u001b[39m \u001b[38;5;241m1\u001b[39m\n\u001b[0;32m    392\u001b[0m \u001b[38;5;28;01mif\u001b[39;00m x \u001b[38;5;129;01mis\u001b[39;00m \u001b[38;5;129;01mnot\u001b[39;00m \u001b[38;5;28;01mNone\u001b[39;00m \u001b[38;5;129;01mand\u001b[39;00m img\u001b[38;5;241m.\u001b[39mshape[x_index] \u001b[38;5;241m!=\u001b[39m \u001b[38;5;28mlen\u001b[39m(x):\n",
      "\u001b[1;31mValueError\u001b[0m: The length of the y vector must match the length of the first dimension of the img matrix."
     ]
    }
   ],
   "source": [
    "file_name=\"surf1.txt\"\n",
    "anod = 0\n",
    "\n",
    "\n",
    "file = open(file_name, \"r\", encoding=\"utf-8\")\n",
    "leny = len(file.readline().split())\n",
    "lenx = len(file.readlines())+1\n",
    "file.close()\n",
    "\n",
    "#x = np.linspace(0, 3.4, lenx)\n",
    "#y = np.linspace(0, 9.4, leny)\n",
    "\n",
    "#x = np.linspace(0, 2, lenx)\n",
    "#y = np.linspace(0, 5, leny)\n",
    "\n",
    "x = np.linspace(0, 10, lenx)\n",
    "y = np.linspace(0, 3.5, leny)\n",
    "\n",
    "z = []\n",
    "\n",
    "file = open(file_name, \"r\", encoding=\"utf-8\")\n",
    "\n",
    "data = []\n",
    "for line in file:\n",
    "    data_line = line.split()\n",
    "    for i in range(len(data_line)):\n",
    "        data_line[i] = float(data_line[i])\n",
    "    data.append(data_line)\n",
    "\n",
    "h = data\n",
    "\n",
    "file.close()\n",
    "\n",
    "\n",
    "for i1 in range(len(x)):\n",
    "    z.append([])\n",
    "    for i2 in range(len(y)):\n",
    "        z[-1].append(h[i1][i2])\n",
    "\n",
    "z = np.array(z)\n",
    "d = 0.6-z-0.25\n",
    "\n",
    "x = np.linspace(start=0, stop=10, num=(leny-1)*2)\n",
    "y = np.flip(np.linspace(start=0, stop=3.5, num=(lenx-1)))\n",
    "title = 'Распределение потерь по току'\n",
    "labels = {'x':'Длинна ванны', 'y':'Ширина ванны'}\n",
    "print(z.shape, x.size,  y.size)\n",
    "fig = px.imshow(d,x=x, y=y, color_continuous_scale='bluered', labels=labels, title=title, width=650)\n",
    "fig.show()"
   ]
  },
  {
   "cell_type": "code",
   "execution_count": 28,
   "id": "6ccd7e39-9aef-48b3-9707-1b34d058e886",
   "metadata": {},
   "outputs": [
    {
     "ename": "ValueError",
     "evalue": "The length of the y vector must match the length of the first dimension of the img matrix.",
     "output_type": "error",
     "traceback": [
      "\u001b[1;31m---------------------------------------------------------------------------\u001b[0m",
      "\u001b[1;31mValueError\u001b[0m                                Traceback (most recent call last)",
      "Cell \u001b[1;32mIn[28], line 26\u001b[0m\n\u001b[0;32m     24\u001b[0m title \u001b[38;5;241m=\u001b[39m \u001b[38;5;124m'\u001b[39m\u001b[38;5;124mРаспределение МПР\u001b[39m\u001b[38;5;124m'\u001b[39m\n\u001b[0;32m     25\u001b[0m labels \u001b[38;5;241m=\u001b[39m {\u001b[38;5;124m'\u001b[39m\u001b[38;5;124mx\u001b[39m\u001b[38;5;124m'\u001b[39m:\u001b[38;5;124m'\u001b[39m\u001b[38;5;124mДлинна ванны\u001b[39m\u001b[38;5;124m'\u001b[39m, \u001b[38;5;124m'\u001b[39m\u001b[38;5;124my\u001b[39m\u001b[38;5;124m'\u001b[39m:\u001b[38;5;124m'\u001b[39m\u001b[38;5;124mШирина ванны\u001b[39m\u001b[38;5;124m'\u001b[39m}\n\u001b[1;32m---> 26\u001b[0m fig2 \u001b[38;5;241m=\u001b[39m \u001b[43mpx\u001b[49m\u001b[38;5;241;43m.\u001b[39;49m\u001b[43mimshow\u001b[49m\u001b[43m(\u001b[49m\u001b[43md\u001b[49m\u001b[43m,\u001b[49m\u001b[43mx\u001b[49m\u001b[38;5;241;43m=\u001b[39;49m\u001b[43mx\u001b[49m\u001b[43m,\u001b[49m\u001b[43m \u001b[49m\u001b[43my\u001b[49m\u001b[38;5;241;43m=\u001b[39;49m\u001b[43my\u001b[49m\u001b[43m,\u001b[49m\u001b[43m \u001b[49m\u001b[43mcolor_continuous_scale\u001b[49m\u001b[38;5;241;43m=\u001b[39;49m\u001b[38;5;124;43m'\u001b[39;49m\u001b[38;5;124;43mbluered\u001b[39;49m\u001b[38;5;124;43m'\u001b[39;49m\u001b[43m,\u001b[49m\u001b[43m \u001b[49m\u001b[43mlabels\u001b[49m\u001b[38;5;241;43m=\u001b[39;49m\u001b[43mlabels\u001b[49m\u001b[43m,\u001b[49m\u001b[43m \u001b[49m\u001b[43mtitle\u001b[49m\u001b[38;5;241;43m=\u001b[39;49m\u001b[43mtitle\u001b[49m\u001b[43m,\u001b[49m\u001b[43m \u001b[49m\u001b[43mwidth\u001b[49m\u001b[38;5;241;43m=\u001b[39;49m\u001b[38;5;241;43m650\u001b[39;49m\u001b[43m)\u001b[49m\n\u001b[0;32m     27\u001b[0m fig2\u001b[38;5;241m.\u001b[39mshow()\n",
      "File \u001b[1;32m~\\AppData\\Local\\Packages\\PythonSoftwareFoundation.Python.3.11_qbz5n2kfra8p0\\LocalCache\\local-packages\\Python311\\site-packages\\plotly\\express\\_imshow.py:387\u001b[0m, in \u001b[0;36mimshow\u001b[1;34m(img, zmin, zmax, origin, labels, x, y, animation_frame, facet_col, facet_col_wrap, facet_col_spacing, facet_row_spacing, color_continuous_scale, color_continuous_midpoint, range_color, title, template, width, height, aspect, contrast_rescaling, binary_string, binary_backend, binary_compression_level, binary_format, text_auto)\u001b[0m\n\u001b[0;32m    385\u001b[0m y_index \u001b[38;5;241m=\u001b[39m slice_dimensions\n\u001b[0;32m    386\u001b[0m \u001b[38;5;28;01mif\u001b[39;00m y \u001b[38;5;129;01mis\u001b[39;00m \u001b[38;5;129;01mnot\u001b[39;00m \u001b[38;5;28;01mNone\u001b[39;00m \u001b[38;5;129;01mand\u001b[39;00m img\u001b[38;5;241m.\u001b[39mshape[y_index] \u001b[38;5;241m!=\u001b[39m \u001b[38;5;28mlen\u001b[39m(y):\n\u001b[1;32m--> 387\u001b[0m     \u001b[38;5;28;01mraise\u001b[39;00m \u001b[38;5;167;01mValueError\u001b[39;00m(\n\u001b[0;32m    388\u001b[0m         \u001b[38;5;124m\"\u001b[39m\u001b[38;5;124mThe length of the y vector must match the length of the first \u001b[39m\u001b[38;5;124m\"\u001b[39m\n\u001b[0;32m    389\u001b[0m         \u001b[38;5;241m+\u001b[39m \u001b[38;5;124m\"\u001b[39m\u001b[38;5;124mdimension of the img matrix.\u001b[39m\u001b[38;5;124m\"\u001b[39m\n\u001b[0;32m    390\u001b[0m     )\n\u001b[0;32m    391\u001b[0m x_index \u001b[38;5;241m=\u001b[39m slice_dimensions \u001b[38;5;241m+\u001b[39m \u001b[38;5;241m1\u001b[39m\n\u001b[0;32m    392\u001b[0m \u001b[38;5;28;01mif\u001b[39;00m x \u001b[38;5;129;01mis\u001b[39;00m \u001b[38;5;129;01mnot\u001b[39;00m \u001b[38;5;28;01mNone\u001b[39;00m \u001b[38;5;129;01mand\u001b[39;00m img\u001b[38;5;241m.\u001b[39mshape[x_index] \u001b[38;5;241m!=\u001b[39m \u001b[38;5;28mlen\u001b[39m(x):\n",
      "\u001b[1;31mValueError\u001b[0m: The length of the y vector must match the length of the first dimension of the img matrix."
     ]
    }
   ],
   "source": [
    "f = open(\"surf1.txt\", \"r\", encoding=\"utf-8\")\n",
    "\n",
    "d = []\n",
    "\n",
    "x = np.linspace(0,3.4, 31)\n",
    "y = np.linspace(0,9.4, 11)\n",
    "\n",
    "x, y = np.meshgrid(x, y)\n",
    "\n",
    "for line in f:\n",
    "    data = line.split()\n",
    "    d.append([])\n",
    "    for i in data:\n",
    "        d[-1].append(float(i))\n",
    "\n",
    "d = np.array(d)\n",
    "\n",
    "f.close()\n",
    "\n",
    "d = abs(0.6-0.25-d)\n",
    "\n",
    "x = np.linspace(start=0, stop=10, num=31)\n",
    "y = np.flip(np.linspace(start=0, stop=3.5, num=11))\n",
    "title = 'Распределение МПР'\n",
    "labels = {'x':'Длинна ванны', 'y':'Ширина ванны'}\n",
    "fig2 = px.imshow(d,x=x, y=y, color_continuous_scale='bluered', labels=labels, title=title, width=650)\n",
    "fig2.show()"
   ]
  }
 ],
 "metadata": {
  "kernelspec": {
   "display_name": "Python 3 (ipykernel)",
   "language": "python",
   "name": "python3"
  },
  "language_info": {
   "codemirror_mode": {
    "name": "ipython",
    "version": 3
   },
   "file_extension": ".py",
   "mimetype": "text/x-python",
   "name": "python",
   "nbconvert_exporter": "python",
   "pygments_lexer": "ipython3",
   "version": "3.11.9"
  }
 },
 "nbformat": 4,
 "nbformat_minor": 5
}
