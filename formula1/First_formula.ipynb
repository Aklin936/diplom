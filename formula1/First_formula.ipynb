{
 "cells": [
  {
   "cell_type": "code",
   "execution_count": 1,
   "id": "2fff74d2-683c-4969-81e8-408ed75facf5",
   "metadata": {},
   "outputs": [
    {
     "name": "stdout",
     "output_type": "stream",
     "text": [
      "87.33771891563774\n"
     ]
    }
   ],
   "source": [
    "import numpy as np\n",
    "import matplotlib.pyplot as plt\n",
    "\n",
    "def f(S,i,L,T):\n",
    "    return ((1-2567*(S**0.21)/(i**0.58)/L/np.exp(12940/T))*100)\n",
    "\n",
    "\n",
    "S = 15.876\n",
    "i = 0.688\n",
    "L = 0.063\n",
    "t = 960\n",
    "\n",
    "y = f(S, i, L, t)\n",
    "print(y)"
   ]
  }
 ],
 "metadata": {
  "kernelspec": {
   "display_name": "Python 3 (ipykernel)",
   "language": "python",
   "name": "python3"
  },
  "language_info": {
   "codemirror_mode": {
    "name": "ipython",
    "version": 3
   },
   "file_extension": ".py",
   "mimetype": "text/x-python",
   "name": "python",
   "nbconvert_exporter": "python",
   "pygments_lexer": "ipython3",
   "version": "3.11.8"
  }
 },
 "nbformat": 4,
 "nbformat_minor": 5
}
