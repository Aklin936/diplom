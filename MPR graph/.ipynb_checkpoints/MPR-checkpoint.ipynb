{
 "cells": [
  {
   "cell_type": "code",
   "execution_count": 2,
   "id": "abce2320-805e-430b-9460-b33af91ee48f",
   "metadata": {},
   "outputs": [],
   "source": [
    "import numpy as np\n",
    "import plotly.express as px"
   ]
  },
  {
   "cell_type": "code",
   "execution_count": 3,
   "id": "7a2f2587-8e94-4844-aa61-1e88069eb755",
   "metadata": {},
   "outputs": [],
   "source": [
    "f = open(\"h.txt\", \"r\", encoding=\"utf-8\")\n",
    "\n",
    "d = []\n",
    "\n",
    "x = np.linspace(0,3.4, 31)\n",
    "y = np.linspace(0,9.4, 11)\n",
    "\n",
    "x, y = np.meshgrid(x, y)\n",
    "\n",
    "for line in f:\n",
    "    data = line.split()\n",
    "    d.append([])\n",
    "    for i in data:\n",
    "        d[-1].append(float(i))\n",
    "\n",
    "d = np.array(d)\n",
    "\n",
    "f.close()\n",
    "\n",
    "d = abs(0.6-0.25-d)"
   ]
  },
  {
   "cell_type": "code",
   "execution_count": 5,
   "id": "b35b3e96-2c52-4508-b3e7-9e4771168a36",
   "metadata": {},
   "outputs": [
    {
     "data": {
      "application/vnd.plotly.v1+json": {
       "config": {
        "plotlyServerURL": "https://plot.ly"
       },
       "data": [
        {
         "coloraxis": "coloraxis",
         "hovertemplate": "x: %{x}<br>y: %{y}<br>color: %{z}<extra></extra>",
         "name": "0",
         "type": "heatmap",
         "x": [
          0,
          0.3333333333333333,
          0.6666666666666666,
          1,
          1.3333333333333333,
          1.6666666666666665,
          2,
          2.333333333333333,
          2.6666666666666665,
          3,
          3.333333333333333,
          3.6666666666666665,
          4,
          4.333333333333333,
          4.666666666666666,
          5,
          5.333333333333333,
          5.666666666666666,
          6,
          6.333333333333333,
          6.666666666666666,
          7,
          7.333333333333333,
          7.666666666666666,
          8,
          8.333333333333332,
          8.666666666666666,
          9,
          9.333333333333332,
          9.666666666666666,
          10
         ],
         "xaxis": "x",
         "y": [
          3.5,
          3.15,
          2.8,
          2.4499999999999997,
          2.0999999999999996,
          1.75,
          1.4,
          1.0499999999999998,
          0.7,
          0.35,
          0
         ],
         "yaxis": "y",
         "z": [
          [
           0.07399999999999995,
           0.07399999999999995,
           0.07299999999999995,
           0.07299999999999995,
           0.07399999999999995,
           0.07599999999999996,
           0.07899999999999996,
           0.08199999999999996,
           0.08599999999999997,
           0.08899999999999997,
           0.09099999999999997,
           0.09099999999999997,
           0.08899999999999997,
           0.08699999999999997,
           0.08599999999999997,
           0.08599999999999997,
           0.08699999999999997,
           0.08899999999999997,
           0.09299999999999997,
           0.09699999999999998,
           0.10099999999999998,
           0.10599999999999998,
           0.11199999999999999,
           0.11799999999999997,
           0.12499999999999997,
           0.13199999999999998,
           0.13899999999999998,
           0.146,
           0.15099999999999997,
           0.15599999999999997,
           0.15999999999999998
          ],
          [
           0.07299999999999995,
           0.07199999999999995,
           0.06899999999999995,
           0.066,
           0.063,
           0.063,
           0.064,
           0.066,
           0.06899999999999995,
           0.07199999999999995,
           0.07399999999999995,
           0.07599999999999996,
           0.07699999999999996,
           0.07799999999999996,
           0.07899999999999996,
           0.08099999999999996,
           0.08299999999999996,
           0.08599999999999997,
           0.08899999999999997,
           0.09299999999999997,
           0.09699999999999998,
           0.10199999999999998,
           0.10699999999999998,
           0.11299999999999999,
           0.11899999999999997,
           0.12599999999999997,
           0.13199999999999998,
           0.13899999999999998,
           0.146,
           0.15199999999999997,
           0.15699999999999997
          ],
          [
           0.07699999999999996,
           0.07599999999999996,
           0.07199999999999995,
           0.068,
           0.064,
           0.063,
           0.063,
           0.064,
           0.066,
           0.068,
           0.06999999999999995,
           0.07199999999999995,
           0.07399999999999995,
           0.07599999999999996,
           0.07699999999999996,
           0.07899999999999996,
           0.08199999999999996,
           0.08499999999999996,
           0.08799999999999997,
           0.09199999999999997,
           0.09599999999999997,
           0.09999999999999998,
           0.10499999999999998,
           0.10999999999999999,
           0.11599999999999996,
           0.12199999999999997,
           0.12799999999999997,
           0.13399999999999998,
           0.141,
           0.14799999999999996,
           0.15499999999999997
          ],
          [
           0.08499999999999996,
           0.08399999999999996,
           0.07899999999999996,
           0.07499999999999996,
           0.06999999999999995,
           0.068,
           0.067,
           0.066,
           0.067,
           0.06899999999999995,
           0.06999999999999995,
           0.07199999999999995,
           0.07299999999999995,
           0.07499999999999996,
           0.07699999999999996,
           0.07899999999999996,
           0.08199999999999996,
           0.08399999999999996,
           0.08699999999999997,
           0.09099999999999997,
           0.09499999999999997,
           0.09899999999999998,
           0.10399999999999998,
           0.10799999999999998,
           0.11299999999999999,
           0.11899999999999997,
           0.12499999999999997,
           0.13099999999999998,
           0.13699999999999998,
           0.144,
           0.15199999999999997
          ],
          [
           0.09699999999999998,
           0.09399999999999997,
           0.08899999999999997,
           0.08399999999999996,
           0.07899999999999996,
           0.07599999999999996,
           0.07399999999999995,
           0.07199999999999995,
           0.07199999999999995,
           0.07299999999999995,
           0.07399999999999995,
           0.07499999999999996,
           0.07599999999999996,
           0.07699999999999996,
           0.07899999999999996,
           0.08099999999999996,
           0.08299999999999996,
           0.08499999999999996,
           0.08799999999999997,
           0.09099999999999997,
           0.09499999999999997,
           0.09899999999999998,
           0.10299999999999998,
           0.10699999999999998,
           0.11199999999999999,
           0.11699999999999997,
           0.12199999999999997,
           0.12799999999999997,
           0.13299999999999998,
           0.13999999999999999,
           0.14799999999999996
          ],
          [
           0.10999999999999999,
           0.10599999999999998,
           0.10099999999999998,
           0.09499999999999997,
           0.08999999999999997,
           0.08599999999999997,
           0.08299999999999996,
           0.07999999999999996,
           0.07999999999999996,
           0.07899999999999996,
           0.07899999999999996,
           0.07899999999999996,
           0.07999999999999996,
           0.08099999999999996,
           0.08199999999999996,
           0.08299999999999996,
           0.08499999999999996,
           0.08599999999999997,
           0.08899999999999997,
           0.09199999999999997,
           0.09499999999999997,
           0.09799999999999998,
           0.10199999999999998,
           0.10599999999999998,
           0.10999999999999999,
           0.11499999999999999,
           0.11999999999999997,
           0.12399999999999997,
           0.12999999999999998,
           0.13499999999999998,
           0.142
          ],
          [
           0.12399999999999997,
           0.11799999999999997,
           0.11299999999999999,
           0.10699999999999998,
           0.10199999999999998,
           0.09699999999999998,
           0.09299999999999997,
           0.08999999999999997,
           0.08899999999999997,
           0.08699999999999997,
           0.08599999999999997,
           0.08599999999999997,
           0.08499999999999996,
           0.08599999999999997,
           0.08599999999999997,
           0.08699999999999997,
           0.08699999999999997,
           0.08799999999999997,
           0.08999999999999997,
           0.09199999999999997,
           0.09499999999999997,
           0.09799999999999998,
           0.10099999999999998,
           0.10499999999999998,
           0.10899999999999999,
           0.11299999999999999,
           0.11699999999999997,
           0.12099999999999997,
           0.12499999999999997,
           0.12899999999999998,
           0.13499999999999998
          ],
          [
           0.13599999999999998,
           0.12999999999999998,
           0.12499999999999997,
           0.11999999999999997,
           0.11399999999999999,
           0.10999999999999999,
           0.10499999999999998,
           0.10199999999999998,
           0.09899999999999998,
           0.09599999999999997,
           0.09399999999999997,
           0.09299999999999997,
           0.09099999999999997,
           0.09099999999999997,
           0.08999999999999997,
           0.08999999999999997,
           0.08999999999999997,
           0.09099999999999997,
           0.09199999999999997,
           0.09299999999999997,
           0.09499999999999997,
           0.09699999999999998,
           0.09999999999999998,
           0.10299999999999998,
           0.10599999999999998,
           0.10999999999999999,
           0.11299999999999999,
           0.11699999999999997,
           0.11999999999999997,
           0.12399999999999997,
           0.12799999999999997
          ],
          [
           0.14699999999999996,
           0.142,
           0.13699999999999998,
           0.13299999999999998,
           0.12799999999999997,
           0.12299999999999997,
           0.11899999999999997,
           0.11399999999999999,
           0.10999999999999999,
           0.10599999999999998,
           0.10299999999999998,
           0.09999999999999998,
           0.09699999999999998,
           0.09599999999999997,
           0.09399999999999997,
           0.09299999999999997,
           0.09299999999999997,
           0.09299999999999997,
           0.09299999999999997,
           0.09399999999999997,
           0.09499999999999997,
           0.09699999999999998,
           0.09899999999999998,
           0.10099999999999998,
           0.10299999999999998,
           0.10599999999999998,
           0.10899999999999999,
           0.11199999999999999,
           0.11499999999999999,
           0.11799999999999997,
           0.12099999999999997
          ],
          [
           0.15699999999999997,
           0.15399999999999997,
           0.15099999999999997,
           0.14699999999999996,
           0.144,
           0.13899999999999998,
           0.13399999999999998,
           0.12899999999999998,
           0.12299999999999997,
           0.11699999999999997,
           0.11199999999999999,
           0.10699999999999998,
           0.10299999999999998,
           0.09999999999999998,
           0.09699999999999998,
           0.09599999999999997,
           0.09499999999999997,
           0.09499999999999997,
           0.09499999999999997,
           0.09499999999999997,
           0.09599999999999997,
           0.09599999999999997,
           0.09699999999999998,
           0.09899999999999998,
           0.09999999999999998,
           0.10299999999999998,
           0.10499999999999998,
           0.10799999999999998,
           0.11099999999999999,
           0.11399999999999999,
           0.11499999999999999
          ],
          [
           0.16499999999999998,
           0.16299999999999998,
           0.16399999999999998,
           0.16499999999999998,
           0.16499999999999998,
           0.16199999999999998,
           0.15699999999999997,
           0.14999999999999997,
           0.142,
           0.13299999999999998,
           0.12399999999999997,
           0.11599999999999996,
           0.10899999999999999,
           0.10399999999999998,
           0.09999999999999998,
           0.09799999999999998,
           0.09799999999999998,
           0.09799999999999998,
           0.09799999999999998,
           0.09799999999999998,
           0.09799999999999998,
           0.09699999999999998,
           0.09699999999999998,
           0.09699999999999998,
           0.09799999999999998,
           0.09999999999999998,
           0.10199999999999998,
           0.10499999999999998,
           0.10799999999999998,
           0.11199999999999999,
           0.11299999999999999
          ]
         ]
        }
       ],
       "layout": {
        "autosize": true,
        "coloraxis": {
         "colorscale": [
          [
           0,
           "#0d0887"
          ],
          [
           0.1111111111111111,
           "#46039f"
          ],
          [
           0.2222222222222222,
           "#7201a8"
          ],
          [
           0.3333333333333333,
           "#9c179e"
          ],
          [
           0.4444444444444444,
           "#bd3786"
          ],
          [
           0.5555555555555556,
           "#d8576b"
          ],
          [
           0.6666666666666666,
           "#ed7953"
          ],
          [
           0.7777777777777778,
           "#fb9f3a"
          ],
          [
           0.8888888888888888,
           "#fdca26"
          ],
          [
           1,
           "#f0f921"
          ]
         ]
        },
        "margin": {
         "t": 60
        },
        "template": {
         "data": {
          "bar": [
           {
            "error_x": {
             "color": "#2a3f5f"
            },
            "error_y": {
             "color": "#2a3f5f"
            },
            "marker": {
             "line": {
              "color": "#E5ECF6",
              "width": 0.5
             },
             "pattern": {
              "fillmode": "overlay",
              "size": 10,
              "solidity": 0.2
             }
            },
            "type": "bar"
           }
          ],
          "barpolar": [
           {
            "marker": {
             "line": {
              "color": "#E5ECF6",
              "width": 0.5
             },
             "pattern": {
              "fillmode": "overlay",
              "size": 10,
              "solidity": 0.2
             }
            },
            "type": "barpolar"
           }
          ],
          "carpet": [
           {
            "aaxis": {
             "endlinecolor": "#2a3f5f",
             "gridcolor": "white",
             "linecolor": "white",
             "minorgridcolor": "white",
             "startlinecolor": "#2a3f5f"
            },
            "baxis": {
             "endlinecolor": "#2a3f5f",
             "gridcolor": "white",
             "linecolor": "white",
             "minorgridcolor": "white",
             "startlinecolor": "#2a3f5f"
            },
            "type": "carpet"
           }
          ],
          "choropleth": [
           {
            "colorbar": {
             "outlinewidth": 0,
             "ticks": ""
            },
            "type": "choropleth"
           }
          ],
          "contour": [
           {
            "colorbar": {
             "outlinewidth": 0,
             "ticks": ""
            },
            "colorscale": [
             [
              0,
              "#0d0887"
             ],
             [
              0.1111111111111111,
              "#46039f"
             ],
             [
              0.2222222222222222,
              "#7201a8"
             ],
             [
              0.3333333333333333,
              "#9c179e"
             ],
             [
              0.4444444444444444,
              "#bd3786"
             ],
             [
              0.5555555555555556,
              "#d8576b"
             ],
             [
              0.6666666666666666,
              "#ed7953"
             ],
             [
              0.7777777777777778,
              "#fb9f3a"
             ],
             [
              0.8888888888888888,
              "#fdca26"
             ],
             [
              1,
              "#f0f921"
             ]
            ],
            "type": "contour"
           }
          ],
          "contourcarpet": [
           {
            "colorbar": {
             "outlinewidth": 0,
             "ticks": ""
            },
            "type": "contourcarpet"
           }
          ],
          "heatmap": [
           {
            "colorbar": {
             "outlinewidth": 0,
             "ticks": ""
            },
            "colorscale": [
             [
              0,
              "#0d0887"
             ],
             [
              0.1111111111111111,
              "#46039f"
             ],
             [
              0.2222222222222222,
              "#7201a8"
             ],
             [
              0.3333333333333333,
              "#9c179e"
             ],
             [
              0.4444444444444444,
              "#bd3786"
             ],
             [
              0.5555555555555556,
              "#d8576b"
             ],
             [
              0.6666666666666666,
              "#ed7953"
             ],
             [
              0.7777777777777778,
              "#fb9f3a"
             ],
             [
              0.8888888888888888,
              "#fdca26"
             ],
             [
              1,
              "#f0f921"
             ]
            ],
            "type": "heatmap"
           }
          ],
          "heatmapgl": [
           {
            "colorbar": {
             "outlinewidth": 0,
             "ticks": ""
            },
            "colorscale": [
             [
              0,
              "#0d0887"
             ],
             [
              0.1111111111111111,
              "#46039f"
             ],
             [
              0.2222222222222222,
              "#7201a8"
             ],
             [
              0.3333333333333333,
              "#9c179e"
             ],
             [
              0.4444444444444444,
              "#bd3786"
             ],
             [
              0.5555555555555556,
              "#d8576b"
             ],
             [
              0.6666666666666666,
              "#ed7953"
             ],
             [
              0.7777777777777778,
              "#fb9f3a"
             ],
             [
              0.8888888888888888,
              "#fdca26"
             ],
             [
              1,
              "#f0f921"
             ]
            ],
            "type": "heatmapgl"
           }
          ],
          "histogram": [
           {
            "marker": {
             "pattern": {
              "fillmode": "overlay",
              "size": 10,
              "solidity": 0.2
             }
            },
            "type": "histogram"
           }
          ],
          "histogram2d": [
           {
            "colorbar": {
             "outlinewidth": 0,
             "ticks": ""
            },
            "colorscale": [
             [
              0,
              "#0d0887"
             ],
             [
              0.1111111111111111,
              "#46039f"
             ],
             [
              0.2222222222222222,
              "#7201a8"
             ],
             [
              0.3333333333333333,
              "#9c179e"
             ],
             [
              0.4444444444444444,
              "#bd3786"
             ],
             [
              0.5555555555555556,
              "#d8576b"
             ],
             [
              0.6666666666666666,
              "#ed7953"
             ],
             [
              0.7777777777777778,
              "#fb9f3a"
             ],
             [
              0.8888888888888888,
              "#fdca26"
             ],
             [
              1,
              "#f0f921"
             ]
            ],
            "type": "histogram2d"
           }
          ],
          "histogram2dcontour": [
           {
            "colorbar": {
             "outlinewidth": 0,
             "ticks": ""
            },
            "colorscale": [
             [
              0,
              "#0d0887"
             ],
             [
              0.1111111111111111,
              "#46039f"
             ],
             [
              0.2222222222222222,
              "#7201a8"
             ],
             [
              0.3333333333333333,
              "#9c179e"
             ],
             [
              0.4444444444444444,
              "#bd3786"
             ],
             [
              0.5555555555555556,
              "#d8576b"
             ],
             [
              0.6666666666666666,
              "#ed7953"
             ],
             [
              0.7777777777777778,
              "#fb9f3a"
             ],
             [
              0.8888888888888888,
              "#fdca26"
             ],
             [
              1,
              "#f0f921"
             ]
            ],
            "type": "histogram2dcontour"
           }
          ],
          "mesh3d": [
           {
            "colorbar": {
             "outlinewidth": 0,
             "ticks": ""
            },
            "type": "mesh3d"
           }
          ],
          "parcoords": [
           {
            "line": {
             "colorbar": {
              "outlinewidth": 0,
              "ticks": ""
             }
            },
            "type": "parcoords"
           }
          ],
          "pie": [
           {
            "automargin": true,
            "type": "pie"
           }
          ],
          "scatter": [
           {
            "fillpattern": {
             "fillmode": "overlay",
             "size": 10,
             "solidity": 0.2
            },
            "type": "scatter"
           }
          ],
          "scatter3d": [
           {
            "line": {
             "colorbar": {
              "outlinewidth": 0,
              "ticks": ""
             }
            },
            "marker": {
             "colorbar": {
              "outlinewidth": 0,
              "ticks": ""
             }
            },
            "type": "scatter3d"
           }
          ],
          "scattercarpet": [
           {
            "marker": {
             "colorbar": {
              "outlinewidth": 0,
              "ticks": ""
             }
            },
            "type": "scattercarpet"
           }
          ],
          "scattergeo": [
           {
            "marker": {
             "colorbar": {
              "outlinewidth": 0,
              "ticks": ""
             }
            },
            "type": "scattergeo"
           }
          ],
          "scattergl": [
           {
            "marker": {
             "colorbar": {
              "outlinewidth": 0,
              "ticks": ""
             }
            },
            "type": "scattergl"
           }
          ],
          "scattermapbox": [
           {
            "marker": {
             "colorbar": {
              "outlinewidth": 0,
              "ticks": ""
             }
            },
            "type": "scattermapbox"
           }
          ],
          "scatterpolar": [
           {
            "marker": {
             "colorbar": {
              "outlinewidth": 0,
              "ticks": ""
             }
            },
            "type": "scatterpolar"
           }
          ],
          "scatterpolargl": [
           {
            "marker": {
             "colorbar": {
              "outlinewidth": 0,
              "ticks": ""
             }
            },
            "type": "scatterpolargl"
           }
          ],
          "scatterternary": [
           {
            "marker": {
             "colorbar": {
              "outlinewidth": 0,
              "ticks": ""
             }
            },
            "type": "scatterternary"
           }
          ],
          "surface": [
           {
            "colorbar": {
             "outlinewidth": 0,
             "ticks": ""
            },
            "colorscale": [
             [
              0,
              "#0d0887"
             ],
             [
              0.1111111111111111,
              "#46039f"
             ],
             [
              0.2222222222222222,
              "#7201a8"
             ],
             [
              0.3333333333333333,
              "#9c179e"
             ],
             [
              0.4444444444444444,
              "#bd3786"
             ],
             [
              0.5555555555555556,
              "#d8576b"
             ],
             [
              0.6666666666666666,
              "#ed7953"
             ],
             [
              0.7777777777777778,
              "#fb9f3a"
             ],
             [
              0.8888888888888888,
              "#fdca26"
             ],
             [
              1,
              "#f0f921"
             ]
            ],
            "type": "surface"
           }
          ],
          "table": [
           {
            "cells": {
             "fill": {
              "color": "#EBF0F8"
             },
             "line": {
              "color": "white"
             }
            },
            "header": {
             "fill": {
              "color": "#C8D4E3"
             },
             "line": {
              "color": "white"
             }
            },
            "type": "table"
           }
          ]
         },
         "layout": {
          "annotationdefaults": {
           "arrowcolor": "#2a3f5f",
           "arrowhead": 0,
           "arrowwidth": 1
          },
          "autotypenumbers": "strict",
          "coloraxis": {
           "colorbar": {
            "outlinewidth": 0,
            "ticks": ""
           }
          },
          "colorscale": {
           "diverging": [
            [
             0,
             "#8e0152"
            ],
            [
             0.1,
             "#c51b7d"
            ],
            [
             0.2,
             "#de77ae"
            ],
            [
             0.3,
             "#f1b6da"
            ],
            [
             0.4,
             "#fde0ef"
            ],
            [
             0.5,
             "#f7f7f7"
            ],
            [
             0.6,
             "#e6f5d0"
            ],
            [
             0.7,
             "#b8e186"
            ],
            [
             0.8,
             "#7fbc41"
            ],
            [
             0.9,
             "#4d9221"
            ],
            [
             1,
             "#276419"
            ]
           ],
           "sequential": [
            [
             0,
             "#0d0887"
            ],
            [
             0.1111111111111111,
             "#46039f"
            ],
            [
             0.2222222222222222,
             "#7201a8"
            ],
            [
             0.3333333333333333,
             "#9c179e"
            ],
            [
             0.4444444444444444,
             "#bd3786"
            ],
            [
             0.5555555555555556,
             "#d8576b"
            ],
            [
             0.6666666666666666,
             "#ed7953"
            ],
            [
             0.7777777777777778,
             "#fb9f3a"
            ],
            [
             0.8888888888888888,
             "#fdca26"
            ],
            [
             1,
             "#f0f921"
            ]
           ],
           "sequentialminus": [
            [
             0,
             "#0d0887"
            ],
            [
             0.1111111111111111,
             "#46039f"
            ],
            [
             0.2222222222222222,
             "#7201a8"
            ],
            [
             0.3333333333333333,
             "#9c179e"
            ],
            [
             0.4444444444444444,
             "#bd3786"
            ],
            [
             0.5555555555555556,
             "#d8576b"
            ],
            [
             0.6666666666666666,
             "#ed7953"
            ],
            [
             0.7777777777777778,
             "#fb9f3a"
            ],
            [
             0.8888888888888888,
             "#fdca26"
            ],
            [
             1,
             "#f0f921"
            ]
           ]
          },
          "colorway": [
           "#636efa",
           "#EF553B",
           "#00cc96",
           "#ab63fa",
           "#FFA15A",
           "#19d3f3",
           "#FF6692",
           "#B6E880",
           "#FF97FF",
           "#FECB52"
          ],
          "font": {
           "color": "#2a3f5f"
          },
          "geo": {
           "bgcolor": "white",
           "lakecolor": "white",
           "landcolor": "#E5ECF6",
           "showlakes": true,
           "showland": true,
           "subunitcolor": "white"
          },
          "hoverlabel": {
           "align": "left"
          },
          "hovermode": "closest",
          "mapbox": {
           "style": "light"
          },
          "paper_bgcolor": "white",
          "plot_bgcolor": "#E5ECF6",
          "polar": {
           "angularaxis": {
            "gridcolor": "white",
            "linecolor": "white",
            "ticks": ""
           },
           "bgcolor": "#E5ECF6",
           "radialaxis": {
            "gridcolor": "white",
            "linecolor": "white",
            "ticks": ""
           }
          },
          "scene": {
           "xaxis": {
            "backgroundcolor": "#E5ECF6",
            "gridcolor": "white",
            "gridwidth": 2,
            "linecolor": "white",
            "showbackground": true,
            "ticks": "",
            "zerolinecolor": "white"
           },
           "yaxis": {
            "backgroundcolor": "#E5ECF6",
            "gridcolor": "white",
            "gridwidth": 2,
            "linecolor": "white",
            "showbackground": true,
            "ticks": "",
            "zerolinecolor": "white"
           },
           "zaxis": {
            "backgroundcolor": "#E5ECF6",
            "gridcolor": "white",
            "gridwidth": 2,
            "linecolor": "white",
            "showbackground": true,
            "ticks": "",
            "zerolinecolor": "white"
           }
          },
          "shapedefaults": {
           "line": {
            "color": "#2a3f5f"
           }
          },
          "ternary": {
           "aaxis": {
            "gridcolor": "white",
            "linecolor": "white",
            "ticks": ""
           },
           "baxis": {
            "gridcolor": "white",
            "linecolor": "white",
            "ticks": ""
           },
           "bgcolor": "#E5ECF6",
           "caxis": {
            "gridcolor": "white",
            "linecolor": "white",
            "ticks": ""
           }
          },
          "title": {
           "x": 0.05
          },
          "xaxis": {
           "automargin": true,
           "gridcolor": "white",
           "linecolor": "white",
           "ticks": "",
           "title": {
            "standoff": 15
           },
           "zerolinecolor": "white",
           "zerolinewidth": 2
          },
          "yaxis": {
           "automargin": true,
           "gridcolor": "white",
           "linecolor": "white",
           "ticks": "",
           "title": {
            "standoff": 15
           },
           "zerolinecolor": "white",
           "zerolinewidth": 2
          }
         }
        },
        "xaxis": {
         "anchor": "y",
         "autorange": true,
         "constrain": "domain",
         "domain": [
          0.185582433186267,
          0.814417566813733
         ],
         "range": [
          -0.16666666666666666,
          10.166666666666668
         ],
         "scaleanchor": "y",
         "type": "linear"
        },
        "yaxis": {
         "anchor": "x",
         "autorange": true,
         "constrain": "domain",
         "domain": [
          1.1102230246251565e-16,
          0.9999999999999999
         ],
         "range": [
          3.675,
          -0.175
         ],
         "type": "linear"
        }
       }
      },
      "image/png": "[encoded data removed]",
      "text/html": [
       "<div>                            <div id=\"f0338ea3-d656-47da-bab1-b336f84ce45b\" class=\"plotly-graph-div\" style=\"height:525px; width:100%;\"></div>            <script type=\"text/javascript\">                require([\"plotly\"], function(Plotly) {                    window.PLOTLYENV=window.PLOTLYENV || {};                                    if (document.getElementById(\"f0338ea3-d656-47da-bab1-b336f84ce45b\")) {                    Plotly.newPlot(                        \"f0338ea3-d656-47da-bab1-b336f84ce45b\",                        [{\"coloraxis\":\"coloraxis\",\"name\":\"0\",\"x\":[0.0,0.3333333333333333,0.6666666666666666,1.0,1.3333333333333333,1.6666666666666665,2.0,2.333333333333333,2.6666666666666665,3.0,3.333333333333333,3.6666666666666665,4.0,4.333333333333333,4.666666666666666,5.0,5.333333333333333,5.666666666666666,6.0,6.333333333333333,6.666666666666666,7.0,7.333333333333333,7.666666666666666,8.0,8.333333333333332,8.666666666666666,9.0,9.333333333333332,9.666666666666666,10.0],\"y\":[3.5,3.15,2.8,2.4499999999999997,2.0999999999999996,1.75,1.4,1.0499999999999998,0.7,0.35,0.0],\"z\":[[0.07399999999999995,0.07399999999999995,0.07299999999999995,0.07299999999999995,0.07399999999999995,0.07599999999999996,0.07899999999999996,0.08199999999999996,0.08599999999999997,0.08899999999999997,0.09099999999999997,0.09099999999999997,0.08899999999999997,0.08699999999999997,0.08599999999999997,0.08599999999999997,0.08699999999999997,0.08899999999999997,0.09299999999999997,0.09699999999999998,0.10099999999999998,0.10599999999999998,0.11199999999999999,0.11799999999999997,0.12499999999999997,0.13199999999999998,0.13899999999999998,0.146,0.15099999999999997,0.15599999999999997,0.15999999999999998],[0.07299999999999995,0.07199999999999995,0.06899999999999995,0.066,0.063,0.063,0.064,0.066,0.06899999999999995,0.07199999999999995,0.07399999999999995,0.07599999999999996,0.07699999999999996,0.07799999999999996,0.07899999999999996,0.08099999999999996,0.08299999999999996,0.08599999999999997,0.08899999999999997,0.09299999999999997,0.09699999999999998,0.10199999999999998,0.10699999999999998,0.11299999999999999,0.11899999999999997,0.12599999999999997,0.13199999999999998,0.13899999999999998,0.146,0.15199999999999997,0.15699999999999997],[0.07699999999999996,0.07599999999999996,0.07199999999999995,0.068,0.064,0.063,0.063,0.064,0.066,0.068,0.06999999999999995,0.07199999999999995,0.07399999999999995,0.07599999999999996,0.07699999999999996,0.07899999999999996,0.08199999999999996,0.08499999999999996,0.08799999999999997,0.09199999999999997,0.09599999999999997,0.09999999999999998,0.10499999999999998,0.10999999999999999,0.11599999999999996,0.12199999999999997,0.12799999999999997,0.13399999999999998,0.141,0.14799999999999996,0.15499999999999997],[0.08499999999999996,0.08399999999999996,0.07899999999999996,0.07499999999999996,0.06999999999999995,0.068,0.067,0.066,0.067,0.06899999999999995,0.06999999999999995,0.07199999999999995,0.07299999999999995,0.07499999999999996,0.07699999999999996,0.07899999999999996,0.08199999999999996,0.08399999999999996,0.08699999999999997,0.09099999999999997,0.09499999999999997,0.09899999999999998,0.10399999999999998,0.10799999999999998,0.11299999999999999,0.11899999999999997,0.12499999999999997,0.13099999999999998,0.13699999999999998,0.144,0.15199999999999997],[0.09699999999999998,0.09399999999999997,0.08899999999999997,0.08399999999999996,0.07899999999999996,0.07599999999999996,0.07399999999999995,0.07199999999999995,0.07199999999999995,0.07299999999999995,0.07399999999999995,0.07499999999999996,0.07599999999999996,0.07699999999999996,0.07899999999999996,0.08099999999999996,0.08299999999999996,0.08499999999999996,0.08799999999999997,0.09099999999999997,0.09499999999999997,0.09899999999999998,0.10299999999999998,0.10699999999999998,0.11199999999999999,0.11699999999999997,0.12199999999999997,0.12799999999999997,0.13299999999999998,0.13999999999999999,0.14799999999999996],[0.10999999999999999,0.10599999999999998,0.10099999999999998,0.09499999999999997,0.08999999999999997,0.08599999999999997,0.08299999999999996,0.07999999999999996,0.07999999999999996,0.07899999999999996,0.07899999999999996,0.07899999999999996,0.07999999999999996,0.08099999999999996,0.08199999999999996,0.08299999999999996,0.08499999999999996,0.08599999999999997,0.08899999999999997,0.09199999999999997,0.09499999999999997,0.09799999999999998,0.10199999999999998,0.10599999999999998,0.10999999999999999,0.11499999999999999,0.11999999999999997,0.12399999999999997,0.12999999999999998,0.13499999999999998,0.142],[0.12399999999999997,0.11799999999999997,0.11299999999999999,0.10699999999999998,0.10199999999999998,0.09699999999999998,0.09299999999999997,0.08999999999999997,0.08899999999999997,0.08699999999999997,0.08599999999999997,0.08599999999999997,0.08499999999999996,0.08599999999999997,0.08599999999999997,0.08699999999999997,0.08699999999999997,0.08799999999999997,0.08999999999999997,0.09199999999999997,0.09499999999999997,0.09799999999999998,0.10099999999999998,0.10499999999999998,0.10899999999999999,0.11299999999999999,0.11699999999999997,0.12099999999999997,0.12499999999999997,0.12899999999999998,0.13499999999999998],[0.13599999999999998,0.12999999999999998,0.12499999999999997,0.11999999999999997,0.11399999999999999,0.10999999999999999,0.10499999999999998,0.10199999999999998,0.09899999999999998,0.09599999999999997,0.09399999999999997,0.09299999999999997,0.09099999999999997,0.09099999999999997,0.08999999999999997,0.08999999999999997,0.08999999999999997,0.09099999999999997,0.09199999999999997,0.09299999999999997,0.09499999999999997,0.09699999999999998,0.09999999999999998,0.10299999999999998,0.10599999999999998,0.10999999999999999,0.11299999999999999,0.11699999999999997,0.11999999999999997,0.12399999999999997,0.12799999999999997],[0.14699999999999996,0.142,0.13699999999999998,0.13299999999999998,0.12799999999999997,0.12299999999999997,0.11899999999999997,0.11399999999999999,0.10999999999999999,0.10599999999999998,0.10299999999999998,0.09999999999999998,0.09699999999999998,0.09599999999999997,0.09399999999999997,0.09299999999999997,0.09299999999999997,0.09299999999999997,0.09299999999999997,0.09399999999999997,0.09499999999999997,0.09699999999999998,0.09899999999999998,0.10099999999999998,0.10299999999999998,0.10599999999999998,0.10899999999999999,0.11199999999999999,0.11499999999999999,0.11799999999999997,0.12099999999999997],[0.15699999999999997,0.15399999999999997,0.15099999999999997,0.14699999999999996,0.144,0.13899999999999998,0.13399999999999998,0.12899999999999998,0.12299999999999997,0.11699999999999997,0.11199999999999999,0.10699999999999998,0.10299999999999998,0.09999999999999998,0.09699999999999998,0.09599999999999997,0.09499999999999997,0.09499999999999997,0.09499999999999997,0.09499999999999997,0.09599999999999997,0.09599999999999997,0.09699999999999998,0.09899999999999998,0.09999999999999998,0.10299999999999998,0.10499999999999998,0.10799999999999998,0.11099999999999999,0.11399999999999999,0.11499999999999999],[0.16499999999999998,0.16299999999999998,0.16399999999999998,0.16499999999999998,0.16499999999999998,0.16199999999999998,0.15699999999999997,0.14999999999999997,0.142,0.13299999999999998,0.12399999999999997,0.11599999999999996,0.10899999999999999,0.10399999999999998,0.09999999999999998,0.09799999999999998,0.09799999999999998,0.09799999999999998,0.09799999999999998,0.09799999999999998,0.09799999999999998,0.09699999999999998,0.09699999999999998,0.09699999999999998,0.09799999999999998,0.09999999999999998,0.10199999999999998,0.10499999999999998,0.10799999999999998,0.11199999999999999,0.11299999999999999]],\"type\":\"heatmap\",\"xaxis\":\"x\",\"yaxis\":\"y\",\"hovertemplate\":\"x: %{x}\\u003cbr\\u003ey: %{y}\\u003cbr\\u003ecolor: %{z}\\u003cextra\\u003e\\u003c\\u002fextra\\u003e\"}],                        {\"template\":{\"data\":{\"histogram2dcontour\":[{\"type\":\"histogram2dcontour\",\"colorbar\":{\"outlinewidth\":0,\"ticks\":\"\"},\"colorscale\":[[0.0,\"#0d0887\"],[0.1111111111111111,\"#46039f\"],[0.2222222222222222,\"#7201a8\"],[0.3333333333333333,\"#9c179e\"],[0.4444444444444444,\"#bd3786\"],[0.5555555555555556,\"#d8576b\"],[0.6666666666666666,\"#ed7953\"],[0.7777777777777778,\"#fb9f3a\"],[0.8888888888888888,\"#fdca26\"],[1.0,\"#f0f921\"]]}],\"choropleth\":[{\"type\":\"choropleth\",\"colorbar\":{\"outlinewidth\":0,\"ticks\":\"\"}}],\"histogram2d\":[{\"type\":\"histogram2d\",\"colorbar\":{\"outlinewidth\":0,\"ticks\":\"\"},\"colorscale\":[[0.0,\"#0d0887\"],[0.1111111111111111,\"#46039f\"],[0.2222222222222222,\"#7201a8\"],[0.3333333333333333,\"#9c179e\"],[0.4444444444444444,\"#bd3786\"],[0.5555555555555556,\"#d8576b\"],[0.6666666666666666,\"#ed7953\"],[0.7777777777777778,\"#fb9f3a\"],[0.8888888888888888,\"#fdca26\"],[1.0,\"#f0f921\"]]}],\"heatmap\":[{\"type\":\"heatmap\",\"colorbar\":{\"outlinewidth\":0,\"ticks\":\"\"},\"colorscale\":[[0.0,\"#0d0887\"],[0.1111111111111111,\"#46039f\"],[0.2222222222222222,\"#7201a8\"],[0.3333333333333333,\"#9c179e\"],[0.4444444444444444,\"#bd3786\"],[0.5555555555555556,\"#d8576b\"],[0.6666666666666666,\"#ed7953\"],[0.7777777777777778,\"#fb9f3a\"],[0.8888888888888888,\"#fdca26\"],[1.0,\"#f0f921\"]]}],\"heatmapgl\":[{\"type\":\"heatmapgl\",\"colorbar\":{\"outlinewidth\":0,\"ticks\":\"\"},\"colorscale\":[[0.0,\"#0d0887\"],[0.1111111111111111,\"#46039f\"],[0.2222222222222222,\"#7201a8\"],[0.3333333333333333,\"#9c179e\"],[0.4444444444444444,\"#bd3786\"],[0.5555555555555556,\"#d8576b\"],[0.6666666666666666,\"#ed7953\"],[0.7777777777777778,\"#fb9f3a\"],[0.8888888888888888,\"#fdca26\"],[1.0,\"#f0f921\"]]}],\"contourcarpet\":[{\"type\":\"contourcarpet\",\"colorbar\":{\"outlinewidth\":0,\"ticks\":\"\"}}],\"contour\":[{\"type\":\"contour\",\"colorbar\":{\"outlinewidth\":0,\"ticks\":\"\"},\"colorscale\":[[0.0,\"#0d0887\"],[0.1111111111111111,\"#46039f\"],[0.2222222222222222,\"#7201a8\"],[0.3333333333333333,\"#9c179e\"],[0.4444444444444444,\"#bd3786\"],[0.5555555555555556,\"#d8576b\"],[0.6666666666666666,\"#ed7953\"],[0.7777777777777778,\"#fb9f3a\"],[0.8888888888888888,\"#fdca26\"],[1.0,\"#f0f921\"]]}],\"surface\":[{\"type\":\"surface\",\"colorbar\":{\"outlinewidth\":0,\"ticks\":\"\"},\"colorscale\":[[0.0,\"#0d0887\"],[0.1111111111111111,\"#46039f\"],[0.2222222222222222,\"#7201a8\"],[0.3333333333333333,\"#9c179e\"],[0.4444444444444444,\"#bd3786\"],[0.5555555555555556,\"#d8576b\"],[0.6666666666666666,\"#ed7953\"],[0.7777777777777778,\"#fb9f3a\"],[0.8888888888888888,\"#fdca26\"],[1.0,\"#f0f921\"]]}],\"mesh3d\":[{\"type\":\"mesh3d\",\"colorbar\":{\"outlinewidth\":0,\"ticks\":\"\"}}],\"scatter\":[{\"fillpattern\":{\"fillmode\":\"overlay\",\"size\":10,\"solidity\":0.2},\"type\":\"scatter\"}],\"parcoords\":[{\"type\":\"parcoords\",\"line\":{\"colorbar\":{\"outlinewidth\":0,\"ticks\":\"\"}}}],\"scatterpolargl\":[{\"type\":\"scatterpolargl\",\"marker\":{\"colorbar\":{\"outlinewidth\":0,\"ticks\":\"\"}}}],\"bar\":[{\"error_x\":{\"color\":\"#2a3f5f\"},\"error_y\":{\"color\":\"#2a3f5f\"},\"marker\":{\"line\":{\"color\":\"#E5ECF6\",\"width\":0.5},\"pattern\":{\"fillmode\":\"overlay\",\"size\":10,\"solidity\":0.2}},\"type\":\"bar\"}],\"scattergeo\":[{\"type\":\"scattergeo\",\"marker\":{\"colorbar\":{\"outlinewidth\":0,\"ticks\":\"\"}}}],\"scatterpolar\":[{\"type\":\"scatterpolar\",\"marker\":{\"colorbar\":{\"outlinewidth\":0,\"ticks\":\"\"}}}],\"histogram\":[{\"marker\":{\"pattern\":{\"fillmode\":\"overlay\",\"size\":10,\"solidity\":0.2}},\"type\":\"histogram\"}],\"scattergl\":[{\"type\":\"scattergl\",\"marker\":{\"colorbar\":{\"outlinewidth\":0,\"ticks\":\"\"}}}],\"scatter3d\":[{\"type\":\"scatter3d\",\"line\":{\"colorbar\":{\"outlinewidth\":0,\"ticks\":\"\"}},\"marker\":{\"colorbar\":{\"outlinewidth\":0,\"ticks\":\"\"}}}],\"scattermapbox\":[{\"type\":\"scattermapbox\",\"marker\":{\"colorbar\":{\"outlinewidth\":0,\"ticks\":\"\"}}}],\"scatterternary\":[{\"type\":\"scatterternary\",\"marker\":{\"colorbar\":{\"outlinewidth\":0,\"ticks\":\"\"}}}],\"scattercarpet\":[{\"type\":\"scattercarpet\",\"marker\":{\"colorbar\":{\"outlinewidth\":0,\"ticks\":\"\"}}}],\"carpet\":[{\"aaxis\":{\"endlinecolor\":\"#2a3f5f\",\"gridcolor\":\"white\",\"linecolor\":\"white\",\"minorgridcolor\":\"white\",\"startlinecolor\":\"#2a3f5f\"},\"baxis\":{\"endlinecolor\":\"#2a3f5f\",\"gridcolor\":\"white\",\"linecolor\":\"white\",\"minorgridcolor\":\"white\",\"startlinecolor\":\"#2a3f5f\"},\"type\":\"carpet\"}],\"table\":[{\"cells\":{\"fill\":{\"color\":\"#EBF0F8\"},\"line\":{\"color\":\"white\"}},\"header\":{\"fill\":{\"color\":\"#C8D4E3\"},\"line\":{\"color\":\"white\"}},\"type\":\"table\"}],\"barpolar\":[{\"marker\":{\"line\":{\"color\":\"#E5ECF6\",\"width\":0.5},\"pattern\":{\"fillmode\":\"overlay\",\"size\":10,\"solidity\":0.2}},\"type\":\"barpolar\"}],\"pie\":[{\"automargin\":true,\"type\":\"pie\"}]},\"layout\":{\"autotypenumbers\":\"strict\",\"colorway\":[\"#636efa\",\"#EF553B\",\"#00cc96\",\"#ab63fa\",\"#FFA15A\",\"#19d3f3\",\"#FF6692\",\"#B6E880\",\"#FF97FF\",\"#FECB52\"],\"font\":{\"color\":\"#2a3f5f\"},\"hovermode\":\"closest\",\"hoverlabel\":{\"align\":\"left\"},\"paper_bgcolor\":\"white\",\"plot_bgcolor\":\"#E5ECF6\",\"polar\":{\"bgcolor\":\"#E5ECF6\",\"angularaxis\":{\"gridcolor\":\"white\",\"linecolor\":\"white\",\"ticks\":\"\"},\"radialaxis\":{\"gridcolor\":\"white\",\"linecolor\":\"white\",\"ticks\":\"\"}},\"ternary\":{\"bgcolor\":\"#E5ECF6\",\"aaxis\":{\"gridcolor\":\"white\",\"linecolor\":\"white\",\"ticks\":\"\"},\"baxis\":{\"gridcolor\":\"white\",\"linecolor\":\"white\",\"ticks\":\"\"},\"caxis\":{\"gridcolor\":\"white\",\"linecolor\":\"white\",\"ticks\":\"\"}},\"coloraxis\":{\"colorbar\":{\"outlinewidth\":0,\"ticks\":\"\"}},\"colorscale\":{\"sequential\":[[0.0,\"#0d0887\"],[0.1111111111111111,\"#46039f\"],[0.2222222222222222,\"#7201a8\"],[0.3333333333333333,\"#9c179e\"],[0.4444444444444444,\"#bd3786\"],[0.5555555555555556,\"#d8576b\"],[0.6666666666666666,\"#ed7953\"],[0.7777777777777778,\"#fb9f3a\"],[0.8888888888888888,\"#fdca26\"],[1.0,\"#f0f921\"]],\"sequentialminus\":[[0.0,\"#0d0887\"],[0.1111111111111111,\"#46039f\"],[0.2222222222222222,\"#7201a8\"],[0.3333333333333333,\"#9c179e\"],[0.4444444444444444,\"#bd3786\"],[0.5555555555555556,\"#d8576b\"],[0.6666666666666666,\"#ed7953\"],[0.7777777777777778,\"#fb9f3a\"],[0.8888888888888888,\"#fdca26\"],[1.0,\"#f0f921\"]],\"diverging\":[[0,\"#8e0152\"],[0.1,\"#c51b7d\"],[0.2,\"#de77ae\"],[0.3,\"#f1b6da\"],[0.4,\"#fde0ef\"],[0.5,\"#f7f7f7\"],[0.6,\"#e6f5d0\"],[0.7,\"#b8e186\"],[0.8,\"#7fbc41\"],[0.9,\"#4d9221\"],[1,\"#276419\"]]},\"xaxis\":{\"gridcolor\":\"white\",\"linecolor\":\"white\",\"ticks\":\"\",\"title\":{\"standoff\":15},\"zerolinecolor\":\"white\",\"automargin\":true,\"zerolinewidth\":2},\"yaxis\":{\"gridcolor\":\"white\",\"linecolor\":\"white\",\"ticks\":\"\",\"title\":{\"standoff\":15},\"zerolinecolor\":\"white\",\"automargin\":true,\"zerolinewidth\":2},\"scene\":{\"xaxis\":{\"backgroundcolor\":\"#E5ECF6\",\"gridcolor\":\"white\",\"linecolor\":\"white\",\"showbackground\":true,\"ticks\":\"\",\"zerolinecolor\":\"white\",\"gridwidth\":2},\"yaxis\":{\"backgroundcolor\":\"#E5ECF6\",\"gridcolor\":\"white\",\"linecolor\":\"white\",\"showbackground\":true,\"ticks\":\"\",\"zerolinecolor\":\"white\",\"gridwidth\":2},\"zaxis\":{\"backgroundcolor\":\"#E5ECF6\",\"gridcolor\":\"white\",\"linecolor\":\"white\",\"showbackground\":true,\"ticks\":\"\",\"zerolinecolor\":\"white\",\"gridwidth\":2}},\"shapedefaults\":{\"line\":{\"color\":\"#2a3f5f\"}},\"annotationdefaults\":{\"arrowcolor\":\"#2a3f5f\",\"arrowhead\":0,\"arrowwidth\":1},\"geo\":{\"bgcolor\":\"white\",\"landcolor\":\"#E5ECF6\",\"subunitcolor\":\"white\",\"showland\":true,\"showlakes\":true,\"lakecolor\":\"white\"},\"title\":{\"x\":0.05},\"mapbox\":{\"style\":\"light\"}}},\"xaxis\":{\"anchor\":\"y\",\"domain\":[0.0,1.0],\"scaleanchor\":\"y\",\"constrain\":\"domain\"},\"yaxis\":{\"anchor\":\"x\",\"domain\":[0.0,1.0],\"autorange\":\"reversed\",\"constrain\":\"domain\"},\"coloraxis\":{\"colorscale\":[[0.0,\"#0d0887\"],[0.1111111111111111,\"#46039f\"],[0.2222222222222222,\"#7201a8\"],[0.3333333333333333,\"#9c179e\"],[0.4444444444444444,\"#bd3786\"],[0.5555555555555556,\"#d8576b\"],[0.6666666666666666,\"#ed7953\"],[0.7777777777777778,\"#fb9f3a\"],[0.8888888888888888,\"#fdca26\"],[1.0,\"#f0f921\"]]},\"margin\":{\"t\":60}},                        {\"responsive\": true}                    ).then(function(){\n",
       "                            \n",
       "var gd = document.getElementById('f0338ea3-d656-47da-bab1-b336f84ce45b');\n",
       "var x = new MutationObserver(function (mutations, observer) {{\n",
       "        var display = window.getComputedStyle(gd).display;\n",
       "        if (!display || display === 'none') {{\n",
       "            console.log([gd, 'removed!']);\n",
       "            Plotly.purge(gd);\n",
       "            observer.disconnect();\n",
       "        }}\n",
       "}});\n",
       "\n",
       "// Listen for the removal of the full notebook cells\n",
       "var notebookContainer = gd.closest('#notebook-container');\n",
       "if (notebookContainer) {{\n",
       "    x.observe(notebookContainer, {childList: true});\n",
       "}}\n",
       "\n",
       "// Listen for the clearing of the current output cell\n",
       "var outputEl = gd.closest('.output');\n",
       "if (outputEl) {{\n",
       "    x.observe(outputEl, {childList: true});\n",
       "}}\n",
       "\n",
       "                        })                };                });            </script>        </div>"
      ]
     },
     "metadata": {},
     "output_type": "display_data"
    }
   ],
   "source": [
    "x = np.linspace(start=0, stop=10, num=31)\n",
    "y = np.flip(np.linspace(start=0, stop=3.5, num=11))\n",
    "title = 'Распределение МПР'\n",
    "fig = px.imshow(d,x=x, y=y, title=title)\n",
    "fig.show()"
   ]
  }
 ],
 "metadata": {
  "kernelspec": {
   "display_name": "Python 3 (ipykernel)",
   "language": "python",
   "name": "python3"
  },
  "language_info": {
   "codemirror_mode": {
    "name": "ipython",
    "version": 3
   },
   "file_extension": ".py",
   "mimetype": "text/x-python",
   "name": "python",
   "nbconvert_exporter": "python",
   "pygments_lexer": "ipython3",
   "version": "3.11.8"
  }
 },
 "nbformat": 4,
 "nbformat_minor": 5
}
